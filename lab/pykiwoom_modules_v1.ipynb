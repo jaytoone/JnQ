{
 "cells": [
  {
   "cell_type": "markdown",
   "id": "b463526b-b76f-4ea5-83e0-24504eb094a7",
   "metadata": {},
   "source": [
    "# Requirements"
   ]
  },
  {
   "cell_type": "code",
   "execution_count": 1,
   "id": "41300b0d-931d-4877-8835-38f93c0ca1fe",
   "metadata": {},
   "outputs": [],
   "source": [
    "import os, sys\n",
    "\n",
    "pkg_path = 'D:\\\\Projects\\\\System_Trading\\\\JnQ_32bit\\\\'\n",
    "\n",
    "os.chdir(pkg_path)\n",
    "\n",
    "pakage_name = 'Bank'\n",
    "\n",
    "# mpl_finance_path = 'D:\\\\python\\\\python38_1\\\\projects\\\\JnQ\\\\mpl_finance'\n",
    "# ta_lib_path = 'D:\\\\python\\\\python38_1\\\\projects\\\\JnQ\\\\ta_lib'\n",
    "funcs_path = pkg_path + 'funcs'\n",
    "\n",
    "if funcs_path not in sys.path:\n",
    "\n",
    "  try:\n",
    "    # sys.path.insert(0, '/content/drive/My Drive/Colab Notebooks/JnQ')\n",
    "    sys.path.insert(0, pkg_path + '\\\\{}'.format(pakage_name))\n",
    "    sys.path.insert(0, funcs_path)\n",
    "    # sys.path.insert(0, mpl_finance_path)\n",
    "    # sys.path.insert(0, ta_lib_path)\n",
    "    \n",
    "  except Exception as e:\n",
    "    print(e)\n"
   ]
  },
  {
   "cell_type": "code",
   "execution_count": 2,
   "id": "23d569db-0587-48be-95ae-c28ec4fb3209",
   "metadata": {},
   "outputs": [],
   "source": [
    "from funcs.kiwoom.pykiwoom import *\n",
    "from funcs.kiwoom.kiwoom_module import KiwoomModule\n",
    "from funcs.kiwoom.bank_module import BankModule\n",
    "from funcs.public.constant import *\n",
    "\n",
    "today = datetime.now()\n",
    "todaystamp = today.year * 10000 + today.month * 100 + today.day \n",
    "\n",
    "np.seterr(invalid=\"ignore\")\n",
    "np.set_printoptions(suppress=True)\n",
    "np.set_printoptions(linewidth=2000) \n",
    "\n",
    "pd.set_option('mode.chained_assignment',  None)\n",
    "\n",
    "pd.set_option('display.max_rows', 500)\n",
    "pd.set_option('display.max_columns', 500)\n",
    "pd.set_option('display.width', 1000)"
   ]
  },
  {
   "cell_type": "code",
   "execution_count": null,
   "id": "4521b2c4-0eea-4684-b892-ce4208404af9",
   "metadata": {},
   "outputs": [],
   "source": [
    "from PyQt5.QtCore import *\n",
    "from PyQt5.QtWidgets import *\n",
    "\n",
    "\n",
    "class MyMainGUI(QDialog):\n",
    "    def __init__(self, parent=None):\n",
    "        super().__init__(parent)\n",
    "\n",
    "        self.qtxt1 = QTextEdit(self)\n",
    "        self.btn1 = QPushButton(\"Start\", self)\n",
    "        self.btn2 = QPushButton(\"Stop\", self)\n",
    "        self.btn3 = QPushButton(\"add 100\", self)\n",
    "        self.btn4 = QPushButton(\"send instance\", self)\n",
    "\n",
    "        vbox = QVBoxLayout()\n",
    "        vbox.addWidget(self.qtxt1)\n",
    "        vbox.addWidget(self.btn1)\n",
    "        vbox.addWidget(self.btn2)\n",
    "        vbox.addWidget(self.btn3)\n",
    "        vbox.addWidget(self.btn4)\n",
    "        self.setLayout(vbox)\n",
    "\n",
    "        self.setGeometry(100, 50, 300, 300)\n",
    "\n",
    "class Test:\n",
    "    def __init__(self):\n",
    "        name = \"\"\n",
    "\n",
    "\n",
    "class MyMain(MyMainGUI):\n",
    "    add_sec_signal = pyqtSignal()\n",
    "    send_instance_singal = pyqtSignal(\"PyQt_PyObject\")\n",
    "\n",
    "    def __init__(self, parent=None):\n",
    "        super().__init__(parent)\n",
    "\n",
    "        self.btn1.clicked.connect(self.time_start)\n",
    "        self.btn2.clicked.connect(self.time_stop)\n",
    "        self.btn3.clicked.connect(self.add_sec)\n",
    "        self.btn4.clicked.connect(self.send_instance)\n",
    "\n",
    "        self.th = Worker(parent=self)\n",
    "        self.th.sec_changed.connect(self.time_update)  # custom signal from worker thread to main thread\n",
    "\n",
    "        self.add_sec_signal.connect(self.th.add_sec)   # custom signal from main thread to worker thread\n",
    "        self.send_instance_singal.connect(self.th.recive_instance_singal)\n",
    "        self.show()\n",
    "\n",
    "    @pyqtSlot()\n",
    "    def time_start(self):\n",
    "        self.th.start()\n",
    "        self.th.working = True\n",
    "\n",
    "    @pyqtSlot()\n",
    "    def time_stop(self):\n",
    "        self.th.working = False\n",
    "\n",
    "    @pyqtSlot()\n",
    "    def add_sec(self):\n",
    "        print(\".... add singal emit....\")\n",
    "        self.add_sec_signal.emit()\n",
    "\n",
    "    @pyqtSlot(str)\n",
    "    def time_update(self, msg):\n",
    "        self.qtxt1.append(msg)\n",
    "\n",
    "    @pyqtSlot()\n",
    "    def send_instance(self):\n",
    "        t1 = Test()\n",
    "        t1.name = \"SuperPower!!!\"\n",
    "        self.send_instance_singal.emit(t1)\n",
    "\n",
    "\n",
    "class Worker(QThread):\n",
    "    sec_changed = pyqtSignal(str)\n",
    "\n",
    "    def __init__(self, sec=0, parent=None):\n",
    "        super().__init__()\n",
    "        self.main = parent\n",
    "        self.working = True\n",
    "        self.sec = sec\n",
    "\n",
    "        # self.main.add_sec_signal.connect(self.add_sec)   # 이것도 작동함. # custom signal from main thread to worker thread\n",
    "\n",
    "    def __del__(self):\n",
    "        print(\".... end thread.....\")\n",
    "        self.wait()\n",
    "\n",
    "    def run(self):\n",
    "        bank.get_order_info(계좌번호=bank.account_number, 전체종목구분=0, 매매구분=\"0\", 종목코드=\"\", 체결구분=\"1\")\n",
    "        # while self.working:\n",
    "        #     self.sec_changed.emit('time (secs)：{}'.format(self.sec))\n",
    "        #     self.sleep(1)\n",
    "        #     self.sec += 1\n",
    "\n",
    "    @pyqtSlot()\n",
    "    def add_sec(self):\n",
    "        print(\"add_sec....\")\n",
    "        self.sec += 100\n",
    "\n",
    "    @pyqtSlot(\"PyQt_PyObject\")\n",
    "    def recive_instance_singal(self, inst):\n",
    "        print(inst.name)\n",
    "\n",
    "\n",
    "\n",
    "if __name__ == \"__main__\":\n",
    "    import sys\n",
    "\n",
    "    app = QApplication(sys.argv)\n",
    "    form = MyMain()\n",
    "    app.exec_()"
   ]
  },
  {
   "cell_type": "code",
   "execution_count": 6,
   "id": "24b0bb29-51ec-4b13-bd04-61f8a90f2046",
   "metadata": {},
   "outputs": [],
   "source": [
    "from threading import Thread, Event\n",
    "from threading import Lock\n",
    "from time import sleep\n",
    "from time import time\n",
    "\n",
    "event = Event()\n",
    "data_lock = Lock()\n",
    "\n",
    "class BankTest:\n",
    "    \n",
    "    def __init__(self):\n",
    "        self.var = [1, 2, 3]\n",
    "        \n",
    "    def print_vars(self):\n",
    "        print(\"self.var :\", self.var)\n",
    "\n",
    "    def modify_variable(self):\n",
    "        while True:\n",
    "            for i in range(len(self.var)):\n",
    "                # with data_lock:\n",
    "                 self.var[i] += 1\n",
    "            print(\"modify_variable\")\n",
    "            self.print_vars()\n",
    "            # print(\"num : \")\n",
    "            if event.is_set():\n",
    "                break\n",
    "            sleep(.5)\n",
    "        print('Stop printing')\n",
    "        \n",
    "    def modify_variable2(self):\n",
    "        while True:\n",
    "            for i in range(len(self.var)):\n",
    "                # with data_lock:\n",
    "                 self.var[i] += 1\n",
    "            print(\"modify_variable2\")\n",
    "            self.print_vars()\n",
    "            # print(\"num : \")\n",
    "            if event.is_set():\n",
    "                break\n",
    "            sleep(.5)\n",
    "        print('Stop printing')\n",
    "\n",
    "# def modify_variable(var, num):\n",
    "#     while True:\n",
    "#         for i in range(len(var)):\n",
    "#             var[i] += 1        \n",
    "#         print(\"num : \", num)\n",
    "#         if event.is_set():\n",
    "#             break\n",
    "#         sleep(.5)\n",
    "#     print('Stop printing')\n",
    "\n",
    "    def run(self):\n",
    "        \n",
    "        t = Thread(target=self.modify_variable, args=())\n",
    "        t2 = Thread(target=self.modify_variable2, args=())\n",
    "        t.start()\n",
    "        t2.start()\n",
    "        \n",
    "        t.join()\n",
    "        t2.join()\n",
    "        "
   ]
  },
  {
   "cell_type": "code",
   "execution_count": 5,
   "id": "96e9b9ad-668a-444c-a35c-66766d6c127b",
   "metadata": {},
   "outputs": [
    {
     "name": "stderr",
     "output_type": "stream",
     "text": [
      " message :  조회가 완료되었습니다.\n",
      "on_receive_tr_data 실행: screen_no: 2000, request_name: 미체결요청, tr_code: opt10075, record_name: , inquiry: 0\n",
      "self.order_no : \n"
     ]
    },
    {
     "name": "stdout",
     "output_type": "stream",
     "text": [
      "return_code : 0\n",
      "     종목코드 종목명 주문구분 주문상태 주문수량 미체결수량 체결가 체결량 현재가\n",
      "주문번호                                          \n",
      "                                              \n"
     ]
    }
   ],
   "source": [
    "def get_order_info_wrapper():\n",
    "    print(bank.get_order_info(계좌번호=bank.account_number, 전체종목구분=0, 매매구분=\"0\", 종목코드=\"\", 체결구분=\"1\"))\n",
    "\n",
    "get_order_info_wrapper()"
   ]
  },
  {
   "cell_type": "code",
   "execution_count": null,
   "id": "1b4ed5df-7616-40d3-95e6-d3aa91362e5d",
   "metadata": {},
   "outputs": [],
   "source": [
    "t = Thread(target=get_order_info_wrapper)\n",
    "t.start()\n",
    "t.join()"
   ]
  },
  {
   "cell_type": "code",
   "execution_count": 3,
   "id": "272c03ce-b545-46d2-8952-2e3affdb1625",
   "metadata": {},
   "outputs": [],
   "source": [
    "def bank_proc():    \n",
    "    bank_test = BankTest()\n",
    "    bank_test.run()    \n",
    "    \n",
    "# def bank_proc():\n",
    "#     while 1:\n",
    "#         print(1)\n",
    "#         sleep(0.5)"
   ]
  },
  {
   "cell_type": "code",
   "execution_count": null,
   "id": "12036b32-af8e-4305-aa9c-7b9a27a536dc",
   "metadata": {
    "scrolled": true,
    "tags": []
   },
   "outputs": [],
   "source": [
    "bank_proc()"
   ]
  },
  {
   "cell_type": "code",
   "execution_count": null,
   "id": "e4c10b27-3766-4134-9fce-78a61e541b6c",
   "metadata": {},
   "outputs": [],
   "source": [
    "# Import Module\n",
    "import sys\n",
    "from PyQt5.QtWidgets import *\n",
    "import time\n",
    "from threading import *\n",
    "\n",
    "class ListBox(QWidget):\n",
    "\n",
    "\tdef __init__(self):\n",
    "\t\tsuper().__init__()\n",
    "\n",
    "\t\tself.Button()\n",
    "\n",
    "\tdef Button(self):\n",
    "\t\t# Add Push Button\n",
    "# \t\tclear_btn = QPushButton('Click Me', self)\n",
    "# \t\tclear_btn.clicked.connect(self.thread)\n",
    "\n",
    "# \t\t# Set geometry\n",
    "# \t\tself.setGeometry(200, 200, 200, 200)\n",
    "\n",
    "# \t\t# Display QlistWidget\n",
    "# \t\tself.show()\n",
    "            self.thread()\n",
    "            time.sleep(2)\n",
    "            self.thread()\n",
    "\n",
    "\tdef thread(self):\n",
    "\t\tt1=Thread(target=self.Operation)\n",
    "\t\tt1.start()\n",
    "\n",
    "\tdef Operation(self):        \n",
    "            start_time = time.time()\n",
    "            while 1:            \n",
    "                elapsed_time = time.time() - start_time\n",
    "                print(elapsed_time)\n",
    "                time.sleep(1)\n",
    "                if elapsed_time > 3:\n",
    "                    quit\n",
    "            \n",
    "\n",
    "if __name__ == '__main__':\n",
    "\tapp = QApplication(sys.argv)\n",
    "\t\n",
    "\t# Call ListBox Class\n",
    "\tex = ListBox()\n",
    "\n",
    "\t# Close the window\n",
    "\tsys.exit(app.exec_())\n"
   ]
  },
  {
   "cell_type": "code",
   "execution_count": 26,
   "id": "cbc6c41d-28a4-4e2e-9f48-73bb97de1548",
   "metadata": {},
   "outputs": [],
   "source": [
    "from multiprocessing import Process\n",
    "\n",
    "process = Process(target=bank_proc, args=())\n",
    "process.start()\n",
    "process.join()"
   ]
  },
  {
   "cell_type": "code",
   "execution_count": 7,
   "id": "76bb7206-49a6-4601-9001-9d15f19ec1c3",
   "metadata": {},
   "outputs": [
    {
     "name": "stdout",
     "output_type": "stream",
     "text": [
      "num :  1\n",
      "num :  2\n",
      "[3, 4, 5]\n",
      "num : num :  1\n",
      " 2\n",
      "[5, 6, 7]\n",
      "num :  1\n",
      "num :  2\n",
      "num : num :  2\n",
      " 1\n",
      "[9, 10, 11]\n",
      "num :  1\n",
      "num :  2\n",
      "num : num :  2\n",
      " 1\n",
      "[13, 14, 15]\n",
      "num :  1\n",
      "num :  2\n",
      "num : num :  1\n",
      " 2\n",
      "[17, 18, 19]\n",
      "num :  1\n",
      "num :  2\n",
      "num :  1\n",
      "num :  2\n",
      "num : num :  2\n",
      "Stop printing\n",
      " 1\n",
      "Stop printing\n",
      "[23, 24, 25]\n"
     ]
    }
   ],
   "source": [
    "from threading import Thread, Event\n",
    "from threading import Lock\n",
    "from time import sleep\n",
    "from time import time\n",
    "\n",
    "event = Event()\n",
    "data_lock = Lock()\n",
    "\n",
    "def modify_variable(var, num):\n",
    "    while True:\n",
    "        for i in range(len(var)):\n",
    "            with data_lock:\n",
    "                var[i] += 1\n",
    "        print(\"num : \", num)\n",
    "        if event.is_set():\n",
    "            break\n",
    "        sleep(.5)\n",
    "    print('Stop printing')\n",
    "\n",
    "# def modify_variable(var, num):\n",
    "#     while True:\n",
    "#         for i in range(len(var)):\n",
    "#             var[i] += 1        \n",
    "#         print(\"num : \", num)\n",
    "#         if event.is_set():\n",
    "#             break\n",
    "#         sleep(.5)\n",
    "#     print('Stop printing')\n",
    "\n",
    "\n",
    "my_var = [1, 2, 3]\n",
    "t = Thread(target=modify_variable, args=(my_var, 1, ))\n",
    "t2 = Thread(target=modify_variable, args=(my_var, 2, ))\n",
    "t.start()\n",
    "t2.start()\n",
    "t0 = time()\n",
    "while time()-t0 < 5:\n",
    "    try:\n",
    "        print(my_var)\n",
    "        sleep(1)\n",
    "    except KeyboardInterrupt:\n",
    "        event.set()\n",
    "        break\n",
    "event.set()\n",
    "# quit()\n",
    "t.join()\n",
    "t2.join()\n",
    "print(my_var)"
   ]
  },
  {
   "cell_type": "markdown",
   "id": "85fd6ef6-8f11-41e0-a0cb-88bfc01e1f2a",
   "metadata": {},
   "source": [
    "# Methods"
   ]
  },
  {
   "cell_type": "markdown",
   "id": "cb63e8f1-32cc-4d47-84e7-fa3844224106",
   "metadata": {
    "tags": []
   },
   "source": [
    "## Class"
   ]
  },
  {
   "cell_type": "markdown",
   "id": "8fc9cd5d-04ac-4a1f-8f59-2a6ee345b99c",
   "metadata": {},
   "source": [
    "### KiwoomModule"
   ]
  },
  {
   "cell_type": "code",
   "execution_count": 7,
   "id": "9e0add87-ea2a-4007-8a7b-0804e9176a29",
   "metadata": {},
   "outputs": [],
   "source": [
    "from funcs.kiwoom.pykiwoom import Kiwoom\n",
    "import pandas as pd\n",
    "import math\n",
    "import time\n",
    "\n",
    "\n",
    "class KiwoomModule2(Kiwoom):\n",
    "    def __init__(self, secret_key):\n",
    "\n",
    "        super().__init__()\n",
    "\n",
    "        self.comm_connect()\n",
    "\n",
    "        if self.get_connect_state():\n",
    "            print(\"connected.\")\n",
    "        else:\n",
    "            print(\"disconnected.\")\n",
    "\n",
    "        self.screen_number = \"2000\"  # 추후 module_phase 에 따라 다변화할 것. (Todo)\n",
    "        self.account_number = self.get_login_info(\"ACCNO\").split(\";\")[0]\n",
    "        self.password = secret_key\n",
    "\n",
    "        self.data_opt10004 = None  # 주식호가요청\n",
    "        self.data_opt10027 = None  # 전일대비등락상위요청\n",
    "        self.data_opt10075 = None  # 미체결요청\n",
    "        self.data_opt10080 = None  # 분봉차트요청\n",
    "        self.realtime_price = None  # 체결정보요청\n",
    "        \n",
    "        self.realtime_data = None  # declared for receive_real_data\n",
    "        self.OnReceiveRealData.connect(self._handler_real_data)\n",
    "        \n",
    "    def _handler_real_data(self, code, real_type, real_data):\n",
    "        print(code, real_type, real_data)\n",
    "        if real_type == \"장시작시간\":\n",
    "            gubun =  self.get_comm_real_data(code, 215)\n",
    "            remained_time =  self.get_comm_real_data(code, 214)\n",
    "            print(gubun, remained_time)       \n",
    "        \n",
    "    def receive_real_data(self, code, real_type, real_data):\n",
    "        \"\"\"\n",
    "        실시간 데이터 수신 이벤트\n",
    "\n",
    "        실시간 데이터를 수신할 때 마다 호출되며,\n",
    "        set_real_reg() 메서드로 등록한 실시간 데이터도 이 이벤트 메서드에 전달됩니다.\n",
    "        get_comm_real_data() 메서드를 이용해서 실시간 데이터를 얻을 수 있습니다.\n",
    "\n",
    "        :param code: string - 종목코드\n",
    "        :param real_type: string - 실시간 타입(KOA의 실시간 목록 참조)\n",
    "        :param real_data: string - 실시간 데이터 전문\n",
    "        \"\"\"\n",
    "\n",
    "        try:\n",
    "            self.log.debug(\"[receiveRealData]\")\n",
    "            self.log.debug(\"({})\".format(real_type))\n",
    "\n",
    "            if real_type not in RealType.REALTYPE:\n",
    "                return\n",
    "\n",
    "            data = []\n",
    "\n",
    "            if code != \"\":\n",
    "                data.append(code)\n",
    "                codeOrNot = code\n",
    "            else:\n",
    "                codeOrNot = real_type\n",
    "\n",
    "            for fid in sorted(RealType.REALTYPE[real_type].keys()):\n",
    "                value = self.get_comm_real_data(codeOrNot, fid)\n",
    "                data.append(value)\n",
    "                self.realtime_data = value\n",
    "\n",
    "            # TODO: DB에 저장\n",
    "            self.log.debug(data)\n",
    "\n",
    "        except Exception as e:\n",
    "            self.log.error('{}'.format(e))\n",
    "\n",
    "    def concat_candlestick(self, days, api_term=0.3, **kwargs):\n",
    "\n",
    "        \"\"\"\n",
    "        현재, 모든 거래소로부터 얻는 ohlcv dataframe 의 interval 기준은 T (1m) 으로 설정함.\n",
    "            1. T 를 기준으로 to_htf() 를 사용해 custom htf data 를 이용하도록함.\n",
    "\n",
    "        종목코드 = 전문 조회할 종목코드\n",
    "        틱범위 = 1:1분, 3:3분, 5:5분, 10:10분, 15:15분, 30:30분, 45:45분, 60:60분\n",
    "        수정주가구분 = 0 or 1, 수신데이터 1:유상증자, 2:무상증자, 4:배당락, 8:액면분할, 16:액면병합, 32:기업합병, 64:감자, 256:권리락\n",
    "        \"\"\"\n",
    "\n",
    "        for key, value in kwargs.items():\n",
    "            self.set_input_value(key, value)\n",
    "        self.comm_rq_data(\"주식분봉차트조회요청\", \"opt10080\", 0, self.screen_number)\n",
    "\n",
    "        ohlcv = self.data_opt10080\n",
    "\n",
    "        # concat\n",
    "        for _ in range(days - 1):\n",
    "            time.sleep(api_term)\n",
    "            for key, value in kwargs.items():\n",
    "                self.set_input_value(key, value)\n",
    "            self.comm_rq_data(\"주식분봉차트조회요청\", \"opt10080\", 2, self.screen_number)\n",
    "            ohlcv = pd.concat([ohlcv, self.data_opt10080])\n",
    "\n",
    "        # 1. col_name 변경\n",
    "        ohlcv.columns = ['index', 'open', 'high', 'low', 'close', 'volume']\n",
    "\n",
    "        # 2. index 수정 및 data type float 사용 : ta-lib 연산을 위해서. (주문시에는 calc_with_hoga_unit 적용하기 때문에 무관함.)\n",
    "        ohlcv = ohlcv.set_index('index').astype(float).abs()\n",
    "\n",
    "        # 3. 시계열 순서로 데이터 정렬 및 index datetime type 으로 변환.\n",
    "        if ohlcv.index.dtype != str:\n",
    "            timeindex = pd.to_datetime(ohlcv.index.astype(str))\n",
    "            ohlcv.index = timeindex\n",
    "            ohlcv = ohlcv.sort_index()\n",
    "\n",
    "        return ohlcv[~ohlcv.index.duplicated(keep='last')]  # 중복 제거.\n",
    "\n",
    "    def get_high_fluc_than_day_before(self, **kwargs):\n",
    "\n",
    "        \"\"\"\n",
    "        시장구분 = 000:전체, 001:코스피, 101:코스닥\n",
    "        정렬구분 = 1:상승률, 2:상승폭, 3:하락률, 4:하락폭, 5:보합\n",
    "        거래량조건 = 0000:전체조회, 0010:만주이상, 0050:5만주이상, 0100:10만주이상, 0150:15만주이상, 0200:20만주이상, 0300:30만주이상, 0500:50만주이상, 1000:백만주이상\n",
    "        종목조건 = 0:전체조회, 1:관리종목제외, 4:우선주+관리주제외, 3:우선주제외, 5:증100제외, 6:증100만보기, 7:증40만보기, 8:증30만보기, 9:증20만보기, 11:정리매매종목제외, 12:증50만 보기, 13:증60만 보기, 14:ETF제외, 15:스팩제외, 16:ETF+ETN제외\n",
    "        신용조건 = 0:전체조회, 1:신용융자A군, 2:신용융자B군, 3:신용융자C군, 4:신용융자D군, 5:신용한도초과제외, 8:신용대주, 9:신용융자전체\n",
    "        상하한포함 = 0:불 포함, 1:포함\n",
    "        가격조건 = 0:전체조회, 1:1천원미만, 2:1천원~2천원, 3:2천원~5천원, 4:5천원~1만원, 5:1만원이상, 8:1천원이상, 10:1만원미만\n",
    "        거래대금조건 = 0:전체조회, 3:3천만원이상, 5:5천만원이상, 10:1억원이상, 30:3억원이상, 50:5억원이상, 100:10억원이상, 300:30억원이상, 500:50억원이상, 1000:100억원이상, 3000:300억원이상, 5000:500억원이상\n",
    "        \"\"\"\n",
    "\n",
    "        for key, value in kwargs.items():\n",
    "            self.set_input_value(key, value)\n",
    "        self.comm_rq_data(\"전일대비등락률상위요청\", \"opt10027\", 0, self.screen_number)\n",
    "\n",
    "        return self.data_opt10027\n",
    "\n",
    "    def get_account_info(self, **kwargs):\n",
    "        \n",
    "        for key, value in kwargs.items():\n",
    "            self.set_input_value(key, value)\n",
    "            # if value == \"비밀번호\":  # 비밀번호까지만 동일하게 입력\n",
    "            #     break\n",
    "        self.comm_rq_data(\"계좌평가잔고내역요청\", \"opw00018\", 0, self.screen_number)\n",
    "        while self.inquiry == '2':\n",
    "            for key, value in kwargs.items():\n",
    "                self.set_input_value(key, value)\n",
    "                # if value == \"비밀번호\":  # 비밀번호까지만 동일하게 입력\n",
    "                #     break\n",
    "            self.comm_rq_data(\"계좌평가잔고내역요청\", \"opw00018\", 0, self.screen_number)\n",
    "        \n",
    "        int_cols = [\"총매입금액\", \"총평가금액\", \"총평가손익금액\", \"총수익률(%)\", \"추정예탁자산\"]\n",
    "        for col in int_cols:\n",
    "            self.data_opw00018[\"account_evaluation\"][col] = self.data_opw00018[\"account_evaluation\"][col].astype(int)\n",
    "            if col == \"총수익률(%)\":\n",
    "                self.data_opw00018[\"account_evaluation\"][col] /= 100\n",
    "        \n",
    "        # stocks data 의 경우 종목명을 index 로 변경함 => tr_data 에 key 값으로 접근하기 편해짐\n",
    "        self.data_opw00018[\"stocks\"] = self.data_opw00018[\"stocks\"].set_index(\"종목명\")\n",
    "        int_cols = [\"보유수량\", \"매매가능수량\", \"매입가\", \"현재가\", \"평가손익\", \"수익률(%)\"]\n",
    "        for col in int_cols:\n",
    "            self.data_opw00018[\"stocks\"][col] = self.data_opw00018[\"stocks\"][col].astype(int)\n",
    "            if col == \"수익률(%)\":\n",
    "                self.data_opw00018[\"stocks\"][col] /= 100\n",
    "        \n",
    "        return self.data_opw00018[\"stocks\"]\n",
    "        \n",
    "        \n",
    "    def get_available_balance(self, **kwargs):\n",
    "\n",
    "        \"\"\"\n",
    "        지금은 여러개의 결과값을 출력하지만, 추후에 단일 데이터 출력할 것으로 예상함.\n",
    "\n",
    "        계좌번호 = 전문 조회할 보유계좌번호\n",
    "        비밀번호 = 사용안함(공백)\n",
    "        비밀번호입력매체구분 = 00\n",
    "        조회구분 = 1:합산, 2:개별\n",
    "        \"\"\"\n",
    "\n",
    "        for key, value in kwargs.items():\n",
    "            self.set_input_value(key, value)\n",
    "        self.comm_rq_data(\"예수금상세현황요청\", \"opw00001\", 0, self.screen_number)\n",
    "\n",
    "        # int_cols = [\"예수금\", \"주문가능금액\", \"100%종목주문가능금액\", \"d+1추정예수금\", \"d+2추정예수금\"]\n",
    "        # for col in int_cols:\n",
    "        #     self.data_opw00001[col] = self.data_opw00001[col].astype(int)        \n",
    "\n",
    "        return self.data_opw00001  # , self.data_opw00018\n",
    "\n",
    "    def get_order_info(self, **kwargs):\n",
    "\n",
    "        \"\"\"\n",
    "        by 미체결요청\n",
    "            계좌번호 = 전문 조회할 보유계좌번호\n",
    "            전체종목구분 = 0:전체, 1:종목\n",
    "            매매구분 = 0:전체, 1:매도, 2:매수\n",
    "            종목코드 = 전문 조회할 종목코드 (공백허용, 공백입력시 전체종목구분 \"0\" 입력하여 전체 종목 대상으로 조회)\n",
    "            체결구분 = 0:전체, 2:체결, 1:미체결\n",
    "        \"\"\"\n",
    "\n",
    "        for key, value in kwargs.items():\n",
    "            self.set_input_value(key, value)\n",
    "        self.comm_rq_data(\"미체결요청\", \"opt10075\", 0, self.screen_number)\n",
    "\n",
    "        self.data_opt10075 = self.data_opt10075.set_index(\"주문번호\")\n",
    "        if len(self.data_opt10075) > 1:  # data validation\n",
    "            int_cols = [\"주문수량\", \"미체결수량\", \"체결가\", \"체결량\", \"현재가\"]\n",
    "            for col in int_cols:\n",
    "                self.data_opt10075[col] = self.data_opt10075[col].astype(int).abs()\n",
    "\n",
    "        return self.data_opt10075\n",
    "\n",
    "    def get_market_price(self, **kwargs):\n",
    "\n",
    "        for key, value in kwargs.items():\n",
    "            self.set_input_value(key, value)\n",
    "        self.comm_rq_data(\"체결정보요청\", \"opt10003\", 0, self.screen_number)\n",
    "\n",
    "        return self.realtime_price\n",
    "\n",
    "    def get_precision_by_price(self, **kwargs):\n",
    "\n",
    "        for key, value in kwargs.items():\n",
    "            self.set_input_value(key, value)\n",
    "        self.comm_rq_data(\"주식호가요청\", \"opt10004\", 0, self.screen_number)\n",
    "\n",
    "        # self.data_opt10004 = self.data_opt10004.astype(int)\n",
    "        # return abs(self.data_opt10004[\"매수최우선호가\"] - self.data_opt10004[\"매수2차선호가\"])[0]\n",
    "        return self.data_opt10004\n",
    "\n",
    "    def calc_with_hoga_unit(self, price):  # Stock 에서는 price_precision 이 무효함.\n",
    "\n",
    "        \"\"\"\n",
    "        1. 체결을 고려해 올림을 기본으로 함 (+ 1 을 한 이유.)\n",
    "        2. integer\n",
    "        \"\"\"\n",
    "\n",
    "        hoga_unit = self.get_hoga_unit(price)\n",
    "\n",
    "        return int(((price // hoga_unit) + 1) * hoga_unit)\n",
    "\n",
    "    def tr_data_to_dataframe(self, tr_code, request_name, rows, outputs):\n",
    "\n",
    "        data_list = []\n",
    "        for row in range(rows):\n",
    "            row_data = []\n",
    "            for output in outputs:\n",
    "                data = self.comm_get_data(tr_code, \"\", request_name, row, output)\n",
    "                row_data.append(data)\n",
    "            data_list.append(row_data)\n",
    "\n",
    "        return pd.DataFrame(data=data_list, columns=outputs)\n",
    "    \n",
    "    def receive_msg(self, screen_no, request_name, tr_code, msg):\n",
    "        \"\"\"\n",
    "        수신 메시지 이벤트\n",
    "\n",
    "        서버로 어떤 요청을 했을 때(로그인, 주문, 조회 등), 그 요청에 대한 처리내용을 전달해준다.\n",
    "\n",
    "        :param screen_no: string - 화면번호(4자리, 사용자 정의, 서버에 조회나 주문을 요청할 때 이 요청을 구별하기 위한 키값)\n",
    "        :param request_name: string - TR 요청명(사용자 정의)\n",
    "        :param tr_code: string\n",
    "        :param msg: string - 서버로 부터의 메시지\n",
    "        \"\"\"\n",
    "\n",
    "        if request_name == \"서버구분\":\n",
    "\n",
    "            if msg.find('모의투자') < 0:\n",
    "                # 1. 실서버\n",
    "                self.server_gubun = 1\n",
    "\n",
    "            else:\n",
    "                # 2. 모의서버\n",
    "                self.server_gubun = 0\n",
    "\n",
    "            try:\n",
    "                self.order_loop.exit()\n",
    "            except AttributeError:\n",
    "                pass\n",
    "            finally:\n",
    "                return\n",
    "\n",
    "        # self.msg += request_name + \": \" + msg + \"\\r\\n\\r\\n\"\n",
    "        print(\"{} message : {}\".format(request_name, msg))\n",
    "        self.msg = \"\"\n",
    "\n",
    "\n",
    "    def on_receive_tr_data(self, screen_no, request_name, tr_code, record_name, inquiry, unused0, unused1, unused2,\n",
    "                           unused3):\n",
    "        \"\"\"\n",
    "        TR 수신 이벤트\n",
    "        조회요청 응답을 받거나 조회데이터를 수신했을 때 호출됩니다.\n",
    "        request_name tr_code comm_rq_data()메소드의 매개변수와 매핑되는 값 입니다.\n",
    "        조회데이터는 이 이벤트 메서드 내부에서 comm_get_data() 메서드를 이용해서 얻을 수 있습니다.\n",
    "        :param screen_no: string - 화면번호(4자리)\n",
    "        :param request_name: string - TR 요청명(comm_rq_data() 메소드 호출시 사용된 requestName)\n",
    "        :param tr_code: string\n",
    "        :param record_name: string\n",
    "        :param inquiry: string - 조회('0': 남은 데이터 없음, '2': 남은 데이터 있음)\n",
    "        \"\"\"\n",
    "\n",
    "        print(\"on_receive_tr_data 실행: screen_no: %s, request_name: %s, tr_code: %s, record_name: %s, inquiry: %s\" % (\n",
    "            screen_no, request_name, tr_code, record_name, inquiry))\n",
    "\n",
    "        # 주문번호와 주문루프\n",
    "        self.order_no = self.comm_get_data(tr_code, \"\", request_name, 0, \"주문번호\")\n",
    "\n",
    "        try:\n",
    "            self.order_loop.exit()\n",
    "        except AttributeError:\n",
    "            pass\n",
    "\n",
    "        self.inquiry = inquiry\n",
    "\n",
    "        rows = self.get_repeat_cnt(tr_code, request_name)\n",
    "        if rows == 0:\n",
    "            rows = 1\n",
    "\n",
    "        if request_name == \"주식분봉차트조회요청\":\n",
    "            outputs = [\"체결시간\", \"시가\", \"고가\", \"저가\", \"현재가\", \"거래량\"]\n",
    "            self.data_opt10080 = self.tr_data_to_dataframe(tr_code, request_name, rows, outputs)\n",
    "\n",
    "        if request_name == \"전일대비등락률상위요청\":\n",
    "            outputs = ['종목분류', '종목코드', '종목명', '현재가', '전일대비기호', '전일대비', '등락률']\n",
    "            self.data_opt10027 = self.tr_data_to_dataframe(tr_code, request_name, rows, outputs)\n",
    "\n",
    "        if request_name == \"예수금상세현황요청\":\n",
    "            # outputs = [\"예수금\", \"주문가능금액\", \"100%종목주문가능금액\", \"d+1추정예수금\", \"d+2추정예수금\"]\n",
    "            # self.data_opw00001 = self.tr_data_to_dataframe(tr_code, request_name, rows, outputs)\n",
    "\n",
    "            self.data_opw00001 = int(self.comm_get_data(tr_code, \"\", request_name, 0, \"d+2추정예수금\"))\n",
    "\n",
    "        if request_name == '계좌평가잔고내역요청':\n",
    "            # # init data_opw00018\n",
    "            # self.data_opw00018 = {'account_evaluation': [], 'stocks': []}\n",
    "\n",
    "            # 계좌 평가 정보\n",
    "            #     1. 한 request phase 에서 여러 요청을 수렴하는 경우 rows 사용 주의.\n",
    "            outputs = [\"총매입금액\", \"총평가금액\", \"총평가손익금액\", \"총수익률(%)\", \"추정예탁자산\"]\n",
    "            self.data_opw00018['account_evaluation'] = self.tr_data_to_dataframe(tr_code, request_name, 1, outputs)\n",
    "\n",
    "            # 보유 종목 정보\n",
    "            outputs = [\"종목번호\", \"종목명\", \"보유수량\", \"매매가능수량\", \"매입가\", \"현재가\", \"평가손익\", \"수익률(%)\"]\n",
    "            self.data_opw00018['stocks'] = self.tr_data_to_dataframe(tr_code, request_name, rows, outputs)\n",
    "\n",
    "        if request_name == \"체결정보요청\":\n",
    "            # 특정 주문 번호가 정의되지 않은 상태에서, 종목에 대한 현재가 조회\n",
    "            self.realtime_price = self.comm_get_data(tr_code, \"\", request_name, 0, \"현재가\")\n",
    "\n",
    "        if request_name == \"주식호가요청\":\n",
    "            # outputs = [\"매수최우선호가\", \"매수2차선호가\", \"매수최우선잔량\"]\n",
    "            # self.data_opt10004 = self.tr_data_to_dataframe(tr_code, request_name, rows, outputs)\n",
    "            price_1st = self.comm_get_data(tr_code, \"\", request_name, 0, \"매수최우선호가\")\n",
    "            price_2nd = self.comm_get_data(tr_code, \"\", request_name, 0, \"매수2차선호가\")\n",
    "            self.data_opt10004 = abs(int(price_1st) - int(price_2nd))\n",
    "\n",
    "        if request_name == \"미체결요청\":\n",
    "            # 1. 미체결요청 tr_code 로 체결에 관한 데이터도 충분히 조회가 가능함\n",
    "            #     a. 특정 주문번호에 대한 데이터 조회시, 종목 조회 후 주문번호 키매칭.\n",
    "            # 2. 현재가는 hl_out 을 위해서 사용할 것\n",
    "            outputs = [\"종목코드\", \"종목명\", \"주문번호\", \"주문상태\", \"주문수량\", \"미체결수량\", \"체결가\", \"체결량\", \"현재가\"]\n",
    "            self.data_opt10075 = self.tr_data_to_dataframe(tr_code, request_name, rows, outputs)\n",
    "\n",
    "        try:\n",
    "            self.request_loop.exit()\n",
    "        except AttributeError:\n",
    "            pass\n",
    "\n",
    "    @staticmethod\n",
    "    def get_hoga_unit(price):\n",
    "\n",
    "        if price < 2000:\n",
    "            return 1\n",
    "        elif price < 5000:\n",
    "            return 5\n",
    "        elif price < 20000:\n",
    "            return 10\n",
    "        elif price < 50000:\n",
    "            return 50\n",
    "        elif price < 200000:\n",
    "            return 100\n",
    "        elif price < 500000:\n",
    "            return 500\n",
    "        else:\n",
    "            return 1000\n",
    "\n",
    "    @staticmethod\n",
    "    def calc_with_precision(data, data_precision, def_type='floor'):\n",
    "\n",
    "        \"\"\"\n",
    "        1. quantity 는 Stock 특성상 '0' precision 사용함.\n",
    "        \"\"\"\n",
    "\n",
    "        if not pd.isna(data):\n",
    "            if data_precision > 0:\n",
    "                if def_type == 'floor':\n",
    "                    data = math.floor(data * (10 ** data_precision)) / (10 ** data_precision)\n",
    "                elif def_type == 'round':\n",
    "                    data = float(round(data, data_precision))\n",
    "                else:\n",
    "                    data = math.ceil(data * (10 ** data_precision)) / (10 ** data_precision)\n",
    "            else:\n",
    "                data = int(data)\n",
    "\n",
    "        return data\n"
   ]
  },
  {
   "cell_type": "markdown",
   "id": "72758246-be3c-4aba-b408-2b5eb3f71389",
   "metadata": {},
   "source": [
    "### BankModule"
   ]
  },
  {
   "cell_type": "code",
   "execution_count": 8,
   "id": "344c6e97-b699-4f0b-821f-50a542b16569",
   "metadata": {},
   "outputs": [],
   "source": [
    "from funcs.kiwoom.kiwoom_module import KiwoomModule\n",
    "from funcs.public.broker import calc_rows_and_days\n",
    "from funcs.public.constant import *\n",
    "\n",
    "import numpy as np\n",
    "import pandas as pd\n",
    "from datetime import datetime\n",
    "import time\n",
    "from ast import literal_eval\n",
    "import pickle\n",
    "import logging.config\n",
    "\n",
    "\n",
    "class BankModule2(KiwoomModule2):\n",
    "\n",
    "    def __init__(self, config):\n",
    "\n",
    "        secret_key = self.load_key(r\"D:\\Projects\\System_Trading\\JnQ_32bit\\Bank\\api_keys\\kiwoom_5189140110.pkl\")\n",
    "        super().__init__(secret_key)\n",
    "\n",
    "        # 0. config, sys_log 는 BankModule 에서만 사용됨.\n",
    "        self.config = config\n",
    "        self.sys_log = logging.getLogger()\n",
    "\n",
    "    @staticmethod\n",
    "    def load_key(key_abspath):\n",
    "        with open(key_abspath, 'rb') as f:\n",
    "            return pickle.load(f)\n",
    "\n",
    "    def get_new_df(self, code, api_term=0.3, calc_rows=True, mode=\"OPEN\"):\n",
    "\n",
    "        \"\"\"\n",
    "        1. remove use_rows : 사용하지 않아서.\n",
    "        \"\"\"\n",
    "\n",
    "        while 1:\n",
    "            try:\n",
    "                row_list = literal_eval(self.config.trader_set.row_list)\n",
    "                if calc_rows:\n",
    "                    itv_list = literal_eval(self.config.trader_set.itv_list)\n",
    "                    rec_row_list = literal_eval(self.config.trader_set.rec_row_list)\n",
    "                    _, days = calc_rows_and_days(itv_list, row_list, rec_row_list)\n",
    "                else:\n",
    "                    _, days = row_list[0], 1  # load_new_df3 사용 의도 = close, time logging\n",
    "                new_df_, _ = self.concat_candlestick(days, api_term, 종목코드=code, 틱범위=\"1\", 수정주가구분=\"0\")\n",
    "\n",
    "                # new_df_ validity check (Stock 의 경우 59.999 초를 더해주어야함, timeindex 의 second = 0)\n",
    "                #    1. datetime timestamp() 의 기준은 second 임.\n",
    "                if datetime.timestamp(new_df_.index[-1]) + 59.999 < datetime.now().timestamp():\n",
    "                    time.sleep(self.config.trader_set.realtime_term)\n",
    "                    continue\n",
    "                if mode == \"OPEN\":\n",
    "                    self.sys_log.info(\"complete new_df_'s time : {}\".format(datetime.now()))\n",
    "\n",
    "            except Exception as e:\n",
    "                self.sys_log.error(\"error in get_new_df : {}\".format(e))\n",
    "                #        1. adequate term for retries\n",
    "                time.sleep(self.config.trader_set.api_term)\n",
    "                continue\n",
    "            else:\n",
    "                return new_df_, 0  # 0 for load_new_df var.\n",
    "\n",
    "    def get_streamer(self, code):\n",
    "\n",
    "        \"\"\"\n",
    "        back_data_path 에 code 로 입력할 것\n",
    "        \"\"\"\n",
    "\n",
    "        row_list = literal_eval(self.config.trader_set.row_list)\n",
    "        itv_list = literal_eval(self.config.trader_set.itv_list)\n",
    "        rec_row_list = literal_eval(self.config.trader_set.rec_row_list)\n",
    "        use_rows, days = calc_rows_and_days(itv_list, row_list, rec_row_list)\n",
    "\n",
    "        # back_df = pd.read_pickle(self.config.trader_set.back_data_path.replace(\"code\", code))\n",
    "        back_df = pd.read_pickle(self.config.trader_set.back_data_path.replace(\"code\", code)).astype(float)  # int 로 저장해서, 임시적으로 변경함.\n",
    "\n",
    "        if self.config.trader_set.start_datetime != \"None\":\n",
    "            target_datetime = pd.to_datetime(self.config.trader_set.start_datetime)\n",
    "            if target_datetime in back_df.index:\n",
    "                start_idx = np.argwhere(back_df.index == target_datetime).item()\n",
    "            else:\n",
    "                start_idx = use_rows\n",
    "        else:\n",
    "            start_idx = use_rows\n",
    "\n",
    "        # 시작하는 idx 는 필요로하는 rows 보다 커야함.\n",
    "        assert start_idx >= use_rows, \"more dataframe rows required\"\n",
    "\n",
    "        for i in range(start_idx + 1, len(back_df)):  # +1 for i inclusion\n",
    "            yield back_df.iloc[i - use_rows:i]\n",
    "\n",
    "    def get_new_df_onstream(self, streamer):\n",
    "        try:\n",
    "            res_df = next(streamer)  # Todo, 무결성 검증 미진행\n",
    "        except Exception as e:\n",
    "            self.sys_log.error(\"error in get_new_df_onstream : {}\".format(e))\n",
    "            quit()  # error 처리할 필요없이, backtrader 프로그램 종료\n",
    "            # return None, None   # output len 유지\n",
    "        else:\n",
    "            return res_df, 0\n",
    "\n",
    "    def get_open_side_v2(self, res_df, papers, np_timeidx, open_num=1):\n",
    "\n",
    "        public, utils_list, config_list = papers\n",
    "        utils, config = None, config_list[0]    # 첫 config 로 초기화.\n",
    "        open_side = None\n",
    "\n",
    "        for utils_, cfg_ in zip(utils_list, config_list):\n",
    "\n",
    "            # ------ 1. point ------ #\n",
    "            #  여기 왜 latest_index 사용했는지 모르겠음 -> bar_close point 를 고려해 mr_res 와의 index 분리\n",
    "            #   vecto. 하는 이상, point x ep_loc 의 index 는 sync. 되어야함 => complete_index 사용 (solved)\n",
    "            #  Todo, 각 phase 분리한 이유 = sys_logging (solved)\n",
    "            if res_df['short_open{}_{}'.format(open_num, cfg_.selection_id)].to_numpy()[cfg_.trader_set.complete_index]:\n",
    "                self.sys_log.warning(\"[ short ] true_point selection_id : {}\".format(cfg_.selection_id))\n",
    "\n",
    "                # ------ 2. ban ------ #\n",
    "                if not cfg_.pos_set.short_ban:\n",
    "\n",
    "                    # ------ 3. mr_res ------ #\n",
    "                    if open_num == 1:\n",
    "                        mr_res, zone_arr = public.ep_loc_p1_v3(res_df, cfg_, np_timeidx, show_detail=True, ep_loc_side=OrderSide.SELL)\n",
    "                    else:\n",
    "                        mr_res, zone_arr = public.ep_loc_p2_v3(res_df, cfg_, np_timeidx, show_detail=True, ep_loc_side=OrderSide.SELL)\n",
    "                    self.sys_log.warning(\"mr_res[cfg_.trader_set.complete_index] : {}\".format(mr_res[cfg_.trader_set.complete_index]))\n",
    "\n",
    "                    # ------ assign ------ #\n",
    "                    if mr_res[cfg_.trader_set.complete_index]:\n",
    "                        utils = utils_\n",
    "                        config = cfg_\n",
    "                        open_side = OrderSide.SELL\n",
    "                        break\n",
    "                else:\n",
    "                    self.sys_log.warning(\"cfg_.pos_set.short_ban : {}\".format(cfg_.pos_set.short_ban))\n",
    "\n",
    "            # ------ 1. point ------ #\n",
    "            #       'if' for nested ep_loc.point        #\n",
    "            if res_df['long_open{}_{}'.format(open_num, cfg_.selection_id)].to_numpy()[cfg_.trader_set.complete_index]:\n",
    "                self.sys_log.warning(\"[ long ] true_point selection_id : {}\".format(cfg_.selection_id))\n",
    "\n",
    "                # ------ 2. ban ------ #\n",
    "                if not cfg_.pos_set.long_ban:  # additional const. on trader\n",
    "\n",
    "                    # ------ 3. mr_res ------ #\n",
    "                    if open_num == 1:\n",
    "                        mr_res, zone_arr = public.ep_loc_p1_v3(res_df, cfg_, np_timeidx, show_detail=True, ep_loc_side=OrderSide.BUY)\n",
    "                    else:\n",
    "                        mr_res, zone_arr = public.ep_loc_p2_v3(res_df, cfg_, np_timeidx, show_detail=True, ep_loc_side=OrderSide.BUY)\n",
    "                    self.sys_log.warning(\"mr_res[cfg_.trader_set.complete_index] : {}\".format(mr_res[cfg_.trader_set.complete_index]))\n",
    "\n",
    "                    # ------ assign ------ #\n",
    "                    if mr_res[cfg_.trader_set.complete_index]:\n",
    "                        utils = utils_\n",
    "                        config = cfg_\n",
    "                        open_side = OrderSide.BUY\n",
    "                        break\n",
    "                else:\n",
    "                    self.sys_log.warning(\"cfg_.pos_set.long_ban : {}\".format(cfg_.pos_set.long_ban))\n",
    "\n",
    "        return open_side, utils, config\n",
    "\n",
    "    def get_tpepout(self, open_side, res_df_open, res_df, mode=\"ep1\"):\n",
    "        self.sys_log.info('open_side : {}'.format(open_side))\n",
    "        selection_id = self.config.selection_id\n",
    "\n",
    "        tp_j = self.config.trader_set.complete_index\n",
    "        ep_j = self.config.trader_set.complete_index\n",
    "        # Todo, complete_index + 1 이 아니라, 해당 index 롤 res_df_open 이 아닌 -> res_df 에 입력하면 되는거아닌가\n",
    "        #  -> use_point2 여부에 따라 다르게 작성할 필요가 없어짐 (solved)\n",
    "        out_j = self.config.trader_set.complete_index\n",
    "\n",
    "        #       Todo        #\n",
    "        #        b. --> res_df 사용시, dynamic (pre, whole) 을 허용하겠다는 의미\n",
    "        #           i. ep_loc_point2 미사용시, res_df = res_df_open\n",
    "        if open_side == OrderSide.BUY:\n",
    "            ep = res_df_open['long_ep1_{}'.format(selection_id)].to_numpy()[ep_j]\n",
    "\n",
    "            if self.config.pos_set.long_inversion:\n",
    "                open_side = OrderSide.SELL  # side change (inversion)\n",
    "                out = res_df['long_tp_{}'.format(selection_id)].to_numpy()[out_j]\n",
    "                tp = res_df_open['long_out_{}'.format(selection_id)].to_numpy()[tp_j]\n",
    "            else:\n",
    "                out = res_df['long_out_{}'.format(selection_id)].to_numpy()[out_j]\n",
    "                tp = res_df_open['long_tp_{}'.format(selection_id)].to_numpy()[tp_j]\n",
    "        else:\n",
    "            ep = res_df_open['short_ep1_{}'.format(selection_id)].to_numpy()[ep_j]\n",
    "\n",
    "            if self.config.pos_set.short_inversion:\n",
    "                open_side = OrderSide.BUY\n",
    "                out = res_df['short_tp_{}'.format(selection_id)].to_numpy()[out_j]\n",
    "                tp = res_df_open['short_out_{}'.format(selection_id)].to_numpy()[tp_j]\n",
    "            else:\n",
    "                out = res_df['short_out_{}'.format(selection_id)].to_numpy()[out_j]\n",
    "                tp = res_df_open['short_tp_{}'.format(selection_id)].to_numpy()[tp_j]\n",
    "\n",
    "        return tp, ep, out, open_side\n",
    "\n",
    "    def check_open_exec_qty_v2(self, order_no):\n",
    "        \"\"\"\n",
    "        1. breakout_gty_ratio\n",
    "            a. exec_open_qty 와 open_quantity 의 ratio 비교\n",
    "            b. realtime_term 에 delay 주지 않기 위해, term 설정\n",
    "        2. 이걸 설정 안해주면 체결되도 close_order 진행 안됨\n",
    "        \"\"\"\n",
    "\n",
    "        order_info = self.get_order_info(계좌번호=self.account_number, 전체종목구분=0, 매매구분=\"0\", 종목코드=\"\", 체결구분=\"0\")\n",
    "        order_info_valid = order_info.loc[order_no]\n",
    "        open_exec = order_info_valid['체결량'] / order_info_valid['주문수량'] >= self.config.trader_set.open_exec_qty_ratio \\\n",
    "                    or order_info_valid['주문상태'] == \"체결\"\n",
    "        return open_exec\n",
    "\n",
    "    def check_ei_k_v2(self, res_df_open, res_df, realtime_price, open_side):\n",
    "\n",
    "        \"\"\"\n",
    "        = expire_tp\n",
    "            1. check_ei_k_onbarclose_v2 에서는 expire_tick 기준으로 res_df_open, res_df 둘다 사용함.\n",
    "                a. 형태 유지를 위해 이곳에서도 res_df input 으로 유지함.\n",
    "        \"\"\"\n",
    "\n",
    "        ep_out = 0\n",
    "        selection_id = self.config.selection_id\n",
    "\n",
    "        if self.config.tr_set.expire_tick != \"None\":\n",
    "            if time.time() - datetime.timestamp(res_df_open.index[self.config.trader_set.latest_index]) \\\n",
    "                    >= self.config.tr_set.expire_tick * 60:\n",
    "                ep_out = 1\n",
    "\n",
    "        if self.config.tr_set.expire_k1 != \"None\":  # Todo -> 이거 None 이면 \"무한 대기\" 발생 가능함\n",
    "            # realtime_price = self.get_market_price_v2()\n",
    "            tp_j = self.config.trader_set.complete_index\n",
    "            #       Todo        #\n",
    "            #        2. 추후, dynamic_tp 사용시 res_df 갱신해야할 것\n",
    "            #           a. 그에 따른 res_df 종속 변수 check\n",
    "            #        3. ei_k - ep_out 변수 달아주고, close bar waiting 추가할지 고민중\n",
    "            #        4. warning - 체결량 존재하는데, ep_out 가능함 - market 고민중\n",
    "            #        5. funcs_trader_modules 에서 order_side check 하는 function 모두 inversion 고려해야할 것\n",
    "            #           a. \"단, order_side change 후로만 해당됨\n",
    "            if open_side == OrderSide.SELL:\n",
    "                short_tp_ = res_df_open['short_tp_{}'.format(selection_id)].to_numpy()  # id 에 따라 dynamic 변수라 이곳에서 numpy 화 진행\n",
    "                short_tp_gap_ = res_df_open['short_tp_gap_{}'.format(selection_id)].to_numpy()\n",
    "                if realtime_price <= short_tp_[tp_j] + short_tp_gap_[tp_j] * self.config.tr_set.expire_k1:\n",
    "                    ep_out = 1\n",
    "            else:\n",
    "                long_tp_ = res_df_open['long_tp_{}'.format(selection_id)].to_numpy()  # iloc 이 빠를까, to_numpy() 가 빠를까  # 3.94 ms --> 5.34 ms (iloc)\n",
    "                long_tp_gap_ = res_df_open['long_tp_gap_{}'.format(selection_id)].to_numpy()\n",
    "                if realtime_price >= long_tp_[tp_j] - long_tp_gap_[tp_j] * self.config.tr_set.expire_k1:\n",
    "                    ep_out = 1\n",
    "            time.sleep(self.config.trader_set.realtime_term)  # <-- for realtime price function\n",
    "\n",
    "        if ep_out:\n",
    "            self.sys_log.warning(\"cancel open_order by ei_k\\n\")\n",
    "\n",
    "        return ep_out\n",
    "\n",
    "    def check_ei_k_onbarclose_v2(self, res_df_open, res_df, e_j, tp_j, open_side):  # for point2\n",
    "\n",
    "        \"\"\"\n",
    "        = expire_tp\n",
    "        \"\"\"\n",
    "\n",
    "        ep_out = 0\n",
    "        selection_id = self.config.selection_id\n",
    "\n",
    "        if self.config.tr_set.expire_tick != \"None\":\n",
    "            if datetime.timestamp(res_df.index[-1]) - datetime.timestamp(res_df_open.index[self.config.trader_set.latest_index]) \\\n",
    "                    >= self.config.tr_set.expire_tick * 60:\n",
    "                ep_out = 1\n",
    "\n",
    "        if self.config.tr_set.expire_k1 != \"None\":  # Todo - onbarclose 에서는, res_df_open 으로 open_index 의 tp 정보를 사용\n",
    "            if open_side == OrderSide.SELL:\n",
    "                low = res_df['low'].to_numpy()\n",
    "                short_tp_ = res_df_open['short_tp_{}'.format(selection_id)].to_numpy()  # id 에 따라 dynamic 변수라 이곳에서 numpy 화 진행\n",
    "                short_tp_gap_ = res_df_open['short_tp_gap_{}'.format(selection_id)].to_numpy()\n",
    "                if low[e_j] <= short_tp_[tp_j] + short_tp_gap_[tp_j] * self.config.tr_set.expire_k1:\n",
    "                    ep_out = 1\n",
    "            else:\n",
    "                high = res_df['high'].to_numpy()\n",
    "                long_tp_ = res_df_open['long_tp_{}'.format(selection_id)].to_numpy()  # iloc 이 빠를까, to_numpy() 가 빠를까  # 3.94 ms --> 5.34 ms (iloc)\n",
    "                long_tp_gap_ = res_df_open['long_tp_gap_{}'.format(selection_id)].to_numpy()\n",
    "                if high[e_j] >= long_tp_[tp_j] - long_tp_gap_[tp_j] * self.config.tr_set.expire_k1:\n",
    "                    ep_out = 1\n",
    "\n",
    "        if ep_out:\n",
    "            self.sys_log.warning(\"cancel open_order by ei_k\\n\")\n",
    "\n",
    "        return ep_out\n",
    "\n",
    "    def get_dynamic_tpout(self, res_df, open_side, tp, out):\n",
    "        # ------ dynamic & inversion tp_out ------ #\n",
    "        selection_id = self.config.selection_id\n",
    "        if open_side == OrderSide.BUY:\n",
    "            if self.config.pos_set.short_inversion:\n",
    "                out_series = res_df['short_tp_{}'.format(selection_id)]\n",
    "                tp_series = res_df['short_out_{}'.format(selection_id)]\n",
    "            else:\n",
    "                out_series = res_df['long_out_{}'.format(selection_id)]\n",
    "                tp_series = res_df['long_tp_{}'.format(selection_id)]\n",
    "        else:\n",
    "            if self.config.pos_set.long_inversion:\n",
    "                out_series = res_df['long_tp_{}'.format(selection_id)]\n",
    "                tp_series = res_df['long_out_{}'.format(selection_id)]\n",
    "            else:\n",
    "                out_series = res_df['short_out_{}'.format(selection_id)]\n",
    "                tp_series = res_df['short_tp_{}'.format(selection_id)]\n",
    "\n",
    "        if not self.config.tp_set.static_tp:\n",
    "            tp = tp_series.to_numpy()[self.config.trader_set.complete_index]\n",
    "        if not self.config.out_set.static_out:\n",
    "            out = out_series.to_numpy()[self.config.trader_set.complete_index]\n",
    "\n",
    "        return tp, out, tp_series, out_series\n",
    "\n",
    "    def get_partial_tp_qty(self, ep, tp, open_exec_qty, quantity_precision, close_side):\n",
    "\n",
    "        \"\"\"\n",
    "        changed to calc_with_precision -> calc_with_hoga_unit for price, in Stock\n",
    "        \"\"\"\n",
    "        partial_ranges, partial_qty_ratio = literal_eval(self.config.tp_set.partial_ranges), literal_eval(self.config.tp_set.partial_qty_ratio)\n",
    "        partial_length = len(partial_ranges)\n",
    "        assert partial_length == len(partial_qty_ratio)\n",
    "        en_ps, tps, open_qtys = [np.tile(arr_, (partial_length,)) for arr_ in [ep, tp, open_exec_qty]]\n",
    "\n",
    "        if close_side == OrderSide.BUY:  # short\n",
    "            partial_tps = en_ps - (en_ps - tps) * partial_ranges\n",
    "        else:  # long\n",
    "            partial_tps = en_ps + (tps - en_ps) * partial_ranges\n",
    "        partial_qtys = open_qtys * partial_qty_ratio\n",
    "\n",
    "        partial_tps = list(map(lambda x: self.calc_with_hoga_unit(x), partial_tps))\n",
    "        partial_qtys = list(map(lambda x: self.calc_with_precision(x, quantity_precision), partial_qtys))\n",
    "        self.sys_log.info('partial_tps : {}'.format(partial_tps))\n",
    "        self.sys_log.info('partial_qtys : {}'.format(partial_qtys))\n",
    "\n",
    "        return partial_tps, partial_qtys\n",
    "\n",
    "    def check_limit_tp_exec_v2(self, order_no_list, quantity_precision=0):\n",
    "\n",
    "        all_executed = 0\n",
    "        order_info = self.get_order_info(계좌번호=self.account_number, 전체종목구분=0, 매매구분=\"0\", 종목코드=\"\", 체결구분=\"0\")\n",
    "\n",
    "        #     1. order_no_list 의 \"\" (공백) 에 대한 무결성 검증해야함. (loc 접근할때 안되니까)\n",
    "        #         a. 입력되는 order_no_list 에 공백만 존재할 수는 없다고 어느정도 가정한 상황임.\n",
    "        order_no_arr = np.array(order_no_list)\n",
    "        order_no_arr = order_no_arr[np.where(order_no_arr != \"\")[0]]\n",
    "\n",
    "        order_info_valid = order_info.loc[order_no_arr]\n",
    "        order_exec_check = order_info_valid[\"주문수량\"] - order_info_valid[\"체결량\"] < 1 / (10 ** quantity_precision)\n",
    "\n",
    "        # 손매매로 인한 order_info.status == EXPIRED 는 고려 대상이 아님. (손매매 이왕이면 하지 말라는 이야기)\n",
    "        if np.sum(order_exec_check) == len(order_exec_check):\n",
    "            self.sys_log.info('all limit tp order executed')\n",
    "            all_executed = 1\n",
    "\n",
    "        exec_price_list = [exec_price for exec_price, executed in zip(order_info_valid[\"체결가\"], order_exec_check) if executed]\n",
    "        return all_executed, exec_price_list\n",
    "\n",
    "    def check_hl_out_onbarclose_v2(self, res_df, market_close_on, out, liqd_p, open_side):\n",
    "\n",
    "        \"\"\"\n",
    "        v1 -> v2\n",
    "            1. add liquidation platform.\n",
    "            2. add log_out\n",
    "        \"\"\"\n",
    "\n",
    "        log_out = None\n",
    "        c_i = self.config.trader_set.complete_index\n",
    "\n",
    "        high = res_df['high'].to_numpy()[c_i]\n",
    "        low = res_df['low'].to_numpy()[c_i]\n",
    "        close = res_df['close'].to_numpy()[c_i]\n",
    "\n",
    "        # ------ 1. liquidation default check ------ #\n",
    "        if open_side == OrderSide.SELL:\n",
    "            const_str = \"high >= liqd_p\"\n",
    "            if eval(const_str):\n",
    "                market_close_on = True\n",
    "                log_out = liqd_p\n",
    "                self.sys_log.info(\"{} : {} {}\".format(const_str, high, liqd_p))\n",
    "        else:\n",
    "            const_str = \"low <= liqd_p\"\n",
    "            if eval(const_str):\n",
    "                market_close_on = True\n",
    "                log_out = liqd_p\n",
    "                self.sys_log.info(\"{} : {} {}\".format(const_str, low, liqd_p))\n",
    "\n",
    "        # ------ 2. hl_out ------ #\n",
    "        if self.config.out_set.hl_out:\n",
    "            if open_side == OrderSide.SELL:\n",
    "                const_str = \"high >= out\"\n",
    "                if eval(const_str):\n",
    "                    market_close_on = True\n",
    "                    log_out = out\n",
    "                    self.sys_log.info(\"{} : {} {}\".format(const_str, high, out))\n",
    "            else:\n",
    "                const_str = \"low <= out\"\n",
    "                if eval(const_str):\n",
    "                    market_close_on = True\n",
    "                    log_out = out\n",
    "                    self.sys_log.info(\"{} : {} {}\".format(const_str, low, out))\n",
    "\n",
    "        # ------ 3. close_out ------ #\n",
    "        else:\n",
    "            if open_side == OrderSide.SELL:\n",
    "                if close >= out:\n",
    "                    market_close_on = True\n",
    "                    log_out = close\n",
    "                    self.sys_log.info(\"{} : {} {}\".format(\"close >= out\", log_out, out))\n",
    "            else:\n",
    "                if close <= out:\n",
    "                    market_close_on = True\n",
    "                    log_out = close\n",
    "                    self.sys_log.info(\"{} : {} {}\".format(\"close <= out\", log_out, out))\n",
    "\n",
    "        return market_close_on, log_out\n",
    "\n",
    "    def check_hl_out_v3(self, res_df, market_close_on, out, liqd_p, realtime_price, open_side):\n",
    "\n",
    "        \"\"\"\n",
    "        v2 -> v3\n",
    "            1. get realtime_price from outer_scope\n",
    "            2. inversion 고려 아직임. (inversion 사용하게 되면 고려할 것.) (Todo)\n",
    "            3. add log_out\n",
    "        \"\"\"\n",
    "\n",
    "        log_out = None\n",
    "\n",
    "        # ------ 1. liquidation default check ------ #\n",
    "        if open_side == OrderSide.SELL:\n",
    "            const_str = \"realtime_price >= liqd_p\"\n",
    "            if eval(const_str):\n",
    "                market_close_on = True\n",
    "                log_out = liqd_p\n",
    "                self.sys_log.info(\"{} : {} {}\".format(const_str, realtime_price, liqd_p))\n",
    "        else:\n",
    "            const_str = \"realtime_price <= liqd_p\"\n",
    "            if eval(const_str):\n",
    "                market_close_on = True\n",
    "                log_out = liqd_p\n",
    "                self.sys_log.info(\"{} : {} {}\".format(const_str, realtime_price, liqd_p))\n",
    "\n",
    "        # ------ 2. hl_out ------ #\n",
    "        if self.config.out_set.hl_out:\n",
    "            if open_side == OrderSide.SELL:\n",
    "                const_str = \"realtime_price >= out\"\n",
    "                if eval(const_str):\n",
    "                    market_close_on = True\n",
    "                    log_out = out\n",
    "                    self.sys_log.info(\"{} : {} {}\".format(const_str, realtime_price, out))\n",
    "            else:\n",
    "                const_str = \"realtime_price <= out\"\n",
    "                if eval(const_str):\n",
    "                    market_close_on = True\n",
    "                    log_out = out\n",
    "                    self.sys_log.info(\"{} : {} {}\".format(const_str, realtime_price, out))\n",
    "\n",
    "        # ------ 3. close_out ------ #\n",
    "        else:\n",
    "            close = res_df['close'].to_numpy()\n",
    "\n",
    "            if open_side == OrderSide.SELL:\n",
    "                j = self.config.trader_set.complete_index\n",
    "                if close[j] >= out:\n",
    "                    market_close_on = True\n",
    "                    log_out = close[j]\n",
    "                    self.sys_log.info(\"{} : {} {}\".format(\"close >= out\", log_out, out))\n",
    "            else:\n",
    "                j = self.config.trader_set.complete_index\n",
    "                if close[j] <= out:\n",
    "                    market_close_on = True\n",
    "                    log_out = close[j]\n",
    "                    self.sys_log.info(\"{} : {} {}\".format(\"close <= out\", log_out, out))\n",
    "\n",
    "        return market_close_on, log_out\n",
    "\n",
    "    def calc_ideal_profit_v4(self, res_df, open_side, ideal_ep, tp_exec_dict, open_exec_price_list, tp_exec_price_list, out_exec_price_list, fee, trade_log_dict):\n",
    "\n",
    "        \"\"\"\n",
    "        v3 -> v4\n",
    "            1. 수정된 수수료 계산법 도입\n",
    "                a. ((ideal_enp_np / ideal_exp_np * (1 - fee) - 1) * partial_qty_ratio_np).sum() + 1\n",
    "        \"\"\"\n",
    "        \n",
    "        ideal_exp_np = np.hstack(np.array(list(tp_exec_dict.values())))  # list 로 저장된 value, 1d_array 로 conversion\n",
    "        ideal_enp_np = np.array([ideal_ep] * len(ideal_exp_np))\n",
    "        # market_close 에서 -2002, -4003 발생한 경우 = error 인데 close 된 경우\n",
    "        # -> ideal_tp 적용\n",
    "        if out_exec_price_list is None:\n",
    "            out_exec_price_list = list(ideal_exp_np[-1:])  # list type 사용해야 append 구현됨\n",
    "        exp_np = np.array(tp_exec_price_list + out_exec_price_list)\n",
    "        enp_np = np.array(open_exec_price_list * len(exp_np))\n",
    "\n",
    "        partial_qty_ratio_np = np.array(literal_eval(self.config.tp_set.partial_qty_ratio))\n",
    "        if open_side == OrderSide.SELL:\n",
    "            ideal_profit = ((ideal_enp_np / ideal_exp_np * (1 - fee) - 1) * partial_qty_ratio_np).sum() + 1\n",
    "            real_profit = ((enp_np / exp_np * (1 - fee) - 1) * partial_qty_ratio_np).sum() + 1\n",
    "        else:\n",
    "            ideal_profit = ((ideal_exp_np / ideal_enp_np * (1 - fee) - 1) * partial_qty_ratio_np).sum() + 1\n",
    "            real_profit = ((exp_np / enp_np * (1 - fee) - 1) * partial_qty_ratio_np).sum() + 1\n",
    "\n",
    "        self.sys_log.info(\"--------- bills ---------\")\n",
    "        self.sys_log.info(\"ideal_enp_np : {}\".format(ideal_enp_np))\n",
    "        self.sys_log.info(\"ideal_exp_np : {}\".format(ideal_exp_np))\n",
    "        self.sys_log.info(\"real_enp : {}\".format(enp_np))\n",
    "        self.sys_log.info(\"real_exp : {}\".format(exp_np))\n",
    "        self.sys_log.info(\"fee : {}\".format(fee))\n",
    "        # sys_log.info(\"temp_qty : {}\".format(temp_qty))\n",
    "\n",
    "        # ------ trade_log_dict ------ #\n",
    "        for k_ts, tps in tp_exec_dict.items():\n",
    "            trade_log_dict[\"exit\"] = [k_ts, open_side, tps]\n",
    "\n",
    "        return ideal_profit, real_profit, trade_log_dict\n",
    "\n",
    "    def check_signal_out_v3(self, res_df, market_close_on, open_side):\n",
    "\n",
    "        \"\"\"\n",
    "        v1 -> v2\n",
    "            1. phase 별로 정리 (open_side phase 가 하위로 가도록.)\n",
    "            2. Todo, inversion 에 대한 고려 진행된건가 - 안된것으로 보임\n",
    "            3. add log_out\n",
    "            4. remove cross_on\n",
    "        \"\"\"\n",
    "\n",
    "        log_out = None\n",
    "        c_i = self.config.trader_set.complete_index\n",
    "\n",
    "        close = res_df['close'].to_numpy()[c_i]\n",
    "\n",
    "        # ------ 1. rsi_exit ------ #\n",
    "        if self.config.out_set.rsi_exit:\n",
    "            rsi_ = res_df['rsi_%s' % self.config.loc_set.point.exp_itv].to_numpy()\n",
    "            osc_band = self.config.loc_set.point.osc_band\n",
    "\n",
    "            if open_side == OrderSide.SELL:\n",
    "                if (rsi_[c_i - 1] >= 50 - osc_band) & (rsi_[c_i] < 50 - osc_band):\n",
    "                    market_close_on = True\n",
    "            else:\n",
    "                if (rsi_[c_i - 1] <= 50 + osc_band) & (rsi_[c_i] > 50 + osc_band):\n",
    "                    market_close_on = True\n",
    "\n",
    "        # ------ 2. cci_exit ------ #\n",
    "        #           a. deprecated.\n",
    "        # if self.config.out_set.cci_exit:\n",
    "        #     wave_itv1 = self.config.tr_set.wave_itv1\n",
    "        #     wave_period1 = self.config.tr_set.wave_period1\n",
    "        #\n",
    "        #     if open_side == OrderSide.SELL:\n",
    "        #         wave_co_ = res_df['wave_co_{}{}'.format(wave_itv1, wave_period1)].to_numpy()[c_i]\n",
    "        #         if wave_co_:\n",
    "        #             market_close_on = True\n",
    "        #     else:\n",
    "        #         wave_cu_ = res_df['wave_cu_{}{}'.format(wave_itv1, wave_period1)].to_numpy()[c_i]\n",
    "        #         if wave_cu_:\n",
    "        #             market_close_on = True\n",
    "\n",
    "        if market_close_on:\n",
    "            log_out = close\n",
    "            self.sys_log.info(\"signal out : {}\".format(log_out))\n",
    "\n",
    "        return market_close_on, log_out\n",
    "\n",
    "    def limit_order(self, order_info=None, **kwargs):\n",
    "\n",
    "        open_retry_cnt = 0\n",
    "        error_code = 0\n",
    "\n",
    "        if order_info is None:\n",
    "            over_balance = None\n",
    "        else:\n",
    "            over_balance, leverage = order_info\n",
    "\n",
    "        order_side = kwargs['order_side']\n",
    "        if order_side == \"BUY\":\n",
    "            order_side_number = 1\n",
    "        else:\n",
    "            order_side_number = 2\n",
    "\n",
    "        while 1:\n",
    "            try:\n",
    "                self.send_order(\"LIMIT\", self.screen_number, self.account_number,\n",
    "                                order_side_number, kwargs['code'], kwargs['qty'], kwargs['price'], \"00\", \"\")\n",
    "\n",
    "            except Exception as e:\n",
    "                self.sys_log.error('error in limit_order : {}'.format(e))\n",
    "\n",
    "                # Todo, error 처리\n",
    "                return None, None, \"unknown\"  # 출력 형태 유지.\n",
    "\n",
    "            else:\n",
    "                self.sys_log.info('limit_order enlisted. : {}'.format(datetime.now()))\n",
    "                return self.order_no, over_balance, 0  # , error_code\n",
    "\n",
    "    def partial_limit_order_v4(self, code, partial_tps, partial_qtys, close_side, open_exec_qty, quantity_precision):\n",
    "\n",
    "        \"\"\"\n",
    "        add. error_code\n",
    "        \"\"\"\n",
    "\n",
    "        partial_tp_idx = 0\n",
    "        partial_length = len(partial_tps)\n",
    "        order_no_list = []\n",
    "        error_code = 0\n",
    "        while 1:\n",
    "            if partial_tp_idx >= partial_length:\n",
    "                break\n",
    "\n",
    "            partial_tp = partial_tps[partial_tp_idx]\n",
    "            if partial_tp_idx == partial_length - 1:\n",
    "                partial_qty = self.calc_with_precision(open_exec_qty - np.sum(partial_qtys[:-1]), quantity_precision)\n",
    "            else:\n",
    "                partial_qty = partial_qtys[partial_tp_idx]\n",
    "\n",
    "            if partial_qty == 0:  # qty should not be zero\n",
    "                partial_tp_idx += 1\n",
    "            else:\n",
    "                # ------ 1. tp_order ------ #\n",
    "                order_no, _, error_code = self.limit_order(code=code, order_side=close_side, qty=partial_qty, price=partial_tp)\n",
    "                order_no_list.append(order_no)\n",
    "\n",
    "                # ------ 2. check succession ------ #\n",
    "                if not error_code:  # if succeeded, error_code = 0\n",
    "                    partial_tp_idx += 1\n",
    "\n",
    "                # ------ 3. errors ------ #\n",
    "                # ------ -1111 : quantity precision error ------ #\n",
    "                # ------ -4003 : quantity less than zero ------ #\n",
    "                # ------ -2019 (Margin is insufficient) or something else ------ #\n",
    "                # Todo, 1. 추후 error_code 파악 및 대응방안 수립.\n",
    "                else:\n",
    "                    # continue\n",
    "                    return order_no_list, error_code  # <-- 추후 에러처리를 위해 return 시킴\n",
    "\n",
    "        return order_no_list, error_code\n",
    "\n",
    "    def cancel_order(self, **kwargs):\n",
    "\n",
    "        order_side = kwargs['order_side']\n",
    "        if order_side == \"BUY\":\n",
    "            order_side_number = 3\n",
    "        else:\n",
    "            order_side_number = 4\n",
    "\n",
    "        while 1:\n",
    "            try:\n",
    "                # 2. code essential\n",
    "                self.send_order(\"\", self.screen_number, self.account_number,\n",
    "                                order_side_number, kwargs['code'], 1, 0, \"\", kwargs[\"origin_order_no\"])\n",
    "\n",
    "            except Exception as e:\n",
    "                self.sys_log.error('error in cancel_order : {}'.format(e))\n",
    "\n",
    "                # Todo, error 처리\n",
    "                return\n",
    "\n",
    "            else:\n",
    "                self.sys_log.info('{} cancel_order executed.'.format(kwargs[\"origin_order_no\"]))\n",
    "                return self.order_no\n",
    "\n",
    "    def cancel_order_list(self, code, order_side, order_no_list, order_type=OrderType.LIMIT):\n",
    "\n",
    "        #     1. order_no_list 의 \"\" (공백) 에 대한 무결성 검증해야함. (loc 접근할때 안되니까)\n",
    "        order_no_arr = np.array(order_no_list)\n",
    "        order_no_arr = order_no_arr[np.where(order_no_arr != \"\")[0]]\n",
    "\n",
    "        # ------------ cancel limit_tp orders ------------ #\n",
    "        #      1. post_order_res_list 를 받아서 해당 order 만 취소\n",
    "        #          a. None 포함된 경우는 ? - None 처리 됨\n",
    "        #          b. 이미 완료된 경우 - cancel_order 가능한가 ? nope\n",
    "        if order_type == OrderType.LIMIT:\n",
    "            [self.cancel_order(code=code, order_side=order_side, origin_order_no=order_no)\n",
    "             for order_no in order_no_arr]\n",
    "\n",
    "        # -------- 취소한 order 에 대해 체결가, 체결량 조회 -------- #\n",
    "        order_info = self.get_order_info(계좌번호=self.account_number, 전체종목구분=0, 매매구분=\"0\", 종목코드=\"\", 체결구분=\"0\")\n",
    "        order_info_valid = order_info.loc[order_no_arr]\n",
    "\n",
    "        #     1. get execPrice_list\n",
    "        exec_price_list = order_info_valid['체결가'].tolist()  # 기존의 list 형태를 유지하기 위해 tolist() 사용함.\n",
    "        #     2. get np.sum(executedQty_list)\n",
    "        exec_qty_list = order_info_valid['체결량'].tolist()\n",
    "        #     3. get origin_qty\n",
    "        orig_qty_list = order_info_valid['주문수량'].tolist()\n",
    "\n",
    "        return exec_price_list, np.sum(exec_qty_list), np.sum(orig_qty_list)\n",
    "\n",
    "    def market_close_order_v2(self, order_no_list, open_exec_qty, **kwargs):\n",
    "\n",
    "        while 1:  # market reorder 를 위한 loop\n",
    "            _, tp_exec_qty, _ = self.cancel_order_list(kwargs['code'], kwargs['order_side'], order_no_list)\n",
    "\n",
    "            # ------------ get close_remain_quantity ------------ #\n",
    "            close_remain_quantity = open_exec_qty - tp_exec_qty\n",
    "\n",
    "            # ------------ get price, volume precision ------------ #\n",
    "            quantity_precision = 0\n",
    "            self.sys_log.info('quantity_precision : {}'.format(quantity_precision))\n",
    "\n",
    "            close_remain_quantity = self.calc_with_precision(close_remain_quantity, quantity_precision)\n",
    "            self.sys_log.info('close_remain_quantity : {}'.format(close_remain_quantity))\n",
    "\n",
    "            order_side = kwargs['order_side']\n",
    "            if order_side == \"BUY\":\n",
    "                order_side_number = 1\n",
    "            else:\n",
    "                order_side_number = 2\n",
    "\n",
    "            error_code = None\n",
    "            while 1:\n",
    "                try:\n",
    "                    self.send_order(\"MARKET\", self.screen_number, self.account_number,\n",
    "                                    order_side_number, kwargs['code'], kwargs['qty'], 0, \"03\", \"\")\n",
    "\n",
    "                except Exception as e:\n",
    "                    self.sys_log.error('error in market_close_order : {}'.format(e))\n",
    "\n",
    "                    # Todo, error_code 처리\n",
    "                    # ------------ check error codes ------------ #\n",
    "                    # ------ -2022 ReduceOnly Order is rejected ------ #\n",
    "                    # ------ -1111 : Precision is over the maximum defined for this asset ------ #\n",
    "                    return\n",
    "\n",
    "                else:\n",
    "                    # self.sys_log.info('limit_order enlisted. : {}'.format(datetime.now()))\n",
    "                    break\n",
    "\n",
    "            market_exec_price_list, market_exec_qty, market_orig_qty = self.cancel_order_list(kwargs['code'], kwargs['order_side'],\n",
    "                                                                                              [self.order_no], order_type=OrderType.MARKET)\n",
    "\n",
    "            if market_orig_qty - market_exec_qty < 1:  # Stock 특성상 quantity_precision = 0, devision by zero 발생해서 \"< 1\" 로 설정함.\n",
    "                self.sys_log.info('market close order executed')\n",
    "                self.sys_log.info(\"market_executedPrice_list : {}\".format(market_exec_price_list))\n",
    "                return market_exec_price_list\n",
    "            else:\n",
    "                # ------ complete close by market ------ #\n",
    "                self.sys_log.info('market_close reorder')\n",
    "                continue\n"
   ]
  },
  {
   "cell_type": "markdown",
   "id": "549e8665-c4d1-4a22-88c0-0e9dc5734dc6",
   "metadata": {
    "tags": [],
    "toc-hr-collapsed": true
   },
   "source": [
    "## login"
   ]
  },
  {
   "cell_type": "code",
   "execution_count": 4,
   "id": "c42665ea-d1d4-420f-bf5b-5873bc2b278d",
   "metadata": {},
   "outputs": [
    {
     "name": "stderr",
     "output_type": "stream",
     "text": [
      "D:\\anaconda3\\envs\\py38_32\\lib\\site-packages\\pywinauto\\__init__.py:71: UserWarning: Apply externally defined coinit_flags: 0\n",
      "  warnings.warn(\"Apply externally defined coinit_flags: {0}\"\n",
      "D:\\anaconda3\\envs\\py38_32\\lib\\site-packages\\pywinauto\\__init__.py:80: UserWarning: Revert to STA COM threading mode\n",
      "  warnings.warn(\"Revert to STA COM threading mode\", UserWarning)\n",
      "connected to Cybos server.\n",
      "on_receive_tr_data 실행: screen_no: 0102, request_name: 서버구분, tr_code: KOA_NORMAL_BUY_KP_ORD, record_name: , inquiry: \n",
      "self.order_no : \n",
      "실서버 연결 성공\n",
      "connected.\n",
      "connected to Cybos server.\n"
     ]
    }
   ],
   "source": [
    "from Bank.traders.bank_v2_3 import *\n",
    "\n",
    "# 0. input params.\n",
    "paper_name = \"wave_cci_wrr32\"\n",
    "# assert paper_name in os.path.basename(__file__)\n",
    "\n",
    "id_list = [1]\n",
    "\n",
    "bank = Bank(paper_name=paper_name, id_list=id_list, config_type=\"backtrade\", mode=\"IDEP_Bank\")"
   ]
  },
  {
   "cell_type": "markdown",
   "id": "7df04f3e-adc6-4c95-b5df-f8f5ab0d7786",
   "metadata": {},
   "source": [
    "## account_info"
   ]
  },
  {
   "cell_type": "code",
   "execution_count": 9,
   "id": "15a5d784-f7b7-4ad4-a2a7-eff59df67ca8",
   "metadata": {},
   "outputs": [
    {
     "name": "stdout",
     "output_type": "stream",
     "text": [
      "on_receive_tr_data 실행: screen_no: 0102, request_name: 서버구분, tr_code: KOA_NORMAL_BUY_KP_ORD, record_name: , inquiry: \n",
      "connected.\n"
     ]
    }
   ],
   "source": [
    "# bank = KiwoomModule2(None)\n",
    "bank = BankModule2(None)"
   ]
  },
  {
   "cell_type": "code",
   "execution_count": 25,
   "id": "c19be020-b17d-4d51-a635-ae46f1fc872f",
   "metadata": {},
   "outputs": [],
   "source": [
    "def get_account_info(self, **kwargs):\n",
    "        \n",
    "        for key, value in kwargs.items():\n",
    "            self.set_input_value(key, value)\n",
    "            # if value == \"비밀번호\":  # 비밀번호까지만 동일하게 입력\n",
    "            #     break\n",
    "        self.comm_rq_data(\"계좌평가잔고내역요청\", \"opw00018\", 0, self.screen_number)\n",
    "        while self.inquiry == '2':\n",
    "            for key, value in kwargs.items():\n",
    "                self.set_input_value(key, value)\n",
    "                # if value == \"비밀번호\":  # 비밀번호까지만 동일하게 입력\n",
    "                #     break\n",
    "            self.comm_rq_data(\"계좌평가잔고내역요청\", \"opw00018\", 0, self.screen_number)\n",
    "        \n",
    "        int_cols = [\"총매입금액\", \"총평가금액\", \"총평가손익금액\", \"총수익률(%)\", \"추정예탁자산\"]\n",
    "        for col in int_cols:\n",
    "            self.data_opw00018[\"account_evaluation\"][col] = self.data_opw00018[\"account_evaluation\"][col].astype(int)\n",
    "            if col == \"총수익률(%)\":\n",
    "                self.data_opw00018[\"account_evaluation\"][col] /= 100\n",
    "        \n",
    "        # stocks data 의 경우 종목명을 index 로 변경함 => tr_data 에 key 값으로 접근하기 편해짐\n",
    "        self.data_opw00018[\"stocks\"] = self.data_opw00018[\"stocks\"].set_index(\"종목명\")\n",
    "        int_cols = [\"보유수량\", \"매매가능수량\", \"매입가\", \"현재가\", \"평가손익\", \"수익률(%)\"]\n",
    "        for col in int_cols:\n",
    "            self.data_opw00018[\"stocks\"][col] = self.data_opw00018[\"stocks\"][col].astype(int)\n",
    "            if col == \"수익률(%)\":\n",
    "                self.data_opw00018[\"stocks\"][col] /= 100\n",
    "        \n",
    "        return self.data_opw00018[\"stocks\"]"
   ]
  },
  {
   "cell_type": "code",
   "execution_count": null,
   "id": "5956a1e2-b126-484f-8577-83a409cfaeb5",
   "metadata": {},
   "outputs": [],
   "source": [
    "account_info = get_account_info(bank, 계좌번호=bank.account_number)"
   ]
  },
  {
   "cell_type": "code",
   "execution_count": 33,
   "id": "011806e7-3cb6-4470-938a-00947eedc169",
   "metadata": {},
   "outputs": [
    {
     "data": {
      "text/plain": [
       "True"
      ]
     },
     "execution_count": 33,
     "metadata": {},
     "output_type": "execute_result"
    }
   ],
   "source": [
    "\"A\" + \"005160\" in account_info.종목번호.tolist()"
   ]
  },
  {
   "cell_type": "code",
   "execution_count": null,
   "id": "8aac8fc9-71bf-4158-af3e-0f55c1a19c99",
   "metadata": {},
   "outputs": [],
   "source": [
    "bank.get_account_info(계좌번호=bank.account_number, 비밀번호=bank.password)"
   ]
  },
  {
   "cell_type": "markdown",
   "id": "7b5426de-1dd2-41d1-bb41-0de82f1ae1b9",
   "metadata": {},
   "source": [
    "## get_available_balance"
   ]
  },
  {
   "cell_type": "code",
   "execution_count": 65,
   "id": "688aa360-29a9-4165-96a7-a3733844cc02",
   "metadata": {},
   "outputs": [
    {
     "name": "stdout",
     "output_type": "stream",
     "text": [
      "return_code : 0\n",
      "예수금상세현황요청 message : [100000] 조회가 완료되었습니다\n",
      "on_receive_tr_data 실행: screen_no: 2000, request_name: 예수금상세현황요청, tr_code: opw00001, record_name: , inquiry: \n",
      "<class 'int'>\n",
      "101596\n"
     ]
    }
   ],
   "source": [
    "available_balance = bank.get_available_balance(계좌번호=bank.account_number, 비밀번호=bank.password, 비밀번호입력매체구분=\"00\", 조회구분=\"3\")\n",
    "print(type(available_balance))\n",
    "print(available_balance)\n",
    "\n",
    "# available_balance, data_opw00018 = bank.get_available_balance(계좌번호=bank.account_number, 비밀번호=bank.password, 비밀번호입력매체구분=\"00\", 조회구분=\"3\")\n",
    "# available_balance, data_opw00018 = get_available_balance(bank, 계좌번호=bank.account_number, 비밀번호=bank.password, 비밀번호입력매체구분=\"00\", 조회구분=\"3\")\n",
    "\n",
    "# print(available_balance[\"d+2추정예수금\"].values[0])\n",
    "# for value in data_opw00018.values():\n",
    "#     print(value)"
   ]
  },
  {
   "cell_type": "markdown",
   "id": "af33d68f-d1de-45d2-9f4c-a7aada57f946",
   "metadata": {},
   "source": [
    "## realtime price"
   ]
  },
  {
   "cell_type": "code",
   "execution_count": 8,
   "id": "23cd009a-b2b0-4cf7-a60e-2547a6ea85fe",
   "metadata": {
    "scrolled": true,
    "tags": []
   },
   "outputs": [
    {
     "name": "stderr",
     "output_type": "stream",
     "text": [
      "on_receive_tr_data 실행: screen_no: 2000, request_name: 체결정보요청, tr_code: opt10003, record_name: , inquiry: 2\n",
      "self.order_no : \n"
     ]
    },
    {
     "name": "stdout",
     "output_type": "stream",
     "text": [
      "return_code : 0\n",
      "-32750\n"
     ]
    },
    {
     "name": "stderr",
     "output_type": "stream",
     "text": [
      "on_receive_tr_data 실행: screen_no: 2000, request_name: 체결정보요청, tr_code: opt10003, record_name: , inquiry: 2\n",
      "self.order_no : \n"
     ]
    },
    {
     "name": "stdout",
     "output_type": "stream",
     "text": [
      "return_code : 0\n",
      "-32750\n"
     ]
    },
    {
     "name": "stderr",
     "output_type": "stream",
     "text": [
      "on_receive_tr_data 실행: screen_no: 2000, request_name: 체결정보요청, tr_code: opt10003, record_name: , inquiry: 2\n",
      "self.order_no : \n"
     ]
    },
    {
     "name": "stdout",
     "output_type": "stream",
     "text": [
      "return_code : 0\n",
      "-32750\n"
     ]
    },
    {
     "name": "stderr",
     "output_type": "stream",
     "text": [
      "on_receive_tr_data 실행: screen_no: 2000, request_name: 체결정보요청, tr_code: opt10003, record_name: , inquiry: 2\n",
      "self.order_no : \n"
     ]
    },
    {
     "name": "stdout",
     "output_type": "stream",
     "text": [
      "return_code : 0\n",
      "-32750\n"
     ]
    },
    {
     "name": "stderr",
     "output_type": "stream",
     "text": [
      "on_receive_tr_data 실행: screen_no: 2000, request_name: 체결정보요청, tr_code: opt10003, record_name: , inquiry: 2\n",
      "self.order_no : \n"
     ]
    },
    {
     "name": "stdout",
     "output_type": "stream",
     "text": [
      "return_code : 0\n",
      "-32750\n"
     ]
    },
    {
     "ename": "KeyboardInterrupt",
     "evalue": "",
     "output_type": "error",
     "traceback": [
      "\u001b[1;31m---------------------------------------------------------------------------\u001b[0m",
      "\u001b[1;31mKeyboardInterrupt\u001b[0m                         Traceback (most recent call last)",
      "Cell \u001b[1;32mIn[8], line 3\u001b[0m\n\u001b[0;32m      1\u001b[0m \u001b[38;5;28;01mwhile\u001b[39;00m \u001b[38;5;241m1\u001b[39m:\n\u001b[0;32m      2\u001b[0m     \u001b[38;5;28mprint\u001b[39m(bank\u001b[38;5;241m.\u001b[39mget_market_price(종목코드\u001b[38;5;241m=\u001b[39m\u001b[38;5;124m\"\u001b[39m\u001b[38;5;124m090360\u001b[39m\u001b[38;5;124m\"\u001b[39m))\n\u001b[1;32m----> 3\u001b[0m     \u001b[43mtime\u001b[49m\u001b[38;5;241;43m.\u001b[39;49m\u001b[43msleep\u001b[49m\u001b[43m(\u001b[49m\u001b[38;5;241;43m0.5\u001b[39;49m\u001b[43m)\u001b[49m\n",
      "\u001b[1;31mKeyboardInterrupt\u001b[0m: "
     ]
    }
   ],
   "source": [
    "while 1:\n",
    "    print(bank.get_market_price(종목코드=\"090360\"))\n",
    "    time.sleep(0.5)"
   ]
  },
  {
   "cell_type": "markdown",
   "id": "6236abe1-b1fa-4b7f-be50-eb2cbd1865b3",
   "metadata": {
    "tags": []
   },
   "source": [
    "### real_data"
   ]
  },
  {
   "cell_type": "code",
   "execution_count": 5,
   "id": "906f9964-7eb9-48a3-993e-41d35ce9a206",
   "metadata": {},
   "outputs": [
    {
     "name": "stdout",
     "output_type": "stream",
     "text": [
      "on_receive_tr_data 실행: screen_no: 0102, request_name: 서버구분, tr_code: KOA_NORMAL_BUY_KP_ORD, record_name: , inquiry: \n",
      "connected.\n"
     ]
    }
   ],
   "source": [
    "bank_module = BankModule2(None)"
   ]
  },
  {
   "cell_type": "code",
   "execution_count": null,
   "id": "5e281ee0-d19f-439f-8409-21e980e67fc2",
   "metadata": {
    "scrolled": true,
    "tags": []
   },
   "outputs": [],
   "source": [
    "\"\"\"\n",
    "use for realtime price\n",
    "\"\"\"     \n",
    "# def get_market_price_v2(self):\n",
    "#     while 1:\n",
    "#         res = self.connections[0].price\n",
    "#         if res is not None:\n",
    "#             return res\n",
    "\n",
    "        \n",
    "codes = \"317690;363260\" # 363260 317690\n",
    "codes = \"084180\" # 363260 317690\n",
    "code_list = codes.split(';')\n",
    "\n",
    "# codes = \"주식시세;\"\n",
    "# fids = \"10;9203;913\"\n",
    "fids = \"215;20;214\"\n",
    "real_reg_type = \"0\"\n",
    "screen_number = bank_module.screen_number\n",
    "\n",
    "bank_module.set_real_reg(screen_number, codes, fids, real_reg_type)\n",
    "\n",
    "while 1:\n",
    "    bank_module.set_real_reg(screen_number, codes, fids, real_reg_type)\n",
    "    print(\"bank_module.realtime_data :\", bank_module.realtime_data)\n",
    "    # bank.set_real_reg(screen_number, codes, fids, \"1\")\n",
    "    # for code in code_list:\n",
    "    #     bank.set_real_remove(screen_number, code)\n",
    "    time.sleep(0.4)\n",
    "    print(\"passed\")"
   ]
  },
  {
   "cell_type": "code",
   "execution_count": 17,
   "id": "684238c7-b546-40d0-8ee8-34bd5c096e71",
   "metadata": {},
   "outputs": [],
   "source": [
    "bank.disconnect_real_data(screen_number)    "
   ]
  },
  {
   "cell_type": "code",
   "execution_count": 8,
   "id": "f59c9d6b-fe45-41f1-8ef5-43feb58dbe1b",
   "metadata": {
    "scrolled": true,
    "tags": []
   },
   "outputs": [],
   "source": [
    "# while len(bank.realtime_price) != 0:\n",
    "for code in code_list:\n",
    "    bank.set_real_remove(screen_number, code)"
   ]
  },
  {
   "cell_type": "markdown",
   "id": "db135ad4-16be-4772-9029-f13c48c035ee",
   "metadata": {},
   "source": [
    "## precision (hoga_unit)"
   ]
  },
  {
   "cell_type": "code",
   "execution_count": 9,
   "id": "827106b0-aa83-4ac7-99a2-e906fa902d51",
   "metadata": {},
   "outputs": [
    {
     "data": {
      "text/plain": [
       "6890"
      ]
     },
     "execution_count": 9,
     "metadata": {},
     "output_type": "execute_result"
    }
   ],
   "source": [
    "bank.calc_with_hoga_unit(6888)\n",
    "# calc_with_precision(102.34, 0)"
   ]
  },
  {
   "cell_type": "code",
   "execution_count": 10,
   "id": "e8ba0569-1b8d-47f8-8122-401881ed0424",
   "metadata": {},
   "outputs": [
    {
     "name": "stdout",
     "output_type": "stream",
     "text": [
      "return_code : 0\n",
      "on_receive_tr_data 실행: screen_no: 2000, request_name: 주식호가요청, tr_code: opt10004, record_name: , inquiry: 0\n"
     ]
    },
    {
     "data": {
      "text/plain": [
       "10"
      ]
     },
     "execution_count": 10,
     "metadata": {},
     "output_type": "execute_result"
    }
   ],
   "source": [
    "# get_precision_by_price(kiwoom, 종목코드=\"254490\")\n",
    "bank.get_precision_by_price(종목코드=\"254490\")"
   ]
  },
  {
   "cell_type": "markdown",
   "id": "6c12358b-f3ef-40be-ae63-638e2c41948d",
   "metadata": {},
   "source": [
    "## get_order_info"
   ]
  },
  {
   "cell_type": "code",
   "execution_count": 6,
   "id": "89202a68-13f8-4ade-b044-81c0ddc38a3b",
   "metadata": {},
   "outputs": [],
   "source": [
    "def get_order_info(self, **kwargs):\n",
    "\n",
    "        \"\"\"\n",
    "        by 미체결요청\n",
    "            계좌번호 = 전문 조회할 보유계좌번호\n",
    "            전체종목구분 = 0:전체, 1:종목\n",
    "            매매구분 = 0:전체, 1:매도, 2:매수\n",
    "            종목코드 = 전문 조회할 종목코드 (공백허용, 공백입력시 전체종목구분 \"0\" 입력하여 전체 종목 대상으로 조회)\n",
    "            체결구분 = 0:전체, 2:체결, 1:미체결\n",
    "        \"\"\"\n",
    "\n",
    "        for key, value in kwargs.items():\n",
    "            self.set_input_value(key, value)\n",
    "        self.comm_rq_data(\"미체결요청\", \"opt10075\", 0, self.screen_number)\n",
    "\n",
    "        self.data_opt10075 = self.data_opt10075.set_index(\"주문번호\")\n",
    "        if len(self.data_opt10075) > 1:  # data validation\n",
    "            int_cols = [\"주문수량\", \"미체결수량\", \"체결가\", \"체결량\", \"현재가\"]\n",
    "            for col in int_cols:\n",
    "                self.data_opt10075[col] = self.data_opt10075[col].astype(int).abs()\n",
    "\n",
    "        return self.data_opt10075"
   ]
  },
  {
   "cell_type": "code",
   "execution_count": 27,
   "id": "81b7990f-c80f-4a63-adb3-a5560bf941d0",
   "metadata": {
    "scrolled": true,
    "tags": []
   },
   "outputs": [
    {
     "name": "stderr",
     "output_type": "stream",
     "text": [
      " message :  조회가 완료되었습니다.\n",
      "on_receive_tr_data 실행: screen_no: 2000, request_name: 미체결요청, tr_code: opt10075, record_name: , inquiry: 0\n",
      "self.order_no : \n"
     ]
    },
    {
     "name": "stdout",
     "output_type": "stream",
     "text": [
      "return_code : 0\n"
     ]
    }
   ],
   "source": [
    "# order_info = bank.get_order_info(계좌번호=bank.account_number, 전체종목구분=1, 매매구분=\"0\", 종목코드=\"352910\", 체결구분=\"0\")\n",
    "# order_info = bank.get_order_info(계좌번호=bank.account_number, 전체종목구분=0, 매매구분=\"0\", 종목코드=\"\", 체결구분=\"1\")\n",
    "order_info = get_order_info(bank, 계좌번호=bank.account_number, 전체종목구분=0, 매매구분=\"0\", 종목코드=\"\", 체결구분=\"0\")"
   ]
  },
  {
   "cell_type": "code",
   "execution_count": 24,
   "id": "125ebc68-7bf2-4229-8313-a23d8b686444",
   "metadata": {},
   "outputs": [],
   "source": [
    "order_info.iloc[0] = np.arange(9)"
   ]
  },
  {
   "cell_type": "code",
   "execution_count": 29,
   "id": "fe63f3dd-42d5-4a60-85eb-78947c3cf822",
   "metadata": {
    "scrolled": true,
    "tags": []
   },
   "outputs": [
    {
     "data": {
      "text/plain": [
       "Index(['종목코드', '종목명', '주문구분', '주문상태', '주문수량', '미체결수량', '체결가', '체결량', '현재가'], dtype='object')"
      ]
     },
     "execution_count": 29,
     "metadata": {},
     "output_type": "execute_result"
    }
   ],
   "source": [
    "# len(order_info)\n",
    "# order_info.values\n",
    "order_info.iloc[0, 0]\n",
    "# '' not in order_info.values\n",
    "order_info.columns"
   ]
  },
  {
   "cell_type": "code",
   "execution_count": 37,
   "id": "4d4c545b-0914-40ae-a7a6-659c9415c3c6",
   "metadata": {},
   "outputs": [
    {
     "data": {
      "text/plain": [
       "['005160']"
      ]
     },
     "execution_count": 37,
     "metadata": {},
     "output_type": "execute_result"
    }
   ],
   "source": [
    "order_info.종목코드.tolist()"
   ]
  },
  {
   "cell_type": "code",
   "execution_count": 45,
   "id": "0a75a0e6-7382-4820-bb69-9a5db8a561a9",
   "metadata": {},
   "outputs": [
    {
     "data": {
      "text/plain": [
       "[1, 2, '']"
      ]
     },
     "execution_count": 45,
     "metadata": {},
     "output_type": "execute_result"
    }
   ],
   "source": [
    "t_list = [1, 2, 3]\n",
    "for t_i, v in enumerate(t_list):\n",
    "    if t_i > 1:\n",
    "        t_list[t_i] = \"\"\n",
    "# t_list[:2] = 1 #\" \"\n",
    "t_list"
   ]
  },
  {
   "cell_type": "code",
   "execution_count": 39,
   "id": "3fe191dd-3a01-43b2-b9c2-010df1be5c7f",
   "metadata": {},
   "outputs": [
    {
     "data": {
      "text/plain": [
       "[]"
      ]
     },
     "execution_count": 39,
     "metadata": {},
     "output_type": "execute_result"
    }
   ],
   "source": [
    "order_info2 = order_info.drop(\"0419314\")\n",
    "len(order_info2)\n",
    "order_info2.종목코드.tolist()"
   ]
  },
  {
   "cell_type": "code",
   "execution_count": 7,
   "id": "7215e7a8-cea7-4e82-bd4e-5a2699e7359d",
   "metadata": {},
   "outputs": [
    {
     "data": {
      "text/plain": [
       "1"
      ]
     },
     "execution_count": 7,
     "metadata": {},
     "output_type": "execute_result"
    }
   ],
   "source": [
    "# order_info.loc[[\"0032321\"]][\"체결량\"]#.tolist()\n",
    "len(order_info)"
   ]
  },
  {
   "cell_type": "code",
   "execution_count": 9,
   "id": "6c273c07-030a-41fd-97a0-d02ec4c4027f",
   "metadata": {},
   "outputs": [
    {
     "data": {
      "text/plain": [
       "[]"
      ]
     },
     "execution_count": 9,
     "metadata": {},
     "output_type": "execute_result"
    }
   ],
   "source": [
    "# order_info.loc[:, \"종목명\"]# == \"대한그린파워\"\n",
    "order_info.loc[[]]['체결가'].tolist()\n",
    "\n",
    "# order_info.index[order_info.종목명 == \"대한그린파워\"].tolist() #.values\n",
    "# order_info.index[(order_info.종목코드 == \"060900\") & (order_info.주문상태 == \"접수\") & (order_info.주문구분 == \"-매도\")].tolist() #.values\n",
    "# order_info.index[order_info.주문상태 == \"접수\"].tolist() #.values"
   ]
  },
  {
   "cell_type": "code",
   "execution_count": 45,
   "id": "a60f70a9-a1ef-46c9-8894-1a6baad98bf8",
   "metadata": {},
   "outputs": [
    {
     "name": "stdout",
     "output_type": "stream",
     "text": [
      "['0252061' '0245284']\n"
     ]
    },
    {
     "data": {
      "text/plain": [
       "pandas.core.frame.DataFrame"
      ]
     },
     "execution_count": 45,
     "metadata": {},
     "output_type": "execute_result"
    }
   ],
   "source": [
    "order_no_arr = np.array([\"0252061\", \"0245284\"]) #.ravel()\n",
    "order_no_arr = order_no_arr[np.where(order_no_arr != \"\")[0]] #.dtype(str)\n",
    "print(order_no_arr)\n",
    "# order_no_arr\n",
    "\n",
    "# order_info_valid = order_info.loc[[[\"0252061\"]]]\n",
    "# order_info.loc[order_no_arr]\n",
    "type(order_info.loc[['0252061']])\n",
    "# pd.DataFrame(order_info.loc['0252061']).loc['0252061']\n",
    "# np.sum(1)\n",
    "\n",
    "# len(order_info.loc['0252061'])\n",
    "# type(order_info.loc['0252061'])# == pd.core.series.Series#.loc['0252061']\n",
    "# order_info_valid.loc[order_no_arr]"
   ]
  },
  {
   "cell_type": "code",
   "execution_count": 7,
   "id": "81fdfb36-f707-47b4-a177-7f5071f69561",
   "metadata": {},
   "outputs": [],
   "source": [
    "# order_info[\"현재가\"]\n",
    "order_info_valid = order_info.loc[['0145761']]\n",
    "order_info_valid = order_info.loc['0145761']\n",
    "# order_info_valid[\"현재가\"][0] #.values\n",
    "# if order_info_valid[\"현재가\"].values > 1:\n",
    "#     print(\"ok\")"
   ]
  },
  {
   "cell_type": "code",
   "execution_count": 15,
   "id": "d69d55ec-03b4-415a-97b1-2ebdf9dde145",
   "metadata": {},
   "outputs": [
    {
     "name": "stdout",
     "output_type": "stream",
     "text": [
      "<class 'pandas.core.frame.DataFrame'>\n",
      "<class 'pandas.core.series.Series'>\n"
     ]
    },
    {
     "data": {
      "text/plain": [
       "False"
      ]
     },
     "execution_count": 15,
     "metadata": {},
     "output_type": "execute_result"
    }
   ],
   "source": [
    "open_order_info_valid = order_info.loc[['0145761']]\n",
    "print(type(open_order_info_valid))\n",
    "\n",
    "# open_order_info_valid = order_info.loc['0145761']\n",
    "open_exec_series = open_order_info_valid['체결량'] / open_order_info_valid['주문수량'] >= 0.97# | (open_order_info_valid['주문상태'] == \"체결\")\n",
    "print(type(open_exec_series))\n",
    "\n",
    "open_exec_series[0]"
   ]
  },
  {
   "cell_type": "code",
   "execution_count": 58,
   "id": "4772298d-8031-49bd-80ca-05df7a9e6e5a",
   "metadata": {},
   "outputs": [
    {
     "data": {
      "text/plain": [
       "2065"
      ]
     },
     "execution_count": 58,
     "metadata": {},
     "output_type": "execute_result"
    }
   ],
   "source": [
    "order_info_valid['현재가'].loc['0252061']"
   ]
  },
  {
   "cell_type": "code",
   "execution_count": 28,
   "id": "9a16bd54-70c1-43a3-b844-4fee35de7d28",
   "metadata": {},
   "outputs": [
    {
     "ename": "SyntaxError",
     "evalue": "invalid syntax (231893459.py, line 5)",
     "output_type": "error",
     "traceback": [
      "\u001b[1;36m  Cell \u001b[1;32mIn[28], line 5\u001b[1;36m\u001b[0m\n\u001b[1;33m    exec_series =\u001b[0m\n\u001b[1;37m                  ^\u001b[0m\n\u001b[1;31mSyntaxError\u001b[0m\u001b[1;31m:\u001b[0m invalid syntax\n"
     ]
    }
   ],
   "source": [
    "# order_info['종목코드'] == \"\"\n",
    "# i_arr = np.array([[\"0059397\", \"0059397\"], [\"0059397\", \"0059397\"]])\n",
    "np.sum(order_info.loc[[\"0059397\", \"0059397\", \"0059397\"]]['체결량'])\n",
    "\n",
    "exec_series = \n",
    "exec_series[close_exec_series == 1][\"체결가\"].tolist()"
   ]
  },
  {
   "cell_type": "code",
   "execution_count": 31,
   "id": "e5802ed5-8b68-4e98-91c7-1ca5ad29a6d3",
   "metadata": {},
   "outputs": [
    {
     "data": {
      "text/plain": [
       "[6030, 6030]"
      ]
     },
     "execution_count": 31,
     "metadata": {},
     "output_type": "execute_result"
    }
   ],
   "source": [
    "# order_info.loc[\"0235935\"] = [\"352910\", \"오비고\", \"확인\", 100, 0, 12500, 100, 13910]\n",
    "# order_info.loc[\"0341555\"] = [\"352910\", \"오비고\", \"확인\", 100, 0, 12600, 100, 13910]\n",
    "\n",
    "\n",
    "order_no_list =[\"0059397\", \"0059397\", \"0356089\"]\n",
    "order_no_arr = np.array(order_no_list)\n",
    "order_no_arr = order_no_arr[np.where(order_no_arr != \"\")[0]]\n",
    "order_info_valid = order_info.loc[order_no_arr]\n",
    "\n",
    "order_info_valid[[\"체결량\", \"주문수량\"]] #.tolist()\n",
    "order_exec_check = order_info_valid[\"주문수량\"] - order_info_valid[\"체결량\"] == 0#.tolist()\n",
    "np.sum(order_exec_check), len(order_exec_check)\n",
    "\n",
    "order_info_valid[order_exec_check == 1]['체결가'].tolist()\n",
    "# open_exec_list =(order_info_valid['체결량'] / order_info_valid['주문수량'] >= 0.97) | (order_info_valid['주문상태'] == \"체결\")\n",
    "\n",
    "# exec_price_list = [exec_price for exec_price, executed in zip(order_info_valid[\"체결가\"], order_exec_check) if executed]\n",
    "# exec_price_list"
   ]
  },
  {
   "cell_type": "code",
   "execution_count": 62,
   "id": "ef87179f-4366-4e59-9018-f1160875d545",
   "metadata": {},
   "outputs": [
    {
     "ename": "NameError",
     "evalue": "name 'order_info_valid' is not defined",
     "output_type": "error",
     "traceback": [
      "\u001b[1;31m---------------------------------------------------------------------------\u001b[0m",
      "\u001b[1;31mNameError\u001b[0m                                 Traceback (most recent call last)",
      "Cell \u001b[1;32mIn[62], line 1\u001b[0m\n\u001b[1;32m----> 1\u001b[0m \u001b[43morder_info_valid\u001b[49m\n",
      "\u001b[1;31mNameError\u001b[0m: name 'order_info_valid' is not defined"
     ]
    }
   ],
   "source": [
    "order_info_valid"
   ]
  },
  {
   "cell_type": "code",
   "execution_count": 8,
   "id": "ea5a34da-3f6d-4f51-a9ba-f2582e911ec9",
   "metadata": {},
   "outputs": [
    {
     "ename": "NameError",
     "evalue": "name 'open_exec_list' is not defined",
     "output_type": "error",
     "traceback": [
      "\u001b[1;31m---------------------------------------------------------------------------\u001b[0m",
      "\u001b[1;31mNameError\u001b[0m                                 Traceback (most recent call last)",
      "Cell \u001b[1;32mIn[8], line 1\u001b[0m\n\u001b[1;32m----> 1\u001b[0m \u001b[43mopen_exec_list\u001b[49m[[\u001b[38;5;124m\"\u001b[39m\u001b[38;5;124m0059397\u001b[39m\u001b[38;5;124m\"\u001b[39m, \u001b[38;5;124m\"\u001b[39m\u001b[38;5;124m0059397\u001b[39m\u001b[38;5;124m\"\u001b[39m]]\n",
      "\u001b[1;31mNameError\u001b[0m: name 'open_exec_list' is not defined"
     ]
    }
   ],
   "source": [
    "open_exec_list"
   ]
  },
  {
   "cell_type": "code",
   "execution_count": 47,
   "id": "8ffeafb7-be90-4636-8377-3cb5574a78a2",
   "metadata": {},
   "outputs": [
    {
     "data": {
      "text/plain": [
       "numpy.int32"
      ]
     },
     "execution_count": 47,
     "metadata": {},
     "output_type": "execute_result"
    }
   ],
   "source": [
    "type(order_info_valid['현재가'].loc[\"0235935\"])"
   ]
  },
  {
   "cell_type": "markdown",
   "id": "82e5362e-3adb-4a36-a973-d02b94404a60",
   "metadata": {},
   "source": [
    "### check_open_exec_qty"
   ]
  },
  {
   "cell_type": "code",
   "execution_count": null,
   "id": "391bd73b-deeb-4aae-88a2-474804d8199b",
   "metadata": {},
   "outputs": [],
   "source": [
    "def check_open_exec_qty(self, order_no):       \n",
    "    \"\"\"\n",
    "    1. breakout_gty_ratio\n",
    "        a. exec_open_qty 와 open_quantity 의 ratio 비교\n",
    "        b. realtime_term 에 delay 주지 않기 위해, term 설정\n",
    "    2. 이걸 설정 안해주면 체결되도 close_order 진행 안됨\n",
    "    \"\"\"\n",
    "    \n",
    "    order_info = self.get_order_info(계좌번호=self.account_number, 전체종목구분=0, 매매구분=\"0\", 종목코드=\"\", 체결구분=\"0\")    \n",
    "    order_info_valid = order_info.loc[order_no]\n",
    "    open_exec = order_info_valid['체결량'] / order_info_valid['주문수량'] >= self.config.trader_set.open_exec_qty_ratio \n",
    "                or order_info_valid['주문상태'] == \"체결\"\n",
    "    return open_exec    "
   ]
  },
  {
   "cell_type": "code",
   "execution_count": 12,
   "id": "4f74b415-9dc0-420a-a58c-449bb548067a",
   "metadata": {},
   "outputs": [
    {
     "name": "stdout",
     "output_type": "stream",
     "text": [
      "return_code : 0\n",
      "on_receive_tr_data 실행: screen_no: 2000, request_name: 미체결요청, tr_code: opt10075, record_name: , inquiry: 0\n"
     ]
    },
    {
     "ename": "AttributeError",
     "evalue": "'NoneType' object has no attribute 'trader_set'",
     "output_type": "error",
     "traceback": [
      "\u001b[1;31m---------------------------------------------------------------------------\u001b[0m",
      "\u001b[1;31mAttributeError\u001b[0m                            Traceback (most recent call last)",
      "Cell \u001b[1;32mIn[12], line 1\u001b[0m\n\u001b[1;32m----> 1\u001b[0m \u001b[43mbank_module\u001b[49m\u001b[38;5;241;43m.\u001b[39;49m\u001b[43mcheck_open_exec_qty\u001b[49m\u001b[43m(\u001b[49m\u001b[38;5;124;43m\"\u001b[39;49m\u001b[38;5;124;43m0341555\u001b[39;49m\u001b[38;5;124;43m\"\u001b[39;49m\u001b[43m)\u001b[49m\n",
      "Cell \u001b[1;32mIn[4], line 82\u001b[0m, in \u001b[0;36mBankModule.check_open_exec_qty\u001b[1;34m(self, order_no)\u001b[0m\n\u001b[0;32m     80\u001b[0m order_info \u001b[38;5;241m=\u001b[39m \u001b[38;5;28mself\u001b[39m\u001b[38;5;241m.\u001b[39mget_order_info(계좌번호\u001b[38;5;241m=\u001b[39m\u001b[38;5;28mself\u001b[39m\u001b[38;5;241m.\u001b[39maccount_number, 전체종목구분\u001b[38;5;241m=\u001b[39m\u001b[38;5;241m0\u001b[39m, 매매구분\u001b[38;5;241m=\u001b[39m\u001b[38;5;124m\"\u001b[39m\u001b[38;5;124m0\u001b[39m\u001b[38;5;124m\"\u001b[39m, 종목코드\u001b[38;5;241m=\u001b[39m\u001b[38;5;124m\"\u001b[39m\u001b[38;5;124m\"\u001b[39m, 체결구분\u001b[38;5;241m=\u001b[39m\u001b[38;5;124m\"\u001b[39m\u001b[38;5;124m0\u001b[39m\u001b[38;5;124m\"\u001b[39m)    \n\u001b[0;32m     81\u001b[0m order_info_valid \u001b[38;5;241m=\u001b[39m order_info\u001b[38;5;241m.\u001b[39mloc[order_no]\n\u001b[1;32m---> 82\u001b[0m open_exec \u001b[38;5;241m=\u001b[39m order_info_valid[\u001b[38;5;124m'\u001b[39m\u001b[38;5;124m체결량\u001b[39m\u001b[38;5;124m'\u001b[39m] \u001b[38;5;241m/\u001b[39m order_info_valid[\u001b[38;5;124m'\u001b[39m\u001b[38;5;124m주문수량\u001b[39m\u001b[38;5;124m'\u001b[39m] \u001b[38;5;241m>\u001b[39m\u001b[38;5;241m=\u001b[39m \u001b[38;5;28;43mself\u001b[39;49m\u001b[38;5;241;43m.\u001b[39;49m\u001b[43mconfig\u001b[49m\u001b[38;5;241;43m.\u001b[39;49m\u001b[43mtrader_set\u001b[49m\u001b[38;5;241m.\u001b[39mopen_exec_qty_ratio \\\n\u001b[0;32m     83\u001b[0m             \u001b[38;5;129;01mor\u001b[39;00m order_info_valid[\u001b[38;5;124m'\u001b[39m\u001b[38;5;124m주문상태\u001b[39m\u001b[38;5;124m'\u001b[39m] \u001b[38;5;241m==\u001b[39m \u001b[38;5;124m\"\u001b[39m\u001b[38;5;124m체결\u001b[39m\u001b[38;5;124m\"\u001b[39m\n\u001b[0;32m     84\u001b[0m \u001b[38;5;28;01mreturn\u001b[39;00m open_exec\n",
      "\u001b[1;31mAttributeError\u001b[0m: 'NoneType' object has no attribute 'trader_set'"
     ]
    }
   ],
   "source": [
    "bank.check_open_exec_qty(\"0341555\")"
   ]
  },
  {
   "cell_type": "markdown",
   "id": "e015ffcb-c49f-44d2-98b6-eced57a2b9e6",
   "metadata": {},
   "source": [
    "### check_limit_tp_exec"
   ]
  },
  {
   "cell_type": "code",
   "execution_count": null,
   "id": "e4814f0f-7448-45fd-a66d-1287f61b0201",
   "metadata": {},
   "outputs": [],
   "source": [
    "def check_limit_tp_exec(self, order_no_list, quantity_precision):\n",
    "\n",
    "    all_executed = 0    \n",
    "    order_info = self.get_order_info(계좌번호=self.account_number, 전체종목구분=0, 매매구분=\"0\", 종목코드=\"\", 체결구분=\"0\")\n",
    "        \n",
    "    #     1. order_no_list 의 \"\" (공백) 에 대한 무결성 검증해야함. (loc 접근할때 안되니까)\n",
    "    #         a. 입력되는 order_no_list 에 공백만 존재할 수는 없다고 어느정도 가정한 상황임.\n",
    "    order_no_arr = np.array(order_no_list)\n",
    "    order_no_arr = order_no_arr[np.where(order_no_arr != \"\")[0]]\n",
    "    \n",
    "    order_info_valid = order_info.loc[order_no_arr]\n",
    "    order_exec_check = order_info_valid[\"주문수량\"] - order_info_valid[\"체결량\"] == 0\n",
    "\n",
    "    # 손매매로 인한 order_info.status == EXPIRED 는 고려 대상이 아님. (손매매 이왕이면 하지 말라는 이야기)\n",
    "    if np.sum(order_exec_check) == len(order_exec_check):\n",
    "        self.sys_log.info('all limit tp order executed')\n",
    "        all_executed = 1\n",
    "    \n",
    "    exec_price_list = [exec_price for exec_price, executed in zip(order_info_valid[\"체결가\"], order_exec_check) if executed]\n",
    "    return all_executed, exec_price_list"
   ]
  },
  {
   "cell_type": "code",
   "execution_count": 13,
   "id": "822e8e48-9120-4b85-aef9-4f1d949cc0f8",
   "metadata": {},
   "outputs": [
    {
     "name": "stdout",
     "output_type": "stream",
     "text": [
      "return_code : 0\n",
      "on_receive_tr_data 실행: screen_no: 2000, request_name: 미체결요청, tr_code: opt10075, record_name: , inquiry: 0\n"
     ]
    },
    {
     "data": {
      "text/plain": [
       "(0, [])"
      ]
     },
     "execution_count": 13,
     "metadata": {},
     "output_type": "execute_result"
    }
   ],
   "source": [
    "bank.check_limit_tp_exec([\"0341555\"], 0)"
   ]
  },
  {
   "cell_type": "markdown",
   "id": "2fac1916-e506-4146-b84a-e0d24f3a38c8",
   "metadata": {},
   "source": [
    "## order"
   ]
  },
  {
   "cell_type": "code",
   "execution_count": 20,
   "id": "7ac1eda3-6eea-4169-976d-b2dca2852b6e",
   "metadata": {},
   "outputs": [
    {
     "name": "stdout",
     "output_type": "stream",
     "text": [
      "LIMIT message : [571551] 주문단가가 상한가를 초과합니다.\n",
      "on_receive_tr_data 실행: screen_no: 2000, request_name: LIMIT, tr_code: KOA_NORMAL_BUY_KQ_ORD, record_name: , inquiry: \n"
     ]
    },
    {
     "data": {
      "text/plain": [
       "('', None, 0)"
      ]
     },
     "execution_count": 20,
     "metadata": {},
     "output_type": "execute_result"
    }
   ],
   "source": [
    "# order_info = None\n",
    "# limit_order(bank, code=\"352910\", order_side=\"BUY\", qty=1, price=13200)\n",
    "# bank.limit_order(code=\"005160\", order_side=\"BUY\", qty=1, price=30) # [107066] 매수주문이 완료되었습니다. [107066] 매수주문이 완료되었습니다. [571552] 주문단가가 하한가보다 낮습니다.\n",
    "bank.limit_order(code=\"005160\", order_side=\"SELL\", qty=1, price=8000) # [107066] 매수주문이 완료되었습니다. [107066] 매수주문이 완료되었습니다. [800033] 매도가능수량이 부족합니다. 0주 매도가능 [107048] 매도주문이 완료되었습니다. [571551] 주문단가가 상한가를 초과합니다."
   ]
  },
  {
   "cell_type": "code",
   "execution_count": 8,
   "id": "42ec009b-0024-4dd1-a289-ec32595caa4d",
   "metadata": {},
   "outputs": [
    {
     "name": "stderr",
     "output_type": "stream",
     "text": [
      "on_receive_tr_data 실행: screen_no: 2000, request_name: LIMIT, tr_code: KOA_NORMAL_SELL_KQ_ORD, record_name: , inquiry: \n",
      "self.order_no : 0274331\n"
     ]
    },
    {
     "name": "stdout",
     "output_type": "stream",
     "text": [
      "partial_qty : 8\n"
     ]
    }
   ],
   "source": [
    "order_no_list, error_code = bank.partial_limit_order_v4(\"095910\", [3840], [1], \n",
    "                                                        \"SELL\", 8, 0)"
   ]
  },
  {
   "cell_type": "code",
   "execution_count": 22,
   "id": "7c370599-15b1-42f5-9084-a5e1202b4ab4",
   "metadata": {},
   "outputs": [
    {
     "name": "stdout",
     "output_type": "stream",
     "text": [
      " message : [571412] 원주문내역이 존재하지 않습니다\n",
      "on_receive_tr_data 실행: screen_no: 2000, request_name: , tr_code: KOA_NORMAL_KQ_CANCEL, record_name: , inquiry: \n"
     ]
    },
    {
     "data": {
      "text/plain": [
       "''"
      ]
     },
     "execution_count": 22,
     "metadata": {},
     "output_type": "execute_result"
    }
   ],
   "source": [
    "code = \"352910\"\n",
    "close_side = \"SELL\"\n",
    "order_no_list = [\"0341555\", \"0341555\"]\n",
    "\n",
    "# # cancel_order(bank, code=code, order_side=close_side, origin_order_no=\"\")\n",
    "# cancel_order_list(bank, code, close_side, order_no_list, order_type=OrderType.LIMIT)\n",
    "\n",
    "bank.cancel_order(code=code, order_side=close_side, origin_order_no=\"0341555\")  # [571412] 원주문내역이 존재하지 않습니다\n",
    "# bank.cancel_order_list(code, close_side, order_no_list, order_type=OrderType.LIMIT)"
   ]
  },
  {
   "cell_type": "code",
   "execution_count": null,
   "id": "1eec41b0-d305-43fc-9716-eddff4df521d",
   "metadata": {},
   "outputs": [],
   "source": [
    "order_info"
   ]
  },
  {
   "cell_type": "code",
   "execution_count": 23,
   "id": "f8860ae5-a11b-4030-ba8e-b4c45d82a9ab",
   "metadata": {},
   "outputs": [
    {
     "name": "stdout",
     "output_type": "stream",
     "text": [
      "return_code : 0\n",
      " message :  조회가 완료되었습니다.\n",
      "on_receive_tr_data 실행: screen_no: 2000, request_name: 미체결요청, tr_code: opt10075, record_name: , inquiry: 0\n",
      "MARKET message : [800033] 매도가능수량이 부족합니다. 0주 매도가능\n",
      "on_receive_tr_data 실행: screen_no: 2000, request_name: MARKET, tr_code: KOA_NORMAL_SELL_KQ_ORD, record_name: , inquiry: \n"
     ]
    }
   ],
   "source": [
    "order_info = bank.get_order_info(계좌번호=bank.account_number, 전체종목구분=0, 매매구분=\"0\", 종목코드=\"\", 체결구분=\"0\")\n",
    "\n",
    "code= \"121850\"\n",
    "# qty = 1\n",
    "open_side = \"BUY\"\n",
    "close_side = \"SELL\"\n",
    "order_no = \"0483621\"\n",
    "order_no_list = [order_no]\n",
    "\n",
    "# bank.cancel_order(code=code, order_side=close_side, origin_order_no=order_no)\n",
    "bank.send_order(\"MARKET\", bank.screen_number, bank.account_number,\n",
    "                                    2, code, 2, 0, \"03\", \"\")\n",
    "# bank.market_close_order_v3(order_no_list, order_info, code=code, order_side=close_side)\n",
    "# market_close_order_v3(bank, order_no_list, order_info, code=code, order_side=close_side)"
   ]
  },
  {
   "cell_type": "code",
   "execution_count": 17,
   "id": "59c0b42d-64be-4fcc-8ed3-07062df2c8d1",
   "metadata": {},
   "outputs": [
    {
     "name": "stdout",
     "output_type": "stream",
     "text": [
      "on_receive_tr_data 실행: screen_no: 2000, request_name: , tr_code: KOA_NORMAL_KQ_CANCEL, record_name: , inquiry: \n",
      "on_receive_tr_data 실행: screen_no: 2000, request_name: , tr_code: KOA_NORMAL_KQ_CANCEL, record_name: , inquiry: \n",
      "return_code : 0\n",
      "on_receive_tr_data 실행: screen_no: 2000, request_name: 미체결요청, tr_code: opt10075, record_name: , inquiry: 0\n",
      "on_receive_tr_data 실행: screen_no: 2000, request_name: MARKET, tr_code: KOA_NORMAL_SELL_KQ_ORD, record_name: , inquiry: \n",
      "return_code : 0\n",
      "on_receive_tr_data 실행: screen_no: 2000, request_name: 미체결요청, tr_code: opt10075, record_name: , inquiry: 0\n"
     ]
    },
    {
     "data": {
      "text/plain": [
       "[]"
      ]
     },
     "execution_count": 17,
     "metadata": {},
     "output_type": "execute_result"
    }
   ],
   "source": [
    "order_no_list = [\"0341555\", \"0341555\"]\n",
    "open_exec_qty = 15\n",
    "code = \"352910\"\n",
    "close_side = \"SELL\"\n",
    "open_exec_qty = 1\n",
    "\n",
    "# market_close_order(bank, order_no_list, open_exec_qty, code=code, order_side=close_side, qty=open_exec_qty)\n",
    "bank.market_close_order(order_no_list, open_exec_qty, code=code, order_side=close_side, qty=open_exec_qty)"
   ]
  },
  {
   "cell_type": "markdown",
   "id": "be095487-4af0-4033-bc83-49d142ab8af7",
   "metadata": {
    "tags": []
   },
   "source": [
    "## get ticker data"
   ]
  },
  {
   "cell_type": "markdown",
   "id": "c2cbf157-fbe5-45d7-b967-cbc1c62a11e0",
   "metadata": {},
   "source": [
    "### 분봉차트 조회요청"
   ]
  },
  {
   "cell_type": "code",
   "execution_count": null,
   "id": "23ea33ef-c274-4a51-a605-1ae0dc1b1973",
   "metadata": {},
   "outputs": [],
   "source": [
    "save_mode = 0\n",
    "\n",
    "code = \"352910\"\n",
    "date = \"2023-03-02\"\n",
    "database_path = 'D:\\\\Projects\\\\System_Trading\\\\JnQ\\\\database\\\\kiwoom\\\\non_cum'\n",
    "os.makedirs(os.path.join(database_path, date), exist_ok=True)\n",
    "\n",
    "\n",
    "try:\n",
    "    df_min_chart = bank.concat_candlestick(1, 종목코드=code, 틱범위=\"1\", 수정주가구분=\"0\")   \n",
    "    # df_min_chart = concat_candlestick(bank, 3, 종목코드=code, 틱범위=\"1\", 수정주가구분=\"0\")   \n",
    "    \n",
    "    # check save.\n",
    "    if save_mode:\n",
    "        data_save_name = \"{} {}.pkl\".format(date, code)\n",
    "        data_save_path = os.path.join(database_path, date, data_save_name)\n",
    "\n",
    "        new_df.to_pickle(data_save_path)\n",
    "        print(data_save_path, \"saved\")\n",
    "        \n",
    "except Exception as e:\n",
    "    print(\"error in concat_candlestick :\", e)\n",
    "    \n",
    "df_min_chart.head()  # 2023-02-16 13:48:00\n",
    "# df_min_chart.tail()"
   ]
  },
  {
   "cell_type": "code",
   "execution_count": 26,
   "id": "cae61bd4-9407-4fb0-91d6-a50dd78c2f07",
   "metadata": {},
   "outputs": [
    {
     "data": {
      "text/plain": [
       "DatetimeIndex(['2023-03-07 12:48:00', '2023-03-07 12:49:00', '2023-03-07 12:50:00', '2023-03-07 12:51:00', '2023-03-07 12:52:00', '2023-03-07 12:53:00', '2023-03-07 12:54:00', '2023-03-07 12:55:00', '2023-03-07 12:56:00', '2023-03-07 12:57:00',\n",
       "               ...\n",
       "               '2023-03-09 15:12:00', '2023-03-09 15:13:00', '2023-03-09 15:14:00', '2023-03-09 15:15:00', '2023-03-09 15:16:00', '2023-03-09 15:17:00', '2023-03-09 15:18:00', '2023-03-09 15:19:00', '2023-03-09 15:30:00', '2023-03-09 15:35:00'], dtype='datetime64[ns]', name='index', length=900, freq=None)"
      ]
     },
     "execution_count": 26,
     "metadata": {},
     "output_type": "execute_result"
    }
   ],
   "source": [
    "df_min_chart.loc[:, 'high'].index"
   ]
  },
  {
   "cell_type": "code",
   "execution_count": 22,
   "id": "d9d63463-bcb0-4221-b8fc-11d93865f429",
   "metadata": {},
   "outputs": [
    {
     "data": {
      "text/plain": [
       "[13810.0, 13800.0]"
      ]
     },
     "execution_count": 22,
     "metadata": {},
     "output_type": "execute_result"
    }
   ],
   "source": [
    "t_list = df_min_chart[['open', 'close']].head().values.tolist()\n",
    "t_list.extend( [[13810.0, 13800.0]])\n",
    "t_list[-1]\n",
    "# len()"
   ]
  },
  {
   "cell_type": "markdown",
   "id": "46cde502-b4eb-4a7d-a7ad-c9a0a464da00",
   "metadata": {},
   "source": [
    "### 전일대비등락률상위요청"
   ]
  },
  {
   "cell_type": "code",
   "execution_count": 5,
   "id": "fb8d6356-bbac-465e-b8e0-be3519785809",
   "metadata": {
    "scrolled": true,
    "tags": []
   },
   "outputs": [
    {
     "name": "stderr",
     "output_type": "stream",
     "text": [
      "on_receive_tr_data 실행: screen_no: 2000, request_name: 전일대비등락률상위요청, tr_code: opt10027, record_name: , inquiry: 2\n",
      "self.order_no : \n"
     ]
    },
    {
     "name": "stdout",
     "output_type": "stream",
     "text": [
      "return_code : 0\n"
     ]
    }
   ],
   "source": [
    "df_high_fluc = bank.get_high_fluc_than_day_before(시장구분=\"101\", 정렬구분=\"1\", 거래량조건=\"0000\", 종목조건=\"0\", \n",
    "                                                         신용조건=\"0\", 상하한포함=\"1\", 가격조건=\"0\", 거래대금조건=\"0\")"
   ]
  },
  {
   "cell_type": "markdown",
   "id": "d0b88dde-c4c4-4a0a-81ae-b7716e83e3e8",
   "metadata": {},
   "source": [
    "#### 상위 종목 데이터 수집"
   ]
  },
  {
   "cell_type": "code",
   "execution_count": 39,
   "id": "2241478b-9854-4d31-bcfd-4d84cf30da2f",
   "metadata": {
    "scrolled": true,
    "tags": []
   },
   "outputs": [
    {
     "ename": "AttributeError",
     "evalue": "'Series' object has no attribute '종목코드'",
     "output_type": "error",
     "traceback": [
      "\u001b[1;31m---------------------------------------------------------------------------\u001b[0m",
      "\u001b[1;31mAttributeError\u001b[0m                            Traceback (most recent call last)",
      "Cell \u001b[1;32mIn[39], line 15\u001b[0m\n\u001b[0;32m     13\u001b[0m     rank \u001b[38;5;241m=\u001b[39m pd\u001b[38;5;241m.\u001b[39mread_pickle(rank_save_path)\n\u001b[0;32m     14\u001b[0m \u001b[38;5;28;01melse\u001b[39;00m:\n\u001b[1;32m---> 15\u001b[0m     \u001b[43mdf_high_fluc\u001b[49m\u001b[38;5;241;43m.\u001b[39;49m\u001b[43m종목코드\u001b[49m\u001b[38;5;241m.\u001b[39mto_pickle(rank_save_path)\n\u001b[0;32m     16\u001b[0m     rank \u001b[38;5;241m=\u001b[39m  df_high_fluc\u001b[38;5;241m.\u001b[39m종목코드\n\u001b[0;32m     17\u001b[0m     \u001b[38;5;28mprint\u001b[39m(rank_save_path, \u001b[38;5;124m\"\u001b[39m\u001b[38;5;124msaved\u001b[39m\u001b[38;5;124m\"\u001b[39m)\n",
      "File \u001b[1;32mD:\\anaconda3\\envs\\py38_32\\lib\\site-packages\\pandas\\core\\generic.py:5902\u001b[0m, in \u001b[0;36mNDFrame.__getattr__\u001b[1;34m(self, name)\u001b[0m\n\u001b[0;32m   5895\u001b[0m \u001b[38;5;28;01mif\u001b[39;00m (\n\u001b[0;32m   5896\u001b[0m     name \u001b[38;5;129;01mnot\u001b[39;00m \u001b[38;5;129;01min\u001b[39;00m \u001b[38;5;28mself\u001b[39m\u001b[38;5;241m.\u001b[39m_internal_names_set\n\u001b[0;32m   5897\u001b[0m     \u001b[38;5;129;01mand\u001b[39;00m name \u001b[38;5;129;01mnot\u001b[39;00m \u001b[38;5;129;01min\u001b[39;00m \u001b[38;5;28mself\u001b[39m\u001b[38;5;241m.\u001b[39m_metadata\n\u001b[0;32m   5898\u001b[0m     \u001b[38;5;129;01mand\u001b[39;00m name \u001b[38;5;129;01mnot\u001b[39;00m \u001b[38;5;129;01min\u001b[39;00m \u001b[38;5;28mself\u001b[39m\u001b[38;5;241m.\u001b[39m_accessors\n\u001b[0;32m   5899\u001b[0m     \u001b[38;5;129;01mand\u001b[39;00m \u001b[38;5;28mself\u001b[39m\u001b[38;5;241m.\u001b[39m_info_axis\u001b[38;5;241m.\u001b[39m_can_hold_identifiers_and_holds_name(name)\n\u001b[0;32m   5900\u001b[0m ):\n\u001b[0;32m   5901\u001b[0m     \u001b[38;5;28;01mreturn\u001b[39;00m \u001b[38;5;28mself\u001b[39m[name]\n\u001b[1;32m-> 5902\u001b[0m \u001b[38;5;28;01mreturn\u001b[39;00m \u001b[38;5;28;43mobject\u001b[39;49m\u001b[38;5;241;43m.\u001b[39;49m\u001b[38;5;21;43m__getattribute__\u001b[39;49m\u001b[43m(\u001b[49m\u001b[38;5;28;43mself\u001b[39;49m\u001b[43m,\u001b[49m\u001b[43m \u001b[49m\u001b[43mname\u001b[49m\u001b[43m)\u001b[49m\n",
      "\u001b[1;31mAttributeError\u001b[0m: 'Series' object has no attribute '종목코드'"
     ]
    }
   ],
   "source": [
    "load_rank = 0\n",
    "save_mode = 1\n",
    "database_path = 'D:\\\\Projects\\\\System_Trading\\\\JnQ\\\\database\\\\kiwoom\\\\non_cum'\n",
    "date = \"2023-03-08\"  # \"2023-03-07\"  str(datetime.now()).split(\" \")[0]\n",
    "os.makedirs(os.path.join(database_path, date), exist_ok=True)\n",
    "\n",
    "exist_files = os.listdir(os.path.join(database_path, date))\n",
    "# print(exist_files)\n",
    "# break\n",
    "\n",
    "rank_save_path = os.path.join(database_path, date, \"rank.pkl\")    \n",
    "if load_rank: \n",
    "    rank = pd.read_pickle(rank_save_path)\n",
    "else:\n",
    "    rank =  df_high_fluc.종목코드\n",
    "    rank.to_pickle(rank_save_path)\n",
    "    print(rank_save_path, \"saved\")\n",
    "break\n",
    "\n",
    "for code in rank:    \n",
    "    try:\n",
    "        if save_mode:            \n",
    "            data_save_name = \"{} {}.pkl\".format(date, code)\n",
    "            if data_save_name in exist_files:\n",
    "                print(\"{} already in directory\".format(data_save_name))\n",
    "                continue\n",
    "        \n",
    "        df_min_chart = bank.concat_candlestick(50, 3.6, 종목코드=code, 틱범위=\"1\", 수정주가구분=\"0\")   \n",
    "\n",
    "        # 4. check save.\n",
    "        if save_mode:\n",
    "            data_save_path = os.path.join(database_path, date, data_save_name)\n",
    "            df_min_chart.to_pickle(data_save_path)\n",
    "            print(data_save_path, \"saved\")\n",
    "\n",
    "    except Exception as e:\n",
    "        print(e)        "
   ]
  },
  {
   "cell_type": "markdown",
   "id": "1f0a6a49-73b3-4005-b7b2-4da43b957554",
   "metadata": {
    "tags": []
   },
   "source": [
    "### 상하한가 요청"
   ]
  },
  {
   "cell_type": "code",
   "execution_count": 3,
   "id": "fcd4a589-4b04-4177-b313-ed508eb5b6fc",
   "metadata": {},
   "outputs": [
    {
     "name": "stdout",
     "output_type": "stream",
     "text": [
      "{'trcode': 'opt10017', 'input': [{'상하한가요청': ['시장구분', '상하한구분', '정렬구분', '종목조건', '거래량구분', '신용조건', '매매금구분']}], 'output': [{'상하한가': ['종목코드', '종목정보', '종목명', '현재가', '전일대비기호', '전일대비', '등락률', '거래량', '전일거래량', '매도잔량', '매도호가', '매수호가', '매수잔량', '횟수']}]}\n"
     ]
    }
   ],
   "source": [
    "'''\n",
    "시장구분 = 000:전체, 001:코스피, 101:코스닥\n",
    "상하한구분 = 1:상한, 2:상승, 3:보합, 4: 하한, 5:하락, 6:전일상한, 7:전일하한\n",
    "정렬구분 = 1:종목코드순, 2:연속횟수순(상위100개), 3:등락률순\n",
    "종목조건 = 0:전체조회,1:관리종목제외, 3:우선주제외, 4:우선주+관리종목제외, 5:증100제외, 6:증100만 보기, 7:증40만 보기, 8:증30만 보기, 9:증20만 보기, 10:우선주+관리종목+환기종목제외\n",
    "거래량구분 = 00000:전체조회, 00010:만주이상, 00050:5만주이상, 00100:10만주이상, 00150:15만주이상, 00200:20만주이상, 00300:30만주이상, 00500:50만주이상, 01000:백만주이상\n",
    "신용조건 = 0:전체조회, 1:신용융자A군, 2:신용융자B군, 3:신용융자C군, 4:신용융자D군, 9:신용융자전체\n",
    "매매금구분 = 0:전체조회, 1:1천원미만, 2:1천원~2천원, 3:2천원~3천원, 4:5천원~1만원, 5:1만원이상, 8:1천원이상\n",
    "'''\n",
    "\n",
    "trcode = \"opt10017\"\n",
    "market = \"001\"  # kospi\n",
    "updown = \"2\"\n",
    "sort = \"3\"\n",
    "ticker_cond = \"0\"\n",
    "volume_cond = \"0000\"\n",
    "debt_cond = \"0\"\n",
    "price_cond =\"0\"\n",
    "\n",
    "df = bank.block_request(trcode,\n",
    "                          시장구분=market,\n",
    "                          상하한구분=updown,\n",
    "                          정렬구분=sort,\n",
    "                          종목조건=ticker_cond,\n",
    "                          거래량구분=volume_cond,\n",
    "                          신용조건=debt_cond,\n",
    "                          매매금구분=price_cond,\n",
    "                          output=\"상하한가\",\n",
    "                          next=0)"
   ]
  },
  {
   "cell_type": "markdown",
   "id": "883e09b6-b2d4-4b89-8e9b-6805541e78c5",
   "metadata": {
    "tags": []
   },
   "source": [
    "### 가격급등락 요청"
   ]
  },
  {
   "cell_type": "code",
   "execution_count": 3,
   "id": "51125b2d-c523-4458-92db-9a64ceb9266a",
   "metadata": {},
   "outputs": [
    {
     "name": "stdout",
     "output_type": "stream",
     "text": [
      "{'trcode': 'opt10019', 'input': [{'가격급등락요청': ['시장구분', '등락구분', '시간구분', '시간', '거래량구분', '종목조건', '신용조건', '가격조건', '상하한포함']}], 'output': [{'가격급등락': ['종목코드', '종목분류', '종목명', '전일대비기호', '전일대비', '등락률', '기준가', '현재가', '기준대비', '거래량', '급등률']}]}\n"
     ]
    }
   ],
   "source": [
    "'''\n",
    "시장구분 = 000:전체, 001:코스피, 101:코스닥, 201:코스피200\n",
    "등락구분 = 1:급등, 2:급락\n",
    "시간구분 = 1:분전, 2:일전\n",
    "시간 = 분 혹은 일입력\n",
    "거래량구분 = 00000:전체조회, 00010:만주이상, 00050:5만주이상, 00100:10만주이상, 00150:15만주이상, 00200:20만주이상, 00300:30만주이상, 00500:50만주이상, 01000:백만주이상\n",
    "종목조건 = 0:전체조회,1:관리종목제외, 3:우선주제외, 5:증100제외, 6:증100만보기, 7:증40만보기, 8:증30만보기\n",
    "신용조건 = 0:전체조회, 1:신용융자A군, 2:신용융자B군, 3:신용융자C군, 4:신용융자D군, 9:신용융자전체\n",
    "가격조건 = 0:전체조회, 1:1천원미만, 2:1천원~2천원, 3:2천원~3천원, 4:5천원~1만원, 5:1만원이상, 8:1천원이상\n",
    "상하한포함 = 0:미포함, 1:포함\n",
    "'''\n",
    "\n",
    "trcode = \"opt10019\" # opt10001\"\n",
    "market = \"001\"  # kospi\n",
    "updown = \"1\"\n",
    "timeunit = \"2\"\n",
    "timeunit_cnt = \"1\"\n",
    "volume_cond = \"0000\"\n",
    "ticker_cond = \"0\"\n",
    "debt_cond = \"0\"\n",
    "price_cond =\"0\"\n",
    "limit_price_cond = \"0\"\n",
    "\n",
    "df = bank.block_request(trcode,\n",
    "                          시장구분=market,\n",
    "                          등락구분=updown,\n",
    "                          시간구분=timeunit,\n",
    "                          시간=timeunit_cnt,\n",
    "                          거래량구분=volume_cond,\n",
    "                          종목조건=ticker_cond,\n",
    "                          신용조건=debt_cond,\n",
    "                          가격조건=price_cond,\n",
    "                          상하한포함=limit_price_cond,\n",
    "                          output=\"가격급등락\",\n",
    "                          next=0)\n",
    "\n",
    "\n",
    "# kwargs = {\"종목코드\": code_str, \"output\": \"주식기본정보\", \"next\": 0}\n",
    "# df = bank.block_request(args=args)\n",
    "# df = bank.block_request(trcode, kwargs)\n",
    "\n",
    "# code_str = \"005930\""
   ]
  },
  {
   "cell_type": "markdown",
   "id": "e0040277-c6d4-497f-b6ab-299d53537806",
   "metadata": {
    "tags": []
   },
   "source": [
    "## get_master_code_name"
   ]
  },
  {
   "cell_type": "code",
   "execution_count": 5,
   "id": "32904fdf-b990-4e6e-b709-3704223770f3",
   "metadata": {},
   "outputs": [
    {
     "data": {
      "text/plain": [
       "'이스트아시아홀딩스'"
      ]
     },
     "execution_count": 5,
     "metadata": {},
     "output_type": "execute_result"
    }
   ],
   "source": [
    "bank.get_master_code_name(\"900110\")"
   ]
  },
  {
   "cell_type": "code",
   "execution_count": 69,
   "id": "e7e91356-d5cb-470f-9d14-76b5d8048f28",
   "metadata": {},
   "outputs": [
    {
     "data": {
      "text/plain": [
       "[['001540', '안국약품'],\n",
       " ['002680', '한탑'],\n",
       " ['002800', '신신제약'],\n",
       " ['017890', '한국알콜'],\n",
       " ['019550', 'SBI인베스트먼트'],\n",
       " ['023900', '풍국주정'],\n",
       " ['025770', '한국정보통신'],\n",
       " ['025880', '케이씨피드'],\n",
       " ['025950', '동신건설'],\n",
       " ['030960', '양지사'],\n",
       " ['032190', '다우데이타'],\n",
       " ['032580', '피델릭스'],\n",
       " ['032750', '삼진'],\n",
       " ['033050', '제이엠아이'],\n",
       " ['036010', '아비코전자'],\n",
       " ['036480', '대성미생물'],\n",
       " ['036930', '주성엔지니어링'],\n",
       " ['039610', '화성밸브'],\n",
       " ['040300', 'YTN'],\n",
       " ['042520', '한스바이오메드'],\n",
       " ['046070', '코다코'],\n",
       " ['049430', '코메론'],\n",
       " ['052330', '코텍'],\n",
       " ['054050', '농우바이오'],\n",
       " ['054670', '대한뉴팜'],\n",
       " ['054800', '아이디스홀딩스'],\n",
       " ['057880', '피에이치씨'],\n",
       " ['060560', '홈센타홀딩스'],\n",
       " ['066360', '체리부로'],\n",
       " ['066790', '씨씨에스'],\n",
       " ['072870', '메가스터디'],\n",
       " ['073540', '에프알텍'],\n",
       " ['078140', '대봉엘에스'],\n",
       " ['079650', '서산'],\n",
       " ['080010', '이상네트웍스'],\n",
       " ['080720', '한국유니온제약'],\n",
       " ['092870', '엑시콘'],\n",
       " ['094820', '일진파워'],\n",
       " ['095270', '웨이브일렉트로'],\n",
       " ['131220', '대한과학'],\n",
       " ['141000', '비아트론'],\n",
       " ['161570', 'THE MIDONG'],\n",
       " ['170920', '엘티씨'],\n",
       " ['171120', '라이온켐텍'],\n",
       " ['190650', '코리아에셋투자증권'],\n",
       " ['214680', '디알텍'],\n",
       " ['225590', '패션플랫폼'],\n",
       " ['226340', '본느'],\n",
       " ['241770', '메카로'],\n",
       " ['270660', '에브리봇'],\n",
       " ['290660', '네오펙트'],\n",
       " ['308100', '까스텔바작'],\n",
       " ['314140', '알피바이오'],\n",
       " ['317870', '엔바이오니아'],\n",
       " ['332290', '누보'],\n",
       " ['333050', '모코엠시스'],\n",
       " ['335870', '윙스풋'],\n",
       " ['353190', '휴럼'],\n",
       " ['361570', '알비더블유'],\n",
       " ['365590', '하이딥'],\n",
       " ['365900', '브이씨'],\n",
       " ['391710', '코닉오토메이션'],\n",
       " ['426670', '대신밸런스제12호스팩']]"
      ]
     },
     "execution_count": 69,
     "metadata": {},
     "output_type": "execute_result"
    }
   ],
   "source": [
    "\n",
    "with open(r\"D:\\Projects\\System_Trading\\JnQ_32bit\\Bank\\watch_code\\watch_code_only.pkl\", 'rb') as f:\n",
    "    watch_code_only = pickle.load(f)\n",
    "    \n",
    "watch_code = []\n",
    "for code in watch_code_only:\n",
    "    watch_code.append([code, bank.get_master_code_name(code)])\n",
    "    \n",
    "# with open(r\"D:\\Projects\\System_Trading\\JnQ_32bit\\Bank\\watch_code\\watch_code.pkl\", 'wb') as f:\n",
    "#     pickle.dump(watch_code, f)\n",
    "    \n",
    "watch_code"
   ]
  },
  {
   "cell_type": "markdown",
   "id": "361fcb5e-0199-426e-bd36-62e522deef5e",
   "metadata": {
    "tags": []
   },
   "source": [
    "## get ticker data by Creon"
   ]
  },
  {
   "cell_type": "code",
   "execution_count": 27,
   "id": "ebf3882a-fca5-4b1c-b8f3-ffa58c1683a7",
   "metadata": {},
   "outputs": [],
   "source": [
    "from funcs.public.broker import calc_rows_and_days\n",
    "import win32com.client\n",
    "from pywinauto import application\n",
    "import os\n",
    "import pandas as pd\n",
    "from ast import literal_eval\n",
    "import locale\n",
    "import pickle\n",
    "import logging\n",
    "from datetime import datetime\n",
    "import time\n",
    "locale.setlocale(locale.LC_ALL, 'ko_KR')\n",
    "\n",
    "\n",
    "class CybosModule:\n",
    "\n",
    "    def __init__(self):\n",
    "        self.CpCodeMgr = win32com.client.Dispatch(\"CpUtil.CpCodeMgr\")\n",
    "        self.StockChart = win32com.client.Dispatch(\"CpSysDib.StockChart\")\n",
    "        self.CpStatus = win32com.client.Dispatch(\"CpUtil.CpCybos\")\n",
    "\n",
    "        self.cybos_log = logging.getLogger('Cybos')\n",
    "\n",
    "        id = \"june7the\"\n",
    "        with open(r\"D:\\Projects\\System_Trading\\JnQ\\Bank\\api_keys\\daishin_june7the.pkl\", 'rb') as f:\n",
    "            secret_key = pickle.load(f)\n",
    "\n",
    "        self.connect_cybos(id, secret_key)\n",
    "\n",
    "    def kill_client(self):\n",
    "        self.cybos_log.warning(\"kill exist connection.\")\n",
    "        os.system('taskkill /IM ncStarter* /F /T')\n",
    "        os.system('taskkill /IM CpStart* /F /T')\n",
    "        os.system('taskkill /IM DibServer* /F /T')\n",
    "        # os.system('taskkill /IM cpstart.exe* /F /T')\n",
    "        # os.system('taskkill /IM ncfsys* /F /T')\n",
    "        os.system('wmic process where \"name like \\'%ncStarter%\\'\" call terminate')\n",
    "        os.system('wmic process where \"name like \\'%CpStart%\\'\" call terminate')\n",
    "        os.system('wmic process where \"name like \\'%DibServer%\\'\" call terminate')\n",
    "        # os.system('wmic process where \"name like \\'%cpstart.exe%\\'\" call terminate')\n",
    "        # os.system('wmic process where \"name like \\'%ncfsys%\\'\" call terminate')\n",
    "\n",
    "    def connect_cybos(self, id_, pwd):\n",
    "        if not self.connected_cybos():\n",
    "            self.disconnect_cybos()\n",
    "            self.kill_client()\n",
    "            self.cybos_log.warning(\"connect to a new Cybos server.\")\n",
    "            app = application.Application()\n",
    "            # cybos plus를 정보 조회로만 사용했기 때문에 인증서 비밀번호는 입력하지 않았다.\n",
    "            app.start(\n",
    "                'C:\\DAISHIN\\Starter\\\\ncStarter.exe /prj:cp /id:{id} /pwd:{pwd} /autostart'.format(id=id_, pwd=pwd)\n",
    "            )\n",
    "        else:\n",
    "            self.cybos_log.warning(\"connected to Cybos server.\")\n",
    "\n",
    "        # 1. wait for connection to be succeed.\n",
    "        while not self.connected_cybos():\n",
    "            self.cybos_log.warning(\"waiting for Cybos connection.\")\n",
    "            time.sleep(1)\n",
    "\n",
    "        return True\n",
    "\n",
    "    def connected_cybos(self):\n",
    "        if self.CpStatus.IsConnect == 0:\n",
    "            return False\n",
    "        else:\n",
    "            return True\n",
    "\n",
    "    def disconnect_cybos(self):\n",
    "        if self.connected_cybos():\n",
    "            self.CpStatus.PlusDisconnect()\n",
    "\n",
    "    # def waitForRequest(self):\n",
    "    #   remainCount = self.CpStatus.GetLimitRemainCount(1)\n",
    "    #   if remainCount <= 0:\n",
    "    #     time.sleep(self.CpStatus.LimitRequestRemainTime / 1000)\n",
    "\n",
    "    # 데이터 호출 후 대기 시간 확인 위함.\n",
    "    def check_remain_time(self):\n",
    "        remain_time = self.CpStatus.LimitRequestRemainTime\n",
    "        remain_cnt = self.CpStatus.GetLimitRemainCount(1)  # 시세 제한 갯수\n",
    "\n",
    "        if remain_cnt <= 0:\n",
    "            start_time = time.time()\n",
    "            while remain_cnt <= 0:\n",
    "                time.sleep(remain_time / 1000)\n",
    "                remain_cnt = self.CpStatus.GetLimitRemainCount(1)  # 시세 제한\n",
    "                remain_time = self.CpStatus.LimitRequestRemainTime\n",
    "            ellapsed = time.time() - start_time\n",
    "            self.cybos_log.warning(\"waiting for data request : {}\".format(ellapsed))\n",
    "\n",
    "    # 분, 틱 데이터 호출 Method\n",
    "    def concat_candlestick_cybos(self, stock_code, period, count=9999999, adjusted=0, show_detail=False):\n",
    "\n",
    "        # fromDate = self.CpCodeMgr.GetstockListedDate(stock_code)\n",
    "        data_array_price_volume = [0, 1, 2, 3, 4, 5, 8]\n",
    "        to_yyyymmdd = \"20191212\"\n",
    "        from_yyyymmdd = \"20211214\" # 2021-12-13\n",
    "        \n",
    "        self.StockChart.SetInputValue(0, stock_code)  # 종목코드\n",
    "        if to_yyyymmdd:\n",
    "            self.StockChart.SetInputValue(1, ord('1'))  # 요청 구분 '1': 기간, '2': 개수\n",
    "            self.StockChart.SetInputValue(2, from_yyyymmdd)  # To 날짜\n",
    "            self.StockChart.SetInputValue(3, to_yyyymmdd)  # From 날짜\n",
    "        elif count:\n",
    "            self.StockChart.SetInputValue(1, ord('2'))  # 개수로 받기\n",
    "            self.StockChart.SetInputValue(4, count)  # 조회 개수\n",
    "            \n",
    "        # self.StockChart.SetInputValue(1, ord('2'))  # 갯수로 받기\n",
    "        # self.StockChart.SetInputValue(4, count)  # 갯수\n",
    "        self.StockChart.SetInputValue(5, data_array_price_volume)  # 호출 데이터\n",
    "        self.StockChart.SetInputValue(6, ord('m'))  # 차트 구분 (분)\n",
    "        self.StockChart.SetInputValue(7, period)  # 분봉 단위\n",
    "        # self.StockChart.SetInputValue(9, ord('1'))  # 0 : 미수정주가 / 1 : 수정주가 사용\n",
    "        self.StockChart.SetInputValue(9, ord(str(adjusted)))  # 수정주가 사용\n",
    "\n",
    "        raw_data_column = ['date', 'time', 'open', 'high', 'low', 'close', 'volume']\n",
    "\n",
    "        receive_data = {}\n",
    "\n",
    "        for col in raw_data_column:\n",
    "            receive_data[col] = []\n",
    "\n",
    "        receive_count = 0\n",
    "\n",
    "        while count > receive_count:\n",
    "            self.StockChart.BlockRequest()  # 요청 후 응답 대기\n",
    "            self.check_remain_time()\n",
    "\n",
    "            receive_batch_len = self.StockChart.GetHeaderValue(3)  # 받아온 데이터 개수\n",
    "            receive_batch_len = min(receive_batch_len, count - receive_count)  # 정확히 count 개수만큼 받기 위함\n",
    "\n",
    "            for i in range(receive_batch_len):\n",
    "                for col_idx, col in enumerate(raw_data_column):\n",
    "                    receive_data[col].append(self.StockChart.GetDataValue(col_idx, i))\n",
    "\n",
    "            receive_count += receive_batch_len\n",
    "\n",
    "            if show_detail:\n",
    "                self.cybos_log.warning('{} / {}'.format(receive_count, count))\n",
    "\n",
    "            # 서버가 가진 모든 데이터를 요청한 경우 break.\n",
    "            if not self.StockChart.Continue:\n",
    "                break\n",
    "\n",
    "        # a. set index with date & time.\n",
    "        receive_data['index'] = list(map(lambda x, y: ('{}{:04}'.format(x, y)), receive_data['date'], receive_data['time']))\n",
    "\n",
    "        # b. to DataFrame\n",
    "        stock_raw_data = pd.DataFrame(receive_data, columns=['open', 'high', 'low', 'close', 'volume'], index=receive_data['index']).astype(float)\n",
    "\n",
    "        # c. sort index.\n",
    "        stock_raw_data.index = pd.to_datetime(stock_raw_data.index.astype(str))\n",
    "        stock_raw_data = stock_raw_data.sort_index()  # 마지막 행이 최신 데이터\n",
    "\n",
    "        return stock_raw_data\n",
    "\n",
    "    def get_new_df_cybos(self, code, api_term=0.3, calc_rows=True, mode=\"OPEN\"):\n",
    "\n",
    "        \"\"\"\n",
    "        v1 -> v2\n",
    "        Bank() 환경에 맞추어 return value 1개로 설정.\n",
    "        1. remove use_rows : 사용하지 않아서.\n",
    "        2. last row validation\n",
    "            a. 검수를 위해 지금은 continue 풀어놓음.\n",
    "        \"\"\"\n",
    "        while 1:\n",
    "            try:\n",
    "                row_list = literal_eval(self.config.trader_set.row_list)\n",
    "                if calc_rows:\n",
    "                    itv_list = literal_eval(self.config.trader_set.itv_list)\n",
    "                    rec_row_list = literal_eval(self.config.trader_set.rec_row_list)\n",
    "                    _, days = calc_rows_and_days(itv_list, row_list, rec_row_list, rows_per_request=900)\n",
    "                else:\n",
    "                    _, days = row_list[0], 1  # load_new_df3 사용 의도 = close, time logging\n",
    "                new_df_ = self.concat_candlestick_cybos(code, 1, 900, adjusted=0)\n",
    "\n",
    "                # new_df_ validity check (Stock 의 경우 59.999 초를 더해주어야함, timeindex 의 second = 0)\n",
    "                #    1. datetime timestamp() 의 기준은 second 임.\n",
    "                if datetime.timestamp(new_df_.index[-1]) + 59.999 < datetime.now().timestamp():\n",
    "                    self.cybos_log.warning(\"dataframe last row validation warning, last index : {}\".format(str(new_df_.index[-1])))\n",
    "                    # time.sleep(self.config.trader_set.api_term)\n",
    "                    # continue\n",
    "                if mode == \"OPEN\":\n",
    "                    self.cybos_log.info(\"complete new_df_'s time : {}\".format(datetime.now()))\n",
    "\n",
    "            except Exception as e:\n",
    "                self.cybos_log.error(\"error in get_new_df_cybos : {}\".format(e))\n",
    "                #        1. adequate term for retries\n",
    "                time.sleep(self.config.trader_set.api_term)\n",
    "                continue\n",
    "            else:\n",
    "                return new_df_  # 0 for load_new_df var.\n"
   ]
  },
  {
   "cell_type": "markdown",
   "id": "07fa5e28-54c3-4fdf-9d65-f13d91cced26",
   "metadata": {
    "tags": []
   },
   "source": [
    "### main"
   ]
  },
  {
   "cell_type": "code",
   "execution_count": 28,
   "id": "d2ae1ab9-28b0-4763-bc91-898e714f32a5",
   "metadata": {},
   "outputs": [
    {
     "name": "stderr",
     "output_type": "stream",
     "text": [
      "connected to Cybos server.\n"
     ]
    }
   ],
   "source": [
    "cybos = CybosModule()"
   ]
  },
  {
   "cell_type": "code",
   "execution_count": 29,
   "id": "296ccf61-06cc-456b-8c7f-7aede3a3ce94",
   "metadata": {
    "scrolled": true,
    "tags": []
   },
   "outputs": [
    {
     "name": "stderr",
     "output_type": "stream",
     "text": [
      "2856 / 9999999\n",
      "5712 / 9999999\n",
      "8568 / 9999999\n",
      "11424 / 9999999\n",
      "14280 / 9999999\n",
      "17136 / 9999999\n",
      "19992 / 9999999\n",
      "22848 / 9999999\n",
      "25704 / 9999999\n",
      "28560 / 9999999\n",
      "31416 / 9999999\n",
      "34272 / 9999999\n",
      "37128 / 9999999\n",
      "39984 / 9999999\n",
      "42840 / 9999999\n",
      "45696 / 9999999\n",
      "48552 / 9999999\n",
      "49472 / 9999999\n",
      "2856 / 9999999\n",
      "5712 / 9999999\n"
     ]
    },
    {
     "name": "stdout",
     "output_type": "stream",
     "text": [
      "DatetimeIndex(['2021-03-12 09:01:00', '2021-12-14 15:30:00'], dtype='datetime64[ns]', freq=None)\n"
     ]
    },
    {
     "name": "stderr",
     "output_type": "stream",
     "text": [
      "8568 / 9999999\n",
      "11424 / 9999999\n",
      "14280 / 9999999\n",
      "17136 / 9999999\n",
      "19992 / 9999999\n",
      "22848 / 9999999\n",
      "25704 / 9999999\n",
      "28560 / 9999999\n",
      "31416 / 9999999\n",
      "34272 / 9999999\n",
      "36970 / 9999999\n",
      "2856 / 9999999\n",
      "5712 / 9999999\n"
     ]
    },
    {
     "name": "stdout",
     "output_type": "stream",
     "text": [
      "DatetimeIndex(['2021-03-12 09:01:00', '2021-12-14 15:30:00'], dtype='datetime64[ns]', freq=None)\n"
     ]
    },
    {
     "name": "stderr",
     "output_type": "stream",
     "text": [
      "8568 / 9999999\n",
      "11424 / 9999999\n",
      "14280 / 9999999\n",
      "17136 / 9999999\n",
      "19992 / 9999999\n",
      "22848 / 9999999\n",
      "25704 / 9999999\n",
      "28560 / 9999999\n",
      "31416 / 9999999\n",
      "34272 / 9999999\n",
      "37128 / 9999999\n",
      "39984 / 9999999\n",
      "42840 / 9999999\n",
      "44856 / 9999999\n"
     ]
    },
    {
     "ename": "KeyboardInterrupt",
     "evalue": "",
     "output_type": "error",
     "traceback": [
      "\u001b[1;31m---------------------------------------------------------------------------\u001b[0m",
      "\u001b[1;31mKeyboardInterrupt\u001b[0m                         Traceback (most recent call last)",
      "Cell \u001b[1;32mIn[29], line 32\u001b[0m\n\u001b[0;32m     29\u001b[0m         \u001b[38;5;28;01mcontinue\u001b[39;00m\n\u001b[0;32m     31\u001b[0m \u001b[38;5;66;03m# df_min_chart = bank.concat_candlestick_cybos(\"A\" + code, 1, count=9999999, adjusted=0, show_detail=True)\u001b[39;00m\n\u001b[1;32m---> 32\u001b[0m df_min_chart \u001b[38;5;241m=\u001b[39m \u001b[43mcybos\u001b[49m\u001b[38;5;241;43m.\u001b[39;49m\u001b[43mconcat_candlestick_cybos\u001b[49m\u001b[43m(\u001b[49m\u001b[38;5;124;43m\"\u001b[39;49m\u001b[38;5;124;43mA\u001b[39;49m\u001b[38;5;124;43m\"\u001b[39;49m\u001b[43m \u001b[49m\u001b[38;5;241;43m+\u001b[39;49m\u001b[43m \u001b[49m\u001b[43mcode\u001b[49m\u001b[43m,\u001b[49m\u001b[43m \u001b[49m\u001b[38;5;241;43m1\u001b[39;49m\u001b[43m,\u001b[49m\u001b[43m \u001b[49m\u001b[43mcount\u001b[49m\u001b[38;5;241;43m=\u001b[39;49m\u001b[38;5;241;43m9999999\u001b[39;49m\u001b[43m,\u001b[49m\u001b[43m \u001b[49m\u001b[43madjusted\u001b[49m\u001b[38;5;241;43m=\u001b[39;49m\u001b[38;5;241;43m0\u001b[39;49m\u001b[43m,\u001b[49m\u001b[43m \u001b[49m\u001b[43mshow_detail\u001b[49m\u001b[38;5;241;43m=\u001b[39;49m\u001b[38;5;28;43;01mTrue\u001b[39;49;00m\u001b[43m)\u001b[49m\n\u001b[0;32m     33\u001b[0m \u001b[38;5;28mprint\u001b[39m(df_min_chart\u001b[38;5;241m.\u001b[39mindex[[\u001b[38;5;241m0\u001b[39m, \u001b[38;5;241m-\u001b[39m\u001b[38;5;241m1\u001b[39m]])\n\u001b[0;32m     35\u001b[0m \u001b[38;5;66;03m# 4. check save.\u001b[39;00m\n",
      "Cell \u001b[1;32mIn[27], line 153\u001b[0m, in \u001b[0;36mCybosModule.concat_candlestick_cybos\u001b[1;34m(self, stock_code, period, count, adjusted, show_detail)\u001b[0m\n\u001b[0;32m    150\u001b[0m stock_raw_data \u001b[38;5;241m=\u001b[39m pd\u001b[38;5;241m.\u001b[39mDataFrame(receive_data, columns\u001b[38;5;241m=\u001b[39m[\u001b[38;5;124m'\u001b[39m\u001b[38;5;124mopen\u001b[39m\u001b[38;5;124m'\u001b[39m, \u001b[38;5;124m'\u001b[39m\u001b[38;5;124mhigh\u001b[39m\u001b[38;5;124m'\u001b[39m, \u001b[38;5;124m'\u001b[39m\u001b[38;5;124mlow\u001b[39m\u001b[38;5;124m'\u001b[39m, \u001b[38;5;124m'\u001b[39m\u001b[38;5;124mclose\u001b[39m\u001b[38;5;124m'\u001b[39m, \u001b[38;5;124m'\u001b[39m\u001b[38;5;124mvolume\u001b[39m\u001b[38;5;124m'\u001b[39m], index\u001b[38;5;241m=\u001b[39mreceive_data[\u001b[38;5;124m'\u001b[39m\u001b[38;5;124mindex\u001b[39m\u001b[38;5;124m'\u001b[39m])\u001b[38;5;241m.\u001b[39mastype(\u001b[38;5;28mfloat\u001b[39m)\n\u001b[0;32m    152\u001b[0m \u001b[38;5;66;03m# c. sort index.\u001b[39;00m\n\u001b[1;32m--> 153\u001b[0m stock_raw_data\u001b[38;5;241m.\u001b[39mindex \u001b[38;5;241m=\u001b[39m \u001b[43mpd\u001b[49m\u001b[38;5;241;43m.\u001b[39;49m\u001b[43mto_datetime\u001b[49m\u001b[43m(\u001b[49m\u001b[43mstock_raw_data\u001b[49m\u001b[38;5;241;43m.\u001b[39;49m\u001b[43mindex\u001b[49m\u001b[38;5;241;43m.\u001b[39;49m\u001b[43mastype\u001b[49m\u001b[43m(\u001b[49m\u001b[38;5;28;43mstr\u001b[39;49m\u001b[43m)\u001b[49m\u001b[43m)\u001b[49m\n\u001b[0;32m    154\u001b[0m stock_raw_data \u001b[38;5;241m=\u001b[39m stock_raw_data\u001b[38;5;241m.\u001b[39msort_index()  \u001b[38;5;66;03m# 마지막 행이 최신 데이터\u001b[39;00m\n\u001b[0;32m    156\u001b[0m \u001b[38;5;28;01mreturn\u001b[39;00m stock_raw_data\n",
      "File \u001b[1;32mD:\\anaconda3\\envs\\py38_32\\lib\\site-packages\\pandas\\core\\tools\\datetimes.py:1077\u001b[0m, in \u001b[0;36mto_datetime\u001b[1;34m(arg, errors, dayfirst, yearfirst, utc, format, exact, unit, infer_datetime_format, origin, cache)\u001b[0m\n\u001b[0;32m   1075\u001b[0m         result \u001b[38;5;241m=\u001b[39m _convert_and_box_cache(arg, cache_array, name\u001b[38;5;241m=\u001b[39marg\u001b[38;5;241m.\u001b[39mname)\n\u001b[0;32m   1076\u001b[0m     \u001b[38;5;28;01melse\u001b[39;00m:\n\u001b[1;32m-> 1077\u001b[0m         result \u001b[38;5;241m=\u001b[39m \u001b[43mconvert_listlike\u001b[49m\u001b[43m(\u001b[49m\u001b[43marg\u001b[49m\u001b[43m,\u001b[49m\u001b[43m \u001b[49m\u001b[38;5;28;43mformat\u001b[39;49m\u001b[43m,\u001b[49m\u001b[43m \u001b[49m\u001b[43mname\u001b[49m\u001b[38;5;241;43m=\u001b[39;49m\u001b[43marg\u001b[49m\u001b[38;5;241;43m.\u001b[39;49m\u001b[43mname\u001b[49m\u001b[43m)\u001b[49m\n\u001b[0;32m   1078\u001b[0m \u001b[38;5;28;01melif\u001b[39;00m is_list_like(arg):\n\u001b[0;32m   1079\u001b[0m     \u001b[38;5;28;01mtry\u001b[39;00m:\n\u001b[0;32m   1080\u001b[0m         \u001b[38;5;66;03m# error: Argument 1 to \"_maybe_cache\" has incompatible type\u001b[39;00m\n\u001b[0;32m   1081\u001b[0m         \u001b[38;5;66;03m# \"Union[float, str, datetime, List[Any], Tuple[Any, ...], ExtensionArray,\u001b[39;00m\n\u001b[0;32m   1082\u001b[0m         \u001b[38;5;66;03m# ndarray[Any, Any], Series]\"; expected \"Union[List[Any], Tuple[Any, ...],\u001b[39;00m\n\u001b[0;32m   1083\u001b[0m         \u001b[38;5;66;03m# Union[Union[ExtensionArray, ndarray[Any, Any]], Index, Series], Series]\"\u001b[39;00m\n",
      "File \u001b[1;32mD:\\anaconda3\\envs\\py38_32\\lib\\site-packages\\pandas\\core\\tools\\datetimes.py:438\u001b[0m, in \u001b[0;36m_convert_listlike_datetimes\u001b[1;34m(arg, format, name, tz, unit, errors, infer_datetime_format, dayfirst, yearfirst, exact)\u001b[0m\n\u001b[0;32m    436\u001b[0m \u001b[38;5;28;01massert\u001b[39;00m \u001b[38;5;28mformat\u001b[39m \u001b[38;5;129;01mis\u001b[39;00m \u001b[38;5;28;01mNone\u001b[39;00m \u001b[38;5;129;01mor\u001b[39;00m infer_datetime_format\n\u001b[0;32m    437\u001b[0m utc \u001b[38;5;241m=\u001b[39m tz \u001b[38;5;241m==\u001b[39m \u001b[38;5;124m\"\u001b[39m\u001b[38;5;124mutc\u001b[39m\u001b[38;5;124m\"\u001b[39m\n\u001b[1;32m--> 438\u001b[0m result, tz_parsed \u001b[38;5;241m=\u001b[39m \u001b[43mobjects_to_datetime64ns\u001b[49m\u001b[43m(\u001b[49m\n\u001b[0;32m    439\u001b[0m \u001b[43m    \u001b[49m\u001b[43marg\u001b[49m\u001b[43m,\u001b[49m\n\u001b[0;32m    440\u001b[0m \u001b[43m    \u001b[49m\u001b[43mdayfirst\u001b[49m\u001b[38;5;241;43m=\u001b[39;49m\u001b[43mdayfirst\u001b[49m\u001b[43m,\u001b[49m\n\u001b[0;32m    441\u001b[0m \u001b[43m    \u001b[49m\u001b[43myearfirst\u001b[49m\u001b[38;5;241;43m=\u001b[39;49m\u001b[43myearfirst\u001b[49m\u001b[43m,\u001b[49m\n\u001b[0;32m    442\u001b[0m \u001b[43m    \u001b[49m\u001b[43mutc\u001b[49m\u001b[38;5;241;43m=\u001b[39;49m\u001b[43mutc\u001b[49m\u001b[43m,\u001b[49m\n\u001b[0;32m    443\u001b[0m \u001b[43m    \u001b[49m\u001b[43merrors\u001b[49m\u001b[38;5;241;43m=\u001b[39;49m\u001b[43merrors\u001b[49m\u001b[43m,\u001b[49m\n\u001b[0;32m    444\u001b[0m \u001b[43m    \u001b[49m\u001b[43mrequire_iso8601\u001b[49m\u001b[38;5;241;43m=\u001b[39;49m\u001b[43mrequire_iso8601\u001b[49m\u001b[43m,\u001b[49m\n\u001b[0;32m    445\u001b[0m \u001b[43m    \u001b[49m\u001b[43mallow_object\u001b[49m\u001b[38;5;241;43m=\u001b[39;49m\u001b[38;5;28;43;01mTrue\u001b[39;49;00m\u001b[43m,\u001b[49m\n\u001b[0;32m    446\u001b[0m \u001b[43m\u001b[49m\u001b[43m)\u001b[49m\n\u001b[0;32m    448\u001b[0m \u001b[38;5;28;01mif\u001b[39;00m tz_parsed \u001b[38;5;129;01mis\u001b[39;00m \u001b[38;5;129;01mnot\u001b[39;00m \u001b[38;5;28;01mNone\u001b[39;00m:\n\u001b[0;32m    449\u001b[0m     \u001b[38;5;66;03m# We can take a shortcut since the datetime64 numpy array\u001b[39;00m\n\u001b[0;32m    450\u001b[0m     \u001b[38;5;66;03m# is in UTC\u001b[39;00m\n\u001b[0;32m    451\u001b[0m     dta \u001b[38;5;241m=\u001b[39m DatetimeArray(result, dtype\u001b[38;5;241m=\u001b[39mtz_to_dtype(tz_parsed))\n",
      "File \u001b[1;32mD:\\anaconda3\\envs\\py38_32\\lib\\site-packages\\pandas\\core\\arrays\\datetimes.py:2177\u001b[0m, in \u001b[0;36mobjects_to_datetime64ns\u001b[1;34m(data, dayfirst, yearfirst, utc, errors, require_iso8601, allow_object, allow_mixed)\u001b[0m\n\u001b[0;32m   2175\u001b[0m order: Literal[\u001b[38;5;124m\"\u001b[39m\u001b[38;5;124mF\u001b[39m\u001b[38;5;124m\"\u001b[39m, \u001b[38;5;124m\"\u001b[39m\u001b[38;5;124mC\u001b[39m\u001b[38;5;124m\"\u001b[39m] \u001b[38;5;241m=\u001b[39m \u001b[38;5;124m\"\u001b[39m\u001b[38;5;124mF\u001b[39m\u001b[38;5;124m\"\u001b[39m \u001b[38;5;28;01mif\u001b[39;00m flags\u001b[38;5;241m.\u001b[39mf_contiguous \u001b[38;5;28;01melse\u001b[39;00m \u001b[38;5;124m\"\u001b[39m\u001b[38;5;124mC\u001b[39m\u001b[38;5;124m\"\u001b[39m\n\u001b[0;32m   2176\u001b[0m \u001b[38;5;28;01mtry\u001b[39;00m:\n\u001b[1;32m-> 2177\u001b[0m     result, tz_parsed \u001b[38;5;241m=\u001b[39m \u001b[43mtslib\u001b[49m\u001b[38;5;241;43m.\u001b[39;49m\u001b[43marray_to_datetime\u001b[49m\u001b[43m(\u001b[49m\n\u001b[0;32m   2178\u001b[0m \u001b[43m        \u001b[49m\u001b[43mdata\u001b[49m\u001b[38;5;241;43m.\u001b[39;49m\u001b[43mravel\u001b[49m\u001b[43m(\u001b[49m\u001b[38;5;124;43m\"\u001b[39;49m\u001b[38;5;124;43mK\u001b[39;49m\u001b[38;5;124;43m\"\u001b[39;49m\u001b[43m)\u001b[49m\u001b[43m,\u001b[49m\n\u001b[0;32m   2179\u001b[0m \u001b[43m        \u001b[49m\u001b[43merrors\u001b[49m\u001b[38;5;241;43m=\u001b[39;49m\u001b[43merrors\u001b[49m\u001b[43m,\u001b[49m\n\u001b[0;32m   2180\u001b[0m \u001b[43m        \u001b[49m\u001b[43mutc\u001b[49m\u001b[38;5;241;43m=\u001b[39;49m\u001b[43mutc\u001b[49m\u001b[43m,\u001b[49m\n\u001b[0;32m   2181\u001b[0m \u001b[43m        \u001b[49m\u001b[43mdayfirst\u001b[49m\u001b[38;5;241;43m=\u001b[39;49m\u001b[43mdayfirst\u001b[49m\u001b[43m,\u001b[49m\n\u001b[0;32m   2182\u001b[0m \u001b[43m        \u001b[49m\u001b[43myearfirst\u001b[49m\u001b[38;5;241;43m=\u001b[39;49m\u001b[43myearfirst\u001b[49m\u001b[43m,\u001b[49m\n\u001b[0;32m   2183\u001b[0m \u001b[43m        \u001b[49m\u001b[43mrequire_iso8601\u001b[49m\u001b[38;5;241;43m=\u001b[39;49m\u001b[43mrequire_iso8601\u001b[49m\u001b[43m,\u001b[49m\n\u001b[0;32m   2184\u001b[0m \u001b[43m        \u001b[49m\u001b[43mallow_mixed\u001b[49m\u001b[38;5;241;43m=\u001b[39;49m\u001b[43mallow_mixed\u001b[49m\u001b[43m,\u001b[49m\n\u001b[0;32m   2185\u001b[0m \u001b[43m    \u001b[49m\u001b[43m)\u001b[49m\n\u001b[0;32m   2186\u001b[0m     result \u001b[38;5;241m=\u001b[39m result\u001b[38;5;241m.\u001b[39mreshape(data\u001b[38;5;241m.\u001b[39mshape, order\u001b[38;5;241m=\u001b[39morder)\n\u001b[0;32m   2187\u001b[0m \u001b[38;5;28;01mexcept\u001b[39;00m \u001b[38;5;167;01mOverflowError\u001b[39;00m \u001b[38;5;28;01mas\u001b[39;00m err:\n\u001b[0;32m   2188\u001b[0m     \u001b[38;5;66;03m# Exception is raised when a part of date is greater than 32 bit signed int\u001b[39;00m\n",
      "File \u001b[1;32mD:\\anaconda3\\envs\\py38_32\\lib\\site-packages\\pandas\\_libs\\tslib.pyx:427\u001b[0m, in \u001b[0;36mpandas._libs.tslib.array_to_datetime\u001b[1;34m()\u001b[0m\n",
      "File \u001b[1;32mD:\\anaconda3\\envs\\py38_32\\lib\\site-packages\\pandas\\_libs\\tslib.pyx:605\u001b[0m, in \u001b[0;36mpandas._libs.tslib.array_to_datetime\u001b[1;34m()\u001b[0m\n",
      "File \u001b[1;32mD:\\anaconda3\\envs\\py38_32\\lib\\site-packages\\pandas\\_libs\\tslibs\\parsing.pyx:318\u001b[0m, in \u001b[0;36mpandas._libs.tslibs.parsing.parse_datetime_string\u001b[1;34m()\u001b[0m\n",
      "File \u001b[1;32mD:\\anaconda3\\envs\\py38_32\\lib\\site-packages\\dateutil\\parser\\_parser.py:1368\u001b[0m, in \u001b[0;36mparse\u001b[1;34m(timestr, parserinfo, **kwargs)\u001b[0m\n\u001b[0;32m   1366\u001b[0m     \u001b[38;5;28;01mreturn\u001b[39;00m parser(parserinfo)\u001b[38;5;241m.\u001b[39mparse(timestr, \u001b[38;5;241m*\u001b[39m\u001b[38;5;241m*\u001b[39mkwargs)\n\u001b[0;32m   1367\u001b[0m \u001b[38;5;28;01melse\u001b[39;00m:\n\u001b[1;32m-> 1368\u001b[0m     \u001b[38;5;28;01mreturn\u001b[39;00m \u001b[43mDEFAULTPARSER\u001b[49m\u001b[38;5;241;43m.\u001b[39;49m\u001b[43mparse\u001b[49m\u001b[43m(\u001b[49m\u001b[43mtimestr\u001b[49m\u001b[43m,\u001b[49m\u001b[43m \u001b[49m\u001b[38;5;241;43m*\u001b[39;49m\u001b[38;5;241;43m*\u001b[39;49m\u001b[43mkwargs\u001b[49m\u001b[43m)\u001b[49m\n",
      "File \u001b[1;32mD:\\anaconda3\\envs\\py38_32\\lib\\site-packages\\dateutil\\parser\\_parser.py:640\u001b[0m, in \u001b[0;36mparser.parse\u001b[1;34m(self, timestr, default, ignoretz, tzinfos, **kwargs)\u001b[0m\n\u001b[0;32m    636\u001b[0m \u001b[38;5;28;01mif\u001b[39;00m default \u001b[38;5;129;01mis\u001b[39;00m \u001b[38;5;28;01mNone\u001b[39;00m:\n\u001b[0;32m    637\u001b[0m     default \u001b[38;5;241m=\u001b[39m datetime\u001b[38;5;241m.\u001b[39mdatetime\u001b[38;5;241m.\u001b[39mnow()\u001b[38;5;241m.\u001b[39mreplace(hour\u001b[38;5;241m=\u001b[39m\u001b[38;5;241m0\u001b[39m, minute\u001b[38;5;241m=\u001b[39m\u001b[38;5;241m0\u001b[39m,\n\u001b[0;32m    638\u001b[0m                                               second\u001b[38;5;241m=\u001b[39m\u001b[38;5;241m0\u001b[39m, microsecond\u001b[38;5;241m=\u001b[39m\u001b[38;5;241m0\u001b[39m)\n\u001b[1;32m--> 640\u001b[0m res, skipped_tokens \u001b[38;5;241m=\u001b[39m \u001b[38;5;28;43mself\u001b[39;49m\u001b[38;5;241;43m.\u001b[39;49m\u001b[43m_parse\u001b[49m\u001b[43m(\u001b[49m\u001b[43mtimestr\u001b[49m\u001b[43m,\u001b[49m\u001b[43m \u001b[49m\u001b[38;5;241;43m*\u001b[39;49m\u001b[38;5;241;43m*\u001b[39;49m\u001b[43mkwargs\u001b[49m\u001b[43m)\u001b[49m\n\u001b[0;32m    642\u001b[0m \u001b[38;5;28;01mif\u001b[39;00m res \u001b[38;5;129;01mis\u001b[39;00m \u001b[38;5;28;01mNone\u001b[39;00m:\n\u001b[0;32m    643\u001b[0m     \u001b[38;5;28;01mraise\u001b[39;00m ParserError(\u001b[38;5;124m\"\u001b[39m\u001b[38;5;124mUnknown string format: \u001b[39m\u001b[38;5;132;01m%s\u001b[39;00m\u001b[38;5;124m\"\u001b[39m, timestr)\n",
      "File \u001b[1;32mD:\\anaconda3\\envs\\py38_32\\lib\\site-packages\\dateutil\\parser\\_parser.py:719\u001b[0m, in \u001b[0;36mparser._parse\u001b[1;34m(self, timestr, dayfirst, yearfirst, fuzzy, fuzzy_with_tokens)\u001b[0m\n\u001b[0;32m    716\u001b[0m     yearfirst \u001b[38;5;241m=\u001b[39m info\u001b[38;5;241m.\u001b[39myearfirst\n\u001b[0;32m    718\u001b[0m res \u001b[38;5;241m=\u001b[39m \u001b[38;5;28mself\u001b[39m\u001b[38;5;241m.\u001b[39m_result()\n\u001b[1;32m--> 719\u001b[0m l \u001b[38;5;241m=\u001b[39m \u001b[43m_timelex\u001b[49m\u001b[38;5;241;43m.\u001b[39;49m\u001b[43msplit\u001b[49m\u001b[43m(\u001b[49m\u001b[43mtimestr\u001b[49m\u001b[43m)\u001b[49m         \u001b[38;5;66;03m# Splits the timestr into tokens\u001b[39;00m\n\u001b[0;32m    721\u001b[0m skipped_idxs \u001b[38;5;241m=\u001b[39m []\n\u001b[0;32m    723\u001b[0m \u001b[38;5;66;03m# year/month/day list\u001b[39;00m\n",
      "File \u001b[1;32mD:\\anaconda3\\envs\\py38_32\\lib\\site-packages\\dateutil\\parser\\_parser.py:201\u001b[0m, in \u001b[0;36m_timelex.split\u001b[1;34m(cls, s)\u001b[0m\n\u001b[0;32m    199\u001b[0m \u001b[38;5;129m@classmethod\u001b[39m\n\u001b[0;32m    200\u001b[0m \u001b[38;5;28;01mdef\u001b[39;00m \u001b[38;5;21msplit\u001b[39m(\u001b[38;5;28mcls\u001b[39m, s):\n\u001b[1;32m--> 201\u001b[0m     \u001b[38;5;28;01mreturn\u001b[39;00m \u001b[38;5;28;43mlist\u001b[39;49m\u001b[43m(\u001b[49m\u001b[38;5;28;43mcls\u001b[39;49m\u001b[43m(\u001b[49m\u001b[43ms\u001b[49m\u001b[43m)\u001b[49m\u001b[43m)\u001b[49m\n",
      "File \u001b[1;32mD:\\anaconda3\\envs\\py38_32\\lib\\site-packages\\dateutil\\parser\\_parser.py:190\u001b[0m, in \u001b[0;36m_timelex.__next__\u001b[1;34m(self)\u001b[0m\n\u001b[0;32m    189\u001b[0m \u001b[38;5;28;01mdef\u001b[39;00m \u001b[38;5;21m__next__\u001b[39m(\u001b[38;5;28mself\u001b[39m):\n\u001b[1;32m--> 190\u001b[0m     token \u001b[38;5;241m=\u001b[39m \u001b[38;5;28;43mself\u001b[39;49m\u001b[38;5;241;43m.\u001b[39;49m\u001b[43mget_token\u001b[49m\u001b[43m(\u001b[49m\u001b[43m)\u001b[49m\n\u001b[0;32m    191\u001b[0m     \u001b[38;5;28;01mif\u001b[39;00m token \u001b[38;5;129;01mis\u001b[39;00m \u001b[38;5;28;01mNone\u001b[39;00m:\n\u001b[0;32m    192\u001b[0m         \u001b[38;5;28;01mraise\u001b[39;00m \u001b[38;5;167;01mStopIteration\u001b[39;00m\n",
      "File \u001b[1;32mD:\\anaconda3\\envs\\py38_32\\lib\\site-packages\\dateutil\\parser\\_parser.py:142\u001b[0m, in \u001b[0;36m_timelex.get_token\u001b[1;34m(self)\u001b[0m\n\u001b[0;32m    138\u001b[0m \u001b[38;5;28;01melif\u001b[39;00m state \u001b[38;5;241m==\u001b[39m \u001b[38;5;124m'\u001b[39m\u001b[38;5;124m0\u001b[39m\u001b[38;5;124m'\u001b[39m:\n\u001b[0;32m    139\u001b[0m     \u001b[38;5;66;03m# If we've already started reading a number, we keep reading\u001b[39;00m\n\u001b[0;32m    140\u001b[0m     \u001b[38;5;66;03m# numbers until we find something that doesn't fit.\u001b[39;00m\n\u001b[0;32m    141\u001b[0m     \u001b[38;5;28;01mif\u001b[39;00m \u001b[38;5;28mself\u001b[39m\u001b[38;5;241m.\u001b[39misnum(nextchar):\n\u001b[1;32m--> 142\u001b[0m         token \u001b[38;5;241m+\u001b[39m\u001b[38;5;241m=\u001b[39m nextchar\n\u001b[0;32m    143\u001b[0m     \u001b[38;5;28;01melif\u001b[39;00m nextchar \u001b[38;5;241m==\u001b[39m \u001b[38;5;124m'\u001b[39m\u001b[38;5;124m.\u001b[39m\u001b[38;5;124m'\u001b[39m \u001b[38;5;129;01mor\u001b[39;00m (nextchar \u001b[38;5;241m==\u001b[39m \u001b[38;5;124m'\u001b[39m\u001b[38;5;124m,\u001b[39m\u001b[38;5;124m'\u001b[39m \u001b[38;5;129;01mand\u001b[39;00m \u001b[38;5;28mlen\u001b[39m(token) \u001b[38;5;241m>\u001b[39m\u001b[38;5;241m=\u001b[39m \u001b[38;5;241m2\u001b[39m):\n\u001b[0;32m    144\u001b[0m         token \u001b[38;5;241m+\u001b[39m\u001b[38;5;241m=\u001b[39m nextchar\n",
      "\u001b[1;31mKeyboardInterrupt\u001b[0m: "
     ]
    }
   ],
   "source": [
    "load_rank = 1\n",
    "save_mode = 0\n",
    "database_path = 'D:\\\\Projects\\\\System_Trading\\\\JnQ\\\\database\\\\creon\\\\cum'\n",
    "date = \"2023-03-11\"  # \"2023-03-07\"  str(datetime.now()).split(\" \")[0]\n",
    "os.makedirs(os.path.join(database_path, date), exist_ok=True)\n",
    "\n",
    "exist_files = os.listdir(os.path.join(database_path, date))\n",
    "# print(exist_files)\n",
    "# break\n",
    "\n",
    "rank_save_path = os.path.join(database_path, date, \"rank.pkl\")    \n",
    "if load_rank: \n",
    "    rank = pd.read_pickle(rank_save_path)\n",
    "else:\n",
    "    # rank =  df_high_fluc.종목코드\n",
    "    # rank.to_pickle(rank_save_path)\n",
    "    rank = bank.get_codelist_by_market(\"10\")\n",
    "    with open(rank_save_path, 'wb') as f:\n",
    "        pickle.dump(rank, f)\n",
    "    print(rank_save_path, \"saved\")\n",
    "# break\n",
    "\n",
    "for code in rank:    \n",
    "    try:\n",
    "        if save_mode:            \n",
    "            data_save_name = \"{} {}.pkl\".format(date, code)\n",
    "            if data_save_name in exist_files:\n",
    "                print(\"{} already in directory\".format(data_save_name))\n",
    "                continue\n",
    "        \n",
    "        # df_min_chart = bank.concat_candlestick_cybos(\"A\" + code, 1, count=9999999, adjusted=0, show_detail=True)\n",
    "        df_min_chart = cybos.concat_candlestick_cybos(\"A\" + code, 1, count=9999999, adjusted=0, show_detail=True)\n",
    "        print(df_min_chart.index[[0, -1]])\n",
    "\n",
    "        # 4. check save.\n",
    "        if save_mode:\n",
    "            data_save_path = os.path.join(database_path, date, data_save_name)\n",
    "            df_min_chart.to_pickle(data_save_path)\n",
    "            print(data_save_path, \"saved\")\n",
    "\n",
    "    except Exception as e:\n",
    "        print(e)        "
   ]
  },
  {
   "cell_type": "code",
   "execution_count": 46,
   "id": "12fa5a7b-62aa-415b-888c-bb90180d456e",
   "metadata": {
    "scrolled": true,
    "tags": []
   },
   "outputs": [
    {
     "name": "stdout",
     "output_type": "stream",
     "text": [
      "['A060230']\n",
      "1 분봉 데이터 수집\n",
      "900 / 900\n"
     ]
    }
   ],
   "source": [
    "## 데이터베이스 제작 시간간격\n",
    "# calender_period = ['day', 'month', 'year']\n",
    "## time_period = [1, 3, 5, 10, 30, 60, 180]\n",
    "\n",
    "# code_list = df_high_fluc.종목코드.values\n",
    "creon_prefix = 'A'\n",
    "code_list = [creon_prefix + code_ for code_ in rank]\n",
    "code_list = [creon_prefix + \"060230\"]\n",
    "# code_list = ['A121850', 'A101670', 'A041020', 'A227950', 'A318000', 'A294140', 'A073570', 'A246710']\n",
    "print(code_list)\n",
    "# break\n",
    "\n",
    "period_list = [1] # min\n",
    "base_date = str(datetime.now()).split(\" \")[0]\n",
    "\n",
    "count = 900\n",
    "data_len_thr = 900\n",
    "\n",
    "# count = 9999999\n",
    "# data_len_thr = 100000 # 20000 900\n",
    "\n",
    "adjusted = 0 # 0 : 미수정 주가 / 1 : 수정 주가 => backtest 주가는 미수정 주가가 적절하다고 함.\n",
    "save_mode = 0\n",
    "\n",
    "## 분봉 데이터베이스 제작\n",
    "for period in period_list:\n",
    "    \n",
    "    if save_mode:            \n",
    "        data_save_name = \"{} {}.pkl\".format(date, code.replace(creon_prefix, \"\"))\n",
    "        if data_save_name in exist_files:\n",
    "            print(\"{} already in directory\".format(data_save_name))\n",
    "            continue\n",
    "    export_db = ExportDatabase(code_list, period,  base_date, count, data_len_thr, adjusted, save_mode)\n",
    "    export_db.MakeDatabase()"
   ]
  },
  {
   "cell_type": "markdown",
   "id": "8f4c7fb0-ab17-4997-9a43-2239fb5d98ba",
   "metadata": {
    "jp-MarkdownHeadingCollapsed": true,
    "tags": []
   },
   "source": [
    "### load creon data"
   ]
  },
  {
   "cell_type": "code",
   "execution_count": 5,
   "id": "3db1eb0b-be86-47e7-9d7b-92365af7268e",
   "metadata": {},
   "outputs": [
    {
     "name": "stdout",
     "output_type": "stream",
     "text": [
      "['20221228 A006220_1_0.parquet', '20221228 A011810_1_0.parquet', '20221228 A015710_1_0.parquet', '20221228 A033320_1_0.parquet', '20221228 A052020_1_0.parquet', '20221228 A064090_1_0.parquet', '20221228 A073640_1_0.parquet', '20221228 A177350_1_0.parquet']\n",
      "20221228 A006220_1_0.parquet loaded !\n",
      "load res_df_ elapsed time : 0.00968313217163086\n"
     ]
    }
   ],
   "source": [
    "save_path = 'D:\\\\Projects\\\\System_Trading\\\\JnQ\\\\database\\\\creon\\\\cum\\\\{}'.format(base_date)\n",
    "\n",
    "date = \"20221228\"\n",
    "# date = \"2022-10-24\"\n",
    "pkg_path = 'D:\\\\Projects\\\\System_Trading\\\\JnQ\\\\'\n",
    "\n",
    "data_path = os.path.join(pkg_path, save_path, \"cum\", date)\n",
    "data_list = os.listdir(save_path)\n",
    "\n",
    "start_0 = time.time()\n",
    "\n",
    "key = data_list[0]  # tempoaray use single key\n",
    "res_df_ = pd.read_pickle(os.path.join(data_path, key))\n",
    "print(\"{} loaded.\".format(key))\n",
    "print(\"load res_df_ elapsed time :\", time.time() - start_0)"
   ]
  },
  {
   "cell_type": "code",
   "execution_count": null,
   "id": "cc3ea614-5816-4de0-8553-f94dc6d0f8b5",
   "metadata": {},
   "outputs": [],
   "source": [
    "res_df_ # 202012160902"
   ]
  },
  {
   "cell_type": "code",
   "execution_count": 8,
   "id": "c1e7d997-511e-4774-bf5b-7f0e932e52c2",
   "metadata": {},
   "outputs": [
    {
     "data": {
      "text/plain": [
       "[<matplotlib.lines.Line2D at 0x24a8baa8>]"
      ]
     },
     "execution_count": 8,
     "metadata": {},
     "output_type": "execute_result"
    },
    {
     "data": {
      "image/png": "[encoded data removed]",
      "text/plain": [
       "<Figure size 640x480 with 1 Axes>"
      ]
     },
     "metadata": {},
     "output_type": "display_data"
    }
   ],
   "source": [
    "import matplotlib.pyplot as plt\n",
    "\n",
    "plt.plot(res_df_.close.values)\n",
    "\n",
    "# plt.plot(res_df_.iloc[:valid_idx[-1]].close)\n",
    "# plt.plot(res_df_adj_.iloc[:valid_idx[-1]].close)\n",
    "\n",
    "# plt.plot(res_df_adj_.close)"
   ]
  },
  {
   "cell_type": "markdown",
   "id": "1f9911bd-5b1d-4b97-a4dd-afbb9b5e2238",
   "metadata": {
    "tags": []
   },
   "source": [
    "# legacy"
   ]
  },
  {
   "cell_type": "markdown",
   "id": "f8fab219-a902-4e14-9e18-b7b6003b64ca",
   "metadata": {
    "jp-MarkdownHeadingCollapsed": true,
    "tags": []
   },
   "source": [
    "## saving dict queue as pkl test"
   ]
  },
  {
   "cell_type": "code",
   "execution_count": 2,
   "id": "6a8b454d-f677-41a4-ab20-d3cc382ca1e8",
   "metadata": {
    "tags": []
   },
   "outputs": [],
   "source": [
    "# t_list = [1]\n",
    "# print(t_list.extend([1]))\n",
    "# # t_list\n",
    "t_queue = [{\"code\": code, \"ep_loc_point2\": 0, \"streamer\": None} for code in range(5)]"
   ]
  },
  {
   "cell_type": "code",
   "execution_count": 6,
   "id": "671c0a2e-4c2f-43b4-9347-e5323a965aeb",
   "metadata": {},
   "outputs": [
    {
     "ename": "TypeError",
     "evalue": "unhashable type: 'list'",
     "output_type": "error",
     "traceback": [
      "\u001b[1;31m---------------------------------------------------------------------------\u001b[0m",
      "\u001b[1;31mTypeError\u001b[0m                                 Traceback (most recent call last)",
      "Cell \u001b[1;32mIn[6], line 1\u001b[0m\n\u001b[1;32m----> 1\u001b[0m \u001b[43mt_queue\u001b[49m\u001b[43m[\u001b[49m\u001b[38;5;241;43m0\u001b[39;49m\u001b[43m]\u001b[49m\u001b[43m[\u001b[49m\u001b[43m[\u001b[49m\u001b[38;5;124;43m\"\u001b[39;49m\u001b[38;5;124;43mcode\u001b[39;49m\u001b[38;5;124;43m\"\u001b[39;49m\u001b[43m,\u001b[49m\u001b[43m \u001b[49m\u001b[38;5;124;43m\"\u001b[39;49m\u001b[38;5;124;43mstreamer\u001b[39;49m\u001b[38;5;124;43m\"\u001b[39;49m\u001b[43m]\u001b[49m\u001b[43m]\u001b[49m\n",
      "\u001b[1;31mTypeError\u001b[0m: unhashable type: 'list'"
     ]
    }
   ],
   "source": [
    "t_queue[0][[\"code\", \"streamer\"]]"
   ]
  },
  {
   "cell_type": "code",
   "execution_count": 46,
   "id": "17c2e63d-c5bc-462f-affe-ac7212616b29",
   "metadata": {},
   "outputs": [
    {
     "data": {
      "text/plain": [
       "'D:\\\\Projects\\\\System_Trading\\\\JnQ_32bit'"
      ]
     },
     "execution_count": 46,
     "metadata": {},
     "output_type": "execute_result"
    }
   ],
   "source": [
    "os.getcwd()"
   ]
  },
  {
   "cell_type": "code",
   "execution_count": 15,
   "id": "c6b62d89-2c35-4dc2-9c54-27200626785f",
   "metadata": {},
   "outputs": [],
   "source": [
    "import pickle\n",
    "\n",
    "watch_data_queue = [{\"code\": code, \"ep_loc_point2\": 0, \"streamer\": None}]\n",
    "watch_data_queue[0][\"df\"] = df_min_chart\n",
    "with open('df_min_chart.pkl','wb') as fw:\n",
    "    pickle.dump(watch_data_queue, fw)"
   ]
  },
  {
   "cell_type": "code",
   "execution_count": 16,
   "id": "94761a1c-d39e-489a-aa68-6da9929716cc",
   "metadata": {},
   "outputs": [],
   "source": [
    "with open('df_min_chart.pkl', 'rb') as fr:\n",
    "    watch_data_queue = pickle.load(fr)"
   ]
  },
  {
   "cell_type": "code",
   "execution_count": 21,
   "id": "d7b006de-1d30-489c-ba21-d40aab39ddaa",
   "metadata": {},
   "outputs": [
    {
     "data": {
      "text/plain": [
       "open      float64\n",
       "high      float64\n",
       "low       float64\n",
       "close     float64\n",
       "volume    float64\n",
       "dtype: object"
      ]
     },
     "execution_count": 21,
     "metadata": {},
     "output_type": "execute_result"
    }
   ],
   "source": [
    "watch_data_queue[0]['df'].dtypes"
   ]
  },
  {
   "cell_type": "markdown",
   "id": "87424acc-6517-45a4-aa2b-636034b83a6b",
   "metadata": {
    "jp-MarkdownHeadingCollapsed": true,
    "tags": []
   },
   "source": [
    "## singleton"
   ]
  },
  {
   "cell_type": "code",
   "execution_count": null,
   "id": "974e8c14-cae0-4cea-b2cf-38cbac956a07",
   "metadata": {},
   "outputs": [],
   "source": [
    "import sys\n",
    "from PyQt5.QtWidgets import QApplication, QWidget, QPushButton\n",
    "from PyQt5.QtCore import QCoreApplication\n",
    "import time\n",
    "\n",
    "\n",
    "class MyApp(QWidget):\n",
    "\n",
    "    def __init__(self):\n",
    "        super().__init__()\n",
    "        self.initUI()\n",
    "\n",
    "    def initUI(self):\n",
    "        btn = QPushButton('Quit', self)\n",
    "        btn.move(50, 50)\n",
    "        btn.resize(btn.sizeHint())\n",
    "        # btn.clicked.connect(QCoreApplication.instance().quit)\n",
    "\n",
    "        self.setWindowTitle('Quit Button')\n",
    "        self.setGeometry(300, 300, 300, 200)\n",
    "        self.show()\n",
    "\n",
    "        print(\"start.\")\n",
    "        time.sleep(2)\n",
    "        QCoreApplication.exit()\n",
    "        print(\"exit.\")\n",
    "\n",
    "\n",
    "if __name__ == '__main__':\n",
    "    app = QApplication(sys.argv)\n",
    "    ex = MyApp()\n",
    "    # sys.exit(app.exec_())"
   ]
  },
  {
   "cell_type": "code",
   "execution_count": null,
   "id": "a94aaa06-a79a-4a5b-a942-2aa210c1af6b",
   "metadata": {},
   "outputs": [],
   "source": [
    "import sys\n",
    "import uuid\n",
    "\n",
    "from PyQt5.QtWidgets import QApplication, QMainWindow, QPushButton\n",
    "\n",
    "\n",
    "class MainWindow(QMainWindow):\n",
    "    singleton: 'MainWindow' = None\n",
    "\n",
    "    def __init__(self):\n",
    "        super().__init__()\n",
    "        btn = QPushButton(f'RESTART\\n{uuid.uuid4()}')\n",
    "        btn.clicked.connect(MainWindow.restart)\n",
    "        self.setCentralWidget(btn)\n",
    "        self.show()\n",
    "\n",
    "    @staticmethod\n",
    "    def restart():\n",
    "        MainWindow.singleton = MainWindow()\n",
    "\n",
    "\n",
    "def main():\n",
    "    app = QApplication([])\n",
    "    MainWindow.restart()\n",
    "    sys.exit(app.exec_())\n",
    "\n",
    "\n",
    "if __name__ == '__main__':\n",
    "    # main()\n",
    "    \n",
    "    app = QApplication(sys.argv)\n",
    "    MainWindow.restart()\n",
    "    sys.exit(app.exec_())"
   ]
  },
  {
   "cell_type": "code",
   "execution_count": 3,
   "id": "9d37aba3-9453-4683-ac1e-e82359aab9a2",
   "metadata": {},
   "outputs": [
    {
     "name": "stdout",
     "output_type": "stream",
     "text": [
      "event_connect executed.\n",
      "on_receive_tr_data 실행: screen_no: 0102, request_name: 서버구분, tr_code: KOA_NORMAL_BUY_KP_ORD, record_name: , inquiry: \n",
      "login_loop.exit() executed.\n",
      "return_code : 0\n",
      "connected.\n"
     ]
    },
    {
     "data": {
      "text/plain": [
       "<funcs.kiwoom.bank_module.BankModule at 0x689b190>"
      ]
     },
     "execution_count": 3,
     "metadata": {},
     "output_type": "execute_result"
    }
   ],
   "source": [
    "app = QApplication(sys.argv)\n",
    "BankModule(None) #.restart()\n",
    "# sys.exit(app.exec_())"
   ]
  },
  {
   "cell_type": "code",
   "execution_count": 4,
   "id": "a8a341b4-47a5-4c8a-89c6-94e15561fb3e",
   "metadata": {},
   "outputs": [
    {
     "name": "stdout",
     "output_type": "stream",
     "text": [
      "event_connect executed.\n",
      "login_loop.exit() executed.\n",
      "return_code : -106\n"
     ]
    },
    {
     "name": "stderr",
     "output_type": "stream",
     "text": [
      "eventConnect -101\n"
     ]
    },
    {
     "name": "stdout",
     "output_type": "stream",
     "text": [
      "event_connect executed.\n",
      "login_loop.exit() executed.\n",
      "return_code : -101\n",
      "disconnected.\n"
     ]
    },
    {
     "ename": "KiwoomConnectError",
     "evalue": "로그인 여부를 확인하십시오",
     "output_type": "error",
     "traceback": [
      "\u001b[1;31m---------------------------------------------------------------------------\u001b[0m",
      "\u001b[1;31mKiwoomConnectError\u001b[0m                        Traceback (most recent call last)",
      "Cell \u001b[1;32mIn[4], line 1\u001b[0m\n\u001b[1;32m----> 1\u001b[0m \u001b[43mBankModule\u001b[49m\u001b[43m(\u001b[49m\u001b[38;5;28;43;01mNone\u001b[39;49;00m\u001b[43m)\u001b[49m\u001b[38;5;241m.\u001b[39mrestart()\n",
      "File \u001b[1;32mD:\\Projects\\System_Trading\\JnQ_32bit\\funcs\\kiwoom\\bank_module.py:19\u001b[0m, in \u001b[0;36mBankModule.__init__\u001b[1;34m(self, config)\u001b[0m\n\u001b[0;32m     16\u001b[0m \u001b[38;5;28;01mdef\u001b[39;00m \u001b[38;5;21m__init__\u001b[39m(\u001b[38;5;28mself\u001b[39m, config):\n\u001b[0;32m     18\u001b[0m     secret_key \u001b[38;5;241m=\u001b[39m \u001b[38;5;28mself\u001b[39m\u001b[38;5;241m.\u001b[39mload_key(\u001b[38;5;124mr\u001b[39m\u001b[38;5;124m\"\u001b[39m\u001b[38;5;124mD:\u001b[39m\u001b[38;5;124m\\\u001b[39m\u001b[38;5;124mProjects\u001b[39m\u001b[38;5;124m\\\u001b[39m\u001b[38;5;124mSystem_Trading\u001b[39m\u001b[38;5;124m\\\u001b[39m\u001b[38;5;124mJnQ_32bit\u001b[39m\u001b[38;5;124m\\\u001b[39m\u001b[38;5;124mBank\u001b[39m\u001b[38;5;124m\\\u001b[39m\u001b[38;5;124mapi_keys\u001b[39m\u001b[38;5;124m\\\u001b[39m\u001b[38;5;124mkiwoom_5189140110.pkl\u001b[39m\u001b[38;5;124m\"\u001b[39m)\n\u001b[1;32m---> 19\u001b[0m     \u001b[38;5;28;43msuper\u001b[39;49m\u001b[43m(\u001b[49m\u001b[43m)\u001b[49m\u001b[38;5;241;43m.\u001b[39;49m\u001b[38;5;21;43m__init__\u001b[39;49m\u001b[43m(\u001b[49m\u001b[43msecret_key\u001b[49m\u001b[43m)\u001b[49m\n\u001b[0;32m     21\u001b[0m     \u001b[38;5;66;03m# 0. config, sys_log 는 BankModule 에서만 사용됨.\u001b[39;00m\n\u001b[0;32m     22\u001b[0m     \u001b[38;5;28mself\u001b[39m\u001b[38;5;241m.\u001b[39mconfig \u001b[38;5;241m=\u001b[39m config\n",
      "File \u001b[1;32mD:\\Projects\\System_Trading\\JnQ_32bit\\funcs\\kiwoom\\kiwoom_module.py:20\u001b[0m, in \u001b[0;36mKiwoomModule.__init__\u001b[1;34m(self, secret_key)\u001b[0m\n\u001b[0;32m     17\u001b[0m     \u001b[38;5;28mprint\u001b[39m(\u001b[38;5;124m\"\u001b[39m\u001b[38;5;124mdisconnected.\u001b[39m\u001b[38;5;124m\"\u001b[39m)\n\u001b[0;32m     19\u001b[0m \u001b[38;5;28mself\u001b[39m\u001b[38;5;241m.\u001b[39mscreen_number \u001b[38;5;241m=\u001b[39m \u001b[38;5;124m\"\u001b[39m\u001b[38;5;124m2000\u001b[39m\u001b[38;5;124m\"\u001b[39m  \u001b[38;5;66;03m# 추후 module_phase 에 따라 다변화할 것. (Todo)\u001b[39;00m\n\u001b[1;32m---> 20\u001b[0m \u001b[38;5;28mself\u001b[39m\u001b[38;5;241m.\u001b[39maccount_number \u001b[38;5;241m=\u001b[39m \u001b[38;5;28;43mself\u001b[39;49m\u001b[38;5;241;43m.\u001b[39;49m\u001b[43mget_login_info\u001b[49m\u001b[43m(\u001b[49m\u001b[38;5;124;43m\"\u001b[39;49m\u001b[38;5;124;43mACCNO\u001b[39;49m\u001b[38;5;124;43m\"\u001b[39;49m\u001b[43m)\u001b[49m\u001b[38;5;241m.\u001b[39msplit(\u001b[38;5;124m\"\u001b[39m\u001b[38;5;124m;\u001b[39m\u001b[38;5;124m\"\u001b[39m)[\u001b[38;5;241m0\u001b[39m]\n\u001b[0;32m     21\u001b[0m \u001b[38;5;28mself\u001b[39m\u001b[38;5;241m.\u001b[39mpassword \u001b[38;5;241m=\u001b[39m secret_key\n\u001b[0;32m     23\u001b[0m \u001b[38;5;28mself\u001b[39m\u001b[38;5;241m.\u001b[39mdata_opt10004 \u001b[38;5;241m=\u001b[39m \u001b[38;5;28;01mNone\u001b[39;00m  \u001b[38;5;66;03m# 주식호가요청\u001b[39;00m\n",
      "File \u001b[1;32mD:\\Projects\\System_Trading\\JnQ_32bit\\funcs\\kiwoom\\pykiwoom.py:373\u001b[0m, in \u001b[0;36mKiwoom.get_login_info\u001b[1;34m(self, tag, is_connect_state)\u001b[0m\n\u001b[0;32m    371\u001b[0m \u001b[38;5;28;01mif\u001b[39;00m \u001b[38;5;129;01mnot\u001b[39;00m is_connect_state:\n\u001b[0;32m    372\u001b[0m     \u001b[38;5;28;01mif\u001b[39;00m \u001b[38;5;129;01mnot\u001b[39;00m \u001b[38;5;28mself\u001b[39m\u001b[38;5;241m.\u001b[39mget_connect_state():\n\u001b[1;32m--> 373\u001b[0m         \u001b[38;5;28;01mraise\u001b[39;00m KiwoomConnectError()\n\u001b[0;32m    375\u001b[0m \u001b[38;5;28;01mif\u001b[39;00m \u001b[38;5;129;01mnot\u001b[39;00m \u001b[38;5;28misinstance\u001b[39m(tag, \u001b[38;5;28mstr\u001b[39m):\n\u001b[0;32m    376\u001b[0m     \u001b[38;5;28;01mraise\u001b[39;00m ParameterTypeError()\n",
      "\u001b[1;31mKiwoomConnectError\u001b[0m: 로그인 여부를 확인하십시오"
     ]
    }
   ],
   "source": [
    "BankModule(None).restart()"
   ]
  },
  {
   "cell_type": "markdown",
   "id": "7353dce3-a378-4783-906b-0bff5a8d7172",
   "metadata": {
    "jp-MarkdownHeadingCollapsed": true,
    "tags": []
   },
   "source": [
    "## loop_data as a dict"
   ]
  },
  {
   "cell_type": "code",
   "execution_count": 40,
   "id": "bd78198e-f637-4fc8-ae95-efc98a8e96c1",
   "metadata": {},
   "outputs": [
    {
     "data": {
      "text/plain": [
       "dict_values([1, '123152', 1])"
      ]
     },
     "execution_count": 40,
     "metadata": {},
     "output_type": "execute_result"
    }
   ],
   "source": [
    "t_dict = {}\n",
    "for v in range(5):\n",
    "    t_dict[v] = v\n",
    "t_dict\n",
    "\n",
    "# dict(zip(L1,L2))\n",
    "\n",
    "code = 1\n",
    "code2 = 1\n",
    "order_no = \"123152\"\n",
    "\n",
    "keys = [\"code\", \"order_no\", \"code2\"]\n",
    "values = [eval(key) for key in keys]\n",
    "type(value[-1])\n",
    "\n",
    "\n",
    "# a, b = dict(zip(keys,values)).values()\n",
    "dict(zip(keys,values)).values()"
   ]
  },
  {
   "cell_type": "markdown",
   "id": "77071d75-ac67-49fe-bca4-5fea92942822",
   "metadata": {
    "jp-MarkdownHeadingCollapsed": true,
    "tags": []
   },
   "source": [
    "## reversed loop"
   ]
  },
  {
   "cell_type": "code",
   "execution_count": 57,
   "id": "025dd52a-395b-47bd-be6a-3c607f6afc8e",
   "metadata": {},
   "outputs": [
    {
     "data": {
      "text/plain": [
       "{'a': 1, 'b': 2, 0: 1, 1: 1, 2: 1}"
      ]
     },
     "execution_count": 57,
     "metadata": {},
     "output_type": "execute_result"
    }
   ],
   "source": [
    "# for \n",
    "for code in np.arange(3):\n",
    "    t_dict[code] = 1\n",
    "t_dict"
   ]
  },
  {
   "cell_type": "code",
   "execution_count": 63,
   "id": "7e96179f-c123-4848-95c9-db3a50ff68b8",
   "metadata": {},
   "outputs": [
    {
     "name": "stdout",
     "output_type": "stream",
     "text": [
      "2\n",
      "w_i : 0\n",
      "code : a1\n",
      "item : {'a': 1, 'b': 2}\n",
      "open_queue : {'a1': {'a': 1, 'b': 2}}\n",
      "watch_queue : {'b1': {'c': 1, 'd': 2}}\n",
      "w_i : 1\n",
      "code : b1\n",
      "item : {'c': 1, 'd': 2}\n",
      "open_queue : {'a1': {'a': 1, 'b': 2}, 'b1': {'c': 1, 'd': 2}}\n",
      "watch_queue : {}\n"
     ]
    },
    {
     "data": {
      "text/plain": [
       "{}"
      ]
     },
     "execution_count": 63,
     "metadata": {},
     "output_type": "execute_result"
    }
   ],
   "source": [
    "t_dict = {\"a\": 1, \"b\": 2}\n",
    "\n",
    "print(len(t_dict))\n",
    "\n",
    "watch_queue = {\"a1\": {\"a\": 1, \"b\": 2}, \"b1\": {\"c\": 1, \"d\": 2}}\n",
    "\n",
    "# for w_i, code in zip(reversed(range(len(t_list))), reversed(t_list)):\n",
    "#     print(\"w_i :\", w_i)\n",
    "#     print(code)\n",
    "# list(reversed(t_list))\n",
    "\n",
    "open_queue = {}\n",
    "# pop_list = []\n",
    "\n",
    "for w_i, (code, item) in enumerate(watch_queue.copy().items()):\n",
    "# for w_i, (code, item) in enumerate(watch_queue.copy()):\n",
    "    print(\"w_i :\", w_i)\n",
    "    \n",
    "# for w_i, code in enumerate(reversed(watch_queue)):\n",
    "    \n",
    "    print(\"code :\", code)\n",
    "    print(\"item :\", item)\n",
    "    \n",
    "    open_queue[code] = watch_queue[code]\n",
    "    # pop_list.append(w_i)\n",
    "    \n",
    "    # open_queue.append(watch_queue.pop())    \n",
    "    print(\"open_queue :\", open_queue)\n",
    "    \n",
    "    # watch_queue.pop(w_i)\n",
    "    watch_queue.pop(code)\n",
    "    # watch_queue.popitem()\n",
    "    # watch_queue2.remove(code2)\n",
    "    # watch_queue.pop(w_i)\n",
    "    print(\"watch_queue :\", watch_queue)\n",
    "    \n",
    "# for w_i, code in zip(reversed(range(len(watch_queue))), reversed(watch_queue)):\n",
    "#     print(\"w_i :\", w_i)\n",
    "    \n",
    "# # for w_i, code in enumerate(reversed(watch_queue)):\n",
    "    \n",
    "#     print(\"code :\", code)\n",
    "    \n",
    "#     open_queue.append(code)\n",
    "#     # pop_list.append(w_i)\n",
    "    \n",
    "#     # open_queue.append(watch_queue.pop())    \n",
    "#     print(\"open_queue :\", open_queue)\n",
    "    \n",
    "#     # watch_queue.pop(w_i)\n",
    "#     # watch_queue.pop(code)\n",
    "#     watch_queue.popitem()\n",
    "#     # watch_queue2.remove(code2)\n",
    "#     # watch_queue.pop(w_i)\n",
    "#     print(\"watch_queue :\", watch_queue)\n",
    "watch_queue"
   ]
  },
  {
   "cell_type": "code",
   "execution_count": 9,
   "id": "ec5bf26c-950b-4abc-9b93-704af7a42815",
   "metadata": {},
   "outputs": [
    {
     "data": {
      "text/plain": [
       "[['214680', 0],\n",
       " ['417010', 0],\n",
       " ['091580', 0],\n",
       " ['056080', 0],\n",
       " ['347770', 0],\n",
       " ['099190', 0],\n",
       " ['032685', 0],\n",
       " ['099750', 0],\n",
       " ['041020', 0],\n",
       " ['288980', 0]]"
      ]
     },
     "execution_count": 9,
     "metadata": {},
     "output_type": "execute_result"
    }
   ],
   "source": [
    "top_code = df_high_fluc.iloc[:10] #.tolist()\n",
    "top_code[\"ep_loc_point2\"] = 0\n",
    "top_code[[\"종목코드\", \"ep_loc_point2\"]].to_numpy()[0]\n",
    "watch_data_queue = top_code[[\"종목코드\", \"ep_loc_point2\"]].values.tolist()\n",
    "watch_data_queue"
   ]
  },
  {
   "cell_type": "code",
   "execution_count": 32,
   "id": "cf3c9bdf-94c6-44b1-8903-fd1c5d1f5c85",
   "metadata": {},
   "outputs": [
    {
     "data": {
      "text/plain": [
       "['']"
      ]
     },
     "execution_count": 32,
     "metadata": {},
     "output_type": "execute_result"
    }
   ],
   "source": [
    "t_list = []\n",
    "t_list.append(\"\")\n",
    "# t_list.append(_)\n",
    "t_list[0]\n",
    "t_list"
   ]
  },
  {
   "cell_type": "code",
   "execution_count": 22,
   "id": "0cd2b4e2-a48b-486f-8aaa-6451879c2233",
   "metadata": {},
   "outputs": [
    {
     "data": {
      "text/plain": [
       "{'a': 1, 'c': 1, 'b': 2}"
      ]
     },
     "execution_count": 22,
     "metadata": {},
     "output_type": "execute_result"
    }
   ],
   "source": [
    "t_dict = {\"a\": 1, \"c\": 1}\n",
    "t_dict2 = {\"b\": 2}\n",
    "# t_dict.update({\"a\": 1})\n",
    "t_dict.update(t_dict2)\n",
    "t_dict"
   ]
  },
  {
   "cell_type": "code",
   "execution_count": 11,
   "id": "df9f2bea-87dc-4496-814e-134a9dd5ebab",
   "metadata": {},
   "outputs": [
    {
     "ename": "NameError",
     "evalue": "name 'np' is not defined",
     "output_type": "error",
     "traceback": [
      "\u001b[1;31m---------------------------------------------------------------------------\u001b[0m",
      "\u001b[1;31mNameError\u001b[0m                                 Traceback (most recent call last)",
      "Cell \u001b[1;32mIn[11], line 1\u001b[0m\n\u001b[1;32m----> 1\u001b[0m watch_queue \u001b[38;5;241m=\u001b[39m \u001b[43mnp\u001b[49m\u001b[38;5;241m.\u001b[39marange(\u001b[38;5;241m10\u001b[39m)\u001b[38;5;241m.\u001b[39mastype(\u001b[38;5;28mstr\u001b[39m)\u001b[38;5;241m.\u001b[39mtolist()\n\u001b[0;32m      2\u001b[0m watch_queue2 \u001b[38;5;241m=\u001b[39m np\u001b[38;5;241m.\u001b[39marange(\u001b[38;5;241m10\u001b[39m, \u001b[38;5;241m20\u001b[39m)\u001b[38;5;241m.\u001b[39mastype(\u001b[38;5;28mstr\u001b[39m)\u001b[38;5;241m.\u001b[39mtolist()\n\u001b[0;32m      3\u001b[0m \u001b[38;5;66;03m# watch_queue = np.ones_like(watch_queue).tolist()\u001b[39;00m\n\u001b[0;32m      4\u001b[0m \u001b[38;5;66;03m# watch_queue = ['1']\u001b[39;00m\n",
      "\u001b[1;31mNameError\u001b[0m: name 'np' is not defined"
     ]
    }
   ],
   "source": [
    "watch_queue = np.arange(10).astype(str).tolist()\n",
    "watch_queue2 = np.arange(10, 20).astype(str).tolist()\n",
    "# watch_queue = np.ones_like(watch_queue).tolist()\n",
    "# watch_queue = ['1']\n",
    "open_queue = []\n",
    "pop_list = []\n",
    "\n",
    "# for code, code2 in zip(reversed(watch_queue), reversed(watch_queue2)):\n",
    "# for code in reversed(watch_queue):\n",
    "# for code in watch_queue:\n",
    "\n",
    "for w_i, code in zip(reversed(range(len(watch_queue))), reversed(watch_queue)):\n",
    "    print(\"w_i :\", w_i)\n",
    "    \n",
    "# for w_i, code in enumerate(reversed(watch_queue)):\n",
    "    \n",
    "    print(\"code :\", code)\n",
    "    \n",
    "    open_queue.append(code)\n",
    "    # pop_list.append(w_i)\n",
    "    \n",
    "    # open_queue.append(watch_queue.pop())    \n",
    "    print(\"open_queue :\", open_queue)\n",
    "    \n",
    "    # watch_queue.pop(w_i)\n",
    "    # watch_queue.pop(code)\n",
    "    watch_queue.remove(code)\n",
    "    # watch_queue2.remove(code2)\n",
    "    # watch_queue.pop(w_i)\n",
    "    print(\"watch_queue :\", watch_queue)\n",
    "    # print(\"watch_queue2 :\", watch_queue2)\n",
    "# watch_queue\n",
    "    \n",
    "    # del watch_queue[w_i]"
   ]
  },
  {
   "cell_type": "markdown",
   "id": "93849698-eef2-4977-add5-3484df467f02",
   "metadata": {
    "jp-MarkdownHeadingCollapsed": true,
    "tags": []
   },
   "source": [
    "# olds"
   ]
  }
 ],
 "metadata": {
  "kernelspec": {
   "display_name": "Python 3 (ipykernel)",
   "language": "python",
   "name": "python3"
  },
  "language_info": {
   "codemirror_mode": {
    "name": "ipython",
    "version": 3
   },
   "file_extension": ".py",
   "mimetype": "text/x-python",
   "name": "python",
   "nbconvert_exporter": "python",
   "pygments_lexer": "ipython3",
   "version": "3.8.10"
  }
 },
 "nbformat": 4,
 "nbformat_minor": 5
}
