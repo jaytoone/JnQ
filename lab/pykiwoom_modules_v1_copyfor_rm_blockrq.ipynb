{
 "cells": [
  {
   "cell_type": "markdown",
   "id": "b463526b-b76f-4ea5-83e0-24504eb094a7",
   "metadata": {},
   "source": [
    "# Requirements"
   ]
  },
  {
   "cell_type": "code",
   "execution_count": 5,
   "id": "41300b0d-931d-4877-8835-38f93c0ca1fe",
   "metadata": {},
   "outputs": [],
   "source": [
    "import os, sys\n",
    "\n",
    "pkg_path = 'D:\\\\Projects\\\\System_Trading\\\\JnQ\\\\'\n",
    "\n",
    "os.chdir(pkg_path)\n",
    "\n",
    "pakage_name = 'Bank'\n",
    "\n",
    "# mpl_finance_path = 'D:\\\\python\\\\python38_1\\\\projects\\\\JnQ\\\\mpl_finance'\n",
    "# ta_lib_path = 'D:\\\\python\\\\python38_1\\\\projects\\\\JnQ\\\\ta_lib'\n",
    "funcs_path = pkg_path + 'funcs'\n",
    "\n",
    "if funcs_path not in sys.path:\n",
    "\n",
    "  try:\n",
    "    # sys.path.insert(0, '/content/drive/My Drive/Colab Notebooks/JnQ')\n",
    "    sys.path.insert(0, pkg_path + '\\\\{}'.format(pakage_name))\n",
    "    sys.path.insert(0, funcs_path)\n",
    "    # sys.path.insert(0, mpl_finance_path)\n",
    "    # sys.path.insert(0, ta_lib_path)\n",
    "    \n",
    "  except Exception as e:\n",
    "    print(e)\n"
   ]
  },
  {
   "cell_type": "code",
   "execution_count": 6,
   "id": "23d569db-0587-48be-95ae-c28ec4fb3209",
   "metadata": {},
   "outputs": [],
   "source": [
    "from funcs.kiwoom.pykiwoom import *\n",
    "\n",
    "today = datetime.now()\n",
    "todaystamp = today.year * 10000 + today.month * 100 + today.day \n",
    "\n",
    "np.seterr(invalid=\"ignore\")\n",
    "np.set_printoptions(suppress=True)\n",
    "np.set_printoptions(linewidth=2000) \n",
    "\n",
    "pd.set_option('mode.chained_assignment',  None)\n",
    "\n",
    "pd.set_option('display.max_rows', 500)\n",
    "pd.set_option('display.max_columns', 500)\n",
    "pd.set_option('display.width', 1000)"
   ]
  },
  {
   "cell_type": "markdown",
   "id": "85fd6ef6-8f11-41e0-a0cb-88bfc01e1f2a",
   "metadata": {},
   "source": [
    "# KiwoomCustom"
   ]
  },
  {
   "cell_type": "code",
   "execution_count": 7,
   "id": "9e0add87-ea2a-4007-8a7b-0804e9176a29",
   "metadata": {},
   "outputs": [],
   "source": [
    "import math\n",
    "\n",
    "class KiwoomCustom(Kiwoom):\n",
    "    def __init__(self, logfile_name):\n",
    "        super().__init__(logfile_name)\n",
    "        \n",
    "        # login\n",
    "        self.comm_connect()\n",
    "        if self.get_connect_state():\n",
    "            print(\"connected.\")\n",
    "        else:\n",
    "            print(\"disconnected.\")            \n",
    "        \n",
    "        self.account_number = self.get_login_info(\"ACCNO\").split(\";\")[0]\n",
    "        self.password = \"8974\"  # Todo, temporarily direct declaration\n",
    "        \n",
    "        self.OnReceiveRealData.connect(self.receive_real_data)        \n",
    "     \n",
    "    def block_request(self, *args, **kwargs):\n",
    "        trcode = args[0].lower()\n",
    "        lines = parser.read_enc(trcode)\n",
    "        self.tr_items = parser.parse_dat(trcode, lines)\n",
    "        self.tr_record = kwargs[\"output\"]\n",
    "        next = kwargs[\"next\"]\n",
    "\n",
    "        # set input\n",
    "        for id in kwargs:\n",
    "            if id.lower() != \"output\" and id.lower() != \"next\":\n",
    "                self.set_input_value(id, kwargs[id])\n",
    "\n",
    "        # initialize\n",
    "        self.received = False\n",
    "        self.tr_remained = False\n",
    "\n",
    "        # request\n",
    "        self.comm_rq_data(trcode, trcode, next, \"0101\")\n",
    "        while not self.received:\n",
    "            pythoncom.PumpWaitingMessages()\n",
    "\n",
    "        return self.tr_data\n",
    "    \n",
    "    def get_available_balance(self):\n",
    "\n",
    "        self.set_input_value(\"계좌번호\", self.account_number)\n",
    "        self.set_input_value(\"비밀번호\", self.password)\n",
    "        self.set_input_value(\"비밀번호입력매체구분\", \"00\")\n",
    "        self.set_input_value(\"조회구분\", \"3\")\n",
    "        self.comm_rq_data(\"예수금상세현황요청\", \"opw00001\", 0, \"2000\")\n",
    "\n",
    "        self.set_input_value(\"계좌번호\", self.account_number)\n",
    "        self.set_input_value(\"비밀번호\", self.password)\n",
    "        self.comm_rq_data(\"계좌평가잔고내역요청\", \"opw00018\", 0, \"2000\")\n",
    "        while self.inquiry == '2':\n",
    "            time.sleep(0.2)\n",
    "            self.set_input_value(\"계좌번호\", self.account_number)\n",
    "            self.set_input_value(\"비밀번호\", self.password)\n",
    "            self.comm_rq_data(\"계좌평가잔고내역요청\", \"opw00018\", 2, \"2000\")\n",
    "            \n",
    "        return self.data_opw00001\n",
    "    \n",
    "    def get_order_info(self):\n",
    "        \n",
    "        \"\"\"\n",
    "        계좌번호 = 전문 조회할 보유계좌번호\n",
    "        SetInputValue(\"계좌번호\"\t,  \"입력값 1\");\n",
    "        전체종목구분 = 0:전체, 1:종목\n",
    "        SetInputValue(\"전체종목구분\"\t,  \"입력값 2\");\n",
    "        매매구분 = 0:전체, 1:매도, 2:매수\n",
    "        SetInputValue(\"매매구분\"\t,  \"입력값 3\");\n",
    "        종목코드 = 전문 조회할 종목코드 (공백허용, 공백입력시 전체종목구분 \"0\" 입력하여 전체 종목 대상으로 조회)\n",
    "        SetInputValue(\"종목코드\"\t,  \"입력값 4\");\n",
    "        체결구분 = 0:전체, 2:체결, 1:미체결\n",
    "        SetInputValue(\"체결구분\"\t,  \"입력값 5\");\n",
    "        \"\"\"\n",
    "        \n",
    "        # 미체결요청\n",
    "        self.set_input_value(\"계좌번호\", self.account_number)\n",
    "        self.set_input_value(\"전체종목구분\", 0)\n",
    "        self.set_input_value(\"매매구분\", \"0\")\n",
    "        self.set_input_value(\"종목코드\", \"\")\n",
    "        self.set_input_value(\"체결구분\", \"0\")\n",
    "        self.comm_rq_data(\"미체결요청\", \"opt10075\", 0, \"2000\")\n",
    "       \n",
    "    # def get_order_info(self, code, account_number, order_id): \n",
    "    #     # 체결요청\n",
    "    #     self.set_input_value(\"종목코드\", code)\n",
    "    #     self.set_input_value(\"조회구분\", 0)\n",
    "    #     self.set_input_value(\"매도수구분\", \"0\")\n",
    "    #     self.set_input_value(\"계좌번호\", account_number)\n",
    "    #     self.set_input_value(\"비밀번호\", \"\")\n",
    "    #     self.set_input_value(\"주문번호\", order_id)\n",
    "    #     self.set_input_value(\"체결구분\", \"0\")\n",
    "    #     self.comm_rq_data(\"체결요청\", \"opt10076\", 0, \"2000\")\n",
    "        \n",
    "        return        \n",
    "        \n",
    "    def calc_with_hoga_unit(self, price):\n",
    "\n",
    "        \"\"\"\n",
    "        1. 체결을 고려해 올림을 기본으로 함 (+ 1 을 한 이유.)\n",
    "        \"\"\"\n",
    "\n",
    "        hoga_unit = self.get_hoga_unit(price)\n",
    "\n",
    "        return ((price // hoga_unit) + 1) * hoga_unit\n",
    "    \n",
    "    def on_receive_tr_data(self, screen_no, request_name, tr_code, record_name, inquiry, unused0, unused1, unused2,\n",
    "                           unused3):\n",
    "        \"\"\"\n",
    "        TR 수신 이벤트\n",
    "        조회요청 응답을 받거나 조회데이터를 수신했을 때 호출됩니다.\n",
    "        request_name tr_code comm_rq_data()메소드의 매개변수와 매핑되는 값 입니다.\n",
    "        조회데이터는 이 이벤트 메서드 내부에서 comm_get_data() 메서드를 이용해서 얻을 수 있습니다.\n",
    "        :param screen_no: string - 화면번호(4자리)\n",
    "        :param request_name: string - TR 요청명(comm_rq_data() 메소드 호출시 사용된 requestName)\n",
    "        :param tr_code: string\n",
    "        :param record_name: string\n",
    "        :param inquiry: string - 조회('0': 남은 데이터 없음, '2': 남은 데이터 있음)\n",
    "        \"\"\"\n",
    "\n",
    "        print(\"on_receive_tr_data 실행: screen_no: %s, request_name: %s, tr_code: %s, record_name: %s, inquiry: %s\" % (\n",
    "            screen_no, request_name, tr_code, record_name, inquiry))\n",
    "\n",
    "        # 주문번호와 주문루프\n",
    "        self.order_no = self.comm_get_data(tr_code, \"\", request_name, 0, \"주문번호\")\n",
    "\n",
    "        try:\n",
    "            self.order_loop.exit()\n",
    "        except AttributeError:\n",
    "            pass\n",
    "\n",
    "        self.inquiry = inquiry        \n",
    "\n",
    "        if request_name == \"예수금상세현황요청\":   \n",
    "            \n",
    "            key_list = [\"예수금\", \"주문가능금액\", \"d+1추정예수금\", \"d+2추정예수금\"]\n",
    "            for key in key_list:\n",
    "                value = self.comm_get_data(tr_code, \"\", request_name, 0, key)\n",
    "                # print(key, value)\n",
    "                \n",
    "                if key == \"주문가능금액\":                \n",
    "                    self.data_opw00001 = value\n",
    "\n",
    "        if request_name == '계좌평가잔고내역요청':\n",
    "            \n",
    "            # init data_opw00018            \n",
    "            self.data_opw00018 = {'account_evaluation': [], 'stocks': []}\n",
    "            \n",
    "            # 계좌 평가 정보\n",
    "            account_evaluation = []\n",
    "            key_list = [\"총매입금액\", \"총평가금액\", \"총평가손익금액\", \"총수익률(%)\", \"추정예탁자산\"]\n",
    "\n",
    "            for key in key_list:\n",
    "                value = self.comm_get_data(tr_code, \"\", request_name, 0, key)\n",
    "                # print(key, value)\n",
    "\n",
    "                if key.startswith(\"총수익률\"):\n",
    "                    value = self.change_format(value, 2)\n",
    "                else:\n",
    "                    value = self.change_format(value)\n",
    "                    \n",
    "                account_evaluation.append(value)\n",
    "            self.data_opw00018['account_evaluation'] = account_evaluation\n",
    "\n",
    "            # 보유 종목 정보\n",
    "            cnt = self.get_repeat_cnt(tr_code, request_name)\n",
    "            key_list = [\"종목명\", \"보유수량\", \"매입가\", \"현재가\", \"평가손익\", \"수익률(%)\", \"종목번호\"]\n",
    "            \n",
    "            # 보유 종목 별로 stock 에 list 로 담기\n",
    "            for i in range(cnt):\n",
    "                stock = []\n",
    "                for key in key_list:\n",
    "                    value = self.comm_get_data(tr_code, \"\", request_name, i, key)\n",
    "                    # print(key, value)\n",
    "                    \n",
    "                    if key.startswith(\"수익률\"):\n",
    "                        value = self.change_format(value, 2)\n",
    "                    elif key != \"종목명\" and key != \"종목번호\":\n",
    "                        value = self.change_format(value)\n",
    "                        \n",
    "                    stock.append(value)                    \n",
    "                self.data_opw00018['stocks'].append(stock)\n",
    "                \n",
    "        if request_name == '미체결요청':\n",
    "            \n",
    "            key_list = [\"종목코드\", \"종목명\", \"주문상태\", \"주문수량\", \"미체결수량\", \"수익률(%)\", \"종목번호\"]\n",
    "            for key in key_list:\n",
    "                value = self.comm_get_data(tr_code, \"\", request_name, 0, key)\n",
    "                print(key, value, type(value))\n",
    "                \n",
    "        try:\n",
    "            self.request_loop.exit()\n",
    "        except AttributeError:\n",
    "            pass\n",
    "    \n",
    "\n",
    "    def receive_real_data(self, code, real_type, real_data):\n",
    "        \n",
    "        \"\"\"\n",
    "        실시간 데이터 수신 이벤트\n",
    "        실시간 데이터를 수신할 때 마다 호출되며,\n",
    "        set_real_reg() 메서드로 등록한 실시간 데이터도 이 이벤트 메서드에 전달됩니다.\n",
    "        get_comm_real_data() 메서드를 이용해서 실시간 데이터를 얻을 수 있습니다.\n",
    "        :param code: string - 종목코드\n",
    "        :param real_type: string - 실시간 타입(KOA의 실시간 목록 참조)\n",
    "        :param real_data: string - 실시간 데이터 전문\n",
    "        \"\"\"\n",
    "\n",
    "        data = []\n",
    "\n",
    "        try:\n",
    "            self.log.debug(\"[receiveRealData]\")\n",
    "            self.log.debug(\"({})\".format(real_type))\n",
    "\n",
    "            if real_type not in RealType.REALTYPE:\n",
    "                return\n",
    "\n",
    "            if code != \"\":\n",
    "                data.append(code)\n",
    "                codeOrNot = code\n",
    "            else:\n",
    "                codeOrNot = real_type\n",
    "\n",
    "            for fid in sorted(RealType.REALTYPE[real_type].keys()):\n",
    "                value = self.get_comm_real_data(codeOrNot, fid)\n",
    "                data.append(value)\n",
    "\n",
    "            # TODO: DB에 저장\n",
    "            self.log.debug(data)\n",
    "\n",
    "        except Exception as e:\n",
    "            self.log.error('{}'.format(e))\n",
    "\n",
    "        return data\n",
    "\n",
    "    @staticmethod\n",
    "    def change_format(data, mode=0):\n",
    "        \n",
    "        # string 맘에 안들어서 일단은 모두 숫자로 변경함.\n",
    "        if mode == 0:\n",
    "            format_data = int(data)\n",
    "        elif mode == 2:\n",
    "            format_data = float(data) / 100\n",
    "            \n",
    "        return format_data\n",
    "    \n",
    "    @staticmethod\n",
    "    def get_hoga_unit(price):\n",
    "\n",
    "        if price < 2000:\n",
    "            return 1\n",
    "        elif price < 5000:\n",
    "            return 5\n",
    "        elif price < 20000:\n",
    "            return 10\n",
    "        elif price < 50000:\n",
    "            return 50\n",
    "        elif price < 200000:\n",
    "            return 100\n",
    "        elif price < 500000:\n",
    "            return 500\n",
    "        else:\n",
    "            return 1000        \n",
    "\n",
    "    @staticmethod\n",
    "    def calc_with_precision(data, data_precision, def_type='floor'):\n",
    "        \n",
    "        \"\"\"        \n",
    "        1. quantity 는 Stock 특성상 '0' precision 사용함.\n",
    "        \"\"\"\n",
    "\n",
    "        if not pd.isna(data):\n",
    "            if data_precision > 0:\n",
    "                if def_type == 'floor':\n",
    "                    data = math.floor(data * (10 ** data_precision)) / (10 ** data_precision)\n",
    "                elif def_type == 'round':\n",
    "                    data = float(round(data, data_precision))\n",
    "                else:\n",
    "                    data = math.ceil(data * (10 ** data_precision)) / (10 ** data_precision)\n",
    "            else:\n",
    "                data = int(data)\n",
    "\n",
    "        return data"
   ]
  },
  {
   "cell_type": "markdown",
   "id": "549e8665-c4d1-4a22-88c0-0e9dc5734dc6",
   "metadata": {
    "tags": []
   },
   "source": [
    "## login"
   ]
  },
  {
   "cell_type": "code",
   "execution_count": 8,
   "id": "e065a819-a567-429c-9390-4bf43c6d7679",
   "metadata": {},
   "outputs": [
    {
     "name": "stdout",
     "output_type": "stream",
     "text": [
      "on_receive_tr_data 실행: screen_no: 0102, request_name: 서버구분, tr_code: KOA_NORMAL_BUY_KP_ORD, record_name: , inquiry: \n",
      "connected.\n"
     ]
    }
   ],
   "source": [
    "app = QApplication(sys.argv)\n",
    "kiwoom = KiwoomCustom('D:\\Projects\\System_Trading\\PyTrader\\logging.conf')"
   ]
  },
  {
   "cell_type": "markdown",
   "id": "7b5426de-1dd2-41d1-bb41-0de82f1ae1b9",
   "metadata": {},
   "source": [
    "## get_available_balance"
   ]
  },
  {
   "cell_type": "code",
   "execution_count": null,
   "id": "688aa360-29a9-4165-96a7-a3733844cc02",
   "metadata": {},
   "outputs": [],
   "source": [
    "available_balance = kiwoom.get_available_balance()\n",
    "# available_balance = get_available_balance(kiwoom)\n",
    "\n",
    "print(available_balance)\n",
    "print(kiwoom.data_opw00018['account_evaluation'])  # 총매입 총평가 총손익 수익 ? 추정자산\n",
    "print(kiwoom.data_opw00018['stocks'])"
   ]
  },
  {
   "cell_type": "markdown",
   "id": "af33d68f-d1de-45d2-9f4c-a7aada57f946",
   "metadata": {},
   "source": [
    "## realtime price"
   ]
  },
  {
   "cell_type": "code",
   "execution_count": 10,
   "id": "5e281ee0-d19f-439f-8409-21e980e67fc2",
   "metadata": {},
   "outputs": [
    {
     "name": "stdout",
     "output_type": "stream",
     "text": [
      "2023-02-27 08:47:32,872 - Kiwoom - DEBUG    - [receiveRealData]\n",
      "2023-02-27 08:47:32,872 - Kiwoom - DEBUG    - (주식시세)\n",
      "2023-02-27 08:47:32,873 - Kiwoom - DEBUG    - ['064480', '', '', '', '', '', '', '', '', '', '', '', '', '', '', '', '', '']\n",
      "data : ['064480', '', '', '', '', '', '', '', '', '', '', '', '', '', '', '', '', '']\n",
      "2023-02-27 08:47:33,885 - Kiwoom - DEBUG    - [receiveRealData]\n",
      "2023-02-27 08:47:33,885 - Kiwoom - DEBUG    - (주식시세)\n",
      "2023-02-27 08:47:33,886 - Kiwoom - DEBUG    - ['064480', '', '', '', '', '', '', '', '', '', '', '', '', '', '', '', '', '']\n",
      "data : ['064480', '', '', '', '', '', '', '', '', '', '', '', '', '', '', '', '', '']\n",
      "2023-02-27 08:47:34,897 - Kiwoom - DEBUG    - [receiveRealData]\n",
      "2023-02-27 08:47:34,897 - Kiwoom - DEBUG    - (주식시세)\n",
      "2023-02-27 08:47:34,898 - Kiwoom - DEBUG    - ['064480', '', '', '', '', '', '', '', '', '', '', '', '', '', '', '', '', '']\n",
      "data : ['064480', '', '', '', '', '', '', '', '', '', '', '', '', '', '', '', '', '']\n",
      "2023-02-27 08:47:35,912 - Kiwoom - DEBUG    - [receiveRealData]\n",
      "2023-02-27 08:47:35,912 - Kiwoom - DEBUG    - (주식시세)\n",
      "2023-02-27 08:47:35,913 - Kiwoom - DEBUG    - ['064480', '', '', '', '', '', '', '', '', '', '', '', '', '', '', '', '', '']\n",
      "data : ['064480', '', '', '', '', '', '', '', '', '', '', '', '', '', '', '', '', '']\n"
     ]
    },
    {
     "ename": "KeyboardInterrupt",
     "evalue": "",
     "output_type": "error",
     "traceback": [
      "\u001b[1;31m---------------------------------------------------------------------------\u001b[0m",
      "\u001b[1;31mKeyboardInterrupt\u001b[0m                         Traceback (most recent call last)",
      "Cell \u001b[1;32mIn[10], line 19\u001b[0m\n\u001b[0;32m     17\u001b[0m data \u001b[38;5;241m=\u001b[39m kiwoom\u001b[38;5;241m.\u001b[39mreceive_real_data(\u001b[38;5;124m\"\u001b[39m\u001b[38;5;124m064480\u001b[39m\u001b[38;5;124m\"\u001b[39m, real_type, real_data)\n\u001b[0;32m     18\u001b[0m \u001b[38;5;28mprint\u001b[39m(\u001b[38;5;124m\"\u001b[39m\u001b[38;5;124mdata :\u001b[39m\u001b[38;5;124m\"\u001b[39m, data)\n\u001b[1;32m---> 19\u001b[0m \u001b[43mtime\u001b[49m\u001b[38;5;241;43m.\u001b[39;49m\u001b[43msleep\u001b[49m\u001b[43m(\u001b[49m\u001b[38;5;241;43m1\u001b[39;49m\u001b[43m)\u001b[49m\n",
      "\u001b[1;31mKeyboardInterrupt\u001b[0m: "
     ]
    }
   ],
   "source": [
    "\"\"\"\n",
    "use for realtime price\n",
    "\"\"\"     \n",
    "def get_market_price_v2(self):\n",
    "    while 1:\n",
    "        res = self.connections[0].price\n",
    "        if res is not None:\n",
    "            return res\n",
    "\n",
    "        \n",
    "code = \"064480\"\n",
    "real_type = \"주식시세\"\n",
    "real_data = \"10\"\n",
    "\n",
    "while 1:\n",
    "    \n",
    "    data = kiwoom.receive_real_data(\"064480\", real_type, real_data)\n",
    "    print(\"data :\", data)\n",
    "    time.sleep(1)"
   ]
  },
  {
   "cell_type": "markdown",
   "id": "db135ad4-16be-4772-9029-f13c48c035ee",
   "metadata": {},
   "source": [
    "## precision (hoga_unit)"
   ]
  },
  {
   "cell_type": "code",
   "execution_count": 10,
   "id": "827106b0-aa83-4ac7-99a2-e906fa902d51",
   "metadata": {},
   "outputs": [
    {
     "data": {
      "text/plain": [
       "6890"
      ]
     },
     "execution_count": 10,
     "metadata": {},
     "output_type": "execute_result"
    }
   ],
   "source": [
    "kiwoom.calc_with_hoga_unit(6888)\n",
    "# calc_with_precision(102.34, 0)"
   ]
  },
  {
   "cell_type": "markdown",
   "id": "6c12358b-f3ef-40be-ae63-638e2c41948d",
   "metadata": {},
   "source": [
    "## get_order_info"
   ]
  },
  {
   "cell_type": "code",
   "execution_count": 7,
   "id": "7a00f248-a0cd-4868-a22f-6cfd0b424906",
   "metadata": {},
   "outputs": [],
   "source": [
    "def get_order_info(self):\n",
    "        \n",
    "        \"\"\"\n",
    "        계좌번호 = 전문 조회할 보유계좌번호\n",
    "        SetInputValue(\"계좌번호\"\t,  \"입력값 1\");\n",
    "        전체종목구분 = 0:전체, 1:종목\n",
    "        SetInputValue(\"전체종목구분\"\t,  \"입력값 2\");\n",
    "        매매구분 = 0:전체, 1:매도, 2:매수\n",
    "        SetInputValue(\"매매구분\"\t,  \"입력값 3\");\n",
    "        종목코드 = 전문 조회할 종목코드 (공백허용, 공백입력시 전체종목구분 \"0\" 입력하여 전체 종목 대상으로 조회)\n",
    "        SetInputValue(\"종목코드\"\t,  \"입력값 4\");\n",
    "        체결구분 = 0:전체, 2:체결, 1:미체결\n",
    "        SetInputValue(\"체결구분\"\t,  \"입력값 5\");\n",
    "        \"\"\"\n",
    "        \n",
    "        # 미체결요청\n",
    "        self.set_input_value(\"계좌번호\", self.account_number)\n",
    "        self.set_input_value(\"전체종목구분\", 0)\n",
    "        self.set_input_value(\"매매구분\", \"0\")\n",
    "        self.set_input_value(\"종목코드\", \"\")\n",
    "        self.set_input_value(\"체결구분\", \"2\")\n",
    "        self.comm_rq_data(\"미체결요청\", \"opt10075\", 0, \"2000\")"
   ]
  },
  {
   "cell_type": "code",
   "execution_count": 8,
   "id": "81b7990f-c80f-4a63-adb3-a5560bf941d0",
   "metadata": {},
   "outputs": [
    {
     "name": "stdout",
     "output_type": "stream",
     "text": [
      "return_code : 0\n",
      "on_receive_tr_data 실행: screen_no: 2000, request_name: 미체결요청, tr_code: opt10075, record_name: , inquiry: 0\n",
      "종목코드  <class 'str'>\n",
      "종목명  <class 'str'>\n",
      "주문상태  <class 'str'>\n",
      "주문수량  <class 'str'>\n",
      "미체결수량  <class 'str'>\n",
      "수익률(%)  <class 'str'>\n",
      "종목번호  <class 'str'>\n"
     ]
    }
   ],
   "source": [
    "# kiwoom.get_order_info()\n",
    "get_order_info(kiwoom)"
   ]
  },
  {
   "cell_type": "code",
   "execution_count": null,
   "id": "0ff6d8f3-8b30-415d-9c1d-f1ac5a190222",
   "metadata": {},
   "outputs": [],
   "source": [
    "# kiwoom.on_receive_chejan_data\n",
    "# kiwoom.GetChejanData(910)\n",
    "kiwoom.on_receive_chejan_data(\"1\", 1, \"9203\")"
   ]
  },
  {
   "cell_type": "markdown",
   "id": "bbad28b8-5866-4a36-8920-483be4a3c0d7",
   "metadata": {},
   "source": [
    "### staticmethod"
   ]
  },
  {
   "cell_type": "code",
   "execution_count": 11,
   "id": "3b324571-3cd0-4958-b717-904e5b90684f",
   "metadata": {},
   "outputs": [],
   "source": [
    "   \n",
    "\"\"\"\n",
    "체결요청 기준으로 가능해보임 (미체결요청보다, 차라리 체결 요청 기준하는게 나을 것도 같음.\n",
    "\"\"\"\n",
    "@staticmethod\n",
    "def get_exec_price(order_info):\n",
    "    if order_info.origType == OrderType.LIMIT:\n",
    "        exec_price = float(order_info.price)\n",
    "    else:\n",
    "        exec_price = float(order_info.avgPrice)\n",
    "\n",
    "    return exec_price\n",
    "\n",
    "@staticmethod\n",
    "def get_exec_qty(order_info):\n",
    "    return float(order_info.executedQty)\n",
    "\n",
    "@staticmethod\n",
    "def get_exec_ratio(order_info):\n",
    "    return float(order_info.executedQty) / float(order_info.origQty)\n",
    "\n",
    "@staticmethod\n",
    "def check_execution(order_info, qty_precision):\n",
    "    return (float(order_info.origQty) - float(order_info.executedQty)) < 1 / (10 ** qty_precision)\n",
    "\n",
    "\n",
    "@staticmethod\n",
    "def get_precision_by_price(price):\n",
    "    try:\n",
    "        precision = len(str(price).split('.')[1])\n",
    "    except Exception as e:\n",
    "        precision = 0\n",
    "    return precision"
   ]
  },
  {
   "cell_type": "markdown",
   "id": "be095487-4af0-4033-bc83-49d142ab8af7",
   "metadata": {
    "tags": []
   },
   "source": [
    "# Get ticker data"
   ]
  },
  {
   "cell_type": "markdown",
   "id": "c2cbf157-fbe5-45d7-b967-cbc1c62a11e0",
   "metadata": {},
   "source": [
    "## 분봉차트 조회요청"
   ]
  },
  {
   "cell_type": "code",
   "execution_count": 6,
   "id": "23ea33ef-c274-4a51-a605-1ae0dc1b1973",
   "metadata": {},
   "outputs": [
    {
     "name": "stdout",
     "output_type": "stream",
     "text": [
      "return_code : 0\n",
      "on_receive_tr_data 실행: screen_no: 0101, request_name: opt10080, tr_code: opt10080, record_name: , inquiry: 2\n"
     ]
    },
    {
     "ename": "KeyboardInterrupt",
     "evalue": "",
     "output_type": "error",
     "traceback": [
      "\u001b[1;31m---------------------------------------------------------------------------\u001b[0m",
      "\u001b[1;31mKeyboardInterrupt\u001b[0m                         Traceback (most recent call last)",
      "Cell \u001b[1;32mIn[6], line 27\u001b[0m\n\u001b[0;32m     24\u001b[0m os\u001b[38;5;241m.\u001b[39mmakedirs(os\u001b[38;5;241m.\u001b[39mpath\u001b[38;5;241m.\u001b[39mjoin(database_path, date), exist_ok\u001b[38;5;241m=\u001b[39m\u001b[38;5;28;01mTrue\u001b[39;00m)\n\u001b[0;32m     26\u001b[0m \u001b[38;5;28;01mtry\u001b[39;00m:\n\u001b[1;32m---> 27\u001b[0m     df_min_chart \u001b[38;5;241m=\u001b[39m \u001b[43mkiwoom\u001b[49m\u001b[38;5;241;43m.\u001b[39;49m\u001b[43mblock_request\u001b[49m\u001b[43m(\u001b[49m\u001b[43mtrcode\u001b[49m\u001b[43m,\u001b[49m\n\u001b[0;32m     28\u001b[0m \u001b[43m                              \u001b[49m\u001b[43m종목코드\u001b[49m\u001b[38;5;241;43m=\u001b[39;49m\u001b[43minput_1\u001b[49m\u001b[43m,\u001b[49m\n\u001b[0;32m     29\u001b[0m \u001b[43m                              \u001b[49m\u001b[43m틱범위\u001b[49m\u001b[38;5;241;43m=\u001b[39;49m\u001b[43minput_2\u001b[49m\u001b[43m,\u001b[49m\n\u001b[0;32m     30\u001b[0m \u001b[43m                              \u001b[49m\u001b[43m수정주가구분\u001b[49m\u001b[38;5;241;43m=\u001b[39;49m\u001b[43minput_3\u001b[49m\u001b[43m,\u001b[49m\n\u001b[0;32m     31\u001b[0m \u001b[43m                              \u001b[49m\u001b[43moutput\u001b[49m\u001b[38;5;241;43m=\u001b[39;49m\u001b[38;5;124;43m\"\u001b[39;49m\u001b[38;5;124;43m주식분봉차트조회\u001b[39;49m\u001b[38;5;124;43m\"\u001b[39;49m\u001b[43m,\u001b[49m\n\u001b[0;32m     32\u001b[0m \u001b[43m                              \u001b[49m\u001b[38;5;28;43mnext\u001b[39;49m\u001b[38;5;241;43m=\u001b[39;49m\u001b[38;5;241;43m0\u001b[39;49m\u001b[43m)\u001b[49m\n\u001b[0;32m     34\u001b[0m     \u001b[38;5;66;03m# 1. col_name 변경\u001b[39;00m\n\u001b[0;32m     35\u001b[0m     \u001b[38;5;66;03m# 2. index 수정 및 data type integer 사용\u001b[39;00m\n\u001b[0;32m     36\u001b[0m     new_df \u001b[38;5;241m=\u001b[39m df_min_chart[columns]\n",
      "Cell \u001b[1;32mIn[3], line 26\u001b[0m, in \u001b[0;36mKiwoomCustom.block_request\u001b[1;34m(self, *args, **kwargs)\u001b[0m\n\u001b[0;32m     24\u001b[0m \u001b[38;5;28mself\u001b[39m\u001b[38;5;241m.\u001b[39mcomm_rq_data(trcode, trcode, \u001b[38;5;28mnext\u001b[39m, \u001b[38;5;124m\"\u001b[39m\u001b[38;5;124m0101\u001b[39m\u001b[38;5;124m\"\u001b[39m)\n\u001b[0;32m     25\u001b[0m \u001b[38;5;28;01mwhile\u001b[39;00m \u001b[38;5;129;01mnot\u001b[39;00m \u001b[38;5;28mself\u001b[39m\u001b[38;5;241m.\u001b[39mreceived:\n\u001b[1;32m---> 26\u001b[0m     \u001b[43mpythoncom\u001b[49m\u001b[38;5;241;43m.\u001b[39;49m\u001b[43mPumpWaitingMessages\u001b[49m\u001b[43m(\u001b[49m\u001b[43m)\u001b[49m\n\u001b[0;32m     28\u001b[0m \u001b[38;5;28;01mreturn\u001b[39;00m \u001b[38;5;28mself\u001b[39m\u001b[38;5;241m.\u001b[39mtr_data\n",
      "\u001b[1;31mKeyboardInterrupt\u001b[0m: "
     ]
    }
   ],
   "source": [
    "\"\"\"\n",
    "종목코드 = 전문 조회할 종목코드\n",
    "SetInputValue(\"종목코드\"\t,  \"입력값 1\");\n",
    "\n",
    "틱범위 = 1:1분, 3:3분, 5:5분, 10:10분, 15:15분, 30:30분, 45:45분, 60:60분\n",
    "SetInputValue(\"틱범위\"\t,  \"입력값 2\");\n",
    "\n",
    "수정주가구분 = 0 or 1, 수신데이터 1:유상증자, 2:무상증자, 4:배당락, 8:액면분할, 16:액면병합, 32:기업합병, 64:감자, 256:권리락\n",
    "SetInputValue(\"수정주가구분\"\t,  \"입력값 3\");\n",
    "\"\"\"\n",
    "\n",
    "trcode = \"opt10080\"\n",
    "\n",
    "input_1 = \"064090\"\n",
    "input_2 = \"1\"\n",
    "input_3 = \"0\"\n",
    "\n",
    "columns = ['체결시간', '시가', '고가', '저가', '현재가', '거래량']\n",
    "new_columns=['index', 'open', 'high', 'low', 'close', 'volume']\n",
    "\n",
    "save_mode = 0\n",
    "database_path = 'D:\\\\Projects\\\\System_Trading\\\\JnQ\\\\database\\\\kiwoom\\\\non_cum'\n",
    "date = \"2023-02-23\"\n",
    "os.makedirs(os.path.join(database_path, date), exist_ok=True)\n",
    "\n",
    "try:\n",
    "    df_min_chart = kiwoom.block_request(trcode,\n",
    "                              종목코드=input_1,\n",
    "                              틱범위=input_2,\n",
    "                              수정주가구분=input_3,\n",
    "                              output=\"주식분봉차트조회\",\n",
    "                              next=0)\n",
    "    \n",
    "    # 1. col_name 변경\n",
    "    # 2. index 수정 및 data type integer 사용\n",
    "    new_df = df_min_chart[columns]\n",
    "    new_df.columns = new_columns\n",
    "    new_df = new_df.set_index('index').astype(int).abs()\n",
    "    \n",
    "    # 3. 시계열 순서로 데이터 정렬 및 index datetime type 으로 변환.\n",
    "    if new_df.index.dtype != str:\n",
    "        timeindex = pd.to_datetime(new_df.index.astype(str))\n",
    "        new_df.index = timeindex\n",
    "        new_df = new_df.sort_index()\n",
    "        \n",
    "    # 4. check save.\n",
    "    if save_mode:\n",
    "        data_save_name = \"{} {}.pkl\".format(date, input_1)\n",
    "        data_save_path = os.path.join(database_path, date, data_save_name)\n",
    "\n",
    "        new_df.to_pickle(data_save_path)\n",
    "        print(data_save_path, \"saved\")\n",
    "        \n",
    "except Exception as e:\n",
    "    print(e)"
   ]
  },
  {
   "cell_type": "code",
   "execution_count": 7,
   "id": "c3991b9e-6f48-40c4-b4dd-6c387f971039",
   "metadata": {},
   "outputs": [
    {
     "ename": "NameError",
     "evalue": "name 'new_df' is not defined",
     "output_type": "error",
     "traceback": [
      "\u001b[1;31m---------------------------------------------------------------------------\u001b[0m",
      "\u001b[1;31mNameError\u001b[0m                                 Traceback (most recent call last)",
      "Cell \u001b[1;32mIn[7], line 1\u001b[0m\n\u001b[1;32m----> 1\u001b[0m \u001b[43mnew_df\u001b[49m\u001b[38;5;241m.\u001b[39mloc[\u001b[38;5;124m\"\u001b[39m\u001b[38;5;124m2023-02-23 15:13:00\u001b[39m\u001b[38;5;124m\"\u001b[39m:\u001b[38;5;124m\"\u001b[39m\u001b[38;5;124m2023-02-24 11:13:00\u001b[39m\u001b[38;5;124m\"\u001b[39m]\n",
      "\u001b[1;31mNameError\u001b[0m: name 'new_df' is not defined"
     ]
    }
   ],
   "source": [
    "new_df.loc[\"2023-02-23 15:13:00\":\"2023-02-24 11:13:00\"] #.index"
   ]
  },
  {
   "cell_type": "markdown",
   "id": "46cde502-b4eb-4a7d-a7ad-c9a0a464da00",
   "metadata": {},
   "source": [
    "## 전일대비등락률상위요청"
   ]
  },
  {
   "cell_type": "code",
   "execution_count": 40,
   "id": "6deb1826-f43e-4bd1-809e-276d702fbf0a",
   "metadata": {},
   "outputs": [
    {
     "name": "stdout",
     "output_type": "stream",
     "text": [
      "{'trcode': 'opt10027', 'input': [{'전일대비등락률상위요청': ['시장구분', '정렬구분', '거래량조건', '종목조건', '신용조건', '상하한포함', '가격조건', '거래대금조건']}], 'output': [{'전일대비등락률상위': ['종목분류', '종목코드', '종목명', '현재가', '전일대비기호', '전일대비', '등락률', '매도잔량', '매수잔량', '현재거래량', '체결강도', '횟수']}]}\n"
     ]
    }
   ],
   "source": [
    "\"\"\"\n",
    "시장구분 = 000:전체, 001:코스피, 101:코스닥\n",
    "SetInputValue(\"시장구분\"\t,  \"입력값 1\");\n",
    "\n",
    "정렬구분 = 1:상승률, 2:상승폭, 3:하락률, 4:하락폭, 5:보합\n",
    "SetInputValue(\"정렬구분\"\t,  \"입력값 2\");\n",
    "\n",
    "거래량조건 = 0000:전체조회, 0010:만주이상, 0050:5만주이상, 0100:10만주이상, 0150:15만주이상, 0200:20만주이상, 0300:30만주이상, 0500:50만주이상, 1000:백만주이상\n",
    "SetInputValue(\"거래량조건\"\t,  \"입력값 3\");\n",
    "\n",
    "종목조건 = 0:전체조회, 1:관리종목제외, 4:우선주+관리주제외, 3:우선주제외, 5:증100제외, 6:증100만보기, 7:증40만보기, 8:증30만보기, 9:증20만보기, 11:정리매매종목제외, 12:증50만 보기, 13:증60만 보기, 14:ETF제외, 15:스팩제외, 16:ETF+ETN제외\n",
    "SetInputValue(\"종목조건\"\t,  \"입력값 4\");\n",
    "\n",
    "신용조건 = 0:전체조회, 1:신용융자A군, 2:신용융자B군, 3:신용융자C군, 4:신용융자D군, 5:신용한도초과제외, 8:신용대주, 9:신용융자전체\n",
    "SetInputValue(\"신용조건\"\t,  \"입력값 5\");\n",
    "\n",
    "상하한포함 = 0:불 포함, 1:포함\n",
    "SetInputValue(\"상하한포함\"\t,  \"입력값 6\");\n",
    "\n",
    "가격조건 = 0:전체조회, 1:1천원미만, 2:1천원~2천원, 3:2천원~5천원, 4:5천원~1만원, 5:1만원이상, 8:1천원이상, 10:1만원미만\n",
    "SetInputValue(\"가격조건\"\t,  \"입력값 7\");\n",
    "\n",
    "거래대금조건 = 0:전체조회, 3:3천만원이상, 5:5천만원이상, 10:1억원이상, 30:3억원이상, 50:5억원이상, 100:10억원이상, 300:30억원이상, 500:50억원이상, 1000:100억원이상, 3000:300억원이상, 5000:500억원이상\n",
    "SetInputValue(\"거래대금조건\"\t,  \"입력값 8\");\n",
    "\"\"\"\n",
    "\n",
    "trcode = \"opt10027\"\n",
    "\n",
    "input_1 = \"101\"\n",
    "input_2 = \"1\"\n",
    "input_3 = \"0000\"\n",
    "input_4 = \"0\"\n",
    "input_5 = \"0\"\n",
    "input_6 = \"1\"\n",
    "input_7 =\"0\"\n",
    "input_8 =\"0\"\n",
    "\n",
    "try:\n",
    "    df_high_fluc = kiwoom.block_request(trcode,\n",
    "                              시장구분=input_1,\n",
    "                              정렬구분=input_2,\n",
    "                              거래량조건=input_3,\n",
    "                              종목조건=input_4,\n",
    "                              신용조건=input_5,\n",
    "                              상하한포함=input_6,\n",
    "                              가격조건=input_7,\n",
    "                              거래대금조건=input_8,\n",
    "                              output=\"전일대비등락률상위\",\n",
    "                              next=0)\n",
    "except Exception as e:\n",
    "    print(e)"
   ]
  },
  {
   "cell_type": "markdown",
   "id": "d0b88dde-c4c4-4a0a-81ae-b7716e83e3e8",
   "metadata": {},
   "source": [
    "### 상위 종목 데이터 수집"
   ]
  },
  {
   "cell_type": "code",
   "execution_count": 49,
   "id": "2241478b-9854-4d31-bcfd-4d84cf30da2f",
   "metadata": {},
   "outputs": [
    {
     "name": "stdout",
     "output_type": "stream",
     "text": [
      "D:\\Projects\\System_Trading\\JnQ\\database\\kiwoom\\non_cum\\2023-02-24\\rank.pkl saved\n"
     ]
    },
    {
     "ename": "SyntaxError",
     "evalue": "'break' outside loop (1913775972.py, line 14)",
     "output_type": "error",
     "traceback": [
      "\u001b[1;36m  Cell \u001b[1;32mIn[49], line 14\u001b[1;36m\u001b[0m\n\u001b[1;33m    break\u001b[0m\n\u001b[1;37m    ^\u001b[0m\n\u001b[1;31mSyntaxError\u001b[0m\u001b[1;31m:\u001b[0m 'break' outside loop\n"
     ]
    }
   ],
   "source": [
    "columns = ['체결시간', '시가', '고가', '저가', '현재가', '거래량']\n",
    "new_columns=['index', 'open', 'high', 'low', 'close', 'volume']\n",
    "\n",
    "save_mode = 1\n",
    "database_path = 'D:\\\\Projects\\\\System_Trading\\\\JnQ\\\\database\\\\kiwoom\\\\non_cum'\n",
    "date = str(new_df.index[-1]).split(\" \")[0]\n",
    "os.makedirs(os.path.join(database_path, date), exist_ok=True)\n",
    "\n",
    "if save_mode:    \n",
    "    rank_save_path = os.path.join(database_path, date, \"rank.pkl\")\n",
    "    df_high_fluc.종목코드.to_pickle(rank_save_path)\n",
    "    print(rank_save_path, \"saved\")\n",
    "\n",
    "for input_1 in df_high_fluc.종목코드:    \n",
    "    try:\n",
    "        df_min_chart = kiwoom.block_request(\"opt10080\",\n",
    "                                  종목코드=input_1,\n",
    "                                  틱범위=input_2,\n",
    "                                  수정주가구분=input_3,\n",
    "                                  output=\"주식분봉차트조회\",\n",
    "                                  next=0)\n",
    "\n",
    "        # 1. col_name 변경\n",
    "        # 2. index 수정 및 data type integer 사용\n",
    "        new_df = df_min_chart[columns]\n",
    "        new_df.columns = new_columns\n",
    "        new_df = new_df.set_index('index').astype(int).abs()\n",
    "\n",
    "        # 3. 시계열 순서로 데이터 정렬 및 index datetime type 으로 변환.\n",
    "        if new_df.index.dtype != str:\n",
    "            timeindex = pd.to_datetime(new_df.index.astype(str))\n",
    "            new_df.index = timeindex\n",
    "            new_df = new_df.sort_index()\n",
    "\n",
    "        # 4. check save.\n",
    "        if save_mode:\n",
    "            data_save_name = \"{} {}.pkl\".format(date, input_1)\n",
    "            data_save_path = os.path.join(database_path, date, data_save_name)\n",
    "\n",
    "            new_df.to_pickle(data_save_path)\n",
    "            print(data_save_path, \"saved\")\n",
    "\n",
    "    except Exception as e:\n",
    "        print(e)\n",
    "        \n",
    "    \"\"\"kiwoom API limit term\"\"\"\n",
    "    time.sleep(0.5)"
   ]
  },
  {
   "cell_type": "markdown",
   "id": "1f0a6a49-73b3-4005-b7b2-4da43b957554",
   "metadata": {
    "tags": []
   },
   "source": [
    "## 상하한가 요청"
   ]
  },
  {
   "cell_type": "code",
   "execution_count": 3,
   "id": "fcd4a589-4b04-4177-b313-ed508eb5b6fc",
   "metadata": {},
   "outputs": [
    {
     "name": "stdout",
     "output_type": "stream",
     "text": [
      "{'trcode': 'opt10017', 'input': [{'상하한가요청': ['시장구분', '상하한구분', '정렬구분', '종목조건', '거래량구분', '신용조건', '매매금구분']}], 'output': [{'상하한가': ['종목코드', '종목정보', '종목명', '현재가', '전일대비기호', '전일대비', '등락률', '거래량', '전일거래량', '매도잔량', '매도호가', '매수호가', '매수잔량', '횟수']}]}\n"
     ]
    }
   ],
   "source": [
    "'''\n",
    "시장구분 = 000:전체, 001:코스피, 101:코스닥\n",
    "상하한구분 = 1:상한, 2:상승, 3:보합, 4: 하한, 5:하락, 6:전일상한, 7:전일하한\n",
    "정렬구분 = 1:종목코드순, 2:연속횟수순(상위100개), 3:등락률순\n",
    "종목조건 = 0:전체조회,1:관리종목제외, 3:우선주제외, 4:우선주+관리종목제외, 5:증100제외, 6:증100만 보기, 7:증40만 보기, 8:증30만 보기, 9:증20만 보기, 10:우선주+관리종목+환기종목제외\n",
    "거래량구분 = 00000:전체조회, 00010:만주이상, 00050:5만주이상, 00100:10만주이상, 00150:15만주이상, 00200:20만주이상, 00300:30만주이상, 00500:50만주이상, 01000:백만주이상\n",
    "신용조건 = 0:전체조회, 1:신용융자A군, 2:신용융자B군, 3:신용융자C군, 4:신용융자D군, 9:신용융자전체\n",
    "매매금구분 = 0:전체조회, 1:1천원미만, 2:1천원~2천원, 3:2천원~3천원, 4:5천원~1만원, 5:1만원이상, 8:1천원이상\n",
    "'''\n",
    "\n",
    "trcode = \"opt10017\"\n",
    "market = \"001\"  # kospi\n",
    "updown = \"2\"\n",
    "sort = \"3\"\n",
    "ticker_cond = \"0\"\n",
    "volume_cond = \"0000\"\n",
    "debt_cond = \"0\"\n",
    "price_cond =\"0\"\n",
    "\n",
    "df = kiwoom.block_request(trcode,\n",
    "                          시장구분=market,\n",
    "                          상하한구분=updown,\n",
    "                          정렬구분=sort,\n",
    "                          종목조건=ticker_cond,\n",
    "                          거래량구분=volume_cond,\n",
    "                          신용조건=debt_cond,\n",
    "                          매매금구분=price_cond,\n",
    "                          output=\"상하한가\",\n",
    "                          next=0)"
   ]
  },
  {
   "cell_type": "markdown",
   "id": "883e09b6-b2d4-4b89-8e9b-6805541e78c5",
   "metadata": {
    "tags": []
   },
   "source": [
    "## 가격급등락 요청"
   ]
  },
  {
   "cell_type": "code",
   "execution_count": 3,
   "id": "51125b2d-c523-4458-92db-9a64ceb9266a",
   "metadata": {},
   "outputs": [
    {
     "name": "stdout",
     "output_type": "stream",
     "text": [
      "{'trcode': 'opt10019', 'input': [{'가격급등락요청': ['시장구분', '등락구분', '시간구분', '시간', '거래량구분', '종목조건', '신용조건', '가격조건', '상하한포함']}], 'output': [{'가격급등락': ['종목코드', '종목분류', '종목명', '전일대비기호', '전일대비', '등락률', '기준가', '현재가', '기준대비', '거래량', '급등률']}]}\n"
     ]
    }
   ],
   "source": [
    "'''\n",
    "시장구분 = 000:전체, 001:코스피, 101:코스닥, 201:코스피200\n",
    "등락구분 = 1:급등, 2:급락\n",
    "시간구분 = 1:분전, 2:일전\n",
    "시간 = 분 혹은 일입력\n",
    "거래량구분 = 00000:전체조회, 00010:만주이상, 00050:5만주이상, 00100:10만주이상, 00150:15만주이상, 00200:20만주이상, 00300:30만주이상, 00500:50만주이상, 01000:백만주이상\n",
    "종목조건 = 0:전체조회,1:관리종목제외, 3:우선주제외, 5:증100제외, 6:증100만보기, 7:증40만보기, 8:증30만보기\n",
    "신용조건 = 0:전체조회, 1:신용융자A군, 2:신용융자B군, 3:신용융자C군, 4:신용융자D군, 9:신용융자전체\n",
    "가격조건 = 0:전체조회, 1:1천원미만, 2:1천원~2천원, 3:2천원~3천원, 4:5천원~1만원, 5:1만원이상, 8:1천원이상\n",
    "상하한포함 = 0:미포함, 1:포함\n",
    "'''\n",
    "\n",
    "trcode = \"opt10019\" # opt10001\"\n",
    "market = \"001\"  # kospi\n",
    "updown = \"1\"\n",
    "timeunit = \"2\"\n",
    "timeunit_cnt = \"1\"\n",
    "volume_cond = \"0000\"\n",
    "ticker_cond = \"0\"\n",
    "debt_cond = \"0\"\n",
    "price_cond =\"0\"\n",
    "limit_price_cond = \"0\"\n",
    "\n",
    "df = kiwoom.block_request(trcode,\n",
    "                          시장구분=market,\n",
    "                          등락구분=updown,\n",
    "                          시간구분=timeunit,\n",
    "                          시간=timeunit_cnt,\n",
    "                          거래량구분=volume_cond,\n",
    "                          종목조건=ticker_cond,\n",
    "                          신용조건=debt_cond,\n",
    "                          가격조건=price_cond,\n",
    "                          상하한포함=limit_price_cond,\n",
    "                          output=\"가격급등락\",\n",
    "                          next=0)\n",
    "\n",
    "\n",
    "# kwargs = {\"종목코드\": code_str, \"output\": \"주식기본정보\", \"next\": 0}\n",
    "# df = kiwoom.block_request(args=args)\n",
    "# df = kiwoom.block_request(trcode, kwargs)\n",
    "\n",
    "# code_str = \"005930\""
   ]
  },
  {
   "cell_type": "markdown",
   "id": "361fcb5e-0199-426e-bd36-62e522deef5e",
   "metadata": {
    "tags": []
   },
   "source": [
    "# Get creon data"
   ]
  },
  {
   "cell_type": "code",
   "execution_count": 2,
   "id": "05215049-cc8b-4999-85f2-77edbaeb254b",
   "metadata": {},
   "outputs": [],
   "source": [
    "\n",
    "## 종목 데이터 호출 Class\n",
    "class StockChart:\n",
    "    def __init__(self, stock_code):\n",
    "        self.CpCodeMgr = win32com.client.Dispatch(\"CpUtil.CpCodeMgr\")\n",
    "        self.StockChart = win32com.client.Dispatch(\"CpSysDib.StockChart\")\n",
    "        self.CpStatus = win32com.client.Dispatch(\"CpUtil.CpCybos\")\n",
    "\n",
    "        '''\n",
    "        파라미터 종류\n",
    "        stock_code : 종목코드\n",
    "        flag : 호출 데이터(거래대금까지, 매매동향까지)\n",
    "        '''\n",
    "\n",
    "        self.stock_code = stock_code\n",
    "\n",
    "        ## 입력 변수에 따른 호출데이터 설정\n",
    "        self.start_date = self.CpCodeMgr.GetstockListedDate(stock_code)\n",
    "\n",
    "\n",
    "    ## 데이터 호출 후 대기 시간 확인용\n",
    "    def checkRemainTime(self):\n",
    "        remainTime = self.CpStatus.LimitRequestRemainTime\n",
    "        remainCount = self.CpStatus.GetLimitRemainCount(1) # 시세 제한 갯수\n",
    " \n",
    "        if remainCount <= 0:\n",
    "                timeStart = time.time()\n",
    "                while remainCount <= 0 :\n",
    "                    time.sleep(remainTime/1000)\n",
    "                    remainCount = self.CpStatus.GetLimitRemainCount(1)  # 시세 제한\n",
    "                    remainTime = self.CpStatus.LimitRequestRemainTime   \n",
    "                ellapsed = time.time() - timeStart\n",
    "                print(\"수신 대기: %.2f 초\" %ellapsed)\n",
    "\n",
    "\n",
    "    ## 분, 틱 데이터 호출 Method\n",
    "    def call_stock_data_minute_tick(self, period, todaystamp=0, adjusted=0):\n",
    "\n",
    "        fromDate = self.CpCodeMgr.GetstockListedDate(self.stock_code)        \n",
    "        count = 9999999\n",
    "        data_array_price_volume = [0, 1, 2, 3, 4, 5, 8]\n",
    "\n",
    "        self.StockChart.SetInputValue(0, self.stock_code)  # 종목코드\n",
    "        self.StockChart.SetInputValue(1, ord('2'))  # 갯수로 받기\n",
    "        self.StockChart.SetInputValue(4, count)  # 갯수\n",
    "        self.StockChart.SetInputValue(5, data_array_price_volume) # 호출 데이터\n",
    "        self.StockChart.SetInputValue(6, ord('m')) # 차트 구분 (분)\n",
    "        self.StockChart.SetInputValue(7, period) # 분봉 단위\n",
    "        # self.StockChart.SetInputValue(9, ord('1'))  # 수정주가 사용\n",
    "        self.StockChart.SetInputValue(9, ord(str(adjusted)))  # 수정주가 사용\n",
    "\n",
    "        # raw_data_column = ('Date', 'Time', 'Open', 'High', 'Low', 'Close', 'TradeVolume')\n",
    "        raw_data_column = ['date', 'time', 'open', 'high', 'low', 'close', 'volume']\n",
    "\n",
    "        stock_raw_data = []\n",
    "        receive_data = {} ## 딕셔너리 형태\n",
    "\n",
    "        for col in raw_data_column:\n",
    "            receive_data[col] = []\n",
    "\n",
    "        receive_count = 0\n",
    "\n",
    "        while count > receive_count:\n",
    "            self.StockChart.BlockRequest()  # 요청 후 응답 대기\n",
    "            self.checkRemainTime()\n",
    "\n",
    "            receive_batch_len = self.StockChart.GetHeaderValue(3)  # 받아온 데이터 개수\n",
    "            receive_batch_len = min(receive_batch_len, count - receive_count) # 정확히 count 개수만큼 받기 위함\n",
    "\n",
    "            ## 데이터 수신하여 딕셔너리에 저장\n",
    "            for i in range(receive_batch_len):\n",
    "                for col_idx, col in enumerate(raw_data_column):\n",
    "                    receive_data[col].append(self.StockChart.GetDataValue(col_idx, i))\n",
    "\n",
    "            receive_count += receive_batch_len\n",
    "            ## print('{} / {}'.format(receive_count, count))\n",
    "\n",
    "            # 서버가 가진 모든 데이터를 요청한 경우 break.\n",
    "            if not self.StockChart.Continue:\n",
    "                break\n",
    "\n",
    "        ## 날짜와 분봉의 합치\n",
    "        # receive_data['Date'] = list(map(lambda x, y: int('{}{:04}'.format(x, y)), receive_data['Date'], receive_data['Time']))\n",
    "        receive_data['date'] = list(map(lambda x, y: ('{}{:04}'.format(x, y)), receive_data['date'], receive_data['time']))\n",
    "        del receive_data['time']\n",
    "        raw_data_column.remove('time')\n",
    "        ## 데이터프레임 형태로 변환\n",
    "        ## 다만 호출한 데이터를 그대로 쓰게되면 날짜가 최신 -> 옛날순으로 가므로 리버스해서 역순에서 정순을 바꿔준다.\n",
    "        # stock_raw_data = pd.DataFrame(receive_data, columns = ['Date', 'Open', 'High', 'Low', 'Close', 'TradeVolume'])\n",
    "        stock_raw_data = pd.DataFrame(receive_data, columns=['open', 'high', 'low', 'close', 'volume'], index=receive_data['date'])        \n",
    "        \n",
    "        timeIndex = pd.to_datetime(stock_raw_data.index.astype(str))\n",
    "        stock_raw_data.index = timeIndex\n",
    "        stock_raw_data = stock_raw_data.sort_index() # 마지막 행이 최신 데이터\n",
    "\n",
    "        return stock_raw_data # [::-1]\n",
    "\n",
    "\n",
    "## 호출한 주가 데이터를 DB 파일로 저장\n",
    "class ExportDatabase:\n",
    "    def __init__(self, period, code_list, adjusted, base_date, data_len_thr):\n",
    "        self.CpCodeMgr = win32com.client.Dispatch(\"CpUtil.CpCodeMgr\")\n",
    "        self.code_list = code_list\n",
    "        self.period = period\n",
    "        self.adjusted = adjusted\n",
    "        self.base_date = base_date\n",
    "        self.data_len_thr = data_len_thr\n",
    "\n",
    "    ## 데이터 수신하여 DB파일에 저장\n",
    "    def MakeDatabase(self):\n",
    "\n",
    "        ## 분봉 데이터 저장(분단위 별로 나누어 저장)\n",
    "        kospi = self.CpCodeMgr.GetstockListByMarket(1) # 코스피\n",
    "        kosdaq = self.CpCodeMgr.GetstockListByMarket(2) # 코스닥\n",
    "        \n",
    "        # code_list = ['A005930' ] #, 'A233740', 'A229200', 'A251340', 'A069500', 'A119200', 'A122630', 'A252670']\n",
    "        code_list = self.code_list #, 'A233740', 'A229200', 'A251340', 'A069500', 'A119200', 'A122630', 'A252670']\n",
    "\n",
    "        # base_date = datetime.today().strftime('%Y%m%d')\n",
    "        base_date = self.base_date\n",
    "        \n",
    "        save_path = 'D:\\\\Projects\\\\System_Trading\\\\JnQ\\\\candlestick_concated\\\\database_creon\\\\cum\\\\{}'.format(base_date)\n",
    "        os.makedirs(save_path, exist_ok=True)\n",
    "        \n",
    "        ## 분봉 데이터 저장(분단위 별로 나누어 저장)\n",
    "        if type(self.period) is int:\n",
    "            print('%s분봉 데이터 수집' %self.period)\n",
    "            # con = sqlite3.connect('stock_data_%sminute.db' %self.period)\n",
    "\n",
    "            for i in range(len(code_list)):\n",
    "                stockchart = StockChart(code_list[i])\n",
    "                # stock_raw_data = stockchart.call_stock_data_minute_tick(self.period, adjusted=self.adjusted)\n",
    "                \n",
    "                # 유효구간 검증 logic\n",
    "                stock_raw_data_0 = stockchart.call_stock_data_minute_tick(self.period, adjusted=0)\n",
    "                \n",
    "                if len(stock_raw_data_0) < self.data_len_thr:\n",
    "                    continue\n",
    "                    \n",
    "                stock_raw_data_1 = stockchart.call_stock_data_minute_tick(self.period, adjusted=1)\n",
    "                assert len(stock_raw_data_0) == len(stock_raw_data_1)\n",
    "                valid_idx = np.where(stock_raw_data_0.close == stock_raw_data_1.close)[0]\n",
    "                \n",
    "                # save_name = '%s %s_%s.csv' % (base_date, code, tick_range)\n",
    "                # df.to_csv(os.path.join(save_path, save_name))\n",
    "\n",
    "                save_name = '%s %s_%s_%s.parquet' % (base_date, code_list[i], self.period, self.adjusted)                \n",
    "                \n",
    "                # stock_raw_data_0.iloc[:valid_idx[-1]].to_parquet(os.path.join(save_path, save_name), engine='fastparquet')\n",
    "                stock_raw_data_0.iloc[valid_idx[0]:].to_parquet(os.path.join(save_path, save_name), engine='fastparquet')\n",
    "\n",
    "                # stock_raw_data.to_sql(str(code_list[i]), con, if_exists='replace')\n",
    "                print(\"[%s / %s] %s 수집 완료\" %(i+1, len(code_list), code_list[i]))\n",
    "                i += 1\n",
    "\n",
    "        else:\n",
    "            # con = sqlite3.connect('stock_data_%s.db' %self.period)\n",
    "            for i in range(len(code_list)):\n",
    "                stockchart = StockChart(code_list[i])\n",
    "                stock_raw_data = stockchart.call_stock_data_minute_tick(self.periodd, adjusted=self.adjusted)               \n",
    "\n",
    "                save_name = '%s %s_%s_%s.parquet' % (base_date, code_list[i], self.period, self.adjusted)\n",
    "                stock_raw_data.to_parquet(os.path.join(save_path, save_name), engine='fastparquet')\n",
    "                \n",
    "                # stock_raw_data.to_sql(str(code_list[i]), con, if_exists='replace')\n",
    "                print(\"[%s / %s] %s 수집 완료\" %(i+1, len(code_list), code_list[i]))\n",
    "                i += 1            \n",
    "\n",
    "\n"
   ]
  },
  {
   "cell_type": "code",
   "execution_count": 3,
   "id": "12fa5a7b-62aa-415b-888c-bb90180d456e",
   "metadata": {},
   "outputs": [
    {
     "name": "stdout",
     "output_type": "stream",
     "text": [
      "1분봉 데이터 수집\n",
      "수신 대기: 1.06 초\n",
      "[2 / 9] A015710 수집 완료\n",
      "[3 / 9] A033320 수집 완료\n",
      "수신 대기: 3.20 초\n",
      "[4 / 9] A064090 수집 완료\n",
      "수신 대기: 1.15 초\n",
      "수신 대기: 2.97 초\n",
      "[5 / 9] A011810 수집 완료\n",
      "수신 대기: 3.01 초\n",
      "[6 / 9] A177350 수집 완료\n",
      "수신 대기: 2.81 초\n",
      "[7 / 9] A052020 수집 완료\n",
      "수신 대기: 2.67 초\n",
      "수신 대기: 2.32 초\n",
      "[8 / 9] A006220 수집 완료\n",
      "수신 대기: 2.19 초\n",
      "[9 / 9] A073640 수집 완료\n"
     ]
    }
   ],
   "source": [
    "\n",
    "\n",
    "## 데이터베이스 제작 시간간격\n",
    "# calender_period = ['day', 'month', 'year']\n",
    "## time_period = [1, 3, 5, 10, 30, 60, 180]\n",
    "\n",
    "time_period = [1] # min\n",
    "# incond_ticker_codes = [\"610054\"]\n",
    "# incond_ticker_codes = ['A005930']\n",
    "incond_ticker_codes = ['024830', '015710', '033320', '064090', '011810', '177350', '052020', '006220', '073640']\n",
    "incond_ticker_codes = ['A' + code_ for code_ in incond_ticker_codes]\n",
    "adjusted = 0 # 미수정 주가\n",
    "base_date = \"20221228\"\n",
    "data_len_thr = 3000\n",
    "\n",
    "## 분봉 데이터베이스 제작\n",
    "for i in range(len(time_period)):\n",
    "    MakeDataBase = ExportDatabase(time_period[i], incond_ticker_codes, adjusted, base_date, data_len_thr)\n",
    "    MakeDataBase.MakeDatabase()"
   ]
  },
  {
   "cell_type": "markdown",
   "id": "8f4c7fb0-ab17-4997-9a43-2239fb5d98ba",
   "metadata": {},
   "source": [
    "## load creon data"
   ]
  },
  {
   "cell_type": "code",
   "execution_count": 5,
   "id": "3db1eb0b-be86-47e7-9d7b-92365af7268e",
   "metadata": {},
   "outputs": [
    {
     "name": "stdout",
     "output_type": "stream",
     "text": [
      "['20221228 A006220_1_0.parquet', '20221228 A011810_1_0.parquet', '20221228 A015710_1_0.parquet', '20221228 A033320_1_0.parquet', '20221228 A052020_1_0.parquet', '20221228 A064090_1_0.parquet', '20221228 A073640_1_0.parquet', '20221228 A177350_1_0.parquet']\n",
      "20221228 A006220_1_0.parquet loaded !\n",
      "load res_df_ elapsed time : 0.00968313217163086\n"
     ]
    }
   ],
   "source": [
    "save_path = 'candlestick_concated/database_creon/'\n",
    "\n",
    "date = \"20221228\"\n",
    "# date = \"2022-10-24\"\n",
    "pkg_path = 'D:\\\\Projects\\\\System_Trading\\\\JnQ\\\\'\n",
    "\n",
    "data_path = os.path.join(pkg_path, save_path, \"cum\", date)\n",
    "\n",
    "# ------ load ftr list ------ #\n",
    "# ticker = 'A003075' # ETH RUNE FTM\n",
    "# data_list = [s for s in os.listdir(data_path) if \"parquet\" in s if date in s]\n",
    "# data_list = [s for s in os.listdir(data_path) if \"parquet\" in s if date in s if ticker in s if '_0.' in s]\n",
    "data_list = [s for s in os.listdir(data_path) if \"parquet\" in s if date in s if '_0.' in s]\n",
    "print(data_list)\n",
    "\n",
    "start_0 = time.time()\n",
    "key = data_list[0]  # tempoaray use single key\n",
    "# res_df_ = pd.read_csv(os.path.join(data_path, key), index_col=0) # .set_index(\"index\")\n",
    "res_df_ = pd.read_parquet(os.path.join(data_path, key)) #.set_index(\"date\")\n",
    "# print(res_df_.head())\n",
    "print(key, \"loaded !\")\n",
    "print(\"load res_df_ elapsed time :\", time.time() - start_0)"
   ]
  },
  {
   "cell_type": "code",
   "execution_count": null,
   "id": "cc3ea614-5816-4de0-8553-f94dc6d0f8b5",
   "metadata": {},
   "outputs": [],
   "source": [
    "res_df_ # 202012160902"
   ]
  },
  {
   "cell_type": "code",
   "execution_count": 8,
   "id": "c1e7d997-511e-4774-bf5b-7f0e932e52c2",
   "metadata": {},
   "outputs": [
    {
     "data": {
      "text/plain": [
       "[<matplotlib.lines.Line2D at 0x24a8baa8>]"
      ]
     },
     "execution_count": 8,
     "metadata": {},
     "output_type": "execute_result"
    },
    {
     "data": {
      "image/png": "[encoded data removed]",
      "text/plain": [
       "<Figure size 640x480 with 1 Axes>"
      ]
     },
     "metadata": {},
     "output_type": "display_data"
    }
   ],
   "source": [
    "import matplotlib.pyplot as plt\n",
    "\n",
    "plt.plot(res_df_.close.values)\n",
    "\n",
    "# plt.plot(res_df_.iloc[:valid_idx[-1]].close)\n",
    "# plt.plot(res_df_adj_.iloc[:valid_idx[-1]].close)\n",
    "\n",
    "# plt.plot(res_df_adj_.close)"
   ]
  },
  {
   "cell_type": "markdown",
   "id": "1f9911bd-5b1d-4b97-a4dd-afbb9b5e2238",
   "metadata": {
    "tags": []
   },
   "source": [
    "# legacy"
   ]
  },
  {
   "cell_type": "markdown",
   "id": "93849698-eef2-4977-add5-3484df467f02",
   "metadata": {
    "jp-MarkdownHeadingCollapsed": true,
    "tags": []
   },
   "source": [
    "# olds"
   ]
  },
  {
   "cell_type": "code",
   "execution_count": null,
   "id": "9cd0f603-82c7-44f1-ac19-875b73df615a",
   "metadata": {},
   "outputs": [
    {
     "name": "stdout",
     "output_type": "stream",
     "text": [
      "['20221218 A005930_15_1.parquet']\n",
      "20221218 A005930_15_1.parquet loaded !\n",
      "load res_df_ elapsed time : 0.003991842269897461\n"
     ]
    }
   ],
   "source": [
    "# ------ load ftr list ------ #\n",
    "ticker = 'A005930' # ETH RUNE FTM\n",
    "data_list = [s for s in os.listdir(data_path) if \"parquet\" in s if date in s if ticker in s if '_1.' in s]\n",
    "print(data_list)\n",
    "\n",
    "start_0 = time.time()\n",
    "key = data_list[0]  # tempoaray use single key\n",
    "# res_df_ = pd.read_csv(os.path.join(data_path, key), index_col=0) # .set_index(\"index\")\n",
    "res_df_adj_ = pd.read_parquet(os.path.join(data_path, key)) #.set_index(\"date\")\n",
    "# print(res_df_.head())\n",
    "print(key, \"loaded !\")\n",
    "print(\"load res_df_ elapsed time :\", time.time() - start_0)"
   ]
  },
  {
   "cell_type": "code",
   "execution_count": 4,
   "id": "e2f9ae8c-89ff-4aac-bf84-58a31934a7e2",
   "metadata": {},
   "outputs": [
    {
     "name": "stdout",
     "output_type": "stream",
     "text": [
      "1\n",
      "['8037568711']\n",
      "nave94\n",
      "장재원\n",
      "0\n",
      "0\n"
     ]
    }
   ],
   "source": [
    "account_num = kiwoom.GetLoginInfo(\"ACCOUNT_CNT\")        # 전체 계좌수\n",
    "accounts = kiwoom.GetLoginInfo(\"ACCNO\")                 # 전체 계좌 리스트\n",
    "user_id = kiwoom.GetLoginInfo(\"USER_ID\")                # 사용자 ID\n",
    "user_name = kiwoom.GetLoginInfo(\"USER_NAME\")            # 사용자명\n",
    "keyboard = kiwoom.GetLoginInfo(\"KEY_BSECGB\")            # 키보드보안 해지여부\n",
    "firewall = kiwoom.GetLoginInfo(\"FIREW_SECGB\")           # 방화벽 설정 여부\n",
    "\n",
    "print(account_num)\n",
    "print(accounts)\n",
    "print(user_id)\n",
    "print(user_name)\n",
    "print(keyboard)\n",
    "print(firewall)"
   ]
  },
  {
   "cell_type": "code",
   "execution_count": 83,
   "id": "044d85c3-c950-4412-a062-0024722752f7",
   "metadata": {},
   "outputs": [
    {
     "name": "stdout",
     "output_type": "stream",
     "text": [
      "1962\n",
      "1616\n",
      "663\n"
     ]
    }
   ],
   "source": [
    "kospi = kiwoom.GetCodeListByMarket('0')\n",
    "kosdaq = kiwoom.GetCodeListByMarket('10')\n",
    "etf = kiwoom.GetCodeListByMarket('8')\n",
    "\n",
    "print(len(kospi))# , kospi)\n",
    "print(len(kosdaq))# , kosdaq)\n",
    "print(len(etf))# , etf)"
   ]
  },
  {
   "cell_type": "code",
   "execution_count": 84,
   "id": "846b0cb4-a2e5-4224-b4ea-da53974afa50",
   "metadata": {},
   "outputs": [
    {
     "name": "stdout",
     "output_type": "stream",
     "text": [
      "삼성전자\n",
      "2147483647\n",
      "정상\n"
     ]
    }
   ],
   "source": [
    "name = kiwoom.GetMasterCodeName(code_str)\n",
    "stock_cnt = kiwoom.GetMasterListedStockCnt(code_str)\n",
    "stock_const = kiwoom.GetMasterConstruction(code_str)\n",
    "\n",
    "print(name)\n",
    "print(stock_cnt)\n",
    "print(stock_const)"
   ]
  },
  {
   "cell_type": "code",
   "execution_count": null,
   "id": "5f50a12d-5089-4113-83d0-e6270ad608fc",
   "metadata": {},
   "outputs": [],
   "source": [
    "trcode = \"opt10019\" # opt10001\"\n",
    "\n",
    "df = kiwoom.block_request(trcode,\n",
    "                          종목코드=\"005930\",\n",
    "                          output=\"주식기본정보\",\n",
    "                          next=0)"
   ]
  },
  {
   "cell_type": "code",
   "execution_count": 32,
   "id": "8936b7c7-fee1-41da-8e83-9b943c6d2b83",
   "metadata": {},
   "outputs": [
    {
     "data": {
      "text/plain": [
       "Index(['종목코드', '종목명', '결산월', '액면가', '자본금', '상장주식', '신용비율', '연중최고', '연중최저',\n",
       "       '시가총액', '시가총액비중', '외인소진률', '대용가', 'PER', 'EPS', 'ROE', 'PBR', 'EV',\n",
       "       'BPS', '매출액', '영업이익', '당기순이익', '250최고', '250최저', '시가', '고가', '저가',\n",
       "       '상한가', '하한가', '기준가', '예상체결가', '예상체결수량', '250최고가일', '250최고가대비율',\n",
       "       '250최저가일', '250최저가대비율', '현재가', '대비기호', '전일대비', '등락율', '거래량', '거래대비',\n",
       "       '액면가단위', '유통주식', '유통비율'],\n",
       "      dtype='object')"
      ]
     },
     "execution_count": 32,
     "metadata": {},
     "output_type": "execute_result"
    }
   ],
   "source": [
    "df.columns"
   ]
  },
  {
   "cell_type": "code",
   "execution_count": null,
   "id": "13d77830-bf25-400a-b597-1aa848001031",
   "metadata": {},
   "outputs": [],
   "source": [
    "import numpy as np\n",
    "import time\n",
    "\n",
    "kospi_data = []\n",
    "kosdag_data = []\n",
    "etf_data = []\n",
    "\n",
    "# df.values\n",
    "for code_str_ in (kospi):\n",
    "    print(code_str_)\n",
    "    kospi_data.append(kiwoom.block_request(\"opt10001\",\n",
    "                          종목코드=code_str_,\n",
    "                          output=\"주식기본정보\",\n",
    "                          next=0).values)\n",
    "    time.sleep(0.5)"
   ]
  },
  {
   "cell_type": "code",
   "execution_count": null,
   "id": "e6775d06-1139-4adf-af77-4ed7ac1c3f5c",
   "metadata": {},
   "outputs": [],
   "source": [
    "np.array(kospi_data).shape\n",
    "kospi_data"
   ]
  }
 ],
 "metadata": {
  "kernelspec": {
   "display_name": "Python 3 (ipykernel)",
   "language": "python",
   "name": "python3"
  },
  "language_info": {
   "codemirror_mode": {
    "name": "ipython",
    "version": 3
   },
   "file_extension": ".py",
   "mimetype": "text/x-python",
   "name": "python",
   "nbconvert_exporter": "python",
   "pygments_lexer": "ipython3",
   "version": "3.8.13"
  }
 },
 "nbformat": 4,
 "nbformat_minor": 5
}
