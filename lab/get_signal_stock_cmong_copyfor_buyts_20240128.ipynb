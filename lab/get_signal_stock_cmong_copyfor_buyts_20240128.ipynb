{
 "cells": [
  {
   "cell_type": "markdown",
   "id": "d4a450b4-727b-4db1-b63d-a59862bd67fa",
   "metadata": {
    "id": "8uqYv5StTazo"
   },
   "source": [
    "# Requirements"
   ]
  },
  {
   "cell_type": "code",
   "execution_count": 1,
   "id": "dcbe81d5-3268-4b43-a0cf-1d771e9a627c",
   "metadata": {},
   "outputs": [],
   "source": [
    "import os\n",
    "import pandas as pd\n",
    "import numpy as np\n",
    "\n",
    "import matplotlib.pyplot as plt\n",
    "from IPython.display import clear_output\n",
    "\n",
    "\n",
    "pd.set_option('mode.chained_assignment', None)"
   ]
  },
  {
   "cell_type": "markdown",
   "id": "9b2420ee-53f1-4249-8f7e-a780db3bc8b9",
   "metadata": {
    "tags": []
   },
   "source": [
    "## timeline strategy"
   ]
  },
  {
   "cell_type": "markdown",
   "id": "68309eec-78f3-4d11-9fbe-794ac0bafc8f",
   "metadata": {},
   "source": [
    "### load database"
   ]
  },
  {
   "cell_type": "code",
   "execution_count": 2,
   "id": "a8488cd1-c1db-4926-9c63-f4ea0f1ce05d",
   "metadata": {},
   "outputs": [],
   "source": [
    "database_dir_path = \"D:\\Projects\\Rich\\Cmong\\Stock\\database\\my\""
   ]
  },
  {
   "cell_type": "code",
   "execution_count": 3,
   "id": "81b741da-a5cc-460b-a1ba-0833568672b6",
   "metadata": {},
   "outputs": [
    {
     "name": "stdout",
     "output_type": "stream",
     "text": [
      "21\n"
     ]
    }
   ],
   "source": [
    "df_list = []\n",
    "df_name_list = []\n",
    "df_fluc_list = []\n",
    "\n",
    "for p_i, pkl in enumerate(os.listdir(database_dir_path)):\n",
    "    \n",
    "    print(p_i)\n",
    "    df = pd.read_excel(os.path.join(database_dir_path, pkl), index_col=0)\n",
    "    # display(df.head())\n",
    "    # break\n",
    "    \n",
    "    try:\n",
    "        old_cols = ['시가', '고가', '저가', '현재가', '거래량']\n",
    "        df = df[old_cols]\n",
    "        df.columns = ['open', 'high', 'low', 'close', 'volume']\n",
    "    except:\n",
    "        pass\n",
    "    \n",
    "    price_fluctuation = df.close / df.close.shift(1)  \n",
    "    price_fluctuation.name = p_i\n",
    "    \n",
    "    df_list.append(df)\n",
    "    df_name_list.append(pkl)\n",
    "    df_fluc_list.append(price_fluctuation)\n",
    "    \n",
    "    if p_i > 20:\n",
    "        break\n",
    "    \n",
    "                  \n",
    "    clear_output(wait=True)"
   ]
  },
  {
   "cell_type": "markdown",
   "id": "320a864e-8edd-42f8-a34f-05cfa17e9b83",
   "metadata": {},
   "source": [
    "### get top rank"
   ]
  },
  {
   "cell_type": "code",
   "execution_count": 4,
   "id": "15dd0cf4-71e0-4710-a71d-c9add2e6bc73",
   "metadata": {},
   "outputs": [],
   "source": [
    "df_flucs_rank = pd.concat(df_fluc_list, axis=1).rank(ascending=False, method='first',  axis=1)\n",
    "\n",
    "top_rank = 10\n",
    "df_buy = df_flucs_rank <= top_rank"
   ]
  },
  {
   "cell_type": "markdown",
   "id": "ace4a8b9-bbad-4329-8923-48cc1357d1f4",
   "metadata": {},
   "source": [
    "### adj. strategy"
   ]
  },
  {
   "cell_type": "code",
   "execution_count": null,
   "id": "a773d229-39d2-463e-881c-7e46bd7d555e",
   "metadata": {
    "tags": []
   },
   "outputs": [],
   "source": [
    "df_fluc_list"
   ]
  },
  {
   "cell_type": "code",
   "execution_count": 15,
   "id": "982ea9a4-577d-475c-b892-6947aade8131",
   "metadata": {},
   "outputs": [],
   "source": [
    "take_profit = 1.1  # 10%\n",
    "stop_loss = 0.95   # -5%\n",
    "\n",
    "fees = 0.00015 + 0.00015  # 0.015% 수수료\n",
    "\n",
    "save_path = database_dir_path.replace('database', 'result')\n",
    "\n",
    "\n",
    "buys  = []\n",
    "holds = []\n",
    "sells = []\n",
    "profits = []\n",
    "profit_cums = []\n",
    "\n",
    "\n",
    "col_i = 0  # symbol_index, for test.\n",
    "for col_i in range(len(df_fluc_list)):\n",
    "\n",
    "    en_ex_total = []\n",
    "    en_ex = []\n",
    "\n",
    "    for row, signal in zip(df_list[col_i].iterrows(), df_buy.iloc[:, col_i]):\n",
    "\n",
    "        en_ex_len = len(en_ex)\n",
    "        \n",
    "\n",
    "        # 1. check buy signal.\n",
    "            # a. 중복 매수는 허용하지 않는다.\n",
    "        if signal and en_ex_len == 0:\n",
    "            en_ex.append(row[-1].name)\n",
    "            en_ex.append(row[-1]['close'])\n",
    "            \n",
    "        # 2. check sell signal.\n",
    "        if en_ex_len > 0:\n",
    "\n",
    "            exit_done = 0\n",
    "\n",
    "            # a. take_profit\n",
    "            if row[-1]['high'] / en_ex[1] >= take_profit:\n",
    "                profit = take_profit * (1 - fees - 0.0018) # 증권거래세 등(0.18%)\n",
    "                exit_done = 1\n",
    "            elif row[-1]['low'] / en_ex[1] <= stop_loss:\n",
    "                profit = stop_loss * (1 - fees)\n",
    "                exit_done = -1\n",
    "\n",
    "            if exit_done:\n",
    "                en_ex.append(row[-1].name)\n",
    "                en_ex.append(exit_done)\n",
    "                en_ex.append(profit)\n",
    "                en_ex_total.append(en_ex)\n",
    "                en_ex = []\n",
    "            # else:\n",
    "            #     en_ex.append(row[-1].name)\n",
    "            #     en_ex.append(exit_done)\n",
    "            #     en_ex.append(np.nan)\n",
    "            #     en_ex_total.append(en_ex)\n",
    "                \n",
    "\n",
    "\n",
    "    en_ex_total_arr = np.array(en_ex_total, dtype=object)\n",
    "\n",
    "    # 3. initialization\n",
    "    df_list[col_i]['buy'] = np.nan\n",
    "    df_list[col_i]['sell'] = np.nan\n",
    "    df_list[col_i]['profit'] = np.nan\n",
    "    df_list[col_i]['profit_cum'] = 1\n",
    "\n",
    "    # 4. enlist trade info.\n",
    "    df_list[col_i]['buy'].loc[en_ex_total_arr[:, 0]] = 1\n",
    "    df_list[col_i]['sell'].loc[en_ex_total_arr[:, 2]] = en_ex_total_arr[:, 3]\n",
    "    df_list[col_i]['profit'].loc[en_ex_total_arr[:, 2]] = en_ex_total_arr[:, 4]\n",
    "    df_list[col_i]['profit_cum'].loc[en_ex_total_arr[:, 2]] = en_ex_total_arr[:, 4]\n",
    "    df_list[col_i]['profit_cum'] = np.cumprod(df_list[col_i]['profit_cum'])\n",
    "\n",
    "    # display(df_list[col_i])\n",
    "\n",
    "    # plt.figure(figsize=(5,5))\n",
    "    # plt.plot(df_list[col_i]['profit_cum'])\n",
    "    # plt.title(df_name_list[col_i])\n",
    "    # plt.show()\n",
    "    \n",
    "    df_list[col_i].to_excel(os.path.join(save_path, '{}'.format(df_name_list[col_i])), index=False)\n",
    "    \n",
    "#     buys.append(df_list[col_i]['buy'].to_numpy())\n",
    "#     holds.append(df_list[col_i]['sell'].to_numpy())\n",
    "#     sells.append(df_list[col_i]['sell'].to_numpy())\n",
    "#     profits.append(df_list[col_i]['profit'].to_numpy())\n",
    "#     profit_cums.append(df_list[col_i]['profit_cum'].to_numpy())\n",
    "    \n",
    "    break"
   ]
  },
  {
   "cell_type": "code",
   "execution_count": 16,
   "id": "aa90061c-118a-4b83-9fcc-4706f92af9a8",
   "metadata": {
    "tags": []
   },
   "outputs": [
    {
     "name": "stdout",
     "output_type": "stream",
     "text": [
      "[Timestamp('2018-12-19 15:30:00') 37350.0 Timestamp('2019-01-03 15:30:00')\n",
      " -1 0.949715]\n"
     ]
    }
   ],
   "source": [
    "\n",
    "print(en_ex_total_arr[0])"
   ]
  },
  {
   "cell_type": "markdown",
   "id": "6d5b945e-3191-4147-9278-17199d68e7a1",
   "metadata": {
    "jp-MarkdownHeadingCollapsed": true,
    "tags": []
   },
   "source": [
    "## backtrader"
   ]
  },
  {
   "cell_type": "code",
   "execution_count": 6,
   "id": "ccbe510c-4f1c-46d3-9005-183c4f8191ed",
   "metadata": {},
   "outputs": [
    {
     "data": {
      "text/plain": [
       "[[<Figure size 640x480 with 5 Axes>]]"
      ]
     },
     "execution_count": 6,
     "metadata": {},
     "output_type": "execute_result"
    }
   ],
   "source": [
    "from datetime import datetime\n",
    "import backtrader as bt\n",
    "\n",
    "# Create a subclass of Strategy to define the indicators and logic\n",
    "\n",
    "class SmaCross(bt.Strategy):\n",
    "    # list of parameters which are configurable for the strategy\n",
    "    params = dict(\n",
    "        pfast=10,  # period for the fast moving average\n",
    "        pslow=30   # period for the slow moving average\n",
    "    )\n",
    "\n",
    "    def __init__(self):\n",
    "        sma1 = bt.ind.SMA(period=self.p.pfast)  # fast moving average\n",
    "        sma2 = bt.ind.SMA(period=self.p.pslow)  # slow moving average\n",
    "        self.crossover = bt.ind.CrossOver(sma1, sma2)  # crossover signal\n",
    "\n",
    "    def next(self):\n",
    "        if not self.position:  # not in the market\n",
    "            if self.crossover > 0:  # if fast crosses slow to the upside\n",
    "                self.buy()  # enter long\n",
    "\n",
    "        elif self.crossover < 0:  # in the market & cross to the downside\n",
    "            self.close()  # close long position\n",
    "\n",
    "\n",
    "cerebro = bt.Cerebro()  # create a \"Cerebro\" engine instance\n",
    "\n",
    "# Create a data feed\n",
    "# datalist.append(df)\n",
    "data = bt.feeds.PandasData(dataname=df)\n",
    "\n",
    "cerebro.adddata(data)  # Add the data feed\n",
    "\n",
    "cerebro.addstrategy(SmaCross)  # Add the trading strategy\n",
    "cerebro.run()  # run it all\n",
    "\n",
    "cerebro.plot(iplot=False)  # and plot it with a single command\n"
   ]
  },
  {
   "cell_type": "code",
   "execution_count": null,
   "id": "6920d039-ffaa-401e-ab94-e5313e25f2cf",
   "metadata": {
    "tags": []
   },
   "outputs": [],
   "source": [
    "# df# !pip list"
   ]
  }
 ],
 "metadata": {
  "kernelspec": {
   "display_name": "Python 3 (ipykernel)",
   "language": "python",
   "name": "python3"
  },
  "language_info": {
   "codemirror_mode": {
    "name": "ipython",
    "version": 3
   },
   "file_extension": ".py",
   "mimetype": "text/x-python",
   "name": "python",
   "nbconvert_exporter": "python",
   "pygments_lexer": "ipython3",
   "version": "3.8.10"
  }
 },
 "nbformat": 4,
 "nbformat_minor": 5
}
