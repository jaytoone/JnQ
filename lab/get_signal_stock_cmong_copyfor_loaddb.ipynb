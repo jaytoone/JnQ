{
 "cells": [
  {
   "cell_type": "markdown",
   "id": "d4a450b4-727b-4db1-b63d-a59862bd67fa",
   "metadata": {
    "id": "8uqYv5StTazo"
   },
   "source": [
    "# Requirements"
   ]
  },
  {
   "cell_type": "code",
   "execution_count": 1,
   "id": "1937b153-9733-4c8e-a894-3aa82dcff611",
   "metadata": {
    "colab": {
     "base_uri": "https://localhost:8080/"
    },
    "executionInfo": {
     "elapsed": 41909,
     "status": "ok",
     "timestamp": 1666567834950,
     "user": {
      "displayName": "7th June",
      "userId": "08178289703395036410"
     },
     "user_tz": -540
    },
    "id": "6rmQpzEGXfCw",
    "outputId": "6e7fec9e-910c-4f49-bc35-5e99ac69bfd8"
   },
   "outputs": [],
   "source": [
    "import os, sys\n",
    "\n",
    "pkg_path = 'D:\\\\Projects\\\\System_Trading\\\\JnQ_32bit\\\\'\n",
    "\n",
    "os.chdir(pkg_path)\n",
    "\n",
    "# mpl_finance_path = 'D:\\\\python\\\\python38_1\\\\projects\\\\JnQ\\\\mpl_finance'\n",
    "# ta_lib_path = 'D:\\\\python\\\\python38_1\\\\projects\\\\JnQ\\\\ta_lib'\n",
    "funcs_path = pkg_path + 'funcs'\n",
    "\n",
    "if funcs_path not in sys.path:\n",
    "\n",
    "  try:\n",
    "    # sys.path.insert(0, '/content/drive/My Drive/Colab Notebooks/JnQ')\n",
    "    sys.path.insert(0, pkg_path + 'Bank')\n",
    "    sys.path.insert(0, funcs_path)\n",
    "    # sys.path.insert(0, mpl_finance_path)\n",
    "    # sys.path.insert(0, ta_lib_path)\n",
    "    \n",
    "  except Exception as e:\n",
    "    print(e)"
   ]
  },
  {
   "cell_type": "code",
   "execution_count": 2,
   "id": "a357cb99-1f22-47c1-857b-e20ab54a921f",
   "metadata": {
    "executionInfo": {
     "elapsed": 20652,
     "status": "ok",
     "timestamp": 1666567855597,
     "user": {
      "displayName": "7th June",
      "userId": "08178289703395036410"
     },
     "user_tz": -540
    },
    "id": "9qGt60DKTZmf"
   },
   "outputs": [],
   "source": [
    "import os\n",
    "import talib\n",
    "# from funcs.public.idep import *\n",
    "# from funcs.public.plot_check import *\n",
    "# from funcs.public.en_ex_pairing import *\n",
    "from funcs.public.indicator import *\n",
    "from funcs.public.broker import *\n",
    "# from funcs.public.ds import *\n",
    "from ast import literal_eval\n",
    "import logging\n",
    "import importlib\n",
    "\n",
    "\n",
    "import matplotlib.pyplot as plt\n",
    "from matplotlib import gridspec\n",
    "\n",
    "# import torch\n",
    "\n",
    "import numpy as np\n",
    "import pandas as pd\n",
    "import scipy.stats as stats\n",
    "# from sklearn.metrics.pairwise import cosine_similarity\n",
    "\n",
    "# import bz2\n",
    "import pickle\n",
    "# import _pickle as cPickle\n",
    "import shutil\n",
    "import json\n",
    "from easydict import EasyDict\n",
    "import copy\n",
    "\n",
    "import datetime\n",
    "from datetime import datetime\n",
    "import random\n",
    "import time\n",
    "# import warnings\n",
    "\n",
    "from IPython.display import clear_output\n",
    "# warnings.simplefilter(\"ignore\", category=RuntimeWarning)\n",
    "\n",
    "np.seterr(invalid=\"ignore\")\n",
    "np.set_printoptions(suppress=True)\n",
    "np.set_printoptions(linewidth=2000) \n",
    "\n",
    "pd.set_option('mode.chained_assignment',  None)\n",
    "\n",
    "pd.set_option('display.max_rows', 500)\n",
    "pd.set_option('display.max_columns', 500)\n",
    "pd.set_option('display.width', 1000)"
   ]
  },
  {
   "cell_type": "markdown",
   "id": "1a376c02-9be1-43d5-8f72-6b3c9de62130",
   "metadata": {},
   "source": [
    "# Get data"
   ]
  },
  {
   "cell_type": "markdown",
   "id": "4f6f6bd4-c1ec-4b42-8776-c2ec76e14ae1",
   "metadata": {},
   "source": [
    "## Stock"
   ]
  },
  {
   "cell_type": "code",
   "execution_count": 3,
   "id": "3bddfdfe-153f-4492-9fb4-93310c896e34",
   "metadata": {},
   "outputs": [],
   "source": [
    "from funcs.cybos.cybos_module import CybosModule"
   ]
  },
  {
   "cell_type": "code",
   "execution_count": 4,
   "id": "8e74460c-c712-44ff-9686-0e72cbf2b442",
   "metadata": {},
   "outputs": [
    {
     "name": "stderr",
     "output_type": "stream",
     "text": [
      "kill exist connection.\n",
      "connect to a new Cybos server.\n",
      "waiting for Cybos connection.\n",
      "waiting for Cybos connection.\n",
      "waiting for Cybos connection.\n",
      "waiting for Cybos connection.\n",
      "waiting for Cybos connection.\n",
      "waiting for Cybos connection.\n",
      "waiting for Cybos connection.\n",
      "waiting for Cybos connection.\n"
     ]
    }
   ],
   "source": [
    "cybos = CybosModule()"
   ]
  },
  {
   "cell_type": "code",
   "execution_count": 7,
   "id": "9ea69689-bf4a-4511-9b2d-d391f1b2ef9e",
   "metadata": {},
   "outputs": [
    {
     "name": "stdout",
     "output_type": "stream",
     "text": [
      "s_i : 0\n"
     ]
    },
    {
     "data": {
      "text/plain": [
       "2018-12-12 15:30:00         NaN\n",
       "2018-12-13 15:30:00    1.002384\n",
       "2018-12-14 15:30:00    0.953627\n",
       "2018-12-17 15:30:00    0.921446\n",
       "2018-12-18 15:30:00    0.982409\n",
       "                         ...   \n",
       "2024-01-02 15:30:00    1.033635\n",
       "2024-01-03 15:30:00    0.988736\n",
       "2024-01-04 15:30:00    0.941772\n",
       "2024-01-05 15:30:00    1.010753\n",
       "2024-01-08 15:30:00    1.049202\n",
       "Name: close, Length: 1250, dtype: float64"
      ]
     },
     "metadata": {},
     "output_type": "display_data"
    },
    {
     "name": "stdout",
     "output_type": "stream",
     "text": [
      "target_symbol_total : [[]]\n"
     ]
    }
   ],
   "source": [
    "\n",
    "days = 5  # 330 3\n",
    "\n",
    "end_date = None  # None 2023-07-04 # \"2023-01-06\" \"2021-04-12\" \"2021-03-23\"\n",
    "if end_date is None:\n",
    "    end_date = str(datetime.now()).split(' ')[0]\n",
    "    \n",
    "intervals = ['1d']  # ['1m', '3m', '5m', '15m', '30m', '1h', '4h'] - old\n",
    "# intervals = ['15m', '30m', '1h', '4h', '1d']  # ['1m', '3m', '5m', '15m', '30m', '1h', '4h'] - old\n",
    "\n",
    "limit = 1500\n",
    "    \n",
    "show_process = False\n",
    "show_process = True\n",
    "\n",
    "\n",
    " \n",
    "# symbol_list = [s_['symbol'] for s_ in um_futures_client.exchange_info()['symbols']]\n",
    "symbol_list = cybos.CpCodeMgr.GetStockListByMarket(2)\n",
    "\n",
    "\n",
    "target_symbol_total = []\n",
    "for interval in intervals:\n",
    "    \n",
    "    target_symbol = []\n",
    "    for s_i, symbol in enumerate(symbol_list):\n",
    "        \n",
    "        print(\"s_i :\", s_i)\n",
    "        \n",
    "        # if 'KRW' not in symbol:\n",
    "        #     continue\n",
    "        \n",
    "        # print(\"itv_to_number(interval) :\", itv_to_number(interval))\n",
    "        # break\n",
    "        \n",
    "        try:\n",
    "            concated_df = cybos.concat_candlestick_cybos(symbol, period=itv_to_number(interval), count=6000, adjusted=0)\n",
    "            \n",
    "            price_fluctuation = concated_df.close / concated_df.close.shift(1)\n",
    "            \n",
    "            # display(concated_df.head())\n",
    "            display(price_fluctuation)\n",
    "            # print(\"len(concated_df) :\", len(concated_df))\n",
    "            break\n",
    "            \n",
    "            concated_df2 = fisher_v2(concated_df, 30, itv=interval.upper())      \n",
    "            # display(concated_df2.tail())\n",
    "            # break\n",
    "            \n",
    "            target_data = concated_df2.iloc[-2:, -1].to_numpy()\n",
    "            \n",
    "            \"\"\"\n",
    "            condition\n",
    "            \"\"\"\n",
    "            # 1. fisher band\n",
    "            fisher_lower = -1.5\n",
    "            if target_data[0] < fisher_lower < target_data[1]:\n",
    "                target_symbol.append(symbol)\n",
    "                \n",
    "            clear_output(wait=True)          \n",
    "            \n",
    "            \n",
    "            \n",
    "            # break\n",
    "            # save_path = os.path.join(save_dir, save_name)\n",
    "            # concated_df.reset_index().to_feather(save_path, compression='lz4')\n",
    "            # print(save_path, \"saved.\\n\")\n",
    "        except Exception as e:\n",
    "            print(\"error in save to_feather :\", e)\n",
    "            continue\n",
    "     \n",
    "    target_symbol_total.append([s_ for s_ in target_symbol])\n",
    "    print(\"target_symbol_total :\", target_symbol_total)\n",
    "    # break"
   ]
  },
  {
   "cell_type": "code",
   "execution_count": 14,
   "id": "663d80e4-8e90-4db4-b1cf-db7ae44bb7fa",
   "metadata": {},
   "outputs": [
    {
     "data": {
      "text/html": [
       "<div>\n",
       "<style scoped>\n",
       "    .dataframe tbody tr th:only-of-type {\n",
       "        vertical-align: middle;\n",
       "    }\n",
       "\n",
       "    .dataframe tbody tr th {\n",
       "        vertical-align: top;\n",
       "    }\n",
       "\n",
       "    .dataframe thead th {\n",
       "        text-align: right;\n",
       "    }\n",
       "</style>\n",
       "<table border=\"1\" class=\"dataframe\">\n",
       "  <thead>\n",
       "    <tr style=\"text-align: right;\">\n",
       "      <th></th>\n",
       "      <th>0</th>\n",
       "      <th>1</th>\n",
       "      <th>2</th>\n",
       "      <th>3</th>\n",
       "      <th>4</th>\n",
       "      <th>5</th>\n",
       "      <th>6</th>\n",
       "      <th>7</th>\n",
       "      <th>8</th>\n",
       "      <th>9</th>\n",
       "      <th>10</th>\n",
       "      <th>11</th>\n",
       "      <th>12</th>\n",
       "      <th>13</th>\n",
       "      <th>14</th>\n",
       "      <th>15</th>\n",
       "      <th>16</th>\n",
       "      <th>17</th>\n",
       "      <th>18</th>\n",
       "      <th>19</th>\n",
       "      <th>20</th>\n",
       "      <th>21</th>\n",
       "      <th>22</th>\n",
       "      <th>23</th>\n",
       "      <th>24</th>\n",
       "      <th>25</th>\n",
       "      <th>26</th>\n",
       "      <th>27</th>\n",
       "      <th>28</th>\n",
       "      <th>29</th>\n",
       "      <th>30</th>\n",
       "      <th>31</th>\n",
       "      <th>32</th>\n",
       "    </tr>\n",
       "  </thead>\n",
       "  <tbody>\n",
       "    <tr>\n",
       "      <th>15m</th>\n",
       "      <td>A010240</td>\n",
       "      <td>A014970</td>\n",
       "      <td>A021080</td>\n",
       "      <td>A041440</td>\n",
       "      <td>A047080</td>\n",
       "      <td>A059090</td>\n",
       "      <td>A064260</td>\n",
       "      <td>A065130</td>\n",
       "      <td>A066700</td>\n",
       "      <td>A094860</td>\n",
       "      <td>A096690</td>\n",
       "      <td>A096870</td>\n",
       "      <td>A099220</td>\n",
       "      <td>A106080</td>\n",
       "      <td>A181340</td>\n",
       "      <td>A199730</td>\n",
       "      <td>A203690</td>\n",
       "      <td>A215790</td>\n",
       "      <td>A219550</td>\n",
       "      <td>A223250</td>\n",
       "      <td>A251970</td>\n",
       "      <td>A263920</td>\n",
       "      <td>A299660</td>\n",
       "      <td>A308100</td>\n",
       "      <td>A311390</td>\n",
       "      <td>A332570</td>\n",
       "      <td>A333430</td>\n",
       "      <td>A347700</td>\n",
       "      <td>A376190</td>\n",
       "      <td>A408920</td>\n",
       "      <td>A432720</td>\n",
       "      <td>A433530</td>\n",
       "      <td>A452160</td>\n",
       "    </tr>\n",
       "    <tr>\n",
       "      <th>30m</th>\n",
       "      <td>A005990</td>\n",
       "      <td>A007390</td>\n",
       "      <td>A007820</td>\n",
       "      <td>A008470</td>\n",
       "      <td>A014940</td>\n",
       "      <td>A025440</td>\n",
       "      <td>A057880</td>\n",
       "      <td>A085810</td>\n",
       "      <td>A088280</td>\n",
       "      <td>A091700</td>\n",
       "      <td>A094360</td>\n",
       "      <td>A100700</td>\n",
       "      <td>A121800</td>\n",
       "      <td>A213420</td>\n",
       "      <td>A241790</td>\n",
       "      <td>A263690</td>\n",
       "      <td>A291650</td>\n",
       "      <td>A448830</td>\n",
       "      <td>None</td>\n",
       "      <td>None</td>\n",
       "      <td>None</td>\n",
       "      <td>None</td>\n",
       "      <td>None</td>\n",
       "      <td>None</td>\n",
       "      <td>None</td>\n",
       "      <td>None</td>\n",
       "      <td>None</td>\n",
       "      <td>None</td>\n",
       "      <td>None</td>\n",
       "      <td>None</td>\n",
       "      <td>None</td>\n",
       "      <td>None</td>\n",
       "      <td>None</td>\n",
       "    </tr>\n",
       "    <tr>\n",
       "      <th>1h</th>\n",
       "      <td>A007330</td>\n",
       "      <td>A008830</td>\n",
       "      <td>A009780</td>\n",
       "      <td>A028300</td>\n",
       "      <td>A053300</td>\n",
       "      <td>A053980</td>\n",
       "      <td>A056700</td>\n",
       "      <td>A095340</td>\n",
       "      <td>A117730</td>\n",
       "      <td>A137400</td>\n",
       "      <td>A191410</td>\n",
       "      <td>A241790</td>\n",
       "      <td>A299030</td>\n",
       "      <td>A320000</td>\n",
       "      <td>A388720</td>\n",
       "      <td>A425420</td>\n",
       "      <td>None</td>\n",
       "      <td>None</td>\n",
       "      <td>None</td>\n",
       "      <td>None</td>\n",
       "      <td>None</td>\n",
       "      <td>None</td>\n",
       "      <td>None</td>\n",
       "      <td>None</td>\n",
       "      <td>None</td>\n",
       "      <td>None</td>\n",
       "      <td>None</td>\n",
       "      <td>None</td>\n",
       "      <td>None</td>\n",
       "      <td>None</td>\n",
       "      <td>None</td>\n",
       "      <td>None</td>\n",
       "      <td>None</td>\n",
       "    </tr>\n",
       "    <tr>\n",
       "      <th>4h</th>\n",
       "      <td>A037230</td>\n",
       "      <td>A041020</td>\n",
       "      <td>A065950</td>\n",
       "      <td>A079190</td>\n",
       "      <td>A096630</td>\n",
       "      <td>A103230</td>\n",
       "      <td>A110020</td>\n",
       "      <td>A148150</td>\n",
       "      <td>A237750</td>\n",
       "      <td>A317330</td>\n",
       "      <td>A340570</td>\n",
       "      <td>A356680</td>\n",
       "      <td>A357230</td>\n",
       "      <td>A393210</td>\n",
       "      <td>A393890</td>\n",
       "      <td>A446540</td>\n",
       "      <td>A950130</td>\n",
       "      <td>None</td>\n",
       "      <td>None</td>\n",
       "      <td>None</td>\n",
       "      <td>None</td>\n",
       "      <td>None</td>\n",
       "      <td>None</td>\n",
       "      <td>None</td>\n",
       "      <td>None</td>\n",
       "      <td>None</td>\n",
       "      <td>None</td>\n",
       "      <td>None</td>\n",
       "      <td>None</td>\n",
       "      <td>None</td>\n",
       "      <td>None</td>\n",
       "      <td>None</td>\n",
       "      <td>None</td>\n",
       "    </tr>\n",
       "    <tr>\n",
       "      <th>1d</th>\n",
       "      <td>A012620</td>\n",
       "      <td>A030960</td>\n",
       "      <td>A033320</td>\n",
       "      <td>A060150</td>\n",
       "      <td>A065370</td>\n",
       "      <td>A065440</td>\n",
       "      <td>A101490</td>\n",
       "      <td>A110990</td>\n",
       "      <td>A114630</td>\n",
       "      <td>A115570</td>\n",
       "      <td>A119830</td>\n",
       "      <td>A122350</td>\n",
       "      <td>A187660</td>\n",
       "      <td>A189330</td>\n",
       "      <td>A204840</td>\n",
       "      <td>A322780</td>\n",
       "      <td>A331520</td>\n",
       "      <td>A336060</td>\n",
       "      <td>A348080</td>\n",
       "      <td>A365590</td>\n",
       "      <td>A373170</td>\n",
       "      <td>A377400</td>\n",
       "      <td>A402030</td>\n",
       "      <td>A413640</td>\n",
       "      <td>A418470</td>\n",
       "      <td>None</td>\n",
       "      <td>None</td>\n",
       "      <td>None</td>\n",
       "      <td>None</td>\n",
       "      <td>None</td>\n",
       "      <td>None</td>\n",
       "      <td>None</td>\n",
       "      <td>None</td>\n",
       "    </tr>\n",
       "  </tbody>\n",
       "</table>\n",
       "</div>"
      ],
      "text/plain": [
       "          0        1        2        3        4        5        6        7        8        9        10       11       12       13       14       15       16       17       18       19       20       21       22       23       24       25       26       27       28       29       30       31       32\n",
       "15m  A010240  A014970  A021080  A041440  A047080  A059090  A064260  A065130  A066700  A094860  A096690  A096870  A099220  A106080  A181340  A199730  A203690  A215790  A219550  A223250  A251970  A263920  A299660  A308100  A311390  A332570  A333430  A347700  A376190  A408920  A432720  A433530  A452160\n",
       "30m  A005990  A007390  A007820  A008470  A014940  A025440  A057880  A085810  A088280  A091700  A094360  A100700  A121800  A213420  A241790  A263690  A291650  A448830     None     None     None     None     None     None     None     None     None     None     None     None     None     None     None\n",
       "1h   A007330  A008830  A009780  A028300  A053300  A053980  A056700  A095340  A117730  A137400  A191410  A241790  A299030  A320000  A388720  A425420     None     None     None     None     None     None     None     None     None     None     None     None     None     None     None     None     None\n",
       "4h   A037230  A041020  A065950  A079190  A096630  A103230  A110020  A148150  A237750  A317330  A340570  A356680  A357230  A393210  A393890  A446540  A950130     None     None     None     None     None     None     None     None     None     None     None     None     None     None     None     None\n",
       "1d   A012620  A030960  A033320  A060150  A065370  A065440  A101490  A110990  A114630  A115570  A119830  A122350  A187660  A189330  A204840  A322780  A331520  A336060  A348080  A365590  A373170  A377400  A402030  A413640  A418470     None     None     None     None     None     None     None     None"
      ]
     },
     "execution_count": 14,
     "metadata": {},
     "output_type": "execute_result"
    }
   ],
   "source": [
    "df_res = pd.DataFrame(index=intervals, data=target_symbol_total)\n",
    "df_res"
   ]
  },
  {
   "cell_type": "code",
   "execution_count": 28,
   "id": "a65e8e91-b093-423c-b627-019217da1a29",
   "metadata": {},
   "outputs": [],
   "source": [
    "df_res.to_excel(\"signal/kosdaq_res.xlsx\")"
   ]
  },
  {
   "cell_type": "markdown",
   "id": "9b2420ee-53f1-4249-8f7e-a780db3bc8b9",
   "metadata": {
    "tags": []
   },
   "source": [
    "### timeline strategy"
   ]
  },
  {
   "cell_type": "markdown",
   "id": "2fa16e21-c155-4014-b052-5e40f01b342f",
   "metadata": {},
   "source": [
    "#### load database"
   ]
  },
  {
   "cell_type": "code",
   "execution_count": 34,
   "id": "e0b5f9d2-4651-4fd4-bc52-6840b1324da9",
   "metadata": {},
   "outputs": [],
   "source": [
    "database_dir_path = \"D:\\Projects\\System_Trading\\JnQ\\database\\creon\\cum\\\\2023-03-11\""
   ]
  },
  {
   "cell_type": "code",
   "execution_count": 38,
   "id": "f07780bd-07eb-485e-8177-1dd274ba2f4f",
   "metadata": {},
   "outputs": [
    {
     "name": "stdout",
     "output_type": "stream",
     "text": [
      "103\n"
     ]
    },
    {
     "ename": "SystemError",
     "evalue": "deallocated bytearray object has exported buffers",
     "output_type": "error",
     "traceback": [
      "\u001b[1;31m---------------------------------------------------------------------------\u001b[0m",
      "\u001b[1;31mSystemError\u001b[0m                               Traceback (most recent call last)",
      "\u001b[1;31mSystemError\u001b[0m: deallocated bytearray object has exported buffers"
     ]
    },
    {
     "ename": "MemoryError",
     "evalue": "",
     "output_type": "error",
     "traceback": [
      "\u001b[1;31m---------------------------------------------------------------------------\u001b[0m",
      "\u001b[1;31mMemoryError\u001b[0m                               Traceback (most recent call last)",
      "Cell \u001b[1;32mIn[38], line 5\u001b[0m\n\u001b[0;32m      3\u001b[0m \u001b[38;5;28mprint\u001b[39m(p_i)\n\u001b[0;32m      4\u001b[0m \u001b[38;5;28;01mwith\u001b[39;00m \u001b[38;5;28mopen\u001b[39m(os\u001b[38;5;241m.\u001b[39mpath\u001b[38;5;241m.\u001b[39mjoin(database_dir_path, pkl), \u001b[38;5;124m'\u001b[39m\u001b[38;5;124mrb\u001b[39m\u001b[38;5;124m'\u001b[39m) \u001b[38;5;28;01mas\u001b[39;00m f:\n\u001b[1;32m----> 5\u001b[0m             df_list\u001b[38;5;241m.\u001b[39mappend(\u001b[43mpickle\u001b[49m\u001b[38;5;241;43m.\u001b[39;49m\u001b[43mload\u001b[49m\u001b[43m(\u001b[49m\u001b[43mf\u001b[49m\u001b[43m)\u001b[49m)\n\u001b[0;32m      6\u001b[0m clear_output(wait\u001b[38;5;241m=\u001b[39m\u001b[38;5;28;01mTrue\u001b[39;00m)\n",
      "\u001b[1;31mMemoryError\u001b[0m: "
     ]
    }
   ],
   "source": [
    "df_list = []\n",
    "for p_i, pkl in enumerate(os.listdir(database_dir_path)):\n",
    "    print(p_i)\n",
    "    with open(os.path.join(database_dir_path, pkl), 'rb') as f:\n",
    "                df_list.append(pickle.load(f))\n",
    "    clear_output(wait=True)"
   ]
  },
  {
   "cell_type": "code",
   "execution_count": null,
   "id": "b32b0f0f-6451-47ed-915f-82028fb93678",
   "metadata": {},
   "outputs": [],
   "source": [
    "pd.concat(df_fluc_list, axis=1)\n",
    "# df_fluc_list[0].name"
   ]
  },
  {
   "cell_type": "code",
   "execution_count": 9,
   "id": "d3e2a70d-052a-4f87-8e53-e8c54cb8536c",
   "metadata": {},
   "outputs": [
    {
     "data": {
      "text/plain": [
       "1.2991202346041055"
      ]
     },
     "execution_count": 9,
     "metadata": {},
     "output_type": "execute_result"
    }
   ],
   "source": [
    "price_fluctuation.max()"
   ]
  },
  {
   "cell_type": "markdown",
   "id": "96a80464-94bb-4c6f-8ff8-9625f195905a",
   "metadata": {},
   "source": [
    "## Upbit"
   ]
  },
  {
   "cell_type": "code",
   "execution_count": 5,
   "id": "7b106d93-19b8-428f-8f5a-bd7e482d9b55",
   "metadata": {
    "tags": []
   },
   "outputs": [
    {
     "name": "stdout",
     "output_type": "stream",
     "text": [
      "303\n",
      "target_symbol_total : [[], []]\n"
     ]
    }
   ],
   "source": [
    "from funcs.upbit.concat_candlestick_ftr_v2 import concat_candlestick\n",
    "from pyupbit import get_tickers\n",
    "\n",
    "\"\"\"\n",
    "1. upbit 에서 당일 기준 이전 데이터를 조회할지라도 None 은 성립하지 않는다. --> end_date = today 로 변경 요구.\n",
    "\"\"\"\n",
    "\n",
    "\n",
    "days = 1  # 330 3\n",
    "\n",
    "end_date = None  # None 2023-07-04 # \"2023-01-06\" \"2021-04-12\" \"2021-03-23\"\n",
    "if end_date is None:\n",
    "    end_date = str(datetime.now()).split(' ')[0]\n",
    "    \n",
    "intervals = [ 'D']  # ['1m', '3m', '5m', '15m', '30m', '1h', '4h'] - old\n",
    "intervals = ['30m', '1h', '2h']  # ['1m', '3m', '5m', '15m', '30m', '1h', '4h'] - old\n",
    "intervals = [ '4h',  'D']  # ['1m', '3m', '5m', '15m', '30m', '1h', '4h'] - old\n",
    "    \n",
    "show_process = False\n",
    "show_process = True\n",
    "\n",
    "\n",
    "    \n",
    "symbol_list = get_tickers()\n",
    "\n",
    "target_symbol_total = []\n",
    "for interval in intervals:\n",
    "    \n",
    "    target_symbol = []\n",
    "    for s_i, symbol in enumerate(symbol_list):\n",
    "        \n",
    "        print(s_i)\n",
    "        \n",
    "        if 'KRW' not in symbol:\n",
    "            continue\n",
    "        \n",
    "        try:\n",
    "            concated_df, end_date = concat_candlestick(symbol, \n",
    "                                                       interval, \n",
    "                                                       days, \n",
    "                                                       limit=limit_by_itv(interval),\n",
    "                                                       end_date=end_date, \n",
    "                                                       show_process=show_process, \n",
    "                                                       timesleep=0.1)\n",
    "            \n",
    "            \n",
    "            concated_df2 = fisher_v2(concated_df, 30, itv=interval)    \n",
    "            # display(concated_df2.tail())\n",
    "            # break\n",
    "            \n",
    "            target_data = concated_df2.iloc[-2:, -1].to_numpy()\n",
    "            \n",
    "            \"\"\"\n",
    "            condition\n",
    "            \"\"\"\n",
    "            # 1. fisher band\n",
    "            fisher_lower = -1.5\n",
    "            if target_data[0] < fisher_lower < target_data[1]:\n",
    "                target_symbol.append(symbol)\n",
    "                \n",
    "            clear_output(wait=True)          \n",
    "            \n",
    "            \n",
    "            \n",
    "            # break\n",
    "            # save_path = os.path.join(save_dir, save_name)\n",
    "            # concated_df.reset_index().to_feather(save_path, compression='lz4')\n",
    "            # print(save_path, \"saved.\\n\")\n",
    "        except Exception as e:\n",
    "            print(\"error in save to_feather :\", e)\n",
    "            continue\n",
    "     \n",
    "    target_symbol_total.append([s_.replace('KRW-', '') for s_ in target_symbol])\n",
    "    print(\"target_symbol_total :\", target_symbol_total)\n",
    "    # break"
   ]
  },
  {
   "cell_type": "code",
   "execution_count": 7,
   "id": "1247bb74-fc13-45d9-877c-8341a644d03d",
   "metadata": {
    "tags": []
   },
   "outputs": [
    {
     "data": {
      "text/html": [
       "<div>\n",
       "<style scoped>\n",
       "    .dataframe tbody tr th:only-of-type {\n",
       "        vertical-align: middle;\n",
       "    }\n",
       "\n",
       "    .dataframe tbody tr th {\n",
       "        vertical-align: top;\n",
       "    }\n",
       "\n",
       "    .dataframe thead th {\n",
       "        text-align: right;\n",
       "    }\n",
       "</style>\n",
       "<table border=\"1\" class=\"dataframe\">\n",
       "  <thead>\n",
       "    <tr style=\"text-align: right;\">\n",
       "      <th></th>\n",
       "    </tr>\n",
       "  </thead>\n",
       "  <tbody>\n",
       "    <tr>\n",
       "      <th>4h</th>\n",
       "    </tr>\n",
       "    <tr>\n",
       "      <th>D</th>\n",
       "    </tr>\n",
       "  </tbody>\n",
       "</table>\n",
       "</div>"
      ],
      "text/plain": [
       "Empty DataFrame\n",
       "Columns: []\n",
       "Index: [4h, D]"
      ]
     },
     "execution_count": 7,
     "metadata": {},
     "output_type": "execute_result"
    }
   ],
   "source": [
    "df_res = pd.DataFrame(index=intervals, data=target_symbol_total)\n",
    "df_res"
   ]
  },
  {
   "cell_type": "code",
   "execution_count": null,
   "id": "31c026e1-db2e-4490-8cc2-c0ae0289f58b",
   "metadata": {},
   "outputs": [],
   "source": [
    "df_res.to_excel(\"signal/upbit_res.xlsx\")"
   ]
  },
  {
   "cell_type": "markdown",
   "id": "21903bfe-88a8-4160-8b2e-b0996a84bb31",
   "metadata": {},
   "source": [
    "## Binance_Futures"
   ]
  },
  {
   "cell_type": "code",
   "execution_count": 183,
   "id": "9dfea807-5066-4f6f-b5d0-34c0819a34e1",
   "metadata": {
    "tags": []
   },
   "outputs": [],
   "source": [
    "# with open(r\"D:\\Projects\\System_Trading\\JnQ\\Bank\\tickers\\binance_20240102.pkl\", 'wb') as f:\n",
    "#     pickle.dump(symbol_list, f)"
   ]
  },
  {
   "cell_type": "code",
   "execution_count": 3,
   "id": "07628a3b-ce5a-4fb9-a977-ed2409598c31",
   "metadata": {
    "tags": []
   },
   "outputs": [
    {
     "name": "stdout",
     "output_type": "stream",
     "text": [
      "260\n",
      "BTCUSDC\n",
      "error in concat_candlestick_v2 : Length mismatch: Expected axis has 0 elements, new values have 5 elements\n",
      "error in save to_feather : No objects to concatenate\n",
      "261\n",
      "ETHUSDC\n",
      "error in concat_candlestick_v2 : Length mismatch: Expected axis has 0 elements, new values have 5 elements\n",
      "error in save to_feather : No objects to concatenate\n",
      "262\n",
      "BNBUSDC\n",
      "error in concat_candlestick_v2 : Length mismatch: Expected axis has 0 elements, new values have 5 elements\n",
      "error in save to_feather : No objects to concatenate\n",
      "263\n",
      "SOLUSDC\n",
      "error in concat_candlestick_v2 : Length mismatch: Expected axis has 0 elements, new values have 5 elements\n",
      "error in save to_feather : No objects to concatenate\n",
      "264\n",
      "XRPUSDC\n",
      "error in concat_candlestick_v2 : Length mismatch: Expected axis has 0 elements, new values have 5 elements\n",
      "error in save to_feather : No objects to concatenate\n"
     ]
    }
   ],
   "source": [
    "from binance.um_futures import UMFutures\n",
    "from funcs.binance.futures_concat_candlestick_ftr_v2 import *\n",
    "# break\n",
    "\n",
    "\n",
    "days = 5  # 330 3\n",
    "\n",
    "end_date = None  # None 2023-07-04 # \"2023-01-06\" \"2021-04-12\" \"2021-03-23\"\n",
    "if end_date is None:\n",
    "    end_date = str(datetime.now()).split(' ')[0]\n",
    "    \n",
    "intervals = ['4h', '1d']  # ['1m', '3m', '5m', '15m', '30m', '1h', '4h'] - old\n",
    "intervals = ['15m', '30m', '1h', '4h', '1d']  # ['1m', '3m', '5m', '15m', '30m', '1h', '4h'] - old\n",
    "\n",
    "limit = 1500\n",
    "    \n",
    "show_process = False\n",
    "show_process = True\n",
    "\n",
    "\n",
    " \n",
    "symbol_list = [s_['symbol'] for s_ in um_futures_client.exchange_info()['symbols']]\n",
    "\n",
    "\n",
    "\n",
    "target_symbol_total = []\n",
    "for interval in intervals:\n",
    "    \n",
    "    target_symbol = []\n",
    "    for s_i, symbol in enumerate(symbol_list):\n",
    "        \n",
    "        print(s_i)\n",
    "        \n",
    "        # if 'KRW' not in symbol:\n",
    "        #     continue\n",
    "        \n",
    "        try:\n",
    "            concated_df, end_date = concat_candlestick_v2(symbol, \n",
    "                                                          interval, \n",
    "                                                          days,\n",
    "                                                          limit=limit,\n",
    "                                                          end_date=None,\n",
    "                                                          show_process=True,\n",
    "                                                          timesleep=0.4)\n",
    "            \n",
    "            \n",
    "            concated_df2 = fisher_v2(concated_df, 30, itv=interval.upper())      \n",
    "            # display(concated_df2.tail())\n",
    "            # break\n",
    "            \n",
    "            target_data = concated_df2.iloc[-2:, -1].to_numpy()\n",
    "            \n",
    "            \"\"\"\n",
    "            condition\n",
    "            \"\"\"\n",
    "            # 1. fisher band\n",
    "            fisher_lower = -1.5\n",
    "            if target_data[0] < fisher_lower < target_data[1]:\n",
    "                target_symbol.append(symbol)\n",
    "                \n",
    "            clear_output(wait=True)          \n",
    "            \n",
    "            \n",
    "            \n",
    "            # break\n",
    "            # save_path = os.path.join(save_dir, save_name)\n",
    "            # concated_df.reset_index().to_feather(save_path, compression='lz4')\n",
    "            # print(save_path, \"saved.\\n\")\n",
    "        except Exception as e:\n",
    "            print(\"error in save to_feather :\", e)\n",
    "            continue\n",
    "     \n",
    "    target_symbol_total.append([s_ + '.P' for s_ in target_symbol])\n",
    "    # print(\"target_symbol_total :\", target_symbol_total)\n",
    "    # break"
   ]
  },
  {
   "cell_type": "code",
   "execution_count": 4,
   "id": "b6a7711e-58e1-4077-93cd-3dd58039d437",
   "metadata": {
    "tags": []
   },
   "outputs": [
    {
     "data": {
      "text/html": [
       "<div>\n",
       "<style scoped>\n",
       "    .dataframe tbody tr th:only-of-type {\n",
       "        vertical-align: middle;\n",
       "    }\n",
       "\n",
       "    .dataframe tbody tr th {\n",
       "        vertical-align: top;\n",
       "    }\n",
       "\n",
       "    .dataframe thead th {\n",
       "        text-align: right;\n",
       "    }\n",
       "</style>\n",
       "<table border=\"1\" class=\"dataframe\">\n",
       "  <thead>\n",
       "    <tr style=\"text-align: right;\">\n",
       "      <th></th>\n",
       "      <th>0</th>\n",
       "      <th>1</th>\n",
       "      <th>2</th>\n",
       "    </tr>\n",
       "  </thead>\n",
       "  <tbody>\n",
       "    <tr>\n",
       "      <th>15m</th>\n",
       "      <td>GRTUSDT.P</td>\n",
       "      <td>KASUSDT.P</td>\n",
       "      <td>1000RATSUSDT.P</td>\n",
       "    </tr>\n",
       "    <tr>\n",
       "      <th>30m</th>\n",
       "      <td>None</td>\n",
       "      <td>None</td>\n",
       "      <td>None</td>\n",
       "    </tr>\n",
       "    <tr>\n",
       "      <th>1h</th>\n",
       "      <td>LTCUSDT.P</td>\n",
       "      <td>XMRUSDT.P</td>\n",
       "      <td>None</td>\n",
       "    </tr>\n",
       "    <tr>\n",
       "      <th>4h</th>\n",
       "      <td>None</td>\n",
       "      <td>None</td>\n",
       "      <td>None</td>\n",
       "    </tr>\n",
       "    <tr>\n",
       "      <th>1d</th>\n",
       "      <td>None</td>\n",
       "      <td>None</td>\n",
       "      <td>None</td>\n",
       "    </tr>\n",
       "  </tbody>\n",
       "</table>\n",
       "</div>"
      ],
      "text/plain": [
       "             0          1               2\n",
       "15m  GRTUSDT.P  KASUSDT.P  1000RATSUSDT.P\n",
       "30m       None       None            None\n",
       "1h   LTCUSDT.P  XMRUSDT.P            None\n",
       "4h        None       None            None\n",
       "1d        None       None            None"
      ]
     },
     "execution_count": 4,
     "metadata": {},
     "output_type": "execute_result"
    }
   ],
   "source": [
    "df_res = pd.DataFrame(index=intervals, data=target_symbol_total)\n",
    "df_res"
   ]
  },
  {
   "cell_type": "code",
   "execution_count": null,
   "id": "c5653356-d9eb-4323-9900-fe282394526e",
   "metadata": {},
   "outputs": [],
   "source": [
    "df_res.to_excel(\"signal/binance_futures_res.xlsx\")"
   ]
  }
 ],
 "metadata": {
  "kernelspec": {
   "display_name": "Python 3 (ipykernel)",
   "language": "python",
   "name": "python3"
  },
  "language_info": {
   "codemirror_mode": {
    "name": "ipython",
    "version": 3
   },
   "file_extension": ".py",
   "mimetype": "text/x-python",
   "name": "python",
   "nbconvert_exporter": "python",
   "pygments_lexer": "ipython3",
   "version": "3.8.13"
  }
 },
 "nbformat": 4,
 "nbformat_minor": 5
}
