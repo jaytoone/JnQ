{
 "cells": [
  {
   "cell_type": "markdown",
   "id": "d4a450b4-727b-4db1-b63d-a59862bd67fa",
   "metadata": {
    "id": "8uqYv5StTazo"
   },
   "source": [
    "# Requirements"
   ]
  },
  {
   "cell_type": "code",
   "execution_count": 6,
   "id": "dcbe81d5-3268-4b43-a0cf-1d771e9a627c",
   "metadata": {},
   "outputs": [],
   "source": [
    "import os\n",
    "import pandas as pd\n",
    "import numpy as np\n",
    "\n",
    "import matplotlib.pyplot as plt\n",
    "from IPython.display import clear_output\n",
    "\n",
    "plt.rc('font', family='Malgun Gothic')  \n",
    "\n",
    "pd.set_option('mode.chained_assignment', None)"
   ]
  },
  {
   "cell_type": "markdown",
   "id": "9b2420ee-53f1-4249-8f7e-a780db3bc8b9",
   "metadata": {
    "tags": []
   },
   "source": [
    "## Timeline strategy"
   ]
  },
  {
   "cell_type": "markdown",
   "id": "68309eec-78f3-4d11-9fbe-794ac0bafc8f",
   "metadata": {},
   "source": [
    "### load database, aggregate fluctuation s by s"
   ]
  },
  {
   "cell_type": "code",
   "execution_count": 14,
   "id": "81b741da-a5cc-460b-a1ba-0833568672b6",
   "metadata": {},
   "outputs": [
    {
     "name": "stdout",
     "output_type": "stream",
     "text": [
      "1704\n"
     ]
    }
   ],
   "source": [
    "database_dir_path = \"D:\\Projects\\Richer\\QuantAnalyzer\\Stock\\database\\KOSDAQ\"\n",
    "\n",
    "df_list = []\n",
    "df_name_list = []\n",
    "df_fluc_list = []\n",
    "\n",
    "for p_i, pkl in enumerate(os.listdir(database_dir_path)):\n",
    "    \n",
    "    print(p_i)\n",
    "    df = pd.read_excel(os.path.join(database_dir_path, pkl), index_col=0)\n",
    "    # display(df.head())\n",
    "    # break\n",
    "    \n",
    "    try:\n",
    "        old_cols = ['시가', '고가', '저가', '현재가', '거래량']\n",
    "        df = df[old_cols]\n",
    "        df.columns = ['open', 'high', 'low', 'close', 'volume']\n",
    "    except:\n",
    "        pass\n",
    "\n",
    "    # print(len(df))\n",
    "    \n",
    "    price_fluctuation = df.close / df.close.shift(1)  \n",
    "    price_fluctuation.name = p_i\n",
    "    \n",
    "    df_list.append(df)\n",
    "    df_name_list.append(pkl)\n",
    "    df_fluc_list.append(price_fluctuation)\n",
    "    \n",
    "    # if p_i > 20:\n",
    "    #     break\n",
    "    \n",
    "                  \n",
    "    clear_output(wait=True)"
   ]
  },
  {
   "cell_type": "markdown",
   "id": "320a864e-8edd-42f8-a34f-05cfa17e9b83",
   "metadata": {},
   "source": [
    "### get top rank, alignment by fluctuation ranking."
   ]
  },
  {
   "cell_type": "code",
   "execution_count": 15,
   "id": "15dd0cf4-71e0-4710-a71d-c9add2e6bc73",
   "metadata": {},
   "outputs": [],
   "source": [
    "df_flucs_rank = pd.concat(df_fluc_list, axis=1).rank(ascending=False, method='first', axis=1)\n",
    "\n",
    "top_rank = 10\n",
    "df_buy = df_flucs_rank <= top_rank"
   ]
  },
  {
   "cell_type": "code",
   "execution_count": null,
   "id": "62397bba-1df7-47bd-8811-98db19885f9f",
   "metadata": {
    "tags": []
   },
   "outputs": [],
   "source": [
    "df_buy\n",
    "# df_flucs_rank"
   ]
  },
  {
   "cell_type": "markdown",
   "id": "ace4a8b9-bbad-4329-8923-48cc1357d1f4",
   "metadata": {},
   "source": [
    "### adj. strategy"
   ]
  },
  {
   "cell_type": "code",
   "execution_count": 43,
   "id": "982ea9a4-577d-475c-b892-6947aade8131",
   "metadata": {},
   "outputs": [
    {
     "name": "stdout",
     "output_type": "stream",
     "text": [
      "0\r"
     ]
    },
    {
     "data": {
      "image/png": "[encoded data removed]",
      "text/plain": [
       "<Figure size 500x500 with 1 Axes>"
      ]
     },
     "metadata": {},
     "output_type": "display_data"
    }
   ],
   "source": [
    "take_profit = 1.1  # 10%\n",
    "stop_loss = 0.95   # -5%\n",
    "\n",
    "fees = 0.00015 + 0.00015  # 0.015% 수수료\n",
    "fee_trade = 0.0018\n",
    "\n",
    "save_excel = 0\n",
    "save_path = database_dir_path.replace('database', 'result')\n",
    "os.makedirs(save_path, exist_ok=True)\n",
    "\n",
    "show_plot = 1\n",
    "\n",
    "symbol_names = []\n",
    "buys  = []\n",
    "holds = []\n",
    "sells = []\n",
    "profits = []\n",
    "profit_cums = []\n",
    "\n",
    "\n",
    "col_i = 0  # symbol_index, for test.\n",
    "for col_i, (_, df_name) in enumerate(zip(df_fluc_list, df_name_list)):\n",
    "\n",
    "    print(col_i, end='\\r')\n",
    "    \n",
    "    en_ex_total = []\n",
    "    en_ex = []\n",
    "    \n",
    "    # 1. get symbol name from file name.\n",
    "    # print(df_name)  # 2024-01-28 A000250_삼천당제약_1d.xlsx\n",
    "    symbol_name = df_name.split(' ')[1].split('_')[1]\n",
    "    # print(symbol_name)\n",
    "    # break\n",
    "    \n",
    "    # 2. we will use symbol name as index.\n",
    "    symbol_names.append(symbol_name)\n",
    "    \n",
    "\n",
    "    for row, signal in zip(df_list[col_i].iterrows(), df_buy.iloc[:, col_i]):\n",
    "\n",
    "        en_ex_len = len(en_ex)\n",
    "        \n",
    "        # buy_ts = []\n",
    "        # sell_ts = []\n",
    "        # hold_ts = []\n",
    "        \n",
    "\n",
    "        # a. check buy signal.\n",
    "            # i. buying symbol multiple times invalid.\n",
    "        if signal and en_ex_len == 0:\n",
    "            en_ex.append(row[-1].name)\n",
    "            en_ex.append(row[-1]['close'])\n",
    "            hold_ts = []\n",
    "            \n",
    "        # b. check sell signal.\n",
    "        if en_ex_len > 0:\n",
    "\n",
    "            exit_done = 0\n",
    "\n",
    "            # i. take_profit\n",
    "            if row[-1]['high'] / en_ex[1] >= take_profit:\n",
    "                profit = take_profit * (1 - fees - fee_trade) # 증권거래세 등(0.18%)\n",
    "                exit_done = 1\n",
    "            elif row[-1]['low'] / en_ex[1] <= stop_loss:\n",
    "                profit = stop_loss * (1 - fees)\n",
    "                exit_done = -1\n",
    "\n",
    "            if exit_done:\n",
    "                en_ex.append(row[-1].name)\n",
    "                en_ex.append(exit_done)\n",
    "                en_ex.append(profit)\n",
    "                en_ex.append(hold_ts)\n",
    "                en_ex_total.append(en_ex)\n",
    "                en_ex = []\n",
    "            else:\n",
    "                hold_ts.append(row[-1].name)\n",
    "                # en_ex.append(row[-1].name)\n",
    "                # en_ex.append(exit_done)\n",
    "                # en_ex.append(np.nan)\n",
    "                \n",
    "\n",
    "\n",
    "    en_ex_total_arr = np.array(en_ex_total, dtype=object)\n",
    "\n",
    "    # 3. initialization\n",
    "    df_list[col_i]['buy'] = np.nan\n",
    "    df_list[col_i]['hold'] = np.nan\n",
    "    df_list[col_i]['sell'] = np.nan\n",
    "    df_list[col_i]['profit'] = np.nan\n",
    "    df_list[col_i]['profit_cum'] = 1\n",
    "\n",
    "    # 4. enlist trade info.\n",
    "    if len(en_ex_total_arr) > 0:\n",
    "        df_list[col_i]['buy'].loc[en_ex_total_arr[:, 0]] = 1\n",
    "        df_list[col_i]['hold'].loc[np.hstack(en_ex_total_arr[:, -1])] = 1\n",
    "        df_list[col_i]['sell'].loc[en_ex_total_arr[:, 2]] = en_ex_total_arr[:, 3]\n",
    "        df_list[col_i]['profit'].loc[en_ex_total_arr[:, 2]] = en_ex_total_arr[:, 4]\n",
    "        df_list[col_i]['profit_cum'].loc[en_ex_total_arr[:, 2]] = en_ex_total_arr[:, 4]\n",
    "        # df_list[col_i]['profit_cum'] = np.cumprod(df_list[col_i]['profit'])\n",
    "        df_list[col_i]['profit_cum'] = np.cumprod(df_list[col_i]['profit_cum'])\n",
    "        \n",
    "    buys.append(df_list[col_i]['buy']) # .to_numpy()\n",
    "    holds.append(df_list[col_i]['hold']) # .to_numpy()\n",
    "    sells.append(df_list[col_i]['sell']) # .to_numpy()\n",
    "    profits.append(df_list[col_i]['profit']) # .to_numpy()\n",
    "    profit_cums.append(df_list[col_i]['profit_cum']) # .to_numpy()\n",
    "\n",
    "    # display(df_list[col_i])\n",
    "\n",
    "    if show_plot:\n",
    "        plt.figure(figsize=(5,5))\n",
    "        plt.plot(df_list[col_i]['profit_cum'])\n",
    "        plt.title(df_name_list[col_i])\n",
    "        plt.show()\n",
    "    \n",
    "    if save_excel:\n",
    "        df_list[col_i].to_excel(os.path.join(save_path, '{}'.format(df_name_list[col_i])), index=True)\n",
    "    \n",
    "    \n",
    "    # print(len(df_list[col_i]['buy'].to_numpy()))\n",
    "    # print(len(df_list[col_i]))\n",
    "    break"
   ]
  },
  {
   "cell_type": "code",
   "execution_count": 40,
   "id": "aa90061c-118a-4b83-9fcc-4706f92af9a8",
   "metadata": {
    "tags": []
   },
   "outputs": [],
   "source": [
    "\"\"\"\n",
    "aggregate traded data.\n",
    "\"\"\"\n",
    "pos_buy = pd.DataFrame(data=buys, index=symbol_names).transpose()\n",
    "pos_hold = pd.DataFrame(data=holds, index=symbol_names).transpose()\n",
    "pos_sell = pd.DataFrame(data=sells, index=symbol_names).transpose()\n",
    "pos_profit = pd.DataFrame(data=profits, index=symbol_names).transpose()\n",
    "pos_profit_cum = pd.DataFrame(data=profit_cums, index=symbol_names).transpose()"
   ]
  },
  {
   "cell_type": "code",
   "execution_count": null,
   "id": "41febb7d-bdc2-41de-81b1-e81445e776c1",
   "metadata": {
    "tags": []
   },
   "outputs": [],
   "source": [
    "profits_list = []\n",
    "profits_cum_list = []\n",
    "\n",
    "for ts_i in range(len(pos_buy)):\n",
    "    \n",
    "    buy_info = pos_buy.iloc[ts_i]\n",
    "    hold_info = pos_hold.iloc[ts_i]\n",
    "    sell_info = pos_sell.iloc[ts_i]\n",
    "    profit_info = pos_profit.iloc[ts_i]\n",
    "    profit_cum_info = pos_profit_cum.iloc[ts_i]    \n",
    "\n",
    "    # 1. Take traded symbols.\n",
    "    buy_on = buy_info[buy_info == 1]\n",
    "    hold_on = hold_info[hold_info == 1]\n",
    "    sell_on = sell_info[(sell_info == 1) | (sell_info == -1)]\n",
    "    profit_on = np.cumprod(profit_info[~pd.isnull(profit_info).to_numpy()])\n",
    "    if len(profit_on) == 0:\n",
    "        profit_on = 1\n",
    "    else:\n",
    "        profit_on = profit_on[-1]\n",
    "    profit_cum_on = np.cumprod(profit_cum_info[~pd.isnull(profit_cum_info)].to_numpy())[-1]\n",
    "    # print(\"(profit_info[~pd.isnull(profit_info)] :\", profit_info[~pd.isnull(profit_info)].to_numpy())\n",
    "    # print(\"(profit_cum_info[~pd.isnull(profit_cum_info)] :\", profit_cum_info[~pd.isnull(profit_cum_info)].to_numpy())\n",
    "    # break\n",
    "    \n",
    "    print(\"기준일 :\", buy_on.name)\n",
    "    print(\"매수 종목 :\", buy_on.index.values)\n",
    "    print(\"보유 종목 :\", hold_on.index.values)\n",
    "    print(\"매도 종목 :\", sell_on.index.values)\n",
    "    print(\"최종수익률 (종목별) : {:.3f}%\".format(profit_on))\n",
    "    print(\"누적수익률 : {:.3f}%\".format(profit_cum_on))\n",
    "    print()\n",
    "\n",
    "    profits_list.append(profit_on)\n",
    "    profits_cum_list.append(profit_cum_on)\n",
    "    \n",
    "    # break\n",
    "    if ts_i > 10:\n",
    "        break"
   ]
  },
  {
   "cell_type": "code",
   "execution_count": 42,
   "id": "53a8b3bf-f9e9-4c9d-85b3-9907f5a68885",
   "metadata": {},
   "outputs": [
    {
     "data": {
      "text/plain": [
       "array([[ 1.        ,  1.        ,  1.        ],\n",
       "       [ 1.        ,  1.        ,  1.        ],\n",
       "       [ 1.30949977,  1.30949977,  1.30949977],\n",
       "       [ 0.9402852 ,  1.23130325,  0.9402852 ],\n",
       "       [ 1.35158926,  1.66421625,  1.35158926],\n",
       "       [ 1.24365157,  2.06970516,  1.24365157],\n",
       "       [ 1.13297158,  2.34491713,  1.13297158],\n",
       "       [ 1.35158926,  3.16936481,  1.48362602],\n",
       "       [ 1.73198669,  5.48929766,  1.73198669],\n",
       "       [ 1.13297158,  6.21921824,  1.29649763],\n",
       "       [ 1.35158926,  8.40582861,  1.54666923],\n",
       "       [ 1.36514389, 11.4751656 ,  1.29649763]])"
      ]
     },
     "execution_count": 42,
     "metadata": {},
     "output_type": "execute_result"
    }
   ],
   "source": [
    "# print(np.cumprod(profits_list)[-1])\n",
    "# profits_cum_list[-1]\n",
    "\n",
    "np.vstack([profits_list, np.cumprod(profits_list), profits_cum_list]).T#.astype(float) #.shape\n",
    "# pd.DataFrame(data="
   ]
  },
  {
   "cell_type": "markdown",
   "id": "6d5b945e-3191-4147-9278-17199d68e7a1",
   "metadata": {
    "tags": []
   },
   "source": [
    "## backtrader"
   ]
  },
  {
   "cell_type": "code",
   "execution_count": null,
   "id": "ccbe510c-4f1c-46d3-9005-183c4f8191ed",
   "metadata": {},
   "outputs": [],
   "source": [
    "from datetime import datetime\n",
    "import backtrader as bt\n",
    "\n",
    "# Create a subclass of Strategy to define the indicators and logic\n",
    "\n",
    "class SmaCross(bt.Strategy):\n",
    "    # list of parameters which are configurable for the strategy\n",
    "    params = dict(\n",
    "        pfast=10,  # period for the fast moving average\n",
    "        pslow=30   # period for the slow moving average\n",
    "    )\n",
    "\n",
    "    def __init__(self):\n",
    "        sma1 = bt.ind.SMA(period=self.p.pfast)  # fast moving average\n",
    "        sma2 = bt.ind.SMA(period=self.p.pslow)  # slow moving average\n",
    "        self.crossover = bt.ind.CrossOver(sma1, sma2)  # crossover signal\n",
    "\n",
    "    def next(self):\n",
    "        if not self.position:  # not in the market\n",
    "            if self.crossover > 0:  # if fast crosses slow to the upside\n",
    "                self.buy()  # enter long\n",
    "\n",
    "        elif self.crossover < 0:  # in the market & cross to the downside\n",
    "            self.close()  # close long position\n",
    "\n",
    "\n",
    "cerebro = bt.Cerebro()  # create a \"Cerebro\" engine instance\n",
    "\n",
    "# Create a data feed\n",
    "# datalist.append(df)\n",
    "data = bt.feeds.PandasData(dataname=df)\n",
    "\n",
    "cerebro.adddata(data)  # Add the data feed\n",
    "\n",
    "cerebro.addstrategy(SmaCross)  # Add the trading strategy\n",
    "cerebro.run()  # run it all\n",
    "\n",
    "cerebro.plot(iplot=False)  # and plot it with a single command\n"
   ]
  },
  {
   "cell_type": "code",
   "execution_count": null,
   "id": "6920d039-ffaa-401e-ab94-e5313e25f2cf",
   "metadata": {
    "tags": []
   },
   "outputs": [],
   "source": [
    "# df# !pip list"
   ]
  }
 ],
 "metadata": {
  "kernelspec": {
   "display_name": "Python 3 (ipykernel)",
   "language": "python",
   "name": "python3"
  },
  "language_info": {
   "codemirror_mode": {
    "name": "ipython",
    "version": 3
   },
   "file_extension": ".py",
   "mimetype": "text/x-python",
   "name": "python",
   "nbconvert_exporter": "python",
   "pygments_lexer": "ipython3",
   "version": "3.8.10"
  }
 },
 "nbformat": 4,
 "nbformat_minor": 5
}
