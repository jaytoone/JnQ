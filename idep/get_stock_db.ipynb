{
 "cells": [
  {
   "cell_type": "markdown",
   "id": "b463526b-b76f-4ea5-83e0-24504eb094a7",
   "metadata": {},
   "source": [
    "# Requirements"
   ]
  },
  {
   "cell_type": "code",
   "execution_count": 1,
   "id": "41300b0d-931d-4877-8835-38f93c0ca1fe",
   "metadata": {},
   "outputs": [],
   "source": [
    "'''\n",
    "분봉 데이터 제작\n",
    "'''\n",
    "\n",
    "import os\n",
    "import pandas as pd\n",
    "import numpy as np\n",
    "import sqlite3\n",
    "import win32com.client\n",
    "import time\n",
    "from datetime import datetime\n",
    "\n",
    "today = datetime.now()\n",
    "todaystamp = today.year * 10000 + today.month * 100 + today.day \n"
   ]
  },
  {
   "cell_type": "markdown",
   "id": "56f43f29-1538-4d4b-8939-f76f3f3d4a51",
   "metadata": {
    "tags": []
   },
   "source": [
    "# Creon data loading"
   ]
  },
  {
   "cell_type": "code",
   "execution_count": 2,
   "id": "0d38a5e9-fef4-4166-a263-cc417df030db",
   "metadata": {},
   "outputs": [],
   "source": [
    "\n",
    "## 종목 데이터 호출 Class\n",
    "class StockChart:\n",
    "    def __init__(self, stock_code):\n",
    "        self.CpCodeMgr = win32com.client.Dispatch(\"CpUtil.CpCodeMgr\")\n",
    "        self.StockChart = win32com.client.Dispatch(\"CpSysDib.StockChart\")\n",
    "        self.CpStatus = win32com.client.Dispatch(\"CpUtil.CpCybos\")\n",
    "\n",
    "        '''\n",
    "        파라미터 종류\n",
    "        stock_code : 종목코드\n",
    "        flag : 호출 데이터(거래대금까지, 매매동향까지)\n",
    "        '''\n",
    "\n",
    "        self.stock_code = stock_code\n",
    "\n",
    "        ## 입력 변수에 따른 호출데이터 설정\n",
    "        self.start_date = self.CpCodeMgr.GetstockListedDate(stock_code)\n",
    "\n",
    "\n",
    "    ## 데이터 호출 후 대기 시간 확인용\n",
    "    def checkRemainTime(self):\n",
    "        remainTime = self.CpStatus.LimitRequestRemainTime\n",
    "        remainCount = self.CpStatus.GetLimitRemainCount(1) # 시세 제한 갯수\n",
    " \n",
    "        if remainCount <= 0:\n",
    "                timeStart = time.time()\n",
    "                while remainCount <= 0 :\n",
    "                    time.sleep(remainTime/1000)\n",
    "                    remainCount = self.CpStatus.GetLimitRemainCount(1)  # 시세 제한\n",
    "                    remainTime = self.CpStatus.LimitRequestRemainTime   \n",
    "                ellapsed = time.time() - timeStart\n",
    "                print(\"수신 대기: %.2f 초\" %ellapsed)\n",
    "\n",
    "\n",
    "    ## 분, 틱 데이터 호출 Method\n",
    "    def call_stock_data_minute_tick(self, period, todaystamp=0, adjusted=0):\n",
    "\n",
    "        fromDate = self.CpCodeMgr.GetstockListedDate(self.stock_code)        \n",
    "        count = 9999999\n",
    "        data_array_price_volume = [0, 1, 2, 3, 4, 5, 8]\n",
    "\n",
    "        self.StockChart.SetInputValue(0, self.stock_code)  # 종목코드\n",
    "        self.StockChart.SetInputValue(1, ord('2'))  # 갯수로 받기\n",
    "        self.StockChart.SetInputValue(4, count)  # 갯수\n",
    "        self.StockChart.SetInputValue(5, data_array_price_volume) # 호출 데이터\n",
    "        self.StockChart.SetInputValue(6, ord('m')) # 차트 구분 (분)\n",
    "        self.StockChart.SetInputValue(7, period) # 분봉 단위\n",
    "        # self.StockChart.SetInputValue(9, ord('1'))  # 수정주가 사용\n",
    "        self.StockChart.SetInputValue(9, ord(str(adjusted)))  # 수정주가 사용\n",
    "\n",
    "        # raw_data_column = ('Date', 'Time', 'Open', 'High', 'Low', 'Close', 'TradeVolume')\n",
    "        raw_data_column = ['date', 'time', 'open', 'high', 'low', 'close', 'volume']\n",
    "\n",
    "        stock_raw_data = []\n",
    "        receive_data = {} ## 딕셔너리 형태\n",
    "\n",
    "        for col in raw_data_column:\n",
    "            receive_data[col] = []\n",
    "\n",
    "        receive_count = 0\n",
    "\n",
    "        while count > receive_count:\n",
    "            self.StockChart.BlockRequest()  # 요청 후 응답 대기\n",
    "            self.checkRemainTime()\n",
    "\n",
    "            receive_batch_len = self.StockChart.GetHeaderValue(3)  # 받아온 데이터 개수\n",
    "            receive_batch_len = min(receive_batch_len, count - receive_count) # 정확히 count 개수만큼 받기 위함\n",
    "\n",
    "            ## 데이터 수신하여 딕셔너리에 저장\n",
    "            for i in range(receive_batch_len):\n",
    "                for col_idx, col in enumerate(raw_data_column):\n",
    "                    receive_data[col].append(self.StockChart.GetDataValue(col_idx, i))\n",
    "\n",
    "            receive_count += receive_batch_len\n",
    "            ## print('{} / {}'.format(receive_count, count))\n",
    "\n",
    "            # 서버가 가진 모든 데이터를 요청한 경우 break.\n",
    "            if not self.StockChart.Continue:\n",
    "                break\n",
    "\n",
    "        ## 날짜와 분봉의 합치\n",
    "        # receive_data['Date'] = list(map(lambda x, y: int('{}{:04}'.format(x, y)), receive_data['Date'], receive_data['Time']))\n",
    "        receive_data['date'] = list(map(lambda x, y: ('{}{:04}'.format(x, y)), receive_data['date'], receive_data['time']))\n",
    "        del receive_data['time']\n",
    "        raw_data_column.remove('time')\n",
    "        ## 데이터프레임 형태로 변환\n",
    "        ## 다만 호출한 데이터를 그대로 쓰게되면 날짜가 최신 -> 옛날순으로 가므로 리버스해서 역순에서 정순을 바꿔준다.\n",
    "        # stock_raw_data = pd.DataFrame(receive_data, columns = ['Date', 'Open', 'High', 'Low', 'Close', 'TradeVolume'])\n",
    "        stock_raw_data = pd.DataFrame(receive_data, columns=['open', 'high', 'low', 'close', 'volume'], index=receive_data['date'])        \n",
    "        \n",
    "        timeIndex = pd.to_datetime(stock_raw_data.index.astype(str))\n",
    "        stock_raw_data.index = timeIndex\n",
    "        stock_raw_data = stock_raw_data.sort_index() # 마지막 행이 최신 데이터\n",
    "\n",
    "        return stock_raw_data # [::-1]\n",
    "\n",
    "\n",
    "## 호출한 주가 데이터를 DB 파일로 저장\n",
    "class ExportDatabase:\n",
    "    def __init__(self, period, code_list, adjusted, base_date, data_len_thr):\n",
    "        self.CpCodeMgr = win32com.client.Dispatch(\"CpUtil.CpCodeMgr\")\n",
    "        self.code_list = code_list\n",
    "        self.period = period\n",
    "        self.adjusted = adjusted\n",
    "        self.base_date = base_date\n",
    "        self.data_len_thr = data_len_thr\n",
    "\n",
    "    ## 데이터 수신하여 DB파일에 저장\n",
    "    def MakeDatabase(self):\n",
    "\n",
    "        ## 분봉 데이터 저장(분단위 별로 나누어 저장)\n",
    "        kospi = self.CpCodeMgr.GetstockListByMarket(1) # 코스피\n",
    "        kosdaq = self.CpCodeMgr.GetstockListByMarket(2) # 코스닥\n",
    "        \n",
    "        # code_list = ['A005930' ] #, 'A233740', 'A229200', 'A251340', 'A069500', 'A119200', 'A122630', 'A252670']\n",
    "        code_list = self.code_list #, 'A233740', 'A229200', 'A251340', 'A069500', 'A119200', 'A122630', 'A252670']\n",
    "\n",
    "        # base_date = datetime.today().strftime('%Y%m%d')\n",
    "        base_date = self.base_date\n",
    "        \n",
    "        save_path = 'D:\\\\Projects\\\\System_Trading\\\\JnQ\\\\candlestick_concated\\\\database_creon\\\\cum\\\\{}'.format(base_date)\n",
    "        os.makedirs(save_path, exist_ok=True)\n",
    "        \n",
    "        ## 분봉 데이터 저장(분단위 별로 나누어 저장)\n",
    "        if type(self.period) is int:\n",
    "            print('%s분봉 데이터 수집' %self.period)\n",
    "            # con = sqlite3.connect('stock_data_%sminute.db' %self.period)\n",
    "\n",
    "            for i in range(len(code_list)):\n",
    "                stockchart = StockChart(code_list[i])\n",
    "                # stock_raw_data = stockchart.call_stock_data_minute_tick(self.period, adjusted=self.adjusted)\n",
    "                \n",
    "                # 유효구간 검증 logic\n",
    "                stock_raw_data_0 = stockchart.call_stock_data_minute_tick(self.period, adjusted=0)\n",
    "                \n",
    "                if len(stock_raw_data_0) < self.data_len_thr:\n",
    "                    continue\n",
    "                    \n",
    "                stock_raw_data_1 = stockchart.call_stock_data_minute_tick(self.period, adjusted=1)\n",
    "                assert len(stock_raw_data_0) == len(stock_raw_data_1)\n",
    "                valid_idx = np.where(stock_raw_data_0.close == stock_raw_data_1.close)[0]\n",
    "                \n",
    "                # save_name = '%s %s_%s.csv' % (base_date, code, tick_range)\n",
    "                # df.to_csv(os.path.join(save_path, save_name))\n",
    "\n",
    "                save_name = '%s %s_%s_%s.parquet' % (base_date, code_list[i], self.period, self.adjusted)                \n",
    "                \n",
    "                # stock_raw_data_0.iloc[:valid_idx[-1]].to_parquet(os.path.join(save_path, save_name), engine='fastparquet')\n",
    "                stock_raw_data_0.iloc[valid_idx[0]:].to_parquet(os.path.join(save_path, save_name), engine='fastparquet')\n",
    "\n",
    "                # stock_raw_data.to_sql(str(code_list[i]), con, if_exists='replace')\n",
    "                print(\"[%s / %s] %s 수집 완료\" %(i+1, len(code_list), code_list[i]))\n",
    "                i += 1\n",
    "\n",
    "        else:\n",
    "            # con = sqlite3.connect('stock_data_%s.db' %self.period)\n",
    "            for i in range(len(code_list)):\n",
    "                stockchart = StockChart(code_list[i])\n",
    "                stock_raw_data = stockchart.call_stock_data_minute_tick(self.periodd, adjusted=self.adjusted)               \n",
    "\n",
    "                save_name = '%s %s_%s_%s.parquet' % (base_date, code_list[i], self.period, self.adjusted)\n",
    "                stock_raw_data.to_parquet(os.path.join(save_path, save_name), engine='fastparquet')\n",
    "                \n",
    "                # stock_raw_data.to_sql(str(code_list[i]), con, if_exists='replace')\n",
    "                print(\"[%s / %s] %s 수집 완료\" %(i+1, len(code_list), code_list[i]))\n",
    "                i += 1            \n",
    "\n",
    "\n"
   ]
  },
  {
   "cell_type": "code",
   "execution_count": 3,
   "id": "7a4cec39-ea5d-43ea-9408-726b9be2f85e",
   "metadata": {},
   "outputs": [
    {
     "name": "stdout",
     "output_type": "stream",
     "text": [
      "1분봉 데이터 수집\n",
      "수신 대기: 1.06 초\n",
      "[2 / 9] A015710 수집 완료\n",
      "[3 / 9] A033320 수집 완료\n",
      "수신 대기: 3.20 초\n",
      "[4 / 9] A064090 수집 완료\n",
      "수신 대기: 1.15 초\n",
      "수신 대기: 2.97 초\n",
      "[5 / 9] A011810 수집 완료\n",
      "수신 대기: 3.01 초\n",
      "[6 / 9] A177350 수집 완료\n",
      "수신 대기: 2.81 초\n",
      "[7 / 9] A052020 수집 완료\n",
      "수신 대기: 2.67 초\n",
      "수신 대기: 2.32 초\n",
      "[8 / 9] A006220 수집 완료\n",
      "수신 대기: 2.19 초\n",
      "[9 / 9] A073640 수집 완료\n"
     ]
    }
   ],
   "source": [
    "\n",
    "\n",
    "## 데이터베이스 제작 시간간격\n",
    "# calender_period = ['day', 'month', 'year']\n",
    "## time_period = [1, 3, 5, 10, 30, 60, 180]\n",
    "\n",
    "time_period = [1] # min\n",
    "# incond_ticker_codes = [\"610054\"]\n",
    "# incond_ticker_codes = ['A005930']\n",
    "incond_ticker_codes = ['024830', '015710', '033320', '064090', '011810', '177350', '052020', '006220', '073640']\n",
    "incond_ticker_codes = ['A' + code_ for code_ in incond_ticker_codes]\n",
    "adjusted = 0 # 미수정 주가\n",
    "base_date = \"20221228\"\n",
    "data_len_thr = 3000\n",
    "\n",
    "## 분봉 데이터베이스 제작\n",
    "for i in range(len(time_period)):\n",
    "    MakeDataBase = ExportDatabase(time_period[i], incond_ticker_codes, adjusted, base_date, data_len_thr)\n",
    "    MakeDataBase.MakeDatabase()"
   ]
  },
  {
   "cell_type": "code",
   "execution_count": 5,
   "id": "f65900c4-3ebc-484a-a947-3b46427ceb17",
   "metadata": {},
   "outputs": [
    {
     "name": "stdout",
     "output_type": "stream",
     "text": [
      "['20221228 A006220_1_0.parquet', '20221228 A011810_1_0.parquet', '20221228 A015710_1_0.parquet', '20221228 A033320_1_0.parquet', '20221228 A052020_1_0.parquet', '20221228 A064090_1_0.parquet', '20221228 A073640_1_0.parquet', '20221228 A177350_1_0.parquet']\n",
      "20221228 A006220_1_0.parquet loaded !\n",
      "load res_df_ elapsed time : 0.00968313217163086\n"
     ]
    }
   ],
   "source": [
    "save_path = 'candlestick_concated/database_creon/'\n",
    "\n",
    "date = \"20221228\"\n",
    "# date = \"2022-10-24\"\n",
    "pkg_path = 'D:\\\\Projects\\\\System_Trading\\\\JnQ\\\\'\n",
    "\n",
    "data_path = os.path.join(pkg_path, save_path, \"cum\", date)\n",
    "\n",
    "# ------ load ftr list ------ #\n",
    "# ticker = 'A003075' # ETH RUNE FTM\n",
    "# data_list = [s for s in os.listdir(data_path) if \"parquet\" in s if date in s]\n",
    "# data_list = [s for s in os.listdir(data_path) if \"parquet\" in s if date in s if ticker in s if '_0.' in s]\n",
    "data_list = [s for s in os.listdir(data_path) if \"parquet\" in s if date in s if '_0.' in s]\n",
    "print(data_list)\n",
    "\n",
    "start_0 = time.time()\n",
    "key = data_list[0]  # tempoaray use single key\n",
    "# res_df_ = pd.read_csv(os.path.join(data_path, key), index_col=0) # .set_index(\"index\")\n",
    "res_df_ = pd.read_parquet(os.path.join(data_path, key)) #.set_index(\"date\")\n",
    "# print(res_df_.head())\n",
    "print(key, \"loaded !\")\n",
    "print(\"load res_df_ elapsed time :\", time.time() - start_0)"
   ]
  },
  {
   "cell_type": "code",
   "execution_count": 6,
   "id": "01af7875-ff46-4d5e-9bfa-15c073c38155",
   "metadata": {},
   "outputs": [
    {
     "data": {
      "text/html": [
       "<div>\n",
       "<style scoped>\n",
       "    .dataframe tbody tr th:only-of-type {\n",
       "        vertical-align: middle;\n",
       "    }\n",
       "\n",
       "    .dataframe tbody tr th {\n",
       "        vertical-align: top;\n",
       "    }\n",
       "\n",
       "    .dataframe thead th {\n",
       "        text-align: right;\n",
       "    }\n",
       "</style>\n",
       "<table border=\"1\" class=\"dataframe\">\n",
       "  <thead>\n",
       "    <tr style=\"text-align: right;\">\n",
       "      <th></th>\n",
       "      <th>open</th>\n",
       "      <th>high</th>\n",
       "      <th>low</th>\n",
       "      <th>close</th>\n",
       "      <th>volume</th>\n",
       "    </tr>\n",
       "    <tr>\n",
       "      <th>index</th>\n",
       "      <th></th>\n",
       "      <th></th>\n",
       "      <th></th>\n",
       "      <th></th>\n",
       "      <th></th>\n",
       "    </tr>\n",
       "  </thead>\n",
       "  <tbody>\n",
       "    <tr>\n",
       "      <th>2020-12-21 09:01:00</th>\n",
       "      <td>3420</td>\n",
       "      <td>3420</td>\n",
       "      <td>3420</td>\n",
       "      <td>3420</td>\n",
       "      <td>945</td>\n",
       "    </tr>\n",
       "    <tr>\n",
       "      <th>2020-12-21 09:08:00</th>\n",
       "      <td>3425</td>\n",
       "      <td>3425</td>\n",
       "      <td>3425</td>\n",
       "      <td>3425</td>\n",
       "      <td>1</td>\n",
       "    </tr>\n",
       "    <tr>\n",
       "      <th>2020-12-21 09:12:00</th>\n",
       "      <td>3420</td>\n",
       "      <td>3420</td>\n",
       "      <td>3420</td>\n",
       "      <td>3420</td>\n",
       "      <td>10</td>\n",
       "    </tr>\n",
       "    <tr>\n",
       "      <th>2020-12-21 09:13:00</th>\n",
       "      <td>3420</td>\n",
       "      <td>3420</td>\n",
       "      <td>3420</td>\n",
       "      <td>3420</td>\n",
       "      <td>1</td>\n",
       "    </tr>\n",
       "    <tr>\n",
       "      <th>2020-12-21 09:14:00</th>\n",
       "      <td>3420</td>\n",
       "      <td>3420</td>\n",
       "      <td>3420</td>\n",
       "      <td>3420</td>\n",
       "      <td>11</td>\n",
       "    </tr>\n",
       "    <tr>\n",
       "      <th>...</th>\n",
       "      <td>...</td>\n",
       "      <td>...</td>\n",
       "      <td>...</td>\n",
       "      <td>...</td>\n",
       "      <td>...</td>\n",
       "    </tr>\n",
       "    <tr>\n",
       "      <th>2022-12-28 15:17:00</th>\n",
       "      <td>11400</td>\n",
       "      <td>11400</td>\n",
       "      <td>11250</td>\n",
       "      <td>11350</td>\n",
       "      <td>46318</td>\n",
       "    </tr>\n",
       "    <tr>\n",
       "      <th>2022-12-28 15:18:00</th>\n",
       "      <td>11350</td>\n",
       "      <td>11350</td>\n",
       "      <td>11250</td>\n",
       "      <td>11250</td>\n",
       "      <td>25799</td>\n",
       "    </tr>\n",
       "    <tr>\n",
       "      <th>2022-12-28 15:19:00</th>\n",
       "      <td>11200</td>\n",
       "      <td>11350</td>\n",
       "      <td>11200</td>\n",
       "      <td>11250</td>\n",
       "      <td>50572</td>\n",
       "    </tr>\n",
       "    <tr>\n",
       "      <th>2022-12-28 15:20:00</th>\n",
       "      <td>11250</td>\n",
       "      <td>11300</td>\n",
       "      <td>11250</td>\n",
       "      <td>11250</td>\n",
       "      <td>33272</td>\n",
       "    </tr>\n",
       "    <tr>\n",
       "      <th>2022-12-28 15:30:00</th>\n",
       "      <td>11350</td>\n",
       "      <td>11350</td>\n",
       "      <td>11350</td>\n",
       "      <td>11350</td>\n",
       "      <td>140455</td>\n",
       "    </tr>\n",
       "  </tbody>\n",
       "</table>\n",
       "<p>155257 rows × 5 columns</p>\n",
       "</div>"
      ],
      "text/plain": [
       "                      open   high    low  close  volume\n",
       "index                                                  \n",
       "2020-12-21 09:01:00   3420   3420   3420   3420     945\n",
       "2020-12-21 09:08:00   3425   3425   3425   3425       1\n",
       "2020-12-21 09:12:00   3420   3420   3420   3420      10\n",
       "2020-12-21 09:13:00   3420   3420   3420   3420       1\n",
       "2020-12-21 09:14:00   3420   3420   3420   3420      11\n",
       "...                    ...    ...    ...    ...     ...\n",
       "2022-12-28 15:17:00  11400  11400  11250  11350   46318\n",
       "2022-12-28 15:18:00  11350  11350  11250  11250   25799\n",
       "2022-12-28 15:19:00  11200  11350  11200  11250   50572\n",
       "2022-12-28 15:20:00  11250  11300  11250  11250   33272\n",
       "2022-12-28 15:30:00  11350  11350  11350  11350  140455\n",
       "\n",
       "[155257 rows x 5 columns]"
      ]
     },
     "execution_count": 6,
     "metadata": {},
     "output_type": "execute_result"
    }
   ],
   "source": [
    "res_df_ # 202012160902"
   ]
  },
  {
   "cell_type": "code",
   "execution_count": 8,
   "id": "eb7a26d2-9e8e-4944-9369-57a914a46e39",
   "metadata": {},
   "outputs": [
    {
     "data": {
      "text/plain": [
       "[<matplotlib.lines.Line2D at 0x24a8baa8>]"
      ]
     },
     "execution_count": 8,
     "metadata": {},
     "output_type": "execute_result"
    },
    {
     "data": {
      "image/png": "[encoded data removed]",
      "text/plain": [
       "<Figure size 640x480 with 1 Axes>"
      ]
     },
     "metadata": {},
     "output_type": "display_data"
    }
   ],
   "source": [
    "import matplotlib.pyplot as plt\n",
    "\n",
    "plt.plot(res_df_.close.values)\n",
    "\n",
    "# plt.plot(res_df_.iloc[:valid_idx[-1]].close)\n",
    "# plt.plot(res_df_adj_.iloc[:valid_idx[-1]].close)\n",
    "\n",
    "# plt.plot(res_df_adj_.close)"
   ]
  },
  {
   "cell_type": "markdown",
   "id": "9f0e2c42-0209-4e46-b599-3b06a52767cb",
   "metadata": {
    "jp-MarkdownHeadingCollapsed": true,
    "tags": []
   },
   "source": [
    "## kiwoom data loading"
   ]
  },
  {
   "cell_type": "code",
   "execution_count": 1,
   "id": "a8072312-f11b-48b9-837c-5aab5e845278",
   "metadata": {},
   "outputs": [
    {
     "ename": "ModuleNotFoundError",
     "evalue": "No module named 'kiwoomAPI'",
     "output_type": "error",
     "traceback": [
      "\u001b[1;31m---------------------------------------------------------------------------\u001b[0m",
      "\u001b[1;31mModuleNotFoundError\u001b[0m                       Traceback (most recent call last)",
      "Cell \u001b[1;32mIn [1], line 11\u001b[0m\n\u001b[0;32m      8\u001b[0m \u001b[38;5;28;01mfrom\u001b[39;00m \u001b[38;5;21;01mPyQt5\u001b[39;00m\u001b[38;5;21;01m.\u001b[39;00m\u001b[38;5;21;01mQtCore\u001b[39;00m \u001b[38;5;28;01mimport\u001b[39;00m \u001b[38;5;241m*\u001b[39m\n\u001b[0;32m      9\u001b[0m \u001b[38;5;28;01mfrom\u001b[39;00m \u001b[38;5;21;01mPyQt5\u001b[39;00m \u001b[38;5;28;01mimport\u001b[39;00m uic\n\u001b[1;32m---> 11\u001b[0m \u001b[38;5;28;01mfrom\u001b[39;00m \u001b[38;5;21;01mkiwoomAPI\u001b[39;00m \u001b[38;5;28;01mimport\u001b[39;00m KiwoomAPI\n\u001b[0;32m     12\u001b[0m \u001b[38;5;28;01mimport\u001b[39;00m \u001b[38;5;21;01mdecorators\u001b[39;00m\n\u001b[0;32m     14\u001b[0m form_class \u001b[38;5;241m=\u001b[39m uic\u001b[38;5;241m.\u001b[39mloadUiType(\u001b[38;5;124m\"\u001b[39m\u001b[38;5;124mKiwoom_datareader_v0.1.ui\u001b[39m\u001b[38;5;124m\"\u001b[39m)[\u001b[38;5;241m0\u001b[39m]\n",
      "\u001b[1;31mModuleNotFoundError\u001b[0m: No module named 'kiwoomAPI'"
     ]
    }
   ],
   "source": [
    "import sys\n",
    "import os\n",
    "import datetime\n",
    "import pandas as pd\n",
    "import sqlite3\n",
    "\n",
    "from PyQt5.QtWidgets import *\n",
    "from PyQt5.QtCore import *\n",
    "from PyQt5 import uic\n",
    "\n",
    "from kiwoomAPI import KiwoomAPI\n",
    "import decorators\n",
    "\n",
    "form_class = uic.loadUiType(\"Kiwoom_datareader_v0.1.ui\")[0]\n"
   ]
  },
  {
   "cell_type": "code",
   "execution_count": 17,
   "id": "ba673d37-9a22-4d45-b0a1-0714869e6d9b",
   "metadata": {},
   "outputs": [
    {
     "name": "stdout",
     "output_type": "stream",
     "text": [
      "['20221214 005930_1.parquet', '20221214 005930_15.parquet']\n",
      "20221214 005930_15.parquet loaded !\n",
      "load res_df_ elapsed time : 0.03420877456665039\n"
     ]
    }
   ],
   "source": [
    "save_path = 'candlestick_concated/database_kiwoom/'\n",
    "\n",
    "date = \"20221214\"\n",
    "# date = \"2022-10-24\"\n",
    "ftr_path = os.path.join(pkg_path, save_path, \"cum\", date)\n",
    "\n",
    "# ------ load ftr list ------ #\n",
    "ticker = '005930' # ETH RUNE FTM\n",
    "data_list = [s for s in os.listdir(ftr_path) if \"parquet\" in s if date in s if ticker in s]\n",
    "print(data_list)\n",
    "\n",
    "start_0 = time.time()\n",
    "key = data_list[1]  # tempoaray use single key\n",
    "# res_df_ = pd.read_csv(os.path.join(ftr_path, key), index_col=0) # .set_index(\"index\")\n",
    "res_df_ = pd.read_parquet(os.path.join(ftr_path, key)) # .set_index(\"index\")\n",
    "# print(res_df_.head())\n",
    "print(key, \"loaded !\")\n",
    "print(\"load res_df_ elapsed time :\", time.time() - start_0)"
   ]
  },
  {
   "cell_type": "code",
   "execution_count": null,
   "id": "5229b929-9d08-4316-92a5-73a2b1ac8707",
   "metadata": {},
   "outputs": [],
   "source": [
    "res_df_"
   ]
  },
  {
   "cell_type": "markdown",
   "id": "97c937dc-b5ba-4e1c-a669-c10a31d44b51",
   "metadata": {
    "jp-MarkdownHeadingCollapsed": true,
    "tags": []
   },
   "source": [
    "# Ticker Selection by Kiwoom"
   ]
  },
  {
   "cell_type": "markdown",
   "id": "95b49983-c7de-47c0-9443-d24248d3d175",
   "metadata": {
    "tags": []
   },
   "source": [
    "## Get ticker list by pykiwoom"
   ]
  },
  {
   "cell_type": "code",
   "execution_count": 2,
   "id": "03fbc670-3027-4b49-a867-7802e677a825",
   "metadata": {},
   "outputs": [
    {
     "name": "stdout",
     "output_type": "stream",
     "text": [
      "블록킹 로그인 완료\n",
      "연결완료\n"
     ]
    }
   ],
   "source": [
    "from pykiwoom.kiwoom import *\n",
    "\n",
    "kiwoom = Kiwoom()\n",
    "kiwoom.CommConnect(block=True)\n",
    "print(\"블록킹 로그인 완료\")\n",
    "\n",
    "state = kiwoom.GetConnectState()\n",
    "if state == 0:\n",
    "    print(\"미연결\")\n",
    "elif state == 1:\n",
    "    print(\"연결완료\")"
   ]
  },
  {
   "cell_type": "markdown",
   "id": "ee991696-e3a1-4472-846a-2aa6fadbecc7",
   "metadata": {
    "jp-MarkdownHeadingCollapsed": true,
    "tags": []
   },
   "source": [
    "### 상하한가 요청"
   ]
  },
  {
   "cell_type": "code",
   "execution_count": 13,
   "id": "fcd4a589-4b04-4177-b313-ed508eb5b6fc",
   "metadata": {},
   "outputs": [
    {
     "name": "stdout",
     "output_type": "stream",
     "text": [
      "{'trcode': 'opt10017', 'input': [{'상하한가요청': ['시장구분', '상하한구분', '정렬구분', '종목조건', '거래량구분', '신용조건', '매매금구분']}], 'output': [{'상하한가': ['종목코드', '종목정보', '종목명', '현재가', '전일대비기호', '전일대비', '등락률', '거래량', '전일거래량', '매도잔량', '매도호가', '매수호가', '매수잔량', '횟수']}]}\n"
     ]
    }
   ],
   "source": [
    "'''\n",
    "시장구분 = 000:전체, 001:코스피, 101:코스닥\n",
    "상하한구분 = 1:상한, 2:상승, 3:보합, 4: 하한, 5:하락, 6:전일상한, 7:전일하한\n",
    "정렬구분 = 1:종목코드순, 2:연속횟수순(상위100개), 3:등락률순\n",
    "종목조건 = 0:전체조회,1:관리종목제외, 3:우선주제외, 4:우선주+관리종목제외, 5:증100제외, 6:증100만 보기, 7:증40만 보기, 8:증30만 보기, 9:증20만 보기, 10:우선주+관리종목+환기종목제외\n",
    "거래량구분 = 00000:전체조회, 00010:만주이상, 00050:5만주이상, 00100:10만주이상, 00150:15만주이상, 00200:20만주이상, 00300:30만주이상, 00500:50만주이상, 01000:백만주이상\n",
    "신용조건 = 0:전체조회, 1:신용융자A군, 2:신용융자B군, 3:신용융자C군, 4:신용융자D군, 9:신용융자전체\n",
    "매매금구분 = 0:전체조회, 1:1천원미만, 2:1천원~2천원, 3:2천원~3천원, 4:5천원~1만원, 5:1만원이상, 8:1천원이상\n",
    "'''\n",
    "\n",
    "trcode = \"opt10017\"\n",
    "market = \"001\"  # kospi\n",
    "updown = \"2\"\n",
    "sort = \"3\"\n",
    "ticker_cond = \"0\"\n",
    "volume_cond = \"0000\"\n",
    "debt_cond = \"0\"\n",
    "price_cond =\"0\"\n",
    "\n",
    "df = kiwoom.block_request(trcode,\n",
    "                          시장구분=market,\n",
    "                          상하한구분=updown,\n",
    "                          정렬구분=sort,\n",
    "                          종목조건=ticker_cond,\n",
    "                          거래량구분=volume_cond,\n",
    "                          신용조건=debt_cond,\n",
    "                          매매금구분=price_cond,\n",
    "                          output=\"상하한가\",\n",
    "                          next=0)"
   ]
  },
  {
   "cell_type": "markdown",
   "id": "109fd923-28f2-4191-a127-847e4308917d",
   "metadata": {
    "jp-MarkdownHeadingCollapsed": true,
    "tags": []
   },
   "source": [
    "### 가격급등락 요청"
   ]
  },
  {
   "cell_type": "code",
   "execution_count": 3,
   "id": "51125b2d-c523-4458-92db-9a64ceb9266a",
   "metadata": {},
   "outputs": [
    {
     "name": "stdout",
     "output_type": "stream",
     "text": [
      "{'trcode': 'opt10019', 'input': [{'가격급등락요청': ['시장구분', '등락구분', '시간구분', '시간', '거래량구분', '종목조건', '신용조건', '가격조건', '상하한포함']}], 'output': [{'가격급등락': ['종목코드', '종목분류', '종목명', '전일대비기호', '전일대비', '등락률', '기준가', '현재가', '기준대비', '거래량', '급등률']}]}\n"
     ]
    }
   ],
   "source": [
    "'''\n",
    "시장구분 = 000:전체, 001:코스피, 101:코스닥, 201:코스피200\n",
    "등락구분 = 1:급등, 2:급락\n",
    "시간구분 = 1:분전, 2:일전\n",
    "시간 = 분 혹은 일입력\n",
    "거래량구분 = 00000:전체조회, 00010:만주이상, 00050:5만주이상, 00100:10만주이상, 00150:15만주이상, 00200:20만주이상, 00300:30만주이상, 00500:50만주이상, 01000:백만주이상\n",
    "종목조건 = 0:전체조회,1:관리종목제외, 3:우선주제외, 5:증100제외, 6:증100만보기, 7:증40만보기, 8:증30만보기\n",
    "신용조건 = 0:전체조회, 1:신용융자A군, 2:신용융자B군, 3:신용융자C군, 4:신용융자D군, 9:신용융자전체\n",
    "가격조건 = 0:전체조회, 1:1천원미만, 2:1천원~2천원, 3:2천원~3천원, 4:5천원~1만원, 5:1만원이상, 8:1천원이상\n",
    "상하한포함 = 0:미포함, 1:포함\n",
    "'''\n",
    "\n",
    "trcode = \"opt10019\" # opt10001\"\n",
    "market = \"001\"  # kospi\n",
    "updown = \"1\"\n",
    "timeunit = \"2\"\n",
    "timeunit_cnt = \"1\"\n",
    "volume_cond = \"0000\"\n",
    "ticker_cond = \"0\"\n",
    "debt_cond = \"0\"\n",
    "price_cond =\"0\"\n",
    "limit_price_cond = \"0\"\n",
    "\n",
    "df = kiwoom.block_request(trcode,\n",
    "                          시장구분=market,\n",
    "                          등락구분=updown,\n",
    "                          시간구분=timeunit,\n",
    "                          시간=timeunit_cnt,\n",
    "                          거래량구분=volume_cond,\n",
    "                          종목조건=ticker_cond,\n",
    "                          신용조건=debt_cond,\n",
    "                          가격조건=price_cond,\n",
    "                          상하한포함=limit_price_cond,\n",
    "                          output=\"가격급등락\",\n",
    "                          next=0)\n",
    "\n",
    "\n",
    "# kwargs = {\"종목코드\": code_str, \"output\": \"주식기본정보\", \"next\": 0}\n",
    "# df = kiwoom.block_request(args=args)\n",
    "# df = kiwoom.block_request(trcode, kwargs)\n",
    "\n",
    "# code_str = \"005930\""
   ]
  },
  {
   "cell_type": "markdown",
   "id": "08a8cd97-63aa-4149-be3c-fd0dda58b4a8",
   "metadata": {},
   "source": [
    "### check data"
   ]
  },
  {
   "cell_type": "code",
   "execution_count": null,
   "id": "2241478b-9854-4d31-bcfd-4d84cf30da2f",
   "metadata": {},
   "outputs": [],
   "source": [
    "df"
   ]
  },
  {
   "cell_type": "code",
   "execution_count": 37,
   "id": "a24a95c6-8723-4eb1-9fd5-9c96ee54df8e",
   "metadata": {
    "tags": []
   },
   "outputs": [],
   "source": [
    "# print(df)\n",
    "# print((df.급등률.dtypes))\n",
    "# print(type(df.급등률[0]))\n",
    "# df.종목코드[df.급등률.astype(float) > 10] # .columns\n",
    "incond_df = df[df.등락률.astype(float) > 5]\n",
    " # = incond_df.종목코드 # .columns\n",
    "# incond_df.종목명"
   ]
  },
  {
   "cell_type": "code",
   "execution_count": 36,
   "id": "24d43993-356e-4956-af47-4781ba2b4e84",
   "metadata": {},
   "outputs": [],
   "source": [
    "incond_ticker_codes = ['Q' + code if 'ETN' in name else 'A' + code for code, name in zip(incond_df.종목코드, incond_df.종목명)]"
   ]
  },
  {
   "cell_type": "markdown",
   "id": "1f9911bd-5b1d-4b97-a4dd-afbb9b5e2238",
   "metadata": {
    "jp-MarkdownHeadingCollapsed": true,
    "tags": []
   },
   "source": [
    "#### legacy utils"
   ]
  },
  {
   "cell_type": "code",
   "execution_count": 18,
   "id": "3bf8564a-8e23-499a-8c65-2bd4d360f180",
   "metadata": {},
   "outputs": [],
   "source": [
    "\n",
    "instCpCodeMgr = win32com.client.Dispatch(\"CpUtil.CpCodeMgr\")"
   ]
  },
  {
   "cell_type": "code",
   "execution_count": 23,
   "id": "60db8a1b-2de2-4f17-b3fb-96f72840f0b3",
   "metadata": {},
   "outputs": [
    {
     "name": "stdout",
     "output_type": "stream",
     "text": [
      "메리츠 인버스 은 선물 ETN(H)\n",
      "메리츠 인버스 은 선물 ETN(H)\n"
     ]
    }
   ],
   "source": [
    "print(kiwoom.GetMasterCodeName(\"610015\"))\n",
    "    \n",
    "print(instCpCodeMgr.CodeToName(\"Q610015\"))"
   ]
  },
  {
   "cell_type": "markdown",
   "id": "93849698-eef2-4977-add5-3484df467f02",
   "metadata": {
    "jp-MarkdownHeadingCollapsed": true,
    "tags": []
   },
   "source": [
    "# dumps"
   ]
  },
  {
   "cell_type": "code",
   "execution_count": null,
   "id": "9cd0f603-82c7-44f1-ac19-875b73df615a",
   "metadata": {},
   "outputs": [
    {
     "name": "stdout",
     "output_type": "stream",
     "text": [
      "['20221218 A005930_15_1.parquet']\n",
      "20221218 A005930_15_1.parquet loaded !\n",
      "load res_df_ elapsed time : 0.003991842269897461\n"
     ]
    }
   ],
   "source": [
    "# ------ load ftr list ------ #\n",
    "ticker = 'A005930' # ETH RUNE FTM\n",
    "data_list = [s for s in os.listdir(data_path) if \"parquet\" in s if date in s if ticker in s if '_1.' in s]\n",
    "print(data_list)\n",
    "\n",
    "start_0 = time.time()\n",
    "key = data_list[0]  # tempoaray use single key\n",
    "# res_df_ = pd.read_csv(os.path.join(data_path, key), index_col=0) # .set_index(\"index\")\n",
    "res_df_adj_ = pd.read_parquet(os.path.join(data_path, key)) #.set_index(\"date\")\n",
    "# print(res_df_.head())\n",
    "print(key, \"loaded !\")\n",
    "print(\"load res_df_ elapsed time :\", time.time() - start_0)"
   ]
  },
  {
   "cell_type": "code",
   "execution_count": 4,
   "id": "e2f9ae8c-89ff-4aac-bf84-58a31934a7e2",
   "metadata": {},
   "outputs": [
    {
     "name": "stdout",
     "output_type": "stream",
     "text": [
      "1\n",
      "['8037568711']\n",
      "nave94\n",
      "장재원\n",
      "0\n",
      "0\n"
     ]
    }
   ],
   "source": [
    "account_num = kiwoom.GetLoginInfo(\"ACCOUNT_CNT\")        # 전체 계좌수\n",
    "accounts = kiwoom.GetLoginInfo(\"ACCNO\")                 # 전체 계좌 리스트\n",
    "user_id = kiwoom.GetLoginInfo(\"USER_ID\")                # 사용자 ID\n",
    "user_name = kiwoom.GetLoginInfo(\"USER_NAME\")            # 사용자명\n",
    "keyboard = kiwoom.GetLoginInfo(\"KEY_BSECGB\")            # 키보드보안 해지여부\n",
    "firewall = kiwoom.GetLoginInfo(\"FIREW_SECGB\")           # 방화벽 설정 여부\n",
    "\n",
    "print(account_num)\n",
    "print(accounts)\n",
    "print(user_id)\n",
    "print(user_name)\n",
    "print(keyboard)\n",
    "print(firewall)"
   ]
  },
  {
   "cell_type": "code",
   "execution_count": 83,
   "id": "044d85c3-c950-4412-a062-0024722752f7",
   "metadata": {},
   "outputs": [
    {
     "name": "stdout",
     "output_type": "stream",
     "text": [
      "1962\n",
      "1616\n",
      "663\n"
     ]
    }
   ],
   "source": [
    "kospi = kiwoom.GetCodeListByMarket('0')\n",
    "kosdaq = kiwoom.GetCodeListByMarket('10')\n",
    "etf = kiwoom.GetCodeListByMarket('8')\n",
    "\n",
    "print(len(kospi))# , kospi)\n",
    "print(len(kosdaq))# , kosdaq)\n",
    "print(len(etf))# , etf)"
   ]
  },
  {
   "cell_type": "code",
   "execution_count": 84,
   "id": "846b0cb4-a2e5-4224-b4ea-da53974afa50",
   "metadata": {},
   "outputs": [
    {
     "name": "stdout",
     "output_type": "stream",
     "text": [
      "삼성전자\n",
      "2147483647\n",
      "정상\n"
     ]
    }
   ],
   "source": [
    "name = kiwoom.GetMasterCodeName(code_str)\n",
    "stock_cnt = kiwoom.GetMasterListedStockCnt(code_str)\n",
    "stock_const = kiwoom.GetMasterConstruction(code_str)\n",
    "\n",
    "print(name)\n",
    "print(stock_cnt)\n",
    "print(stock_const)"
   ]
  },
  {
   "cell_type": "code",
   "execution_count": null,
   "id": "5f50a12d-5089-4113-83d0-e6270ad608fc",
   "metadata": {},
   "outputs": [],
   "source": [
    "trcode = \"opt10019\" # opt10001\"\n",
    "\n",
    "df = kiwoom.block_request(trcode,\n",
    "                          종목코드=\"005930\",\n",
    "                          output=\"주식기본정보\",\n",
    "                          next=0)"
   ]
  },
  {
   "cell_type": "code",
   "execution_count": 32,
   "id": "8936b7c7-fee1-41da-8e83-9b943c6d2b83",
   "metadata": {},
   "outputs": [
    {
     "data": {
      "text/plain": [
       "Index(['종목코드', '종목명', '결산월', '액면가', '자본금', '상장주식', '신용비율', '연중최고', '연중최저',\n",
       "       '시가총액', '시가총액비중', '외인소진률', '대용가', 'PER', 'EPS', 'ROE', 'PBR', 'EV',\n",
       "       'BPS', '매출액', '영업이익', '당기순이익', '250최고', '250최저', '시가', '고가', '저가',\n",
       "       '상한가', '하한가', '기준가', '예상체결가', '예상체결수량', '250최고가일', '250최고가대비율',\n",
       "       '250최저가일', '250최저가대비율', '현재가', '대비기호', '전일대비', '등락율', '거래량', '거래대비',\n",
       "       '액면가단위', '유통주식', '유통비율'],\n",
       "      dtype='object')"
      ]
     },
     "execution_count": 32,
     "metadata": {},
     "output_type": "execute_result"
    }
   ],
   "source": [
    "df.columns"
   ]
  },
  {
   "cell_type": "code",
   "execution_count": null,
   "id": "13d77830-bf25-400a-b597-1aa848001031",
   "metadata": {},
   "outputs": [],
   "source": [
    "import numpy as np\n",
    "import time\n",
    "\n",
    "kospi_data = []\n",
    "kosdag_data = []\n",
    "etf_data = []\n",
    "\n",
    "# df.values\n",
    "for code_str_ in (kospi):\n",
    "    print(code_str_)\n",
    "    kospi_data.append(kiwoom.block_request(\"opt10001\",\n",
    "                          종목코드=code_str_,\n",
    "                          output=\"주식기본정보\",\n",
    "                          next=0).values)\n",
    "    time.sleep(0.5)"
   ]
  },
  {
   "cell_type": "code",
   "execution_count": null,
   "id": "e6775d06-1139-4adf-af77-4ed7ac1c3f5c",
   "metadata": {},
   "outputs": [],
   "source": [
    "np.array(kospi_data).shape\n",
    "kospi_data"
   ]
  }
 ],
 "metadata": {
  "kernelspec": {
   "display_name": "Python 3 (ipykernel)",
   "language": "python",
   "name": "python3"
  },
  "language_info": {
   "codemirror_mode": {
    "name": "ipython",
    "version": 3
   },
   "file_extension": ".py",
   "mimetype": "text/x-python",
   "name": "python",
   "nbconvert_exporter": "python",
   "pygments_lexer": "ipython3",
   "version": "3.8.13"
  }
 },
 "nbformat": 4,
 "nbformat_minor": 5
}
